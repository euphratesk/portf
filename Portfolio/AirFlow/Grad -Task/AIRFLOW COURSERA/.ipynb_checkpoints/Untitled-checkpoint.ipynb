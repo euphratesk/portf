{
 "cells": [
  {
   "cell_type": "code",
   "execution_count": 9,
   "id": "7920cd5b",
   "metadata": {},
   "outputs": [
    {
     "name": "stdout",
     "output_type": "stream",
     "text": [
      "Collecting wget\n",
      "  Downloading wget-3.2.zip (10 kB)\n",
      "  Preparing metadata (setup.py): started\n",
      "  Preparing metadata (setup.py): finished with status 'done'\n",
      "Building wheels for collected packages: wget\n",
      "  Building wheel for wget (setup.py): started\n",
      "  Building wheel for wget (setup.py): finished with status 'done'\n",
      "  Created wheel for wget: filename=wget-3.2-py3-none-any.whl size=9657 sha256=17776533a51eb1bd79f564373993454307b20e3cb2f41fbc9be9128314dc01d5\n",
      "  Stored in directory: c:\\users\\admin\\appdata\\local\\pip\\cache\\wheels\\04\\5f\\3e\\46cc37c5d698415694d83f607f833f83f0149e49b3af9d0f38\n",
      "Successfully built wget\n",
      "Installing collected packages: wget\n",
      "Successfully installed wget-3.2\n",
      "Note: you may need to restart the kernel to use updated packages.\n"
     ]
    },
    {
     "name": "stderr",
     "output_type": "stream",
     "text": [
      "WARNING: Ignoring invalid distribution -rotobuf (c:\\users\\admin\\anaconda3\\lib\\site-packages)\n",
      "WARNING: Ignoring invalid distribution -pencv-python-headless (c:\\users\\admin\\anaconda3\\lib\\site-packages)\n",
      "WARNING: Ignoring invalid distribution -ensorflow-intel (c:\\users\\admin\\anaconda3\\lib\\site-packages)\n",
      "WARNING: Ignoring invalid distribution -rotobuf (c:\\users\\admin\\anaconda3\\lib\\site-packages)\n",
      "WARNING: Ignoring invalid distribution -pencv-python-headless (c:\\users\\admin\\anaconda3\\lib\\site-packages)\n",
      "WARNING: Ignoring invalid distribution -ensorflow-intel (c:\\users\\admin\\anaconda3\\lib\\site-packages)\n",
      "WARNING: Ignoring invalid distribution -rotobuf (c:\\users\\admin\\anaconda3\\lib\\site-packages)\n",
      "WARNING: Ignoring invalid distribution -pencv-python-headless (c:\\users\\admin\\anaconda3\\lib\\site-packages)\n",
      "WARNING: Ignoring invalid distribution -ensorflow-intel (c:\\users\\admin\\anaconda3\\lib\\site-packages)\n",
      "WARNING: Ignoring invalid distribution -rotobuf (c:\\users\\admin\\anaconda3\\lib\\site-packages)\n",
      "WARNING: Ignoring invalid distribution -pencv-python-headless (c:\\users\\admin\\anaconda3\\lib\\site-packages)\n",
      "WARNING: Ignoring invalid distribution -ensorflow-intel (c:\\users\\admin\\anaconda3\\lib\\site-packages)\n",
      "WARNING: Ignoring invalid distribution -rotobuf (c:\\users\\admin\\anaconda3\\lib\\site-packages)\n",
      "WARNING: Ignoring invalid distribution -pencv-python-headless (c:\\users\\admin\\anaconda3\\lib\\site-packages)\n",
      "WARNING: Ignoring invalid distribution -ensorflow-intel (c:\\users\\admin\\anaconda3\\lib\\site-packages)\n",
      "WARNING: Ignoring invalid distribution -rotobuf (c:\\users\\admin\\anaconda3\\lib\\site-packages)\n",
      "WARNING: Ignoring invalid distribution -pencv-python-headless (c:\\users\\admin\\anaconda3\\lib\\site-packages)\n",
      "WARNING: Ignoring invalid distribution -ensorflow-intel (c:\\users\\admin\\anaconda3\\lib\\site-packages)\n",
      "WARNING: Ignoring invalid distribution -rotobuf (c:\\users\\admin\\anaconda3\\lib\\site-packages)\n",
      "WARNING: Ignoring invalid distribution -pencv-python-headless (c:\\users\\admin\\anaconda3\\lib\\site-packages)\n",
      "WARNING: Ignoring invalid distribution -ensorflow-intel (c:\\users\\admin\\anaconda3\\lib\\site-packages)\n"
     ]
    }
   ],
   "source": [
    "pip install wget"
   ]
  },
  {
   "cell_type": "code",
   "execution_count": 10,
   "id": "a7174d95",
   "metadata": {},
   "outputs": [],
   "source": [
    "import pandas as pd\n",
    "import numpy as np\n",
    "import csv\n",
    "import os\n",
    "import tarfile \n",
    "from datetime import timedelta\n",
    "import urllib.request"
   ]
  },
  {
   "cell_type": "code",
   "execution_count": 11,
   "id": "1c8ad590",
   "metadata": {},
   "outputs": [
    {
     "data": {
      "text/plain": [
       "'C:\\\\Users\\\\Admin\\\\OneDrive\\\\Desktop\\\\Airflow Coursera'"
      ]
     },
     "execution_count": 11,
     "metadata": {},
     "output_type": "execute_result"
    }
   ],
   "source": [
    "os.getcwd()"
   ]
  },
  {
   "cell_type": "code",
   "execution_count": 42,
   "id": "7b998846",
   "metadata": {},
   "outputs": [],
   "source": [
    "destination = 'C:\\\\Users\\\\Admin\\\\OneDrive\\\\Desktop\\\\Airflow Coursera'\n",
    "source = os.path.join(destination,\"tolldata.tgz\")\n",
    "vehicle_data = os.path.join(destination,\"vehicle-data.csv\")\n",
    "tollplaza_data = os.path.join(destination,\"tollplaza-data.tsv\")\n",
    "payment_data = os.path.join(destination,\"payment-data.txt\")\n",
    "csv_data = os.path.join(destination,\"csv_data.csv \")\n",
    "tsv_data = os.path.join(destination,\"tsv_data.csv\")\n",
    "fixed_width_data = os.path.join(destination,\"fixed_width_data.csv\")\n",
    "extracted_data = os.path.join(destination, \"extracted_data.csv\")\n",
    "transformed_data = os.path.join(destination, \"staging/transformed_data.csv\")"
   ]
  },
  {
   "cell_type": "code",
   "execution_count": 25,
   "id": "6c9e88bf",
   "metadata": {},
   "outputs": [],
   "source": [
    "url = 'https://cf-courses-data.s3.us.cloud-object-storage.appdomain.cloud/IBM-DB0250EN-SkillsNetwork/labs/Final%20Assignment/tolldata.tgz'"
   ]
  },
  {
   "cell_type": "code",
   "execution_count": 26,
   "id": "ccac1e16",
   "metadata": {},
   "outputs": [],
   "source": [
    "def download_dataset(url):   \n",
    "    return  wget.download(str(url),destination)"
   ]
  },
  {
   "cell_type": "code",
   "execution_count": 27,
   "id": "5afc442b",
   "metadata": {},
   "outputs": [
    {
     "ename": "FileNotFoundError",
     "evalue": "[Errno 2] No such file or directory: '.\\\\home/project/airflow/dags/finalassignment/stagingkef2n46w.tmp'",
     "output_type": "error",
     "traceback": [
      "\u001b[1;31m---------------------------------------------------------------------------\u001b[0m",
      "\u001b[1;31mFileNotFoundError\u001b[0m                         Traceback (most recent call last)",
      "\u001b[1;32m~\\AppData\\Local\\Temp\\ipykernel_8864\\2803649286.py\u001b[0m in \u001b[0;36m<module>\u001b[1;34m\u001b[0m\n\u001b[1;32m----> 1\u001b[1;33m \u001b[0mdownload_dataset\u001b[0m\u001b[1;33m(\u001b[0m\u001b[0murl\u001b[0m\u001b[1;33m)\u001b[0m\u001b[1;33m\u001b[0m\u001b[1;33m\u001b[0m\u001b[0m\n\u001b[0m",
      "\u001b[1;32m~\\AppData\\Local\\Temp\\ipykernel_8864\\127032580.py\u001b[0m in \u001b[0;36mdownload_dataset\u001b[1;34m(url)\u001b[0m\n\u001b[0;32m      1\u001b[0m \u001b[1;32mdef\u001b[0m \u001b[0mdownload_dataset\u001b[0m\u001b[1;33m(\u001b[0m\u001b[0murl\u001b[0m\u001b[1;33m)\u001b[0m\u001b[1;33m:\u001b[0m\u001b[1;33m\u001b[0m\u001b[1;33m\u001b[0m\u001b[0m\n\u001b[1;32m----> 2\u001b[1;33m     \u001b[1;32mreturn\u001b[0m  \u001b[0mwget\u001b[0m\u001b[1;33m.\u001b[0m\u001b[0mdownload\u001b[0m\u001b[1;33m(\u001b[0m\u001b[0mstr\u001b[0m\u001b[1;33m(\u001b[0m\u001b[0murl\u001b[0m\u001b[1;33m)\u001b[0m\u001b[1;33m,\u001b[0m\u001b[0mdestination\u001b[0m\u001b[1;33m)\u001b[0m\u001b[1;33m\u001b[0m\u001b[1;33m\u001b[0m\u001b[0m\n\u001b[0m",
      "\u001b[1;32m~\\anaconda3\\lib\\site-packages\\wget.py\u001b[0m in \u001b[0;36mdownload\u001b[1;34m(url, out, bar)\u001b[0m\n\u001b[0;32m    504\u001b[0m     \u001b[1;31m# get filename for temp file in current directory\u001b[0m\u001b[1;33m\u001b[0m\u001b[1;33m\u001b[0m\u001b[0m\n\u001b[0;32m    505\u001b[0m     \u001b[0mprefix\u001b[0m \u001b[1;33m=\u001b[0m \u001b[0mdetect_filename\u001b[0m\u001b[1;33m(\u001b[0m\u001b[0murl\u001b[0m\u001b[1;33m,\u001b[0m \u001b[0mout\u001b[0m\u001b[1;33m)\u001b[0m\u001b[1;33m\u001b[0m\u001b[1;33m\u001b[0m\u001b[0m\n\u001b[1;32m--> 506\u001b[1;33m     \u001b[1;33m(\u001b[0m\u001b[0mfd\u001b[0m\u001b[1;33m,\u001b[0m \u001b[0mtmpfile\u001b[0m\u001b[1;33m)\u001b[0m \u001b[1;33m=\u001b[0m \u001b[0mtempfile\u001b[0m\u001b[1;33m.\u001b[0m\u001b[0mmkstemp\u001b[0m\u001b[1;33m(\u001b[0m\u001b[1;34m\".tmp\"\u001b[0m\u001b[1;33m,\u001b[0m \u001b[0mprefix\u001b[0m\u001b[1;33m=\u001b[0m\u001b[0mprefix\u001b[0m\u001b[1;33m,\u001b[0m \u001b[0mdir\u001b[0m\u001b[1;33m=\u001b[0m\u001b[1;34m\".\"\u001b[0m\u001b[1;33m)\u001b[0m\u001b[1;33m\u001b[0m\u001b[1;33m\u001b[0m\u001b[0m\n\u001b[0m\u001b[0;32m    507\u001b[0m     \u001b[0mos\u001b[0m\u001b[1;33m.\u001b[0m\u001b[0mclose\u001b[0m\u001b[1;33m(\u001b[0m\u001b[0mfd\u001b[0m\u001b[1;33m)\u001b[0m\u001b[1;33m\u001b[0m\u001b[1;33m\u001b[0m\u001b[0m\n\u001b[0;32m    508\u001b[0m     \u001b[0mos\u001b[0m\u001b[1;33m.\u001b[0m\u001b[0munlink\u001b[0m\u001b[1;33m(\u001b[0m\u001b[0mtmpfile\u001b[0m\u001b[1;33m)\u001b[0m\u001b[1;33m\u001b[0m\u001b[1;33m\u001b[0m\u001b[0m\n",
      "\u001b[1;32m~\\anaconda3\\lib\\tempfile.py\u001b[0m in \u001b[0;36mmkstemp\u001b[1;34m(suffix, prefix, dir, text)\u001b[0m\n\u001b[0;32m    334\u001b[0m         \u001b[0mflags\u001b[0m \u001b[1;33m=\u001b[0m \u001b[0m_bin_openflags\u001b[0m\u001b[1;33m\u001b[0m\u001b[1;33m\u001b[0m\u001b[0m\n\u001b[0;32m    335\u001b[0m \u001b[1;33m\u001b[0m\u001b[0m\n\u001b[1;32m--> 336\u001b[1;33m     \u001b[1;32mreturn\u001b[0m \u001b[0m_mkstemp_inner\u001b[0m\u001b[1;33m(\u001b[0m\u001b[0mdir\u001b[0m\u001b[1;33m,\u001b[0m \u001b[0mprefix\u001b[0m\u001b[1;33m,\u001b[0m \u001b[0msuffix\u001b[0m\u001b[1;33m,\u001b[0m \u001b[0mflags\u001b[0m\u001b[1;33m,\u001b[0m \u001b[0moutput_type\u001b[0m\u001b[1;33m)\u001b[0m\u001b[1;33m\u001b[0m\u001b[1;33m\u001b[0m\u001b[0m\n\u001b[0m\u001b[0;32m    337\u001b[0m \u001b[1;33m\u001b[0m\u001b[0m\n\u001b[0;32m    338\u001b[0m \u001b[1;33m\u001b[0m\u001b[0m\n",
      "\u001b[1;32m~\\anaconda3\\lib\\tempfile.py\u001b[0m in \u001b[0;36m_mkstemp_inner\u001b[1;34m(dir, pre, suf, flags, output_type)\u001b[0m\n\u001b[0;32m    253\u001b[0m         \u001b[0m_sys\u001b[0m\u001b[1;33m.\u001b[0m\u001b[0maudit\u001b[0m\u001b[1;33m(\u001b[0m\u001b[1;34m\"tempfile.mkstemp\"\u001b[0m\u001b[1;33m,\u001b[0m \u001b[0mfile\u001b[0m\u001b[1;33m)\u001b[0m\u001b[1;33m\u001b[0m\u001b[1;33m\u001b[0m\u001b[0m\n\u001b[0;32m    254\u001b[0m         \u001b[1;32mtry\u001b[0m\u001b[1;33m:\u001b[0m\u001b[1;33m\u001b[0m\u001b[1;33m\u001b[0m\u001b[0m\n\u001b[1;32m--> 255\u001b[1;33m             \u001b[0mfd\u001b[0m \u001b[1;33m=\u001b[0m \u001b[0m_os\u001b[0m\u001b[1;33m.\u001b[0m\u001b[0mopen\u001b[0m\u001b[1;33m(\u001b[0m\u001b[0mfile\u001b[0m\u001b[1;33m,\u001b[0m \u001b[0mflags\u001b[0m\u001b[1;33m,\u001b[0m \u001b[1;36m0o600\u001b[0m\u001b[1;33m)\u001b[0m\u001b[1;33m\u001b[0m\u001b[1;33m\u001b[0m\u001b[0m\n\u001b[0m\u001b[0;32m    256\u001b[0m         \u001b[1;32mexcept\u001b[0m \u001b[0mFileExistsError\u001b[0m\u001b[1;33m:\u001b[0m\u001b[1;33m\u001b[0m\u001b[1;33m\u001b[0m\u001b[0m\n\u001b[0;32m    257\u001b[0m             \u001b[1;32mcontinue\u001b[0m    \u001b[1;31m# try again\u001b[0m\u001b[1;33m\u001b[0m\u001b[1;33m\u001b[0m\u001b[0m\n",
      "\u001b[1;31mFileNotFoundError\u001b[0m: [Errno 2] No such file or directory: '.\\\\home/project/airflow/dags/finalassignment/stagingkef2n46w.tmp'"
     ]
    }
   ],
   "source": [
    "download_dataset(url)"
   ]
  },
  {
   "cell_type": "code",
   "execution_count": 37,
   "id": "2a25668c",
   "metadata": {},
   "outputs": [],
   "source": [
    "def untar_tolldata(source,destination):\n",
    "    try:\n",
    "        with tarfile.open(source, \"r:gz\") as tgz:\n",
    "            tgz.extractall(destination)\n",
    "    except Exception as e:\n",
    "        print(f\"Error extracting {source}: {e}\")"
   ]
  },
  {
   "cell_type": "code",
   "execution_count": 38,
   "id": "e8e50046",
   "metadata": {},
   "outputs": [],
   "source": [
    "destination = 'rC:\\\\Users\\\\Admin\\\\OneDrive\\\\Desktop\\\\Airflow Coursera'"
   ]
  },
  {
   "cell_type": "code",
   "execution_count": 39,
   "id": "1eb88433",
   "metadata": {},
   "outputs": [
    {
     "name": "stdout",
     "output_type": "stream",
     "text": [
      "Error extracting https://cf-courses-data.s3.us.cloud-object-storage.appdomain.cloud/IBM-DB0250EN-SkillsNetwork/labs/Final%20Assignment/tolldata.tgz: [Errno 22] Invalid argument: 'https://cf-courses-data.s3.us.cloud-object-storage.appdomain.cloud/IBM-DB0250EN-SkillsNetwork/labs/Final%20Assignment/tolldata.tgz'\n"
     ]
    }
   ],
   "source": [
    "untar_tolldata(url,destination)"
   ]
  },
  {
   "cell_type": "code",
   "execution_count": null,
   "id": "1acd8a3c",
   "metadata": {},
   "outputs": [],
   "source": []
  },
  {
   "cell_type": "code",
   "execution_count": 40,
   "id": "7d2d4d7f",
   "metadata": {},
   "outputs": [
    {
     "name": "stdout",
     "output_type": "stream",
     "text": [
      "Downloaded tolldata.tgz\n",
      "Extracted files to the current directory\n"
     ]
    }
   ],
   "source": [
    "# Download tarfile and untar docs\n",
    "\n",
    "import urllib.request\n",
    "import tarfile\n",
    "\n",
    "# Define the URL and the file name\n",
    "url = \"https://cf-courses-data.s3.us.cloud-object-storage.appdomain.cloud/IBM-DB0250EN-SkillsNetwork/labs/Final%20Assignment/tolldata.tgz\"\n",
    "file_name = \"tolldata.tgz\"\n",
    "\n",
    "# Download the file\n",
    "urllib.request.urlretrieve(url, file_name)\n",
    "print(f\"Downloaded {file_name}\")\n",
    "\n",
    "# Extract the tar.gz file\n",
    "if tarfile.is_tarfile(file_name):\n",
    "    with tarfile.open(file_name) as tar:\n",
    "        tar.extractall()\n",
    "        print(f\"Extracted files to the current directory\")\n",
    "else:\n",
    "    print(f\"{file_name} is not a tar file.\")\n"
   ]
  },
  {
   "cell_type": "code",
   "execution_count": null,
   "id": "051ecf1e",
   "metadata": {},
   "outputs": [],
   "source": []
  },
  {
   "cell_type": "code",
   "execution_count": 72,
   "id": "bb430075",
   "metadata": {},
   "outputs": [
    {
     "data": {
      "text/plain": [
       "('2ndtar.tgz', <http.client.HTTPMessage at 0x1a642e47760>)"
      ]
     },
     "execution_count": 72,
     "metadata": {},
     "output_type": "execute_result"
    }
   ],
   "source": [
    "urllib.request.urlretrieve( \"https://cf-courses-data.s3.us.cloud-object-storage.appdomain.cloud/IBM-DB0250EN-SkillsNetwork/labs/Final%20Assignment/tolldata.tgz\",'2ndtar.tgz')"
   ]
  },
  {
   "cell_type": "code",
   "execution_count": null,
   "id": "44721f1b",
   "metadata": {},
   "outputs": [],
   "source": []
  },
  {
   "cell_type": "code",
   "execution_count": 65,
   "id": "f7afd4d0",
   "metadata": {},
   "outputs": [],
   "source": [
    "def extract_data_from_csv(input_file, extracted_file):\n",
    "    print(\"Inside Extract\")\n",
    "\n",
    "    # Open the input CSV file for reading and the output CSV file for writing\n",
    "    with open(input_file, 'r') as infile, open(extracted_file, 'w', newline='') as outfile:\n",
    "        reader = csv.reader(infile)\n",
    "        writer = csv.writer(outfile)\n",
    "\n",
    "        for fields in reader:\n",
    "            # Ensure there are at least four fields before accessing them\n",
    "            if len(fields) >= 4:\n",
    "                field_1 = fields[0]\n",
    "                field_2 = fields[1]\n",
    "                field_3 = fields[2]\n",
    "                field_4 = fields[3]\n",
    "\n",
    "                # Write the selected fields to the output CSV file\n",
    "                writer.writerow([field_1, field_2, field_3, field_4])\n",
    "    return"
   ]
  },
  {
   "cell_type": "code",
   "execution_count": 67,
   "id": "8a9aa220",
   "metadata": {
    "scrolled": true
   },
   "outputs": [
    {
     "name": "stdout",
     "output_type": "stream",
     "text": [
      "Inside Extract\n"
     ]
    }
   ],
   "source": [
    "extract_data_from_csv(vehicle_data,csv_data)"
   ]
  },
  {
   "cell_type": "code",
   "execution_count": 53,
   "id": "433e24e4",
   "metadata": {},
   "outputs": [],
   "source": [
    "def extract_data_from_csv(input_file, extracted_file):\n",
    "    print(\"Inside Extract\")\n",
    "\n",
    "    # Open the input CSV file for reading and the output CSV file for writing\n",
    "    with open(input_file, 'r') as infile, open(extracted_file, 'w', newline='') as outfile:\n",
    "        reader = csv.reader(infile)\n",
    "        writer = csv.writer(outfile)\n",
    "\n",
    "        for fields in reader:\n",
    "            # Ensure there are at least four fields before accessing them\n",
    "            if len(fields) >= 4:\n",
    "                field_1 = fields[0]\n",
    "                field_2 = fields[1]\n",
    "                field_3 = fields[2]\n",
    "                field_4 = fields[3]\n",
    "\n",
    "                # Write the selected fields to the output CSV file\n",
    "                writer.writerow([field_1, field_2, field_3, field_4])\n",
    "\n",
    "    print(\"Data extraction complete\")\n",
    "    return"
   ]
  },
  {
   "cell_type": "code",
   "execution_count": 77,
   "id": "f31748e0",
   "metadata": {},
   "outputs": [],
   "source": [
    "def download_dataset(url,filename):\n",
    "    urllib.request.urlretrieve(url,filename)\n",
    "    return"
   ]
  },
  {
   "cell_type": "code",
   "execution_count": 78,
   "id": "309eeb76",
   "metadata": {},
   "outputs": [],
   "source": [
    "url = \"https://cf-courses-data.s3.us.cloud-object-storage.appdomain.cloud/IBM-DB0250EN-SkillsNetwork/labs/Final%20Assignment/tolldata.tgz\""
   ]
  },
  {
   "cell_type": "code",
   "execution_count": 79,
   "id": "6b65fa0f",
   "metadata": {},
   "outputs": [],
   "source": [
    "filename = '3rd.tgz'"
   ]
  },
  {
   "cell_type": "code",
   "execution_count": 80,
   "id": "14ab8101",
   "metadata": {},
   "outputs": [],
   "source": [
    "download_dataset(url = url,filename=filename)"
   ]
  },
  {
   "cell_type": "code",
   "execution_count": 81,
   "id": "bcb6bdbf",
   "metadata": {},
   "outputs": [],
   "source": [
    "def untar_tolldata(source,destination):\n",
    "    try:\n",
    "        with tarfile.open(source, \"r:gz\") as tgz:\n",
    "            tgz.extractall(destination)\n",
    "    except Exception as e:\n",
    "        print(f\"Error extracting {source}: {e}\")"
   ]
  },
  {
   "cell_type": "code",
   "execution_count": 82,
   "id": "6027aff9",
   "metadata": {},
   "outputs": [],
   "source": [
    "untar_tolldata(source = source, destination = destination)"
   ]
  },
  {
   "cell_type": "code",
   "execution_count": 83,
   "id": "f28eba56",
   "metadata": {},
   "outputs": [],
   "source": [
    "def extract_data_from_csv(input_file=vehicle_data, extracted_file=csv_data):\n",
    "    print(\"Inside Extract\")\n",
    "\n",
    "    # Open the input CSV file for reading and the output CSV file for writing\n",
    "    with open(input_file, 'r') as infile, open(extracted_file, 'w', newline='') as outfile:\n",
    "        reader = csv.reader(infile)\n",
    "        writer = csv.writer(outfile)\n",
    "\n",
    "        for fields in reader:\n",
    "            # Ensure there are at least four fields before accessing them\n",
    "            if len(fields) >= 4:\n",
    "                field_1 = fields[0]\n",
    "                field_2 = fields[1]\n",
    "                field_3 = fields[2]\n",
    "                field_4 = fields[3]\n",
    "\n",
    "                # Write the selected fields to the output CSV file\n",
    "                writer.writerow([field_1, field_2, field_3, field_4])\n",
    "\n",
    "    print(f\"Data extracted to {extracted_file}\")"
   ]
  },
  {
   "cell_type": "code",
   "execution_count": 84,
   "id": "973efb3f",
   "metadata": {},
   "outputs": [
    {
     "name": "stdout",
     "output_type": "stream",
     "text": [
      "Inside Extract\n",
      "Data extracted to C:\\Users\\Admin\\OneDrive\\Desktop\\Airflow Coursera\\csv_data.csv \n"
     ]
    }
   ],
   "source": [
    "extract_data_from_csv(vehicle_data,csv_data)"
   ]
  },
  {
   "cell_type": "code",
   "execution_count": null,
   "id": "9a174bff",
   "metadata": {},
   "outputs": [],
   "source": []
  }
 ],
 "metadata": {
  "kernelspec": {
   "display_name": "Python 3 (ipykernel)",
   "language": "python",
   "name": "python3"
  },
  "language_info": {
   "codemirror_mode": {
    "name": "ipython",
    "version": 3
   },
   "file_extension": ".py",
   "mimetype": "text/x-python",
   "name": "python",
   "nbconvert_exporter": "python",
   "pygments_lexer": "ipython3",
   "version": "3.11.5"
  },
  "toc": {
   "base_numbering": 1,
   "nav_menu": {},
   "number_sections": true,
   "sideBar": true,
   "skip_h1_title": false,
   "title_cell": "Table of Contents",
   "title_sidebar": "Contents",
   "toc_cell": false,
   "toc_position": {},
   "toc_section_display": true,
   "toc_window_display": false
  }
 },
 "nbformat": 4,
 "nbformat_minor": 5
}
