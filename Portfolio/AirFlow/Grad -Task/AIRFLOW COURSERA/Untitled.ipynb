{
 "cells": [
  {
   "cell_type": "code",
   "execution_count": 9,
   "id": "7920cd5b",
   "metadata": {},
   "outputs": [
    {
     "name": "stdout",
     "output_type": "stream",
     "text": [
      "Collecting wget\n",
      "  Downloading wget-3.2.zip (10 kB)\n",
      "  Preparing metadata (setup.py): started\n",
      "  Preparing metadata (setup.py): finished with status 'done'\n",
      "Building wheels for collected packages: wget\n",
      "  Building wheel for wget (setup.py): started\n",
      "  Building wheel for wget (setup.py): finished with status 'done'\n",
      "  Created wheel for wget: filename=wget-3.2-py3-none-any.whl size=9657 sha256=17776533a51eb1bd79f564373993454307b20e3cb2f41fbc9be9128314dc01d5\n",
      "  Stored in directory: c:\\users\\admin\\appdata\\local\\pip\\cache\\wheels\\04\\5f\\3e\\46cc37c5d698415694d83f607f833f83f0149e49b3af9d0f38\n",
      "Successfully built wget\n",
      "Installing collected packages: wget\n",
      "Successfully installed wget-3.2\n",
      "Note: you may need to restart the kernel to use updated packages.\n"
     ]
    },
    {
     "name": "stderr",
     "output_type": "stream",
     "text": [
      "WARNING: Ignoring invalid distribution -rotobuf (c:\\users\\admin\\anaconda3\\lib\\site-packages)\n",
      "WARNING: Ignoring invalid distribution -pencv-python-headless (c:\\users\\admin\\anaconda3\\lib\\site-packages)\n",
      "WARNING: Ignoring invalid distribution -ensorflow-intel (c:\\users\\admin\\anaconda3\\lib\\site-packages)\n",
      "WARNING: Ignoring invalid distribution -rotobuf (c:\\users\\admin\\anaconda3\\lib\\site-packages)\n",
      "WARNING: Ignoring invalid distribution -pencv-python-headless (c:\\users\\admin\\anaconda3\\lib\\site-packages)\n",
      "WARNING: Ignoring invalid distribution -ensorflow-intel (c:\\users\\admin\\anaconda3\\lib\\site-packages)\n",
      "WARNING: Ignoring invalid distribution -rotobuf (c:\\users\\admin\\anaconda3\\lib\\site-packages)\n",
      "WARNING: Ignoring invalid distribution -pencv-python-headless (c:\\users\\admin\\anaconda3\\lib\\site-packages)\n",
      "WARNING: Ignoring invalid distribution -ensorflow-intel (c:\\users\\admin\\anaconda3\\lib\\site-packages)\n",
      "WARNING: Ignoring invalid distribution -rotobuf (c:\\users\\admin\\anaconda3\\lib\\site-packages)\n",
      "WARNING: Ignoring invalid distribution -pencv-python-headless (c:\\users\\admin\\anaconda3\\lib\\site-packages)\n",
      "WARNING: Ignoring invalid distribution -ensorflow-intel (c:\\users\\admin\\anaconda3\\lib\\site-packages)\n",
      "WARNING: Ignoring invalid distribution -rotobuf (c:\\users\\admin\\anaconda3\\lib\\site-packages)\n",
      "WARNING: Ignoring invalid distribution -pencv-python-headless (c:\\users\\admin\\anaconda3\\lib\\site-packages)\n",
      "WARNING: Ignoring invalid distribution -ensorflow-intel (c:\\users\\admin\\anaconda3\\lib\\site-packages)\n",
      "WARNING: Ignoring invalid distribution -rotobuf (c:\\users\\admin\\anaconda3\\lib\\site-packages)\n",
      "WARNING: Ignoring invalid distribution -pencv-python-headless (c:\\users\\admin\\anaconda3\\lib\\site-packages)\n",
      "WARNING: Ignoring invalid distribution -ensorflow-intel (c:\\users\\admin\\anaconda3\\lib\\site-packages)\n",
      "WARNING: Ignoring invalid distribution -rotobuf (c:\\users\\admin\\anaconda3\\lib\\site-packages)\n",
      "WARNING: Ignoring invalid distribution -pencv-python-headless (c:\\users\\admin\\anaconda3\\lib\\site-packages)\n",
      "WARNING: Ignoring invalid distribution -ensorflow-intel (c:\\users\\admin\\anaconda3\\lib\\site-packages)\n"
     ]
    }
   ],
   "source": [
    "pip install wget"
   ]
  },
  {
   "cell_type": "code",
   "execution_count": 1,
   "id": "a7174d95",
   "metadata": {},
   "outputs": [],
   "source": [
    "import pandas as pd\n",
    "import numpy as np\n",
    "import csv\n",
    "import os\n",
    "import tarfile \n",
    "from datetime import timedelta\n",
    "import urllib.request"
   ]
  },
  {
   "cell_type": "code",
   "execution_count": 3,
   "id": "1c8ad590",
   "metadata": {},
   "outputs": [
    {
     "data": {
      "text/plain": [
       "'C:\\\\Users\\\\manai\\\\Desktop\\\\AIRFLOW COURSERA'"
      ]
     },
     "execution_count": 3,
     "metadata": {},
     "output_type": "execute_result"
    }
   ],
   "source": [
    "os.getcwd()"
   ]
  },
  {
   "cell_type": "code",
   "execution_count": 5,
   "id": "7b998846",
   "metadata": {},
   "outputs": [],
   "source": [
    "destination = 'C:\\\\Users\\\\manai\\\\Desktop\\\\AIRFLOW COURSERA'\n",
    "source = os.path.join(destination,\"tolldata.tgz\")\n",
    "vehicle_data = os.path.join(destination,\"vehicle-data.csv\")\n",
    "tollplaza_data = os.path.join(destination,\"tollplaza-data.tsv\")\n",
    "payment_data = os.path.join(destination,\"payment-data.txt\")\n",
    "csv_data = os.path.join(destination,\"csv_data.csv \")\n",
    "tsv_data = os.path.join(destination,\"tsv_data.csv\")\n",
    "fixed_width_data = os.path.join(destination,\"fixed_width_data.csv\")\n",
    "extracted_data = os.path.join(destination, \"extracted_data.csv\")\n",
    "transformed_data = os.path.join(destination, \"staging/transformed_data.csv\")"
   ]
  },
  {
   "cell_type": "code",
   "execution_count": 25,
   "id": "6c9e88bf",
   "metadata": {},
   "outputs": [],
   "source": [
    "url = 'https://cf-courses-data.s3.us.cloud-object-storage.appdomain.cloud/IBM-DB0250EN-SkillsNetwork/labs/Final%20Assignment/tolldata.tgz'"
   ]
  },
  {
   "cell_type": "code",
   "execution_count": 26,
   "id": "ccac1e16",
   "metadata": {},
   "outputs": [],
   "source": [
    "def download_dataset(url):   \n",
    "    return  wget.download(str(url),destination)"
   ]
  },
  {
   "cell_type": "code",
   "execution_count": 27,
   "id": "5afc442b",
   "metadata": {},
   "outputs": [
    {
     "ename": "FileNotFoundError",
     "evalue": "[Errno 2] No such file or directory: '.\\\\home/project/airflow/dags/finalassignment/stagingkef2n46w.tmp'",
     "output_type": "error",
     "traceback": [
      "\u001b[1;31m---------------------------------------------------------------------------\u001b[0m",
      "\u001b[1;31mFileNotFoundError\u001b[0m                         Traceback (most recent call last)",
      "\u001b[1;32m~\\AppData\\Local\\Temp\\ipykernel_8864\\2803649286.py\u001b[0m in \u001b[0;36m<module>\u001b[1;34m\u001b[0m\n\u001b[1;32m----> 1\u001b[1;33m \u001b[0mdownload_dataset\u001b[0m\u001b[1;33m(\u001b[0m\u001b[0murl\u001b[0m\u001b[1;33m)\u001b[0m\u001b[1;33m\u001b[0m\u001b[1;33m\u001b[0m\u001b[0m\n\u001b[0m",
      "\u001b[1;32m~\\AppData\\Local\\Temp\\ipykernel_8864\\127032580.py\u001b[0m in \u001b[0;36mdownload_dataset\u001b[1;34m(url)\u001b[0m\n\u001b[0;32m      1\u001b[0m \u001b[1;32mdef\u001b[0m \u001b[0mdownload_dataset\u001b[0m\u001b[1;33m(\u001b[0m\u001b[0murl\u001b[0m\u001b[1;33m)\u001b[0m\u001b[1;33m:\u001b[0m\u001b[1;33m\u001b[0m\u001b[1;33m\u001b[0m\u001b[0m\n\u001b[1;32m----> 2\u001b[1;33m     \u001b[1;32mreturn\u001b[0m  \u001b[0mwget\u001b[0m\u001b[1;33m.\u001b[0m\u001b[0mdownload\u001b[0m\u001b[1;33m(\u001b[0m\u001b[0mstr\u001b[0m\u001b[1;33m(\u001b[0m\u001b[0murl\u001b[0m\u001b[1;33m)\u001b[0m\u001b[1;33m,\u001b[0m\u001b[0mdestination\u001b[0m\u001b[1;33m)\u001b[0m\u001b[1;33m\u001b[0m\u001b[1;33m\u001b[0m\u001b[0m\n\u001b[0m",
      "\u001b[1;32m~\\anaconda3\\lib\\site-packages\\wget.py\u001b[0m in \u001b[0;36mdownload\u001b[1;34m(url, out, bar)\u001b[0m\n\u001b[0;32m    504\u001b[0m     \u001b[1;31m# get filename for temp file in current directory\u001b[0m\u001b[1;33m\u001b[0m\u001b[1;33m\u001b[0m\u001b[0m\n\u001b[0;32m    505\u001b[0m     \u001b[0mprefix\u001b[0m \u001b[1;33m=\u001b[0m \u001b[0mdetect_filename\u001b[0m\u001b[1;33m(\u001b[0m\u001b[0murl\u001b[0m\u001b[1;33m,\u001b[0m \u001b[0mout\u001b[0m\u001b[1;33m)\u001b[0m\u001b[1;33m\u001b[0m\u001b[1;33m\u001b[0m\u001b[0m\n\u001b[1;32m--> 506\u001b[1;33m     \u001b[1;33m(\u001b[0m\u001b[0mfd\u001b[0m\u001b[1;33m,\u001b[0m \u001b[0mtmpfile\u001b[0m\u001b[1;33m)\u001b[0m \u001b[1;33m=\u001b[0m \u001b[0mtempfile\u001b[0m\u001b[1;33m.\u001b[0m\u001b[0mmkstemp\u001b[0m\u001b[1;33m(\u001b[0m\u001b[1;34m\".tmp\"\u001b[0m\u001b[1;33m,\u001b[0m \u001b[0mprefix\u001b[0m\u001b[1;33m=\u001b[0m\u001b[0mprefix\u001b[0m\u001b[1;33m,\u001b[0m \u001b[0mdir\u001b[0m\u001b[1;33m=\u001b[0m\u001b[1;34m\".\"\u001b[0m\u001b[1;33m)\u001b[0m\u001b[1;33m\u001b[0m\u001b[1;33m\u001b[0m\u001b[0m\n\u001b[0m\u001b[0;32m    507\u001b[0m     \u001b[0mos\u001b[0m\u001b[1;33m.\u001b[0m\u001b[0mclose\u001b[0m\u001b[1;33m(\u001b[0m\u001b[0mfd\u001b[0m\u001b[1;33m)\u001b[0m\u001b[1;33m\u001b[0m\u001b[1;33m\u001b[0m\u001b[0m\n\u001b[0;32m    508\u001b[0m     \u001b[0mos\u001b[0m\u001b[1;33m.\u001b[0m\u001b[0munlink\u001b[0m\u001b[1;33m(\u001b[0m\u001b[0mtmpfile\u001b[0m\u001b[1;33m)\u001b[0m\u001b[1;33m\u001b[0m\u001b[1;33m\u001b[0m\u001b[0m\n",
      "\u001b[1;32m~\\anaconda3\\lib\\tempfile.py\u001b[0m in \u001b[0;36mmkstemp\u001b[1;34m(suffix, prefix, dir, text)\u001b[0m\n\u001b[0;32m    334\u001b[0m         \u001b[0mflags\u001b[0m \u001b[1;33m=\u001b[0m \u001b[0m_bin_openflags\u001b[0m\u001b[1;33m\u001b[0m\u001b[1;33m\u001b[0m\u001b[0m\n\u001b[0;32m    335\u001b[0m \u001b[1;33m\u001b[0m\u001b[0m\n\u001b[1;32m--> 336\u001b[1;33m     \u001b[1;32mreturn\u001b[0m \u001b[0m_mkstemp_inner\u001b[0m\u001b[1;33m(\u001b[0m\u001b[0mdir\u001b[0m\u001b[1;33m,\u001b[0m \u001b[0mprefix\u001b[0m\u001b[1;33m,\u001b[0m \u001b[0msuffix\u001b[0m\u001b[1;33m,\u001b[0m \u001b[0mflags\u001b[0m\u001b[1;33m,\u001b[0m \u001b[0moutput_type\u001b[0m\u001b[1;33m)\u001b[0m\u001b[1;33m\u001b[0m\u001b[1;33m\u001b[0m\u001b[0m\n\u001b[0m\u001b[0;32m    337\u001b[0m \u001b[1;33m\u001b[0m\u001b[0m\n\u001b[0;32m    338\u001b[0m \u001b[1;33m\u001b[0m\u001b[0m\n",
      "\u001b[1;32m~\\anaconda3\\lib\\tempfile.py\u001b[0m in \u001b[0;36m_mkstemp_inner\u001b[1;34m(dir, pre, suf, flags, output_type)\u001b[0m\n\u001b[0;32m    253\u001b[0m         \u001b[0m_sys\u001b[0m\u001b[1;33m.\u001b[0m\u001b[0maudit\u001b[0m\u001b[1;33m(\u001b[0m\u001b[1;34m\"tempfile.mkstemp\"\u001b[0m\u001b[1;33m,\u001b[0m \u001b[0mfile\u001b[0m\u001b[1;33m)\u001b[0m\u001b[1;33m\u001b[0m\u001b[1;33m\u001b[0m\u001b[0m\n\u001b[0;32m    254\u001b[0m         \u001b[1;32mtry\u001b[0m\u001b[1;33m:\u001b[0m\u001b[1;33m\u001b[0m\u001b[1;33m\u001b[0m\u001b[0m\n\u001b[1;32m--> 255\u001b[1;33m             \u001b[0mfd\u001b[0m \u001b[1;33m=\u001b[0m \u001b[0m_os\u001b[0m\u001b[1;33m.\u001b[0m\u001b[0mopen\u001b[0m\u001b[1;33m(\u001b[0m\u001b[0mfile\u001b[0m\u001b[1;33m,\u001b[0m \u001b[0mflags\u001b[0m\u001b[1;33m,\u001b[0m \u001b[1;36m0o600\u001b[0m\u001b[1;33m)\u001b[0m\u001b[1;33m\u001b[0m\u001b[1;33m\u001b[0m\u001b[0m\n\u001b[0m\u001b[0;32m    256\u001b[0m         \u001b[1;32mexcept\u001b[0m \u001b[0mFileExistsError\u001b[0m\u001b[1;33m:\u001b[0m\u001b[1;33m\u001b[0m\u001b[1;33m\u001b[0m\u001b[0m\n\u001b[0;32m    257\u001b[0m             \u001b[1;32mcontinue\u001b[0m    \u001b[1;31m# try again\u001b[0m\u001b[1;33m\u001b[0m\u001b[1;33m\u001b[0m\u001b[0m\n",
      "\u001b[1;31mFileNotFoundError\u001b[0m: [Errno 2] No such file or directory: '.\\\\home/project/airflow/dags/finalassignment/stagingkef2n46w.tmp'"
     ]
    }
   ],
   "source": [
    "download_dataset(url)"
   ]
  },
  {
   "cell_type": "code",
   "execution_count": 37,
   "id": "2a25668c",
   "metadata": {},
   "outputs": [],
   "source": [
    "def untar_tolldata(source,destination):\n",
    "    try:\n",
    "        with tarfile.open(source, \"r:gz\") as tgz:\n",
    "            tgz.extractall(destination)\n",
    "    except Exception as e:\n",
    "        print(f\"Error extracting {source}: {e}\")"
   ]
  },
  {
   "cell_type": "code",
   "execution_count": 38,
   "id": "e8e50046",
   "metadata": {},
   "outputs": [],
   "source": [
    "destination = 'rC:\\\\Users\\\\Admin\\\\OneDrive\\\\Desktop\\\\Airflow Coursera'"
   ]
  },
  {
   "cell_type": "code",
   "execution_count": 39,
   "id": "1eb88433",
   "metadata": {},
   "outputs": [
    {
     "name": "stdout",
     "output_type": "stream",
     "text": [
      "Error extracting https://cf-courses-data.s3.us.cloud-object-storage.appdomain.cloud/IBM-DB0250EN-SkillsNetwork/labs/Final%20Assignment/tolldata.tgz: [Errno 22] Invalid argument: 'https://cf-courses-data.s3.us.cloud-object-storage.appdomain.cloud/IBM-DB0250EN-SkillsNetwork/labs/Final%20Assignment/tolldata.tgz'\n"
     ]
    }
   ],
   "source": [
    "untar_tolldata(url,destination)"
   ]
  },
  {
   "cell_type": "code",
   "execution_count": null,
   "id": "1acd8a3c",
   "metadata": {},
   "outputs": [],
   "source": []
  },
  {
   "cell_type": "code",
   "execution_count": 40,
   "id": "7d2d4d7f",
   "metadata": {},
   "outputs": [
    {
     "name": "stdout",
     "output_type": "stream",
     "text": [
      "Downloaded tolldata.tgz\n",
      "Extracted files to the current directory\n"
     ]
    }
   ],
   "source": [
    "# Download tarfile and untar docs\n",
    "\n",
    "import urllib.request\n",
    "import tarfile\n",
    "\n",
    "# Define the URL and the file name\n",
    "url = \"https://cf-courses-data.s3.us.cloud-object-storage.appdomain.cloud/IBM-DB0250EN-SkillsNetwork/labs/Final%20Assignment/tolldata.tgz\"\n",
    "file_name = \"tolldata.tgz\"\n",
    "\n",
    "# Download the file\n",
    "urllib.request.urlretrieve(url, file_name)\n",
    "print(f\"Downloaded {file_name}\")\n",
    "\n",
    "# Extract the tar.gz file\n",
    "if tarfile.is_tarfile(file_name):\n",
    "    with tarfile.open(file_name) as tar:\n",
    "        tar.extractall()\n",
    "        print(f\"Extracted files to the current directory\")\n",
    "else:\n",
    "    print(f\"{file_name} is not a tar file.\")\n"
   ]
  },
  {
   "cell_type": "code",
   "execution_count": null,
   "id": "051ecf1e",
   "metadata": {},
   "outputs": [],
   "source": []
  },
  {
   "cell_type": "code",
   "execution_count": 72,
   "id": "bb430075",
   "metadata": {},
   "outputs": [
    {
     "data": {
      "text/plain": [
       "('2ndtar.tgz', <http.client.HTTPMessage at 0x1a642e47760>)"
      ]
     },
     "execution_count": 72,
     "metadata": {},
     "output_type": "execute_result"
    }
   ],
   "source": [
    "urllib.request.urlretrieve( \"https://cf-courses-data.s3.us.cloud-object-storage.appdomain.cloud/IBM-DB0250EN-SkillsNetwork/labs/Final%20Assignment/tolldata.tgz\",'2ndtar.tgz')"
   ]
  },
  {
   "cell_type": "code",
   "execution_count": null,
   "id": "44721f1b",
   "metadata": {},
   "outputs": [],
   "source": []
  },
  {
   "cell_type": "code",
   "execution_count": 65,
   "id": "f7afd4d0",
   "metadata": {},
   "outputs": [],
   "source": [
    "def extract_data_from_csv(input_file, extracted_file):\n",
    "    print(\"Inside Extract\")\n",
    "\n",
    "    # Open the input CSV file for reading and the output CSV file for writing\n",
    "    with open(input_file, 'r') as infile, open(extracted_file, 'w', newline='') as outfile:\n",
    "        reader = csv.reader(infile)\n",
    "        writer = csv.writer(outfile)\n",
    "\n",
    "        for fields in reader:\n",
    "            # Ensure there are at least four fields before accessing them\n",
    "            if len(fields) >= 4:\n",
    "                field_1 = fields[0]\n",
    "                field_2 = fields[1]\n",
    "                field_3 = fields[2]\n",
    "                field_4 = fields[3]\n",
    "\n",
    "                # Write the selected fields to the output CSV file\n",
    "                writer.writerow([field_1, field_2, field_3, field_4])\n",
    "    return"
   ]
  },
  {
   "cell_type": "code",
   "execution_count": 67,
   "id": "8a9aa220",
   "metadata": {
    "scrolled": true
   },
   "outputs": [
    {
     "name": "stdout",
     "output_type": "stream",
     "text": [
      "Inside Extract\n"
     ]
    }
   ],
   "source": [
    "extract_data_from_csv(vehicle_data,csv_data)"
   ]
  },
  {
   "cell_type": "code",
   "execution_count": 53,
   "id": "433e24e4",
   "metadata": {},
   "outputs": [],
   "source": [
    "def extract_data_from_csv(input_file, extracted_file):\n",
    "    print(\"Inside Extract\")\n",
    "\n",
    "    # Open the input CSV file for reading and the output CSV file for writing\n",
    "    with open(input_file, 'r') as infile, open(extracted_file, 'w', newline='') as outfile:\n",
    "        reader = csv.reader(infile)\n",
    "        writer = csv.writer(outfile)\n",
    "\n",
    "        for fields in reader:\n",
    "            # Ensure there are at least four fields before accessing them\n",
    "            if len(fields) >= 4:\n",
    "                field_1 = fields[0]\n",
    "                field_2 = fields[1]\n",
    "                field_3 = fields[2]\n",
    "                field_4 = fields[3]\n",
    "\n",
    "                # Write the selected fields to the output CSV file\n",
    "                writer.writerow([field_1, field_2, field_3, field_4])\n",
    "\n",
    "    print(\"Data extraction complete\")\n",
    "    return"
   ]
  },
  {
   "cell_type": "code",
   "execution_count": 6,
   "id": "f31748e0",
   "metadata": {},
   "outputs": [],
   "source": [
    "def download_dataset(url,filename):\n",
    "    urllib.request.urlretrieve(url,filename)\n",
    "    return"
   ]
  },
  {
   "cell_type": "code",
   "execution_count": 7,
   "id": "309eeb76",
   "metadata": {},
   "outputs": [],
   "source": [
    "url = \"https://cf-courses-data.s3.us.cloud-object-storage.appdomain.cloud/IBM-DB0250EN-SkillsNetwork/labs/Final%20Assignment/tolldata.tgz\""
   ]
  },
  {
   "cell_type": "code",
   "execution_count": 8,
   "id": "6b65fa0f",
   "metadata": {},
   "outputs": [],
   "source": [
    "filename = 'tolldata.tgz'"
   ]
  },
  {
   "cell_type": "code",
   "execution_count": 9,
   "id": "14ab8101",
   "metadata": {},
   "outputs": [],
   "source": [
    "download_dataset(url = url,filename=filename)"
   ]
  },
  {
   "cell_type": "code",
   "execution_count": 10,
   "id": "bcb6bdbf",
   "metadata": {},
   "outputs": [],
   "source": [
    "def untar_tolldata(source,destination):\n",
    "    try:\n",
    "        with tarfile.open(source, \"r:gz\") as tgz:\n",
    "            tgz.extractall(destination)\n",
    "    except Exception as e:\n",
    "        print(f\"Error extracting {source}: {e}\")"
   ]
  },
  {
   "cell_type": "code",
   "execution_count": 11,
   "id": "6027aff9",
   "metadata": {},
   "outputs": [],
   "source": [
    "untar_tolldata(source = source, destination = destination)"
   ]
  },
  {
   "cell_type": "code",
   "execution_count": 12,
   "id": "f28eba56",
   "metadata": {},
   "outputs": [],
   "source": [
    "def extract_data_from_csv(input_file=vehicle_data, extracted_file=csv_data):\n",
    "    print(\"Inside Extract\")\n",
    "\n",
    "    # Open the input CSV file for reading and the output CSV file for writing\n",
    "    with open(input_file, 'r') as infile, open(extracted_file, 'w', newline='') as outfile:\n",
    "        reader = csv.reader(infile)\n",
    "        writer = csv.writer(outfile)\n",
    "\n",
    "        for fields in reader:\n",
    "            # Ensure there are at least four fields before accessing them\n",
    "            if len(fields) >= 4:\n",
    "                field_1 = fields[0]\n",
    "                field_2 = fields[1]\n",
    "                field_3 = fields[2]\n",
    "                field_4 = fields[3]\n",
    "\n",
    "                # Write the selected fields to the output CSV file\n",
    "                writer.writerow([field_1, field_2, field_3, field_4])\n",
    "\n",
    "    print(f\"Data extracted to {extracted_file}\")"
   ]
  },
  {
   "cell_type": "code",
   "execution_count": 84,
   "id": "973efb3f",
   "metadata": {},
   "outputs": [
    {
     "name": "stdout",
     "output_type": "stream",
     "text": [
      "Inside Extract\n",
      "Data extracted to C:\\Users\\Admin\\OneDrive\\Desktop\\Airflow Coursera\\csv_data.csv \n"
     ]
    }
   ],
   "source": [
    "extract_data_from_csv(vehicle_data,csv_data)"
   ]
  },
  {
   "cell_type": "code",
   "execution_count": 2,
   "id": "9a174bff",
   "metadata": {},
   "outputs": [
    {
     "data": {
      "text/plain": [
       "'C:\\\\Users\\\\manai\\\\Desktop\\\\AIRFLOW COURSERA'"
      ]
     },
     "execution_count": 2,
     "metadata": {},
     "output_type": "execute_result"
    }
   ],
   "source": [
    "os.getcwd()"
   ]
  },
  {
   "cell_type": "code",
   "execution_count": 19,
   "id": "743c2a52",
   "metadata": {},
   "outputs": [],
   "source": [
    "def extract_data_from_tsv(input_file, extracted_file):\n",
    "    print(\"Inside Extract\")\n",
    "\n",
    "    # Open the input TSV file for reading and the output CSV file for writing\n",
    "    with open(input_file, 'r') as infile, open(extracted_file, 'w', newline='') as outfile:\n",
    "        reader = csv.reader(infile, delimiter='\\t')\n",
    "        writer = csv.writer(outfile)\n",
    "\n",
    "        for fields in reader:\n",
    "            # Ensure there are at least four fields before accessing them\n",
    "            if len(fields) >= 4:\n",
    "                field_1 = fields[4]\n",
    "                field_2 = fields[5]\n",
    "                field_3 = fields[6]\n",
    "                \n",
    "\n",
    "                # Write the selected fields to the output CSV file\n",
    "                writer.writerow([field_1, field_2, field_3])\n",
    "\n",
    "    print(f\"Data extracted to {extracted_file}\")"
   ]
  },
  {
   "cell_type": "code",
   "execution_count": 20,
   "id": "41d4b885",
   "metadata": {},
   "outputs": [
    {
     "name": "stdout",
     "output_type": "stream",
     "text": [
      "Inside Extract\n",
      "Data extracted to C:\\Users\\manai\\Desktop\\AIRFLOW COURSERA\\tsv_data.csv\n"
     ]
    }
   ],
   "source": [
    "extract_data_from_tsv(tollplaza_data,tsv_data)"
   ]
  },
  {
   "cell_type": "code",
   "execution_count": 16,
   "id": "4d0fedc5",
   "metadata": {},
   "outputs": [
    {
     "data": {
      "text/html": [
       "<div>\n",
       "<style scoped>\n",
       "    .dataframe tbody tr th:only-of-type {\n",
       "        vertical-align: middle;\n",
       "    }\n",
       "\n",
       "    .dataframe tbody tr th {\n",
       "        vertical-align: top;\n",
       "    }\n",
       "\n",
       "    .dataframe thead th {\n",
       "        text-align: right;\n",
       "    }\n",
       "</style>\n",
       "<table border=\"1\" class=\"dataframe\">\n",
       "  <thead>\n",
       "    <tr style=\"text-align: right;\">\n",
       "      <th></th>\n",
       "      <th>1</th>\n",
       "      <th>Thu Aug 19 21:54:38 2021</th>\n",
       "      <th>125094</th>\n",
       "      <th>car</th>\n",
       "      <th>2</th>\n",
       "      <th>4856</th>\n",
       "      <th>PC7C042B7</th>\n",
       "    </tr>\n",
       "  </thead>\n",
       "  <tbody>\n",
       "    <tr>\n",
       "      <th>0</th>\n",
       "      <td>2</td>\n",
       "      <td>Sat Jul 31 04:09:44 2021</td>\n",
       "      <td>174434</td>\n",
       "      <td>car</td>\n",
       "      <td>2</td>\n",
       "      <td>4154</td>\n",
       "      <td>PC2C2EF9E</td>\n",
       "    </tr>\n",
       "    <tr>\n",
       "      <th>1</th>\n",
       "      <td>3</td>\n",
       "      <td>Sat Aug 14 17:19:04 2021</td>\n",
       "      <td>8538286</td>\n",
       "      <td>car</td>\n",
       "      <td>2</td>\n",
       "      <td>4070</td>\n",
       "      <td>PCEECA8B2</td>\n",
       "    </tr>\n",
       "    <tr>\n",
       "      <th>2</th>\n",
       "      <td>4</td>\n",
       "      <td>Mon Aug  2 18:23:45 2021</td>\n",
       "      <td>5521221</td>\n",
       "      <td>car</td>\n",
       "      <td>2</td>\n",
       "      <td>4095</td>\n",
       "      <td>PC3E1512A</td>\n",
       "    </tr>\n",
       "    <tr>\n",
       "      <th>3</th>\n",
       "      <td>5</td>\n",
       "      <td>Thu Jul 29 22:44:20 2021</td>\n",
       "      <td>3267767</td>\n",
       "      <td>car</td>\n",
       "      <td>2</td>\n",
       "      <td>4135</td>\n",
       "      <td>PCC943ECD</td>\n",
       "    </tr>\n",
       "    <tr>\n",
       "      <th>4</th>\n",
       "      <td>6</td>\n",
       "      <td>Sat Aug 14 03:57:47 2021</td>\n",
       "      <td>8411850</td>\n",
       "      <td>car</td>\n",
       "      <td>2</td>\n",
       "      <td>4680</td>\n",
       "      <td>PCC422F4D</td>\n",
       "    </tr>\n",
       "    <tr>\n",
       "      <th>...</th>\n",
       "      <td>...</td>\n",
       "      <td>...</td>\n",
       "      <td>...</td>\n",
       "      <td>...</td>\n",
       "      <td>...</td>\n",
       "      <td>...</td>\n",
       "      <td>...</td>\n",
       "    </tr>\n",
       "    <tr>\n",
       "      <th>9994</th>\n",
       "      <td>9996</td>\n",
       "      <td>Sun Aug 15 03:02:27 2021</td>\n",
       "      <td>3369206</td>\n",
       "      <td>car</td>\n",
       "      <td>2</td>\n",
       "      <td>4907</td>\n",
       "      <td>PCCEEF65A</td>\n",
       "    </tr>\n",
       "    <tr>\n",
       "      <th>9995</th>\n",
       "      <td>9997</td>\n",
       "      <td>Sat Aug  7 04:24:08 2021</td>\n",
       "      <td>5886709</td>\n",
       "      <td>truck</td>\n",
       "      <td>4</td>\n",
       "      <td>4262</td>\n",
       "      <td>PCCB12F8C</td>\n",
       "    </tr>\n",
       "    <tr>\n",
       "      <th>9996</th>\n",
       "      <td>9998</td>\n",
       "      <td>Mon Aug  9 02:58:26 2021</td>\n",
       "      <td>917421</td>\n",
       "      <td>truck</td>\n",
       "      <td>4</td>\n",
       "      <td>4462</td>\n",
       "      <td>PCE29AA1A</td>\n",
       "    </tr>\n",
       "    <tr>\n",
       "      <th>9997</th>\n",
       "      <td>9999</td>\n",
       "      <td>Tue Aug 17 18:41:00 2021</td>\n",
       "      <td>2601682</td>\n",
       "      <td>truck</td>\n",
       "      <td>4</td>\n",
       "      <td>4311</td>\n",
       "      <td>PC7F02ED3</td>\n",
       "    </tr>\n",
       "    <tr>\n",
       "      <th>9998</th>\n",
       "      <td>10000</td>\n",
       "      <td>Mon Aug  9 22:56:50 2021</td>\n",
       "      <td>4833266</td>\n",
       "      <td>car</td>\n",
       "      <td>2</td>\n",
       "      <td>4260</td>\n",
       "      <td>PC1A4796C</td>\n",
       "    </tr>\n",
       "  </tbody>\n",
       "</table>\n",
       "<p>9999 rows × 7 columns</p>\n",
       "</div>"
      ],
      "text/plain": [
       "          1  Thu Aug 19 21:54:38 2021   125094    car  2  4856  PC7C042B7\n",
       "0         2  Sat Jul 31 04:09:44 2021   174434    car  2  4154  PC2C2EF9E\n",
       "1         3  Sat Aug 14 17:19:04 2021  8538286    car  2  4070  PCEECA8B2\n",
       "2         4  Mon Aug  2 18:23:45 2021  5521221    car  2  4095  PC3E1512A\n",
       "3         5  Thu Jul 29 22:44:20 2021  3267767    car  2  4135  PCC943ECD\n",
       "4         6  Sat Aug 14 03:57:47 2021  8411850    car  2  4680  PCC422F4D\n",
       "...     ...                       ...      ...    ... ..   ...        ...\n",
       "9994   9996  Sun Aug 15 03:02:27 2021  3369206    car  2  4907  PCCEEF65A\n",
       "9995   9997  Sat Aug  7 04:24:08 2021  5886709  truck  4  4262  PCCB12F8C\n",
       "9996   9998  Mon Aug  9 02:58:26 2021   917421  truck  4  4462  PCE29AA1A\n",
       "9997   9999  Tue Aug 17 18:41:00 2021  2601682  truck  4  4311  PC7F02ED3\n",
       "9998  10000  Mon Aug  9 22:56:50 2021  4833266    car  2  4260  PC1A4796C\n",
       "\n",
       "[9999 rows x 7 columns]"
      ]
     },
     "execution_count": 16,
     "metadata": {},
     "output_type": "execute_result"
    }
   ],
   "source": [
    "pd.read_csv(tollplaza_data,delimiter = '\\t')"
   ]
  },
  {
   "cell_type": "code",
   "execution_count": 22,
   "id": "bac0e81e",
   "metadata": {},
   "outputs": [],
   "source": [
    "def extract_data_from_fixed_width(input_file = payment_data, extracted_file = fixed_width_data):    \n",
    "    \n",
    "    \n",
    "    print(\"Inside Extract\")\n",
    "    # Read the contents of the file into a string\n",
    "    with open(input_file, 'r') as infile, \\\n",
    "            open(extracted_file, 'w') as outfile:\n",
    "            for field in reader:\n",
    "                fields = line.split(\" \")\n",
    "                field_1 = fields[10]\n",
    "                field_2 = fields[11]\n",
    "\n",
    "                writer.writerow(field_1,field_2)"
   ]
  },
  {
   "cell_type": "code",
   "execution_count": 36,
   "id": "e1f9ebfb",
   "metadata": {},
   "outputs": [
    {
     "ename": "TypeError",
     "evalue": "writer.writerow() takes exactly one argument (2 given)",
     "output_type": "error",
     "traceback": [
      "\u001b[1;31m---------------------------------------------------------------------------\u001b[0m",
      "\u001b[1;31mTypeError\u001b[0m                                 Traceback (most recent call last)",
      "Cell \u001b[1;32mIn[36], line 1\u001b[0m\n\u001b[1;32m----> 1\u001b[0m extract_data_from_fixed_width(payment_data,fixed_width_data)\n",
      "Cell \u001b[1;32mIn[35], line 8\u001b[0m, in \u001b[0;36mextract_data_from_fixed_width\u001b[1;34m(input_file, extracted_file)\u001b[0m\n\u001b[0;32m      6\u001b[0m field_1 \u001b[38;5;241m=\u001b[39m field[\u001b[38;5;241m0\u001b[39m]\n\u001b[0;32m      7\u001b[0m field_2 \u001b[38;5;241m=\u001b[39m field[\u001b[38;5;241m1\u001b[39m]\n\u001b[1;32m----> 8\u001b[0m writer\u001b[38;5;241m.\u001b[39mwriterow(field_1,field_2)\n",
      "\u001b[1;31mTypeError\u001b[0m: writer.writerow() takes exactly one argument (2 given)"
     ]
    }
   ],
   "source": [
    "extract_data_from_fixed_width(payment_data,fixed_width_data)"
   ]
  },
  {
   "cell_type": "code",
   "execution_count": 35,
   "id": "14cdb527",
   "metadata": {},
   "outputs": [],
   "source": [
    "def extract_data_from_fixed_width(input_file,extracted_file):\n",
    "    with open(input_file,'r') as infile, open(extracted_file, 'w') as outfile:\n",
    "        reader = csv.reader(infile, delimiter=' ')\n",
    "        writer = csv.writer(outfile)\n",
    "        for field in reader:\n",
    "            field_1 = field[0]\n",
    "            field_2 = field[1]\n",
    "            writer.writerow(field_1,field_2)"
   ]
  },
  {
   "cell_type": "code",
   "execution_count": 38,
   "id": "7200fd73",
   "metadata": {},
   "outputs": [
    {
     "data": {
      "text/html": [
       "<div>\n",
       "<style scoped>\n",
       "    .dataframe tbody tr th:only-of-type {\n",
       "        vertical-align: middle;\n",
       "    }\n",
       "\n",
       "    .dataframe tbody tr th {\n",
       "        vertical-align: top;\n",
       "    }\n",
       "\n",
       "    .dataframe thead th {\n",
       "        text-align: right;\n",
       "    }\n",
       "</style>\n",
       "<table border=\"1\" class=\"dataframe\">\n",
       "  <thead>\n",
       "    <tr style=\"text-align: right;\">\n",
       "      <th></th>\n",
       "      <th>Unnamed: 0</th>\n",
       "      <th>Unnamed: 1</th>\n",
       "      <th>Unnamed: 2</th>\n",
       "      <th>Unnamed: 3</th>\n",
       "      <th>Unnamed: 4</th>\n",
       "      <th>1</th>\n",
       "      <th>Thu</th>\n",
       "      <th>Aug</th>\n",
       "      <th>19</th>\n",
       "      <th>21:54:38</th>\n",
       "      <th>2021</th>\n",
       "      <th>125094</th>\n",
       "      <th>Unnamed: 12</th>\n",
       "      <th>Unnamed: 13</th>\n",
       "      <th>Unnamed: 14</th>\n",
       "      <th>Unnamed: 15</th>\n",
       "      <th>4856</th>\n",
       "      <th>PC7C042B7</th>\n",
       "      <th>PTE</th>\n",
       "      <th>VC965</th>\n",
       "    </tr>\n",
       "  </thead>\n",
       "  <tbody>\n",
       "    <tr>\n",
       "      <th>0</th>\n",
       "      <td>NaN</td>\n",
       "      <td>NaN</td>\n",
       "      <td>NaN</td>\n",
       "      <td>NaN</td>\n",
       "      <td>NaN</td>\n",
       "      <td>2</td>\n",
       "      <td>Sat</td>\n",
       "      <td>Jul</td>\n",
       "      <td>31</td>\n",
       "      <td>04:09:44</td>\n",
       "      <td>2021</td>\n",
       "      <td>174434.0</td>\n",
       "      <td>NaN</td>\n",
       "      <td>NaN</td>\n",
       "      <td>NaN</td>\n",
       "      <td>NaN</td>\n",
       "      <td>4154</td>\n",
       "      <td>PC2C2EF9E</td>\n",
       "      <td>PTP</td>\n",
       "      <td>VC965</td>\n",
       "    </tr>\n",
       "    <tr>\n",
       "      <th>1</th>\n",
       "      <td>NaN</td>\n",
       "      <td>NaN</td>\n",
       "      <td>NaN</td>\n",
       "      <td>NaN</td>\n",
       "      <td>NaN</td>\n",
       "      <td>3</td>\n",
       "      <td>Sat</td>\n",
       "      <td>Aug</td>\n",
       "      <td>14</td>\n",
       "      <td>17:19:04</td>\n",
       "      <td>2021</td>\n",
       "      <td>8538286.0</td>\n",
       "      <td>NaN</td>\n",
       "      <td>NaN</td>\n",
       "      <td>NaN</td>\n",
       "      <td>4070</td>\n",
       "      <td>PCEECA8B2</td>\n",
       "      <td>PTE</td>\n",
       "      <td>VC965</td>\n",
       "      <td>NaN</td>\n",
       "    </tr>\n",
       "    <tr>\n",
       "      <th>2</th>\n",
       "      <td>NaN</td>\n",
       "      <td>NaN</td>\n",
       "      <td>NaN</td>\n",
       "      <td>NaN</td>\n",
       "      <td>NaN</td>\n",
       "      <td>4</td>\n",
       "      <td>Mon</td>\n",
       "      <td>Aug</td>\n",
       "      <td>NaN</td>\n",
       "      <td>2</td>\n",
       "      <td>18:23:45</td>\n",
       "      <td>2021.0</td>\n",
       "      <td>5521221.0</td>\n",
       "      <td>NaN</td>\n",
       "      <td>NaN</td>\n",
       "      <td>NaN</td>\n",
       "      <td>4095</td>\n",
       "      <td>PC3E1512A</td>\n",
       "      <td>PTP</td>\n",
       "      <td>VC965</td>\n",
       "    </tr>\n",
       "    <tr>\n",
       "      <th>3</th>\n",
       "      <td>NaN</td>\n",
       "      <td>NaN</td>\n",
       "      <td>NaN</td>\n",
       "      <td>NaN</td>\n",
       "      <td>NaN</td>\n",
       "      <td>5</td>\n",
       "      <td>Thu</td>\n",
       "      <td>Jul</td>\n",
       "      <td>29</td>\n",
       "      <td>22:44:20</td>\n",
       "      <td>2021</td>\n",
       "      <td>3267767.0</td>\n",
       "      <td>NaN</td>\n",
       "      <td>NaN</td>\n",
       "      <td>NaN</td>\n",
       "      <td>4135</td>\n",
       "      <td>PCC943ECD</td>\n",
       "      <td>PTE</td>\n",
       "      <td>VC965</td>\n",
       "      <td>NaN</td>\n",
       "    </tr>\n",
       "    <tr>\n",
       "      <th>4</th>\n",
       "      <td>NaN</td>\n",
       "      <td>NaN</td>\n",
       "      <td>NaN</td>\n",
       "      <td>NaN</td>\n",
       "      <td>NaN</td>\n",
       "      <td>6</td>\n",
       "      <td>Sat</td>\n",
       "      <td>Aug</td>\n",
       "      <td>14</td>\n",
       "      <td>03:57:47</td>\n",
       "      <td>2021</td>\n",
       "      <td>8411850.0</td>\n",
       "      <td>NaN</td>\n",
       "      <td>NaN</td>\n",
       "      <td>NaN</td>\n",
       "      <td>4680</td>\n",
       "      <td>PCC422F4D</td>\n",
       "      <td>PTE</td>\n",
       "      <td>VC965</td>\n",
       "      <td>NaN</td>\n",
       "    </tr>\n",
       "    <tr>\n",
       "      <th>...</th>\n",
       "      <td>...</td>\n",
       "      <td>...</td>\n",
       "      <td>...</td>\n",
       "      <td>...</td>\n",
       "      <td>...</td>\n",
       "      <td>...</td>\n",
       "      <td>...</td>\n",
       "      <td>...</td>\n",
       "      <td>...</td>\n",
       "      <td>...</td>\n",
       "      <td>...</td>\n",
       "      <td>...</td>\n",
       "      <td>...</td>\n",
       "      <td>...</td>\n",
       "      <td>...</td>\n",
       "      <td>...</td>\n",
       "      <td>...</td>\n",
       "      <td>...</td>\n",
       "      <td>...</td>\n",
       "      <td>...</td>\n",
       "    </tr>\n",
       "    <tr>\n",
       "      <th>9994</th>\n",
       "      <td>NaN</td>\n",
       "      <td>NaN</td>\n",
       "      <td>9996</td>\n",
       "      <td>Sun</td>\n",
       "      <td>Aug</td>\n",
       "      <td>15</td>\n",
       "      <td>03:02:27</td>\n",
       "      <td>2021</td>\n",
       "      <td>3369206</td>\n",
       "      <td>NaN</td>\n",
       "      <td>NaN</td>\n",
       "      <td>NaN</td>\n",
       "      <td>4907.0</td>\n",
       "      <td>PCCEEF65A</td>\n",
       "      <td>PTE</td>\n",
       "      <td>VC965</td>\n",
       "      <td>NaN</td>\n",
       "      <td>NaN</td>\n",
       "      <td>NaN</td>\n",
       "      <td>NaN</td>\n",
       "    </tr>\n",
       "    <tr>\n",
       "      <th>9995</th>\n",
       "      <td>NaN</td>\n",
       "      <td>NaN</td>\n",
       "      <td>9997</td>\n",
       "      <td>Sat</td>\n",
       "      <td>Aug</td>\n",
       "      <td>NaN</td>\n",
       "      <td>7</td>\n",
       "      <td>04:24:08</td>\n",
       "      <td>2021</td>\n",
       "      <td>5886709</td>\n",
       "      <td>NaN</td>\n",
       "      <td>NaN</td>\n",
       "      <td>NaN</td>\n",
       "      <td>4262</td>\n",
       "      <td>PCCB12F8C</td>\n",
       "      <td>PTC</td>\n",
       "      <td>VCB43</td>\n",
       "      <td>NaN</td>\n",
       "      <td>NaN</td>\n",
       "      <td>NaN</td>\n",
       "    </tr>\n",
       "    <tr>\n",
       "      <th>9996</th>\n",
       "      <td>NaN</td>\n",
       "      <td>NaN</td>\n",
       "      <td>9998</td>\n",
       "      <td>Mon</td>\n",
       "      <td>Aug</td>\n",
       "      <td>NaN</td>\n",
       "      <td>9</td>\n",
       "      <td>02:58:26</td>\n",
       "      <td>2021</td>\n",
       "      <td>917421</td>\n",
       "      <td>NaN</td>\n",
       "      <td>NaN</td>\n",
       "      <td>NaN</td>\n",
       "      <td>NaN</td>\n",
       "      <td>4462</td>\n",
       "      <td>PCE29AA1A</td>\n",
       "      <td>PTP</td>\n",
       "      <td>VCB43</td>\n",
       "      <td>NaN</td>\n",
       "      <td>NaN</td>\n",
       "    </tr>\n",
       "    <tr>\n",
       "      <th>9997</th>\n",
       "      <td>NaN</td>\n",
       "      <td>NaN</td>\n",
       "      <td>9999</td>\n",
       "      <td>Tue</td>\n",
       "      <td>Aug</td>\n",
       "      <td>17</td>\n",
       "      <td>18:41:00</td>\n",
       "      <td>2021</td>\n",
       "      <td>2601682</td>\n",
       "      <td>NaN</td>\n",
       "      <td>NaN</td>\n",
       "      <td>NaN</td>\n",
       "      <td>4311.0</td>\n",
       "      <td>PC7F02ED3</td>\n",
       "      <td>PTC</td>\n",
       "      <td>VCB43</td>\n",
       "      <td>NaN</td>\n",
       "      <td>NaN</td>\n",
       "      <td>NaN</td>\n",
       "      <td>NaN</td>\n",
       "    </tr>\n",
       "    <tr>\n",
       "      <th>9998</th>\n",
       "      <td>NaN</td>\n",
       "      <td>10000.0</td>\n",
       "      <td>Mon</td>\n",
       "      <td>Aug</td>\n",
       "      <td>NaN</td>\n",
       "      <td>9</td>\n",
       "      <td>22:56:50</td>\n",
       "      <td>2021</td>\n",
       "      <td>4833266</td>\n",
       "      <td>NaN</td>\n",
       "      <td>NaN</td>\n",
       "      <td>NaN</td>\n",
       "      <td>4260.0</td>\n",
       "      <td>PC1A4796C</td>\n",
       "      <td>PTE</td>\n",
       "      <td>VC965</td>\n",
       "      <td>NaN</td>\n",
       "      <td>NaN</td>\n",
       "      <td>NaN</td>\n",
       "      <td>NaN</td>\n",
       "    </tr>\n",
       "  </tbody>\n",
       "</table>\n",
       "<p>9999 rows × 20 columns</p>\n",
       "</div>"
      ],
      "text/plain": [
       "      Unnamed: 0  Unnamed: 1 Unnamed: 2 Unnamed: 3 Unnamed: 4    1       Thu  \\\n",
       "0            NaN         NaN        NaN        NaN        NaN    2       Sat   \n",
       "1            NaN         NaN        NaN        NaN        NaN    3       Sat   \n",
       "2            NaN         NaN        NaN        NaN        NaN    4       Mon   \n",
       "3            NaN         NaN        NaN        NaN        NaN    5       Thu   \n",
       "4            NaN         NaN        NaN        NaN        NaN    6       Sat   \n",
       "...          ...         ...        ...        ...        ...  ...       ...   \n",
       "9994         NaN         NaN       9996        Sun        Aug   15  03:02:27   \n",
       "9995         NaN         NaN       9997        Sat        Aug  NaN         7   \n",
       "9996         NaN         NaN       9998        Mon        Aug  NaN         9   \n",
       "9997         NaN         NaN       9999        Tue        Aug   17  18:41:00   \n",
       "9998         NaN     10000.0        Mon        Aug        NaN    9  22:56:50   \n",
       "\n",
       "           Aug       19  21:54:38      2021     125094  Unnamed: 12  \\\n",
       "0          Jul       31  04:09:44      2021   174434.0          NaN   \n",
       "1          Aug       14  17:19:04      2021  8538286.0          NaN   \n",
       "2          Aug      NaN         2  18:23:45     2021.0    5521221.0   \n",
       "3          Jul       29  22:44:20      2021  3267767.0          NaN   \n",
       "4          Aug       14  03:57:47      2021  8411850.0          NaN   \n",
       "...        ...      ...       ...       ...        ...          ...   \n",
       "9994      2021  3369206       NaN       NaN        NaN       4907.0   \n",
       "9995  04:24:08     2021   5886709       NaN        NaN          NaN   \n",
       "9996  02:58:26     2021    917421       NaN        NaN          NaN   \n",
       "9997      2021  2601682       NaN       NaN        NaN       4311.0   \n",
       "9998      2021  4833266       NaN       NaN        NaN       4260.0   \n",
       "\n",
       "     Unnamed: 13 Unnamed: 14 Unnamed: 15       4856  PC7C042B7    PTE  VC965  \n",
       "0            NaN         NaN         NaN       4154  PC2C2EF9E    PTP  VC965  \n",
       "1            NaN         NaN        4070  PCEECA8B2        PTE  VC965    NaN  \n",
       "2            NaN         NaN         NaN       4095  PC3E1512A    PTP  VC965  \n",
       "3            NaN         NaN        4135  PCC943ECD        PTE  VC965    NaN  \n",
       "4            NaN         NaN        4680  PCC422F4D        PTE  VC965    NaN  \n",
       "...          ...         ...         ...        ...        ...    ...    ...  \n",
       "9994   PCCEEF65A         PTE       VC965        NaN        NaN    NaN    NaN  \n",
       "9995        4262   PCCB12F8C         PTC      VCB43        NaN    NaN    NaN  \n",
       "9996         NaN        4462   PCE29AA1A        PTP      VCB43    NaN    NaN  \n",
       "9997   PC7F02ED3         PTC       VCB43        NaN        NaN    NaN    NaN  \n",
       "9998   PC1A4796C         PTE       VC965        NaN        NaN    NaN    NaN  \n",
       "\n",
       "[9999 rows x 20 columns]"
      ]
     },
     "execution_count": 38,
     "metadata": {},
     "output_type": "execute_result"
    }
   ],
   "source": [
    "pd.read_csv(payment_data,delimiter = ' ')"
   ]
  },
  {
   "cell_type": "code",
   "execution_count": null,
   "id": "5312df38",
   "metadata": {},
   "outputs": [],
   "source": []
  }
 ],
 "metadata": {
  "kernelspec": {
   "display_name": "Python 3 (ipykernel)",
   "language": "python",
   "name": "python3"
  },
  "language_info": {
   "codemirror_mode": {
    "name": "ipython",
    "version": 3
   },
   "file_extension": ".py",
   "mimetype": "text/x-python",
   "name": "python",
   "nbconvert_exporter": "python",
   "pygments_lexer": "ipython3",
   "version": "3.11.5"
  },
  "toc": {
   "base_numbering": 1,
   "nav_menu": {},
   "number_sections": true,
   "sideBar": true,
   "skip_h1_title": false,
   "title_cell": "Table of Contents",
   "title_sidebar": "Contents",
   "toc_cell": false,
   "toc_position": {},
   "toc_section_display": true,
   "toc_window_display": false
  }
 },
 "nbformat": 4,
 "nbformat_minor": 5
}
