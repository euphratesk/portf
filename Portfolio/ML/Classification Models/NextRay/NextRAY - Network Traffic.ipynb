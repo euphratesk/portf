{
 "cells": [
  {
   "cell_type": "code",
   "execution_count": null,
   "id": "671730e0",
   "metadata": {},
   "outputs": [],
   "source": [
    "import pandas as pd\n",
    "import numpy as np\n",
    "import seaborn as sns\n",
    "import matplotlib.pyplot as plt"
   ]
  },
  {
   "cell_type": "code",
   "execution_count": null,
   "id": "63685e3b",
   "metadata": {},
   "outputs": [],
   "source": [
    "pd.set_option('display.max_columns',None)"
   ]
  },
  {
   "cell_type": "code",
   "execution_count": null,
   "id": "6af9fcb8",
   "metadata": {},
   "outputs": [],
   "source": [
    "data = pd.read_csv('ds_mulakat.csv')"
   ]
  },
  {
   "cell_type": "code",
   "execution_count": null,
   "id": "7680ba26",
   "metadata": {},
   "outputs": [],
   "source": [
    "#Filtering Dataset by columns to focus our analysis\n",
    "df = data[['source_address','destination_address','event_time','login_fail_count','bidirectional_bytes','src2dst_bytes','dst2src_bytes','sourceGeoPoint','destinationGeoPoint']]"
   ]
  },
  {
   "cell_type": "code",
   "execution_count": null,
   "id": "240816c7",
   "metadata": {},
   "outputs": [],
   "source": [
    "df1 = df.copy()"
   ]
  },
  {
   "cell_type": "code",
   "execution_count": null,
   "id": "55724dce",
   "metadata": {},
   "outputs": [],
   "source": [
    "df.shape"
   ]
  },
  {
   "cell_type": "code",
   "execution_count": null,
   "id": "302eb899",
   "metadata": {},
   "outputs": [],
   "source": [
    "df.iloc[:,:100].info()"
   ]
  },
  {
   "cell_type": "code",
   "execution_count": null,
   "id": "c06cb40c",
   "metadata": {},
   "outputs": [],
   "source": [
    "df.iloc[:,100:].info()"
   ]
  },
  {
   "cell_type": "code",
   "execution_count": null,
   "id": "f0d4fb23",
   "metadata": {},
   "outputs": [],
   "source": [
    "#Convert event_time into datetime format\n",
    "df['event_time'] = pd.to_datetime(df['event_time'])"
   ]
  },
  {
   "cell_type": "code",
   "execution_count": null,
   "id": "5e4296c9",
   "metadata": {},
   "outputs": [],
   "source": [
    "df['event_time'].agg(['min','max'])"
   ]
  },
  {
   "cell_type": "code",
   "execution_count": null,
   "id": "d69fcf0d",
   "metadata": {},
   "outputs": [],
   "source": [
    "#Create a new column for grouping by narrow time unit\n",
    "df['minutes'] = df.event_time.dt.minute"
   ]
  },
  {
   "cell_type": "code",
   "execution_count": null,
   "id": "0683a95f",
   "metadata": {},
   "outputs": [],
   "source": []
  },
  {
   "cell_type": "code",
   "execution_count": null,
   "id": "b42d88dc",
   "metadata": {},
   "outputs": [],
   "source": []
  },
  {
   "cell_type": "code",
   "execution_count": null,
   "id": "a4c37024",
   "metadata": {},
   "outputs": [],
   "source": [
    "#Rename direction name in turkish\n",
    "df['direction'] = df['direction'].map({'INTERNAL2INTERNAL':'İÇTEN İÇE', 'INTERNAL2EXTERNAL':'İÇTEN DIŞA','EXTERNAL2INTERNAL':'DIŞTAN İÇE'})"
   ]
  },
  {
   "cell_type": "code",
   "execution_count": null,
   "id": "141c8cff",
   "metadata": {},
   "outputs": [],
   "source": [
    "#Direction segments of the network traffic\n",
    "\n",
    "plt.figure(figsize = (20,12))\n",
    "ax = sns.barplot(x = df['direction'].value_counts().index, y = df['direction'].value_counts().values, ci = None)\n",
    "ax.bar_label(ax.containers[0], fontsize = 18)\n",
    "\n",
    "plt.xlabel('Ağ Trafiğinin Yönü',fontsize = 32, fontweight = 'bold')\n",
    "plt.xticks(fontsize =18,fontweight = 'bold')\n",
    "plt.ylabel('Ağda Gerçkleşen Aktivite Saysıs',fontsize = 24, fontweight = 'bold')\n",
    "plt.yticks(fontsize = 12)\n",
    "ax.set_yticks(range(0,150000,10000))\n",
    "plt.title('Veri Ağındaki Trafik Yoğunluğunun Yönü',fontsize = 32, fontweight = 'bold')\n",
    "plt.legend(loc = 1)\n",
    "plt.show()"
   ]
  },
  {
   "cell_type": "code",
   "execution_count": null,
   "id": "b0afa90d",
   "metadata": {},
   "outputs": [],
   "source": []
  },
  {
   "cell_type": "code",
   "execution_count": null,
   "id": "c7c94d7a",
   "metadata": {},
   "outputs": [],
   "source": []
  },
  {
   "cell_type": "code",
   "execution_count": null,
   "id": "b5233d3e",
   "metadata": {},
   "outputs": [],
   "source": [
    "#Histogram Chart of network traffic by minutes\n",
    "\n",
    "plt.figure(figsize = (12,8))\n",
    "ax = sns.barplot(x = df['minutes'].value_counts().index, y = df['minutes'].value_counts().values,color = '#20c073')\n",
    "ax.bar_label(ax.containers[0],fontsize = 15)\n",
    "plt.xticks(rotation = 90,fontsize = 18)\n",
    "plt.yticks(fontsize = 18)\n",
    "plt.ylabel('Aktivite Sayısı',fontsize=24,fontweight='bold')\n",
    "plt.xlabel('Dakika',fontsize = 24,fontweight='bold')\n",
    "plt.title('Dakika Başına Network Aktivitesi',fontsize = 24,fontweight='bold')\n",
    "plt.show()"
   ]
  },
  {
   "cell_type": "code",
   "execution_count": null,
   "id": "7c88e026",
   "metadata": {},
   "outputs": [],
   "source": []
  },
  {
   "cell_type": "code",
   "execution_count": null,
   "id": "e2811a1d",
   "metadata": {},
   "outputs": [],
   "source": [
    "#Most interacted 20 data of network traffic\n",
    "df.groupby(['source_address','destination_address'])['destination_address'].count().sort_values(ascending = False)[:20]"
   ]
  },
  {
   "cell_type": "code",
   "execution_count": null,
   "id": "995c0fd8",
   "metadata": {},
   "outputs": [],
   "source": []
  },
  {
   "cell_type": "code",
   "execution_count": null,
   "id": "23c3a849",
   "metadata": {},
   "outputs": [],
   "source": []
  },
  {
   "cell_type": "code",
   "execution_count": null,
   "id": "57b869ed",
   "metadata": {},
   "outputs": [],
   "source": [
    "#Login Failed Source Adresses\n",
    "df[df['login_fail_count']==1]['source_address'].value_counts()"
   ]
  },
  {
   "cell_type": "code",
   "execution_count": null,
   "id": "d3b459ec",
   "metadata": {},
   "outputs": [],
   "source": [
    "#Login Failed Destination Addreses\n",
    "df[df['login_fail_count']==1]['destination_address'].value_counts()"
   ]
  },
  {
   "cell_type": "code",
   "execution_count": null,
   "id": "b00ddd66",
   "metadata": {},
   "outputs": [],
   "source": [
    "#Login failed both source and destination addreses\n",
    "df[['source_address','destination_address']][df['login_fail_count']==1].value_counts()"
   ]
  },
  {
   "cell_type": "code",
   "execution_count": null,
   "id": "f775ae6b",
   "metadata": {},
   "outputs": [],
   "source": []
  },
  {
   "cell_type": "code",
   "execution_count": null,
   "id": "2f1fe4fb",
   "metadata": {},
   "outputs": [],
   "source": []
  },
  {
   "cell_type": "code",
   "execution_count": null,
   "id": "da14a4b8",
   "metadata": {},
   "outputs": [],
   "source": []
  },
  {
   "cell_type": "code",
   "execution_count": null,
   "id": "ae6e61d5",
   "metadata": {},
   "outputs": [],
   "source": []
  },
  {
   "cell_type": "code",
   "execution_count": null,
   "id": "5fc0ac1b",
   "metadata": {},
   "outputs": [],
   "source": [
    "#filtering login fails and grouping by source_address\n",
    "df[df['login_fail_count']==1][['source_address','minutes']].value_counts().reset_index(name = 'counts').sort_values(by=['counts','minutes'],ascending = False)"
   ]
  },
  {
   "cell_type": "code",
   "execution_count": null,
   "id": "5c5c9759",
   "metadata": {},
   "outputs": [],
   "source": [
    "#filtering login fails and grouping by destination_address\n",
    "df[df['login_fail_count']==1][['destination_address','minutes']].value_counts().reset_index(name = 'counts').sort_values(by=['counts','minutes'],ascending = False)\n"
   ]
  },
  {
   "cell_type": "code",
   "execution_count": null,
   "id": "58cdd7ef",
   "metadata": {},
   "outputs": [],
   "source": [
    "#Filtering login fails and grouping by source, destination addreses and minutes \n",
    "df[df['login_fail_count']==1][['source_address','destination_address','minutes']].value_counts().reset_index(name = 'counts').sort_values(by=['counts','minutes'],ascending = False)"
   ]
  },
  {
   "cell_type": "code",
   "execution_count": null,
   "id": "e3ce0611",
   "metadata": {},
   "outputs": [],
   "source": []
  },
  {
   "cell_type": "code",
   "execution_count": null,
   "id": "7abd99f6",
   "metadata": {},
   "outputs": [],
   "source": []
  },
  {
   "cell_type": "code",
   "execution_count": null,
   "id": "e415ffcc",
   "metadata": {},
   "outputs": [],
   "source": []
  },
  {
   "cell_type": "code",
   "execution_count": null,
   "id": "1f3c9388",
   "metadata": {},
   "outputs": [],
   "source": []
  },
  {
   "cell_type": "code",
   "execution_count": null,
   "id": "793ff79e",
   "metadata": {},
   "outputs": [],
   "source": []
  },
  {
   "cell_type": "code",
   "execution_count": null,
   "id": "0e5f62a4",
   "metadata": {},
   "outputs": [],
   "source": []
  },
  {
   "cell_type": "code",
   "execution_count": null,
   "id": "ce6510d6",
   "metadata": {},
   "outputs": [],
   "source": []
  },
  {
   "cell_type": "code",
   "execution_count": null,
   "id": "e824cd42",
   "metadata": {},
   "outputs": [],
   "source": []
  },
  {
   "cell_type": "code",
   "execution_count": null,
   "id": "a92b3fe1",
   "metadata": {},
   "outputs": [],
   "source": [
    "#grouping data by source address and minutes\n",
    "groupby_sourcemin = df.groupby(['source_address','minutes'])['minutes'].count().sort_values(ascending =False)"
   ]
  },
  {
   "cell_type": "code",
   "execution_count": null,
   "id": "bc961029",
   "metadata": {},
   "outputs": [],
   "source": [
    "#grouping data by destination address and minutes\n",
    "groupby_destmin = df.groupby(['destination_address','minutes'])['minutes'].count().sort_values(ascending =False)"
   ]
  },
  {
   "cell_type": "code",
   "execution_count": null,
   "id": "5ff872c4",
   "metadata": {},
   "outputs": [],
   "source": [
    "#grouping data source, destination addresses and minutes\n",
    "groupby_sourcedest = df.groupby(['source_address','destination_address','minutes'])['minutes'].count().sort_values(ascending =False)\n"
   ]
  },
  {
   "cell_type": "code",
   "execution_count": null,
   "id": "c3cfe513",
   "metadata": {},
   "outputs": [],
   "source": []
  },
  {
   "cell_type": "code",
   "execution_count": null,
   "id": "bcd4b273",
   "metadata": {},
   "outputs": [],
   "source": []
  },
  {
   "cell_type": "code",
   "execution_count": null,
   "id": "4d106ba4",
   "metadata": {},
   "outputs": [],
   "source": [
    "#reseting indexes and cretaes a new dataframes with groups' counts\n",
    "df_reset_sourcemin = groupby_sourcemin.reset_index(name = 'values')\n",
    "df_reset_destmin = groupby_destmin.reset_index(name = 'values')\n",
    "df_reset_sourcedest = groupby_sourcedest.reset_index(name = 'values') "
   ]
  },
  {
   "cell_type": "code",
   "execution_count": null,
   "id": "dcb81229",
   "metadata": {},
   "outputs": [],
   "source": []
  },
  {
   "cell_type": "code",
   "execution_count": null,
   "id": "ba254a30",
   "metadata": {},
   "outputs": [],
   "source": [
    "#Interactive Source address  Bubble chart\n",
    "\n",
    "fig = px.scatter(df_reset_sourcemin[df_reset_sourcemin['values']>400], \n",
    "                 x='minutes', \n",
    "                 y='values', \n",
    "                 size='values', \n",
    "                 color='source_address',\n",
    "                 hover_name='source_address',  \n",
    "                 title=('400 den Fazla Aktivitesi Olan Kaynak Adreslerin - Etkileşimli Balon Grafigi'),\n",
    "                 labels={'minutes':'Minutes', 'values':'Values'},\n",
    "                 size_max=25)  \n",
    "\n",
    "\n",
    "fig.show()"
   ]
  },
  {
   "cell_type": "code",
   "execution_count": null,
   "id": "cd471e5e",
   "metadata": {},
   "outputs": [],
   "source": [
    "#Interactive destination Address chart\n",
    "\n",
    "fig = px.scatter(df_reset_destmin[df_reset_destmin['values']>400], \n",
    "                 x='minutes', \n",
    "                 y='values', \n",
    "                 size='values', \n",
    "                 color='destination_address',\n",
    "                 hover_name='destination_address',  # Add hover information\n",
    "                 title=('400 den Fazla Aktivitesi Olan Hedef Adreslerin - Etkileşimli Balon Grafigi'),\n",
    "                 labels={'minutes':'Minutes', 'values':'Values'},\n",
    "                 size_max=25)  # Maximum size of bubbles\n",
    "# Show the plot\n",
    "\n",
    "fig.show()\n"
   ]
  },
  {
   "cell_type": "code",
   "execution_count": null,
   "id": "56dc8864",
   "metadata": {},
   "outputs": [],
   "source": [
    "#Interactive source2destination chart\n",
    "\n",
    "\n",
    "plt.figure(figsize = (30,16))\n",
    "df_reset_sourcedest['source_dest_combo'] = df_reset_sourcedest['source_address'] + ' -->>>> ' + df_reset_sourcedest['destination_address']\n",
    "\n",
    "\n",
    "fig = px.scatter(\n",
    "    df_reset_sourcedest[df_reset_sourcedest['values']>150],\n",
    "    x='minutes',\n",
    "    y='values',\n",
    "    size='values',  \n",
    "    color='source_dest_combo', \n",
    "    hover_name='source_dest_combo',  \n",
    "    title='Kaynaktan-->> Hedefe Trafik Yoğunluğu - Etkileşimli Balon grafiği ',\n",
    "    labels={'source_dest_combo': 'Source -> Destination'},\n",
    ")\n",
    "\n",
    "\n",
    "fig.show()"
   ]
  },
  {
   "cell_type": "code",
   "execution_count": null,
   "id": "88a2450f",
   "metadata": {},
   "outputs": [],
   "source": []
  },
  {
   "cell_type": "code",
   "execution_count": null,
   "id": "b0bb045c",
   "metadata": {},
   "outputs": [],
   "source": [
    "#Convert bytes to GB\n",
    "df['src2dst_bytes'] = round(df['src2dst_bytes']/(1024*1024),2)\n",
    "df['dst2src_bytes'] = round(df['dst2src_bytes']/(1024*1024),2)\n",
    "df['bidirectional_bytes'] = round(df['bidirectional_bytes'],4)"
   ]
  },
  {
   "cell_type": "code",
   "execution_count": null,
   "id": "ab2c099b",
   "metadata": {},
   "outputs": [],
   "source": [
    "\n",
    "#Rename column with GB\n",
    "df.rename({'bidirectional_bytes':'bidirectional_GBytes','src2dst_bytes':'src2dst_GBytes','dst2src_bytes':'dst2src_GBytes'},axis  =1 , inplace =True)"
   ]
  },
  {
   "cell_type": "code",
   "execution_count": null,
   "id": "c1c0056f",
   "metadata": {},
   "outputs": [],
   "source": []
  },
  {
   "cell_type": "code",
   "execution_count": null,
   "id": "ca574d1c",
   "metadata": {},
   "outputs": [],
   "source": [
    "#Create new dataframes for data exfiltration might be useful Exfiltration and ARP scan analysis\n",
    "df_transfer = df[['source_address',\"destination_address\",'src2dst_GBytes','dst2src_GBytes','minutes']].sort_values(by = 'src2dst_GBytes', ascending = False )\n"
   ]
  },
  {
   "cell_type": "code",
   "execution_count": null,
   "id": "113eeecc",
   "metadata": {},
   "outputs": [],
   "source": [
    "#groupby dataframe above with source and dsetination adress\n",
    "df_transfer.groupby(['source_address','minutes'])['src2dst_GBytes'].sum().sort_values(ascending= False)[:10].reset_index(name = 'Upload GB')\n",
    "df_transfer.groupby(['destination_address','minutes'])['src2dst_GBytes'].sum().sort_values(ascending= False)[:10].reset_index(name = 'Download GB')"
   ]
  },
  {
   "cell_type": "code",
   "execution_count": null,
   "id": "c6d13b6e",
   "metadata": {},
   "outputs": [],
   "source": [
    "#Data transfer into the destination addresses\n",
    "df_transfer.groupby(['source_address','destination_address','minutes'])['src2dst_GBytes'].sum().sort_values(ascending= False)[:10].reset_index(name = 'Download GB')"
   ]
  },
  {
   "cell_type": "code",
   "execution_count": null,
   "id": "c7b1b46f",
   "metadata": {},
   "outputs": [],
   "source": [
    "#Data transfer into the source addreses\n",
    "df_transfer.groupby(['source_address','destination_address','minutes'])['dst2src_GBytes'].sum().sort_values(ascending= False)[:20].reset_index(name = 'Upload GB')"
   ]
  },
  {
   "cell_type": "code",
   "execution_count": null,
   "id": "8549d5f2",
   "metadata": {},
   "outputs": [],
   "source": [
    "#Total data transfer tothe  both sides\n",
    "df_transfer.groupby(['source_address','destination_address','minutes'])['bidirectional_GBytes'].sum().sort_values(ascending= False)[:20].reset_index(name = 'Total Transfer GB')"
   ]
  },
  {
   "cell_type": "code",
   "execution_count": null,
   "id": "ccd5c8cc",
   "metadata": {},
   "outputs": [],
   "source": []
  }
 ],
 "metadata": {
  "kernelspec": {
   "display_name": "Python 3 (ipykernel)",
   "language": "python",
   "name": "python3"
  },
  "language_info": {
   "codemirror_mode": {
    "name": "ipython",
    "version": 3
   },
   "file_extension": ".py",
   "mimetype": "text/x-python",
   "name": "python",
   "nbconvert_exporter": "python",
   "pygments_lexer": "ipython3",
   "version": "3.11.5"
  }
 },
 "nbformat": 4,
 "nbformat_minor": 5
}
