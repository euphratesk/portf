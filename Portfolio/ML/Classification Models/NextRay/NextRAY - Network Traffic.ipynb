{
 "cells": [
  {
   "cell_type": "code",
   "execution_count": null,
   "id": "29d965e4",
   "metadata": {},
   "outputs": [],
   "source": [
    "import pandas as pd\n",
    "import numpy as np\n",
    "import seaborn as sns\n",
    "import matplotlib.pyplot as plt"
   ]
  },
  {
   "cell_type": "code",
   "execution_count": null,
   "id": "f4458721",
   "metadata": {},
   "outputs": [],
   "source": [
    "pd.set_option('display.max_columns',None)"
   ]
  },
  {
   "cell_type": "code",
   "execution_count": null,
   "id": "9520ef6e",
   "metadata": {},
   "outputs": [],
   "source": [
    "data = pd.read_csv(r'C:\\Users\\manai\\Desktop\\NextRay\\ds_mulakat.csv')"
   ]
  },
  {
   "cell_type": "code",
   "execution_count": null,
   "id": "2b79d83c",
   "metadata": {},
   "outputs": [],
   "source": [
    "#Filtering Dataset by columns to focus our analysis\n",
    "df = data[['source_address','destination_address','event_time','login_fail_count','bidirectional_bytes','src2dst_bytes','dst2src_bytes','sourceGeoPoint','destinationGeoPoint']]"
   ]
  },
  {
   "cell_type": "code",
   "execution_count": null,
   "id": "bd2ff36c",
   "metadata": {},
   "outputs": [],
   "source": [
    "df1 = df.copy()"
   ]
  },
  {
   "cell_type": "code",
   "execution_count": null,
   "id": "eea1d6ea",
   "metadata": {},
   "outputs": [],
   "source": [
    "df.shape"
   ]
  },
  {
   "cell_type": "code",
   "execution_count": null,
   "id": "a5e48aff",
   "metadata": {},
   "outputs": [],
   "source": [
    "df.iloc[:,:100].info()"
   ]
  },
  {
   "cell_type": "code",
   "execution_count": null,
   "id": "78c57397",
   "metadata": {},
   "outputs": [],
   "source": [
    "df.iloc[:,100:].info()"
   ]
  },
  {
   "cell_type": "code",
   "execution_count": null,
   "id": "fa2a398c",
   "metadata": {},
   "outputs": [],
   "source": [
    "#Convert event_time into datetime format\n",
    "df['event_time'] = pd.to_datetime(df['event_time'])"
   ]
  },
  {
   "cell_type": "code",
   "execution_count": null,
   "id": "5c89097e",
   "metadata": {},
   "outputs": [],
   "source": [
    "df['event_time'].agg(['min','max'])"
   ]
  },
  {
   "cell_type": "code",
   "execution_count": null,
   "id": "47d49b62",
   "metadata": {},
   "outputs": [],
   "source": [
    "#Create a new column for grouping by narrow time unit\n",
    "df['minutes'] = df.event_time.dt.minute"
   ]
  },
  {
   "cell_type": "code",
   "execution_count": null,
   "id": "7b4719df",
   "metadata": {},
   "outputs": [],
   "source": []
  },
  {
   "cell_type": "code",
   "execution_count": null,
   "id": "b854c389",
   "metadata": {},
   "outputs": [],
   "source": []
  },
  {
   "cell_type": "code",
   "execution_count": null,
   "id": "f8d0d984",
   "metadata": {},
   "outputs": [],
   "source": [
    "#Rename direction name in turkish\n",
    "df['direction'] = df['direction'].map({'INTERNAL2INTERNAL':'İÇTEN İÇE', 'INTERNAL2EXTERNAL':'İÇTEN DIŞA','EXTERNAL2INTERNAL':'DIŞTAN İÇE'})"
   ]
  },
  {
   "cell_type": "code",
   "execution_count": null,
   "id": "e2cb947b",
   "metadata": {},
   "outputs": [],
   "source": [
    "#Direction segments of the network traffic\n",
    "\n",
    "plt.figure(figsize = (20,12))\n",
    "ax = sns.barplot(x = df['direction'].value_counts().index, y = df['direction'].value_counts().values, ci = None)\n",
    "ax.bar_label(ax.containers[0], fontsize = 18)\n",
    "\n",
    "plt.xlabel('Ağ Trafiğinin Yönü',fontsize = 32, fontweight = 'bold')\n",
    "plt.xticks(fontsize =18,fontweight = 'bold')\n",
    "plt.ylabel('Ağda Gerçkleşen Aktivite Saysıs',fontsize = 24, fontweight = 'bold')\n",
    "plt.yticks(fontsize = 12)\n",
    "ax.set_yticks(range(0,150000,10000))\n",
    "plt.title('Veri Ağındaki Trafik Yoğunluğunun Yönü',fontsize = 32, fontweight = 'bold')\n",
    "plt.legend(loc = 1)\n",
    "plt.show()"
   ]
  },
  {
   "cell_type": "code",
   "execution_count": null,
   "id": "56852d82",
   "metadata": {},
   "outputs": [],
   "source": []
  },
  {
   "cell_type": "code",
   "execution_count": null,
   "id": "6051eda1",
   "metadata": {},
   "outputs": [],
   "source": []
  },
  {
   "cell_type": "code",
   "execution_count": null,
   "id": "6b078858",
   "metadata": {},
   "outputs": [],
   "source": [
    "#Histogram Chart of network traffic by minutes\n",
    "\n",
    "plt.figure(figsize = (12,8))\n",
    "ax = sns.barplot(x = df['minutes'].value_counts().index, y = df['minutes'].value_counts().values,color = '#20c073')\n",
    "ax.bar_label(ax.containers[0],fontsize = 15)\n",
    "plt.xticks(rotation = 90,fontsize = 18)\n",
    "plt.yticks(fontsize = 18)\n",
    "plt.ylabel('Aktivite Sayısı',fontsize=24,fontweight='bold')\n",
    "plt.xlabel('Dakika',fontsize = 24,fontweight='bold')\n",
    "plt.title('Dakika Başına Network Aktivitesi',fontsize = 24,fontweight='bold')\n",
    "plt.show()"
   ]
  },
  {
   "cell_type": "code",
   "execution_count": null,
   "id": "ad34e5e8",
   "metadata": {},
   "outputs": [],
   "source": []
  },
  {
   "cell_type": "code",
   "execution_count": null,
   "id": "c86f7429",
   "metadata": {},
   "outputs": [],
   "source": [
    "#Most interacted 20 data of network traffic\n",
    "df.groupby(['source_address','destination_address'])['destination_address'].count().sort_values(ascending = False)[:20]"
   ]
  },
  {
   "cell_type": "code",
   "execution_count": null,
   "id": "f0e05df0",
   "metadata": {},
   "outputs": [],
   "source": []
  },
  {
   "cell_type": "code",
   "execution_count": null,
   "id": "3183e5b4",
   "metadata": {},
   "outputs": [],
   "source": []
  },
  {
   "cell_type": "code",
   "execution_count": null,
   "id": "3f87d9ff",
   "metadata": {},
   "outputs": [],
   "source": [
    "#Login Failed Source Adresses\n",
    "df[df['login_fail_count']==1]['source_address'].value_counts()"
   ]
  },
  {
   "cell_type": "code",
   "execution_count": null,
   "id": "efc28822",
   "metadata": {},
   "outputs": [],
   "source": [
    "#Login Failed Destination Addreses\n",
    "df[df['login_fail_count']==1]['destination_address'].value_counts()"
   ]
  },
  {
   "cell_type": "code",
   "execution_count": null,
   "id": "d122853f",
   "metadata": {},
   "outputs": [],
   "source": [
    "#Login failed both source and destination addreses\n",
    "df[['source_address','destination_address']][df['login_fail_count']==1].value_counts()"
   ]
  },
  {
   "cell_type": "code",
   "execution_count": null,
   "id": "ceabd2f7",
   "metadata": {},
   "outputs": [],
   "source": []
  },
  {
   "cell_type": "code",
   "execution_count": null,
   "id": "44b82b4f",
   "metadata": {},
   "outputs": [],
   "source": []
  },
  {
   "cell_type": "code",
   "execution_count": null,
   "id": "f8e8a6ca",
   "metadata": {},
   "outputs": [],
   "source": []
  },
  {
   "cell_type": "code",
   "execution_count": null,
   "id": "efe04263",
   "metadata": {},
   "outputs": [],
   "source": []
  },
  {
   "cell_type": "code",
   "execution_count": null,
   "id": "3e9750fa",
   "metadata": {},
   "outputs": [],
   "source": [
    "#filtering login fails and grouping by source_address\n",
    "df[df['login_fail_count']==1][['source_address','minutes']].value_counts().reset_index(name = 'counts').sort_values(by=['counts','minutes'],ascending = False)"
   ]
  },
  {
   "cell_type": "code",
   "execution_count": null,
   "id": "c036a0d7",
   "metadata": {},
   "outputs": [],
   "source": [
    "#filtering login fails and grouping by destination_address\n",
    "df[df['login_fail_count']==1][['destination_address','minutes']].value_counts().reset_index(name = 'counts').sort_values(by=['counts','minutes'],ascending = False)\n"
   ]
  },
  {
   "cell_type": "code",
   "execution_count": null,
   "id": "593af4ad",
   "metadata": {},
   "outputs": [],
   "source": [
    "#Filtering login fails and grouping by source, destination addreses and minutes \n",
    "df[df['login_fail_count']==1][['source_address','destination_address','minutes']].value_counts().reset_index(name = 'counts').sort_values(by=['counts','minutes'],ascending = False)"
   ]
  },
  {
   "cell_type": "code",
   "execution_count": null,
   "id": "da23431c",
   "metadata": {},
   "outputs": [],
   "source": []
  },
  {
   "cell_type": "code",
   "execution_count": null,
   "id": "0d646e9f",
   "metadata": {},
   "outputs": [],
   "source": []
  },
  {
   "cell_type": "code",
   "execution_count": null,
   "id": "94dba808",
   "metadata": {},
   "outputs": [],
   "source": []
  },
  {
   "cell_type": "code",
   "execution_count": null,
   "id": "7787bf20",
   "metadata": {},
   "outputs": [],
   "source": []
  },
  {
   "cell_type": "code",
   "execution_count": null,
   "id": "148ad345",
   "metadata": {},
   "outputs": [],
   "source": []
  },
  {
   "cell_type": "code",
   "execution_count": null,
   "id": "7d87fe59",
   "metadata": {},
   "outputs": [],
   "source": []
  },
  {
   "cell_type": "code",
   "execution_count": null,
   "id": "560d14c6",
   "metadata": {},
   "outputs": [],
   "source": []
  },
  {
   "cell_type": "code",
   "execution_count": null,
   "id": "e0b5616f",
   "metadata": {},
   "outputs": [],
   "source": []
  },
  {
   "cell_type": "code",
   "execution_count": null,
   "id": "3cc6bdbd",
   "metadata": {},
   "outputs": [],
   "source": [
    "#grouping data by source address and minutes\n",
    "groupby_sourcemin = df.groupby(['source_address','minutes'])['minutes'].count().sort_values(ascending =False)"
   ]
  },
  {
   "cell_type": "code",
   "execution_count": null,
   "id": "e4113dea",
   "metadata": {},
   "outputs": [],
   "source": [
    "#grouping data by destination address and minutes\n",
    "groupby_destmin = df.groupby(['destination_address','minutes'])['minutes'].count().sort_values(ascending =False)"
   ]
  },
  {
   "cell_type": "code",
   "execution_count": null,
   "id": "48206b40",
   "metadata": {},
   "outputs": [],
   "source": [
    "#grouping data source, destination addresses and minutes\n",
    "groupby_sourcedest = df.groupby(['source_address','destination_address','minutes'])['minutes'].count().sort_values(ascending =False)\n"
   ]
  },
  {
   "cell_type": "code",
   "execution_count": null,
   "id": "9921ce84",
   "metadata": {},
   "outputs": [],
   "source": []
  },
  {
   "cell_type": "code",
   "execution_count": null,
   "id": "80a74c88",
   "metadata": {},
   "outputs": [],
   "source": []
  },
  {
   "cell_type": "code",
   "execution_count": null,
   "id": "a1462abf",
   "metadata": {},
   "outputs": [],
   "source": [
    "#reseting indexes and cretaes a new dataframes with groups' counts\n",
    "df_reset_sourcemin = groupby_sourcemin.reset_index(name = 'values')\n",
    "df_reset_destmin = groupby_destmin.reset_index(name = 'values')\n",
    "df_reset_sourcedest = groupby_sourcedest.reset_index(name = 'values') "
   ]
  },
  {
   "cell_type": "code",
   "execution_count": null,
   "id": "053700a6",
   "metadata": {},
   "outputs": [],
   "source": []
  },
  {
   "cell_type": "code",
   "execution_count": null,
   "id": "34e461bb",
   "metadata": {},
   "outputs": [],
   "source": [
    "#Interactive Source address  Bubble chart\n",
    "\n",
    "fig = px.scatter(df_reset_sourcemin[df_reset_sourcemin['values']>400], \n",
    "                 x='minutes', \n",
    "                 y='values', \n",
    "                 size='values', \n",
    "                 color='source_address',\n",
    "                 hover_name='source_address',  \n",
    "                 title=('400 den Fazla Aktivitesi Olan Kaynak Adreslerin - Etkileşimli Balon Grafigi'),\n",
    "                 labels={'minutes':'Minutes', 'values':'Values'},\n",
    "                 size_max=25)  \n",
    "\n",
    "\n",
    "fig.show()"
   ]
  },
  {
   "cell_type": "code",
   "execution_count": null,
   "id": "209e3f30",
   "metadata": {},
   "outputs": [],
   "source": [
    "#Interactive destination Address chart\n",
    "\n",
    "fig = px.scatter(df_reset_destmin[df_reset_destmin['values']>400], \n",
    "                 x='minutes', \n",
    "                 y='values', \n",
    "                 size='values', \n",
    "                 color='destination_address',\n",
    "                 hover_name='destination_address',  # Add hover information\n",
    "                 title=('400 den Fazla Aktivitesi Olan Hedef Adreslerin - Etkileşimli Balon Grafigi'),\n",
    "                 labels={'minutes':'Minutes', 'values':'Values'},\n",
    "                 size_max=25)  # Maximum size of bubbles\n",
    "# Show the plot\n",
    "\n",
    "fig.show()\n"
   ]
  },
  {
   "cell_type": "code",
   "execution_count": null,
   "id": "1bf9b19a",
   "metadata": {},
   "outputs": [],
   "source": [
    "#Interactive source2destination chart\n",
    "\n",
    "\n",
    "plt.figure(figsize = (30,16))\n",
    "df_reset_sourcedest['source_dest_combo'] = df_reset_sourcedest['source_address'] + ' -->>>> ' + df_reset_sourcedest['destination_address']\n",
    "\n",
    "\n",
    "fig = px.scatter(\n",
    "    df_reset_sourcedest[df_reset_sourcedest['values']>150],\n",
    "    x='minutes',\n",
    "    y='values',\n",
    "    size='values',  \n",
    "    color='source_dest_combo', \n",
    "    hover_name='source_dest_combo',  \n",
    "    title='Kaynaktan-->> Hedefe Trafik Yoğunluğu - Etkileşimli Balon grafiği ',\n",
    "    labels={'source_dest_combo': 'Source -> Destination'},\n",
    ")\n",
    "\n",
    "\n",
    "fig.show()"
   ]
  },
  {
   "cell_type": "code",
   "execution_count": null,
   "id": "60dc3657",
   "metadata": {},
   "outputs": [],
   "source": []
  },
  {
   "cell_type": "code",
   "execution_count": null,
   "id": "542d6cbe",
   "metadata": {},
   "outputs": [],
   "source": [
    "#Convert bytes to GB\n",
    "df['src2dst_bytes'] = round(df['src2dst_bytes']/(1024*1024),2)\n",
    "df['dst2src_bytes'] = round(df['dst2src_bytes']/(1024*1024),2)\n",
    "df['bidirectional_bytes'] = round(df['bidirectional_bytes'],4)"
   ]
  },
  {
   "cell_type": "code",
   "execution_count": null,
   "id": "09a7369c",
   "metadata": {},
   "outputs": [],
   "source": [
    "\n",
    "#Rename column with GB\n",
    "df.rename({'bidirectional_bytes':'bidirectional_GBytes','src2dst_bytes':'src2dst_GBytes','dst2src_bytes':'dst2src_GBytes'},axis  =1 , inplace =True)"
   ]
  },
  {
   "cell_type": "code",
   "execution_count": null,
   "id": "f0ae92f9",
   "metadata": {},
   "outputs": [],
   "source": []
  },
  {
   "cell_type": "code",
   "execution_count": null,
   "id": "ff27e8e2",
   "metadata": {},
   "outputs": [],
   "source": [
    "#Create new dataframes for data exfiltration might be useful Exfiltration and ARP scan analysis\n",
    "df_transfer = df[['source_address',\"destination_address\",'src2dst_GBytes','dst2src_GBytes','minutes']].sort_values(by = 'src2dst_GBytes', ascending = False )\n"
   ]
  },
  {
   "cell_type": "code",
   "execution_count": null,
   "id": "247b0194",
   "metadata": {},
   "outputs": [],
   "source": [
    "#groupby dataframe above with source and dsetination adress\n",
    "df_transfer.groupby(['source_address','minutes'])['src2dst_GBytes'].sum().sort_values(ascending= False)[:10].reset_index(name = 'Upload GB')\n",
    "df_transfer.groupby(['destination_address','minutes'])['src2dst_GBytes'].sum().sort_values(ascending= False)[:10].reset_index(name = 'Download GB')"
   ]
  },
  {
   "cell_type": "code",
   "execution_count": null,
   "id": "6cea62c1",
   "metadata": {},
   "outputs": [],
   "source": [
    "#Data transfer into the destination addresses\n",
    "df_transfer.groupby(['source_address','destination_address','minutes'])['src2dst_GBytes'].sum().sort_values(ascending= False)[:10].reset_index(name = 'Download GB')"
   ]
  },
  {
   "cell_type": "code",
   "execution_count": null,
   "id": "a333ec15",
   "metadata": {},
   "outputs": [],
   "source": [
    "#Data transfer into the source addreses\n",
    "df_transfer.groupby(['source_address','destination_address','minutes'])['dst2src_GBytes'].sum().sort_values(ascending= False)[:20].reset_index(name = 'Upload GB')"
   ]
  },
  {
   "cell_type": "code",
   "execution_count": null,
   "id": "56281fb3",
   "metadata": {},
   "outputs": [],
   "source": [
    "#Total data transfer tothe  both sides\n",
    "df_transfer.groupby(['source_address','destination_address','minutes'])['bidirectional_GBytes'].sum().sort_values(ascending= False)[:20].reset_index(name = 'Total Transfer GB')"
   ]
  },
  {
   "cell_type": "code",
   "execution_count": null,
   "id": "74a747f0",
   "metadata": {},
   "outputs": [],
   "source": []
  }
 ],
 "metadata": {
  "kernelspec": {
   "display_name": "Python 3 (ipykernel)",
   "language": "python",
   "name": "python3"
  },
  "language_info": {
   "codemirror_mode": {
    "name": "ipython",
    "version": 3
   },
   "file_extension": ".py",
   "mimetype": "text/x-python",
   "name": "python",
   "nbconvert_exporter": "python",
   "pygments_lexer": "ipython3",
   "version": "3.11.5"
  }
 },
 "nbformat": 4,
 "nbformat_minor": 5
}
