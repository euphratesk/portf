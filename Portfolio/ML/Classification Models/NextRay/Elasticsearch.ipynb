{
 "cells": [
  {
   "cell_type": "code",
   "execution_count": 1,
   "id": "cadc1a3b",
   "metadata": {},
   "outputs": [],
   "source": [
    "import urllib.request"
   ]
  },
  {
   "cell_type": "code",
   "execution_count": 2,
   "id": "a5292eff",
   "metadata": {},
   "outputs": [],
   "source": [
    "from elasticsearch import Elasticsearch"
   ]
  },
  {
   "cell_type": "code",
   "execution_count": 3,
   "id": "c2ce8c77",
   "metadata": {},
   "outputs": [],
   "source": [
    "from elasticsearch import helpers"
   ]
  },
  {
   "cell_type": "code",
   "execution_count": 4,
   "id": "bc4afbb2",
   "metadata": {},
   "outputs": [],
   "source": [
    "client = Elasticsearch(\"http://elasticsearch.default:9200\")"
   ]
  },
  {
   "cell_type": "code",
   "execution_count": null,
   "id": "05ea1641",
   "metadata": {},
   "outputs": [],
   "source": [
    "from elasticsearch import Elasticsearch\n",
    "es = Elasticsearch(\"http://localhost:9200\")\n",
    "info = es.info()\n",
    "print(\"Elasticsearch version:\", info[\"version\"][\"number\"])"
   ]
  },
  {
   "cell_type": "code",
   "execution_count": 5,
   "id": "ed30d7c8",
   "metadata": {},
   "outputs": [
    {
     "ename": "NameError",
     "evalue": "name 'elasticsearch' is not defined",
     "output_type": "error",
     "traceback": [
      "\u001b[1;31m---------------------------------------------------------------------------\u001b[0m",
      "\u001b[1;31mNameError\u001b[0m                                 Traceback (most recent call last)",
      "Cell \u001b[1;32mIn[5], line 1\u001b[0m\n\u001b[1;32m----> 1\u001b[0m elasticsearch\u001b[38;5;241m.\u001b[39m__version__\n",
      "\u001b[1;31mNameError\u001b[0m: name 'elasticsearch' is not defined"
     ]
    }
   ],
   "source": [
    "elasticsearch.__version__"
   ]
  },
  {
   "cell_type": "code",
   "execution_count": null,
   "id": "7b610944",
   "metadata": {},
   "outputs": [],
   "source": [
    "url = r\"https://github.com/sckott/elastic_data/blob/master/data/gbif_data.json\""
   ]
  },
  {
   "cell_type": "code",
   "execution_count": null,
   "id": "05448477",
   "metadata": {},
   "outputs": [],
   "source": [
    "urllib.request.urlretrieve(url = url , filename = 'gbif_data.json')"
   ]
  },
  {
   "cell_type": "code",
   "execution_count": null,
   "id": "67caebc6",
   "metadata": {},
   "outputs": [],
   "source": [
    "op_list =[]\n",
    "with open(\"gbif_data.json\") as json_file:\n",
    "    for record in json_file:\n",
    "        op_list.append({\n",
    "            'op_type':'index',\n",
    "            '_index': 'gbifdata',\n",
    "            '_source':record\n",
    "        })"
   ]
  },
  {
   "cell_type": "code",
   "execution_count": null,
   "id": "fb60668e",
   "metadata": {},
   "outputs": [],
   "source": [
    "helpers.bulk(client = client , actions = op_list , request_timeout =100)"
   ]
  },
  {
   "cell_type": "code",
   "execution_count": 1,
   "id": "5630b609",
   "metadata": {},
   "outputs": [
    {
     "data": {
      "text/plain": [
       "4"
      ]
     },
     "execution_count": 1,
     "metadata": {},
     "output_type": "execute_result"
    }
   ],
   "source": [
    "2+2"
   ]
  },
  {
   "cell_type": "code",
   "execution_count": null,
   "id": "0eb2b810",
   "metadata": {},
   "outputs": [],
   "source": []
  }
 ],
 "metadata": {
  "kernelspec": {
   "display_name": "Python 3 (ipykernel)",
   "language": "python",
   "name": "python3"
  },
  "language_info": {
   "codemirror_mode": {
    "name": "ipython",
    "version": 3
   },
   "file_extension": ".py",
   "mimetype": "text/x-python",
   "name": "python",
   "nbconvert_exporter": "python",
   "pygments_lexer": "ipython3",
   "version": "3.11.5"
  }
 },
 "nbformat": 4,
 "nbformat_minor": 5
}
