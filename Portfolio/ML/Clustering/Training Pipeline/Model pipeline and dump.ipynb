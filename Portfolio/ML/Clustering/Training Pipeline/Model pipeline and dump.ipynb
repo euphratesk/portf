{
 "cells": [
  {
   "cell_type": "code",
   "execution_count": null,
   "id": "404a1a05",
   "metadata": {},
   "outputs": [],
   "source": [
    "import os\n",
    "import pandas as pd\n",
    "import numpy as np\n",
    "from datetime import datetime\n",
    "from sklearn.preprocessing import MinMaxScaler, OneHotEncoder\n",
    "from sklearn.cluster import KMeans\n",
    "import pickle"
   ]
  },
  {
   "cell_type": "code",
   "execution_count": null,
   "id": "453f2395",
   "metadata": {},
   "outputs": [],
   "source": [
    "# Define your features\n",
    "continuous = ['bidirectional_bytes', 'bidirectional_cwr_packets', 'bidirectional_fin_packets',\n",
    "              'bidirectional_get_request_bytes', 'bidirectional_l2_bytes', 'bidirectional_packets',\n",
    "              'bidirectional_psh_packets', 'bidirectional_rst_packets', 'bidirectional_stddev_ps',\n",
    "              'bidirectional_syn_packets', 'dns_query_len', 'dst2src_ack_packets', 'dst2src_cwr_packets',\n",
    "              'dst2src_fin_packets', 'dst2src_get_request_bytes', 'dst2src_mean_ps', 'dst2src_syn_packets',\n",
    "              'package_count', 'src2dst_bytes', 'src2dst_ack_packets', 'src2dst_cwr_packets',\n",
    "              'src2dst_fin_packets', 'src2dst_get_request_bytes', 'time_to_live']\n",
    "boolean = ['dns_query_has_sub_domain', 'login_fail_count']\n",
    "nominal = ['direction', 'destination_port', 'dns_response_code', 'application_category_name',\n",
    "           'request_type', 'status_code', 'source_port', 'tunnel_value', 'vlan_identifier']\n"
   ]
  },
  {
   "cell_type": "code",
   "execution_count": null,
   "id": "180a3775",
   "metadata": {},
   "outputs": [],
   "source": [
    "# Load the daily CSV file into a DataFrame\n",
    "base_dir = \"/home/airflow/ml/clusters/prod/Daily_csv\"\n",
    "today = datetime.now().strftime('%b_%d_%Y')\n",
    "daily_csv_path = f\"{base_dir}/{today}.csv\""
   ]
  },
  {
   "cell_type": "code",
   "execution_count": null,
   "id": "bb194dac",
   "metadata": {},
   "outputs": [],
   "source": [
    "try:\n",
    "    df = pd.read_csv(daily_csv_path)\n",
    "    print(\"Daily CSV data loaded successfully.\")\n",
    "except FileNotFoundError:\n",
    "    print(f\"File not found: {daily_csv_path}\")"
   ]
  },
  {
   "cell_type": "code",
   "execution_count": null,
   "id": "7520b7fa",
   "metadata": {},
   "outputs": [],
   "source": [
    "# Process the data\n",
    "dc = df[continuous].values\n",
    "dn = df[nominal].values\n",
    "db = df[boolean].values"
   ]
  },
  {
   "cell_type": "code",
   "execution_count": null,
   "id": "fa8e7585",
   "metadata": {},
   "outputs": [],
   "source": [
    "# Create copies of the data for processing\n",
    "dc1 = dc.copy()\n",
    "dn1 = dn.copy()\n",
    "db1 = db.copy()"
   ]
  },
  {
   "cell_type": "code",
   "execution_count": null,
   "id": "cee6d166",
   "metadata": {},
   "outputs": [],
   "source": [
    "# Scaling continuous features\n",
    "scaler = MinMaxScaler()\n",
    "dc = scaler.fit_transform(dc)"
   ]
  },
  {
   "cell_type": "code",
   "execution_count": null,
   "id": "cf7ef61e",
   "metadata": {},
   "outputs": [],
   "source": [
    "# Function to encode nominal features\n",
    "def enfunc(nominal_data):\n",
    "    if nominal_data.size == 0:\n",
    "        raise ValueError(\"Input nominal data array is empty.\")\n",
    "    nominal_data = np.array(nominal_data, dtype=str) if len(nominal_data.shape) == 2 else np.array([nominal_data], dtype=str)\n",
    "    nominal_data = np.where(np.isin(nominal_data, [None, '', 'nan', 'NaN', np.nan, np.inf, -np.inf]), 'Unknown', nominal_data)\n",
    "    encoder = OneHotEncoder(sparse=False, handle_unknown='ignore')\n",
    "    encoded_array = encoder.fit_transform(nominal_data)\n",
    "    return encoder, encoded_array"
   ]
  },
  {
   "cell_type": "code",
   "execution_count": null,
   "id": "0a99283c",
   "metadata": {},
   "outputs": [],
   "source": [
    "\n",
    "# Encode nominal data\n",
    "encoder, dn = enfunc(dn)\n",
    "\n",
    "# Combine the data for training\n",
    "trainset = np.concatenate((dn, dc, db), axis=1)\n",
    "\n",
    "# Train the clustering model\n",
    "model = KMeans(n_clusters=8, init=\"k-means++\")\n",
    "labels = model.fit_predict(trainset)\n",
    "\n",
    "\n"
   ]
  },
  {
   "cell_type": "code",
   "execution_count": null,
   "id": "3c0192d1",
   "metadata": {},
   "outputs": [],
   "source": [
    "# Create a new folder in the daily_pickle volume\n",
    "timestamp = datetime.now().strftime('%Y%m%d_%H%M%S')  # Use the current time as a timestamp\n",
    "pickle_dir = f\"/home/airflow/ml/clusters/prod/Daily_pickle/{timestamp}\"\n",
    "os.makedirs(pickle_dir, exist_ok=True)  # Create the directory if it doesn't exist"
   ]
  },
  {
   "cell_type": "code",
   "execution_count": null,
   "id": "5b3ff954",
   "metadata": {},
   "outputs": [],
   "source": [
    "# Save the scaler, encoder, and model to the new directory\n",
    "with open(f\"{pickle_dir}/scaler.pkl\", \"wb\") as f:\n",
    "    pickle.dump(scaler, f, protocol=pickle.HIGHEST_PROTOCOL)\n",
    "\n",
    "with open(f\"{pickle_dir}/encoder.pkl\", \"wb\") as f:\n",
    "    pickle.dump(encoder, f, protocol=pickle.HIGHEST_PROTOCOL)\n",
    "\n",
    "with open(f\"{pickle_dir}/model.pkl\", \"wb\") as f:\n",
    "    pickle.dump(model, f, protocol=pickle.HIGHEST_PROTOCOL)\n",
    "\n",
    "print(\"Pickle files saved successfully.\")"
   ]
  }
 ],
 "metadata": {
  "kernelspec": {
   "display_name": "Python 3 (ipykernel)",
   "language": "python",
   "name": "python3"
  },
  "language_info": {
   "codemirror_mode": {
    "name": "ipython",
    "version": 3
   },
   "file_extension": ".py",
   "mimetype": "text/x-python",
   "name": "python",
   "nbconvert_exporter": "python",
   "pygments_lexer": "ipython3",
   "version": "3.11.5"
  },
  "toc": {
   "base_numbering": 1,
   "nav_menu": {},
   "number_sections": true,
   "sideBar": true,
   "skip_h1_title": false,
   "title_cell": "Table of Contents",
   "title_sidebar": "Contents",
   "toc_cell": false,
   "toc_position": {},
   "toc_section_display": true,
   "toc_window_display": false
  }
 },
 "nbformat": 4,
 "nbformat_minor": 5
}
