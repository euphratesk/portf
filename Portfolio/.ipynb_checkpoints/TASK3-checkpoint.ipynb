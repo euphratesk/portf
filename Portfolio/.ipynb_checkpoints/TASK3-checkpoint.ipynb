{
 "cells": [
  {
   "cell_type": "code",
   "execution_count": 2,
   "metadata": {},
   "outputs": [
    {
     "name": "stdout",
     "output_type": "stream",
     "text": [
      "Collecting pygame\n",
      "  Downloading pygame-2.6.1-cp39-cp39-win_amd64.whl (10.6 MB)\n",
      "     ---------------------------------------- 10.6/10.6 MB 1.2 MB/s eta 0:00:00\n",
      "Installing collected packages: pygame\n",
      "Successfully installed pygame-2.6.1\n"
     ]
    },
    {
     "name": "stderr",
     "output_type": "stream",
     "text": [
      "WARNING: Ignoring invalid distribution -rotobuf (c:\\users\\admin\\anaconda3\\lib\\site-packages)\n",
      "WARNING: Ignoring invalid distribution -pencv-python-headless (c:\\users\\admin\\anaconda3\\lib\\site-packages)\n",
      "WARNING: Ignoring invalid distribution -ensorflow-intel (c:\\users\\admin\\anaconda3\\lib\\site-packages)\n",
      "WARNING: Ignoring invalid distribution -rotobuf (c:\\users\\admin\\anaconda3\\lib\\site-packages)\n",
      "WARNING: Ignoring invalid distribution -pencv-python-headless (c:\\users\\admin\\anaconda3\\lib\\site-packages)\n",
      "WARNING: Ignoring invalid distribution -ensorflow-intel (c:\\users\\admin\\anaconda3\\lib\\site-packages)\n",
      "WARNING: Ignoring invalid distribution -rotobuf (c:\\users\\admin\\anaconda3\\lib\\site-packages)\n",
      "WARNING: Ignoring invalid distribution -pencv-python-headless (c:\\users\\admin\\anaconda3\\lib\\site-packages)\n",
      "WARNING: Ignoring invalid distribution -ensorflow-intel (c:\\users\\admin\\anaconda3\\lib\\site-packages)\n",
      "WARNING: Ignoring invalid distribution -rotobuf (c:\\users\\admin\\anaconda3\\lib\\site-packages)\n",
      "WARNING: Ignoring invalid distribution -pencv-python-headless (c:\\users\\admin\\anaconda3\\lib\\site-packages)\n",
      "WARNING: Ignoring invalid distribution -ensorflow-intel (c:\\users\\admin\\anaconda3\\lib\\site-packages)\n",
      "WARNING: Ignoring invalid distribution -rotobuf (c:\\users\\admin\\anaconda3\\lib\\site-packages)\n",
      "WARNING: Ignoring invalid distribution -pencv-python-headless (c:\\users\\admin\\anaconda3\\lib\\site-packages)\n",
      "WARNING: Ignoring invalid distribution -ensorflow-intel (c:\\users\\admin\\anaconda3\\lib\\site-packages)\n",
      "WARNING: Ignoring invalid distribution -rotobuf (c:\\users\\admin\\anaconda3\\lib\\site-packages)\n",
      "WARNING: Ignoring invalid distribution -pencv-python-headless (c:\\users\\admin\\anaconda3\\lib\\site-packages)\n",
      "WARNING: Ignoring invalid distribution -ensorflow-intel (c:\\users\\admin\\anaconda3\\lib\\site-packages)\n",
      "WARNING: Ignoring invalid distribution -rotobuf (c:\\users\\admin\\anaconda3\\lib\\site-packages)\n",
      "WARNING: Ignoring invalid distribution -pencv-python-headless (c:\\users\\admin\\anaconda3\\lib\\site-packages)\n",
      "WARNING: Ignoring invalid distribution -ensorflow-intel (c:\\users\\admin\\anaconda3\\lib\\site-packages)\n"
     ]
    }
   ],
   "source": [
    "!pip install pygame"
   ]
  },
  {
   "cell_type": "code",
   "execution_count": null,
   "metadata": {},
   "outputs": [],
   "source": []
  },
  {
   "cell_type": "code",
   "execution_count": null,
   "metadata": {},
   "outputs": [],
   "source": []
  },
  {
   "cell_type": "code",
   "execution_count": 3,
   "metadata": {
    "colab": {
     "base_uri": "https://localhost:8080/"
    },
    "id": "3tbTCegtBPCd",
    "outputId": "a651754a-c0e8-4494-aa0a-cc93f31a38e7"
   },
   "outputs": [
    {
     "name": "stdout",
     "output_type": "stream",
     "text": [
      "pygame 2.6.1 (SDL 2.28.4, Python 3.9.13)\n",
      "Hello from the pygame community. https://www.pygame.org/contribute.html\n"
     ]
    }
   ],
   "source": [
    "import pygame as pg\n",
    "import sys\n",
    "import time\n",
    "from pygame.locals import *"
   ]
  },
  {
   "cell_type": "code",
   "execution_count": null,
   "metadata": {},
   "outputs": [],
   "source": []
  },
  {
   "cell_type": "code",
   "execution_count": null,
   "metadata": {},
   "outputs": [],
   "source": []
  },
  {
   "cell_type": "code",
   "execution_count": 4,
   "metadata": {
    "id": "RTUzYS3-BeoH"
   },
   "outputs": [],
   "source": [
    "current_player = \"x\"\n",
    "current_winner = None\n",
    "is_draw = None"
   ]
  },
  {
   "cell_type": "code",
   "execution_count": 5,
   "metadata": {
    "id": "Ja2z-gvQBor8"
   },
   "outputs": [],
   "source": [
    "WIDTH = 400\n",
    "HEIGHT = 400\n",
    "BACKGROUND = (255,255,255)\n",
    "LINE_COLOR = (0,0,0)"
   ]
  },
  {
   "cell_type": "code",
   "execution_count": 6,
   "metadata": {
    "id": "0mqPBhiNB4H0"
   },
   "outputs": [],
   "source": [
    "grid = [[None]*3,[None]*3,[None]*3]"
   ]
  },
  {
   "cell_type": "code",
   "execution_count": 7,
   "metadata": {
    "id": "woialAS1CjnV"
   },
   "outputs": [],
   "source": [
    "pg.init()\n",
    "FPS = 30\n",
    "clock = pg.time.Clock()"
   ]
  },
  {
   "cell_type": "code",
   "execution_count": 8,
   "metadata": {
    "id": "aQgsxlEKClid"
   },
   "outputs": [],
   "source": [
    "screen = pg.display.set_mode((WIDTH,HEIGHT+100),0,32)\n",
    "pg.display.set_caption(\"Tic Tac Toe\")\n",
    "size = 80"
   ]
  },
  {
   "cell_type": "code",
   "execution_count": 9,
   "metadata": {
    "id": "kBtp6FRmDWFO"
   },
   "outputs": [],
   "source": [
    "def game_intiating_window():\n",
    "  \"\"\"initializes game window\"\"\"\n",
    "  pg.display.update()\n",
    "  time.sleep(3)\n",
    "  screen.fill(BACKGROUND)\n",
    "  pg.draw.line(screen, LINE_COLOR, (WIDTH/3,0),(WIDTH/3,HEIGHT),7)\n",
    "  pg.draw.line(screen,LINE_COLOR, (WIDTH/3*2,0),(WIDTH/3*2,HEIGHT),7)\n",
    "  pg.draw.line(screen, LINE_COLOR, (0, HEIGHT/3),(WIDTH,HEIGHT/3),7)\n",
    "  pg.draw.line(screen, LINE_COLOR, (0, HEIGHT/3*2),(WIDTH,HEIGHT/3*2),7)\n",
    "\n",
    "  draw_status()"
   ]
  },
  {
   "cell_type": "code",
   "execution_count": 10,
   "metadata": {
    "id": "lJSumjPbFmql"
   },
   "outputs": [],
   "source": [
    "def draw_status():\n",
    "  \"\"\"draws the status bar\"\"\"\n",
    "  global is_draw\n",
    "  if current_winner is None:\n",
    "    message = current_player.upper()+ \"'s Turn\"\n",
    "  else:\n",
    "    message = current_winner.upper()+\"won !\"\n",
    "\n",
    "  if is_draw:\n",
    "    message = \"Game Draw !\"\n",
    "\n",
    "    font =  pg.font.Font(None,30)\n",
    "    text = font.render(message, 1, (255, 255,255))\n",
    "    screen.fill((0,0,0),(0,400,475,100))\n",
    "    text_rect = text.get_rect(center=(WIDTH/2,HEIGHT/2))\n",
    "    screen.blit(text,text_rect)\n",
    "    pg.display.update()\n",
    "\n",
    "\n"
   ]
  },
  {
   "cell_type": "code",
   "execution_count": 11,
   "metadata": {
    "id": "8xCh1aIYMEKh"
   },
   "outputs": [],
   "source": [
    "def check_win():\n",
    "    \"\"\"checks game grid for wins or draws\"\"\"\n",
    "    global grid, current_winner, is_draw\n",
    "    for row in range(0,3):\n",
    "      if (grid[row][0]==grid[row][1]==grid[row][2]) and (grid[row][0] is not None):\n",
    "        current_winner = grid[row][0]\n",
    "        pg.draw.line(screen,(250,0,0),(0,(row+1)*HEIGHT/3 - HEIGHT/6),(WIDTH,(row+1)*HEIGHT/3-HEIGHT/6),4)\n",
    "        break\n",
    "\n",
    "    for col in range(0,3):\n",
    "      if (grid[0][col]==grid[1][col]==grid[2][col]) and (grid[0][col] is not None):\n",
    "        current_winner = grid[0][col]\n",
    "        pg.draw.line(screen,(250,0,0),((col+1)*WIDTH/3-WIDTH/6,0),((col+1)*WIDTH/3-WIDTH/6,HEIGHT),4)\n",
    "        break\n",
    "\n",
    "    if (grid[0][0]==grid[1][1]==grid[2][2]) and (grid[0][0] is not None):\n",
    "      current_winner = grid[0][0]\n",
    "      pg.draw.line(screen,(250,70,70),(50,50),(350,350),4)\n",
    "\n",
    "    if (grid[0][2]==grid[1][1]==grid[2][0]) and (grid[0][2] is not None):\n",
    "      current_winner = grid[0][2]\n",
    "      pg.draw.line(screen,(250,70,70),(350,50),(50,350),4)\n",
    "\n",
    "    if (all([all(row) for row in grid]) and current_winner is None):\n",
    "      is_draw = True\n",
    "\n",
    "\n",
    "    draw_status()\n",
    "\n",
    "\n",
    "\n",
    "\n",
    "\n"
   ]
  },
  {
   "cell_type": "code",
   "execution_count": 12,
   "metadata": {
    "id": "Th6HB1w-ZSun"
   },
   "outputs": [],
   "source": [
    "def drawXO(row, col):\n",
    "        \"\"\"draws the X's and O's on the board\"\"\"\n",
    "        global grid, current_player\n",
    "\n",
    "        if row==1:\n",
    "          pos_x = 50\n",
    "\n",
    "        if row ==2:\n",
    "          pos_x = WIDTH/3+30\n",
    "\n",
    "        if row==3:\n",
    "          pos_x=WIDTH/3*2+30\n",
    "\n",
    "        if col==1:\n",
    "          pos_y = 25\n",
    "\n",
    "        if col==2:\n",
    "          pos_y = HEIGHT/3+30\n",
    "\n",
    "        if col==3:\n",
    "          pos_y = HEIGHT/3*2+30\n",
    "\n",
    "        grid[row-1][col-1]=current_player\n",
    "\n",
    "        if current_player == 'x':\n",
    "          pg.draw.line(screen,(0,0,0),(pos_y,pos_x),(pos_y+size, pos_x+size),5)\n",
    "          pg.draw.line(screen,(0,0,0),(pos_y,pos_x+size),(pos_y+size,pos_x),5)\n",
    "          current_player = 'o'\n",
    "\n",
    "        else:\n",
    "\n",
    "          center = (pos_y+ size//2, pos_x + size // 2)\n",
    "          radius = size //2-5\n",
    "          pg.draw.circle(screen,(0,0,0),center,radius,5)\n",
    "          current_playerplayer = 'x'\n",
    "\n",
    "        pg.display.update()\n",
    "\n"
   ]
  },
  {
   "cell_type": "code",
   "execution_count": 13,
   "metadata": {
    "id": "bu1jWZcBZtrP"
   },
   "outputs": [],
   "source": [
    "def user_click():\n",
    "  \"\"\"finds the position of the user's click\"\"\"\n",
    "  x,y = pg.mouse.get_pos()\n",
    "\n",
    "  if (x<WIDTH/3):\n",
    "    col = 1\n",
    "  elif (x < WIDTH / 3*2):\n",
    "    col = 2\n",
    "  elif (x < WIDTH):\n",
    "    col = 3\n",
    "  else:\n",
    "    col = None\n",
    "\n",
    "  if (y < HEIGHT /3):\n",
    "    row = 1\n",
    "  elif (y < HEIGHT /3*2):\n",
    "    row = 2\n",
    "  elif (y < HEIGHT):\n",
    "    row = 3\n",
    "  else:\n",
    "    row = None\n",
    "\n",
    "  if (row and col and grid[row-1][col-1] is None):\n",
    "    drawXO(row,col)\n",
    "    check_win()"
   ]
  },
  {
   "cell_type": "code",
   "execution_count": 14,
   "metadata": {
    "id": "VResExRzdW73"
   },
   "outputs": [
    {
     "ename": "SystemExit",
     "evalue": "",
     "output_type": "error",
     "traceback": [
      "An exception has occurred, use %tb to see the full traceback.\n",
      "\u001b[1;31mSystemExit\u001b[0m\n"
     ]
    },
    {
     "name": "stderr",
     "output_type": "stream",
     "text": [
      "C:\\Users\\Admin\\anaconda3\\lib\\site-packages\\IPython\\core\\interactiveshell.py:3465: UserWarning: To exit: use 'exit', 'quit', or Ctrl-D.\n",
      "  warn(\"To exit: use 'exit', 'quit', or Ctrl-D.\", stacklevel=1)\n"
     ]
    }
   ],
   "source": [
    "def reset_game():\n",
    "  \"\"\"restarts game on win or draw\"\"\"\n",
    "  global grid, current_winner, current_player, is_draw\n",
    "\n",
    "  time.sleep(3)\n",
    "  current_player = 'x'\n",
    "  is_draw = False\n",
    "  game_intiating_window()\n",
    "  current_winner = None\n",
    "  grid = [[None]*3,[None]*3,[None]*3]\n",
    "\n",
    "game_intiating_window()\n",
    "\n",
    "while True: #continue loop until user closes the window\n",
    "  for event in pg.event.get(): #check for new events\n",
    "    if event.type == QUIT:\n",
    "      pg.quit()\n",
    "      sys.exit()\n",
    "    elif event.type == MOUSEBUTTONDOWN:\n",
    "      user_click()\n",
    "      if (current_winner or is_draw):\n",
    "        reset_game()\n",
    "  pg.display.update()\n",
    "  clock.tick(FPS)"
   ]
  },
  {
   "cell_type": "code",
   "execution_count": null,
   "metadata": {
    "id": "BSm9AqjZffcB"
   },
   "outputs": [],
   "source": []
  },
  {
   "cell_type": "code",
   "execution_count": null,
   "metadata": {},
   "outputs": [],
   "source": []
  }
 ],
 "metadata": {
  "colab": {
   "provenance": []
  },
  "kernelspec": {
   "display_name": "Python 3 (ipykernel)",
   "language": "python",
   "name": "python3"
  },
  "language_info": {
   "codemirror_mode": {
    "name": "ipython",
    "version": 3
   },
   "file_extension": ".py",
   "mimetype": "text/x-python",
   "name": "python",
   "nbconvert_exporter": "python",
   "pygments_lexer": "ipython3",
   "version": "3.9.13"
  },
  "toc": {
   "base_numbering": 1,
   "nav_menu": {},
   "number_sections": true,
   "sideBar": true,
   "skip_h1_title": false,
   "title_cell": "Table of Contents",
   "title_sidebar": "Contents",
   "toc_cell": false,
   "toc_position": {},
   "toc_section_display": true,
   "toc_window_display": false
  }
 },
 "nbformat": 4,
 "nbformat_minor": 1
}
