{
 "cells": [
  {
   "cell_type": "markdown",
   "metadata": {},
   "source": [
    "<p style=\"text-align:center\">\n",
    "    <a href=\"https://skills.network\" target=\"_blank\">\n",
    "    <img src=\"https://cf-courses-data.s3.us.cloud-object-storage.appdomain.cloud/assets/logos/SN_web_lightmode.png\" width=\"200\" alt=\"Skills Network Logo\">\n",
    "    </a>\n",
    "</p>\n"
   ]
  },
  {
   "cell_type": "markdown",
   "metadata": {},
   "source": [
    "# Practice Project\n",
    "\n",
    "Estimated time needed: **60** minutes\n",
    "\n",
    "This practice project focuses on data transformation and integration using PySpark. You will work with two datasets, perform various transformations such as adding columns, renaming columns, dropping unnecessary columns, joining dataframes, and finally, writing the results into both a Hive warehouse and an HDFS file system.\n"
   ]
  },
  {
   "cell_type": "markdown",
   "metadata": {},
   "source": [
    "### Prerequisites \n",
    "\n",
    "For this lab assignment, you will use wget, Python and Spark (PySpark). Therefore, it's essential to make sure that the below-specified libraries are installed in your lab environment or within Skills Network (SN) Labs.  \n",
    "\n",
    " \n"
   ]
  },
  {
   "cell_type": "code",
   "execution_count": 2,
   "metadata": {
    "tags": []
   },
   "outputs": [
    {
     "name": "stdout",
     "output_type": "stream",
     "text": [
      "Requirement already satisfied: wget in /home/jupyterlab/conda/envs/python/lib/python3.7/site-packages (3.2)\n",
      "Collecting pyspark\n",
      "  Downloading pyspark-3.4.2.tar.gz (311.1 MB)\n",
      "\u001b[2K     \u001b[90m━━━━━━━━━━━━━━━━━━━━━━━━━━━━━━━━━━━━━━━\u001b[0m \u001b[32m311.1/311.1 MB\u001b[0m \u001b[31m1.5 MB/s\u001b[0m eta \u001b[36m0:00:00\u001b[0m00:01\u001b[0m00:01\u001b[0m\n",
      "\u001b[?25h  Preparing metadata (setup.py) ... \u001b[?25ldone\n",
      "\u001b[?25hCollecting findspark\n",
      "  Downloading findspark-2.0.1-py2.py3-none-any.whl (4.4 kB)\n",
      "Collecting py4j==0.10.9.7 (from pyspark)\n",
      "  Downloading py4j-0.10.9.7-py2.py3-none-any.whl (200 kB)\n",
      "\u001b[2K     \u001b[90m━━━━━━━━━━━━━━━━━━━━━━━━━━━━━━━━━━━━━━\u001b[0m \u001b[32m200.5/200.5 kB\u001b[0m \u001b[31m34.3 MB/s\u001b[0m eta \u001b[36m0:00:00\u001b[0m\n",
      "\u001b[?25hBuilding wheels for collected packages: pyspark\n",
      "  Building wheel for pyspark (setup.py) ... \u001b[?25ldone\n",
      "\u001b[?25h  Created wheel for pyspark: filename=pyspark-3.4.2-py2.py3-none-any.whl size=311619841 sha256=266d89086db14a4d669c73275553b95a8c68d10ef87cadb95a2d865e54328218\n",
      "  Stored in directory: /home/jupyterlab/.cache/pip/wheels/c3/8a/ac/cd39777597318310141c8a783c06f516815a66194f100f96b6\n",
      "Successfully built pyspark\n",
      "Installing collected packages: py4j, findspark, pyspark\n",
      "Successfully installed findspark-2.0.1 py4j-0.10.9.7 pyspark-3.4.2\n"
     ]
    }
   ],
   "source": [
    "# Installing required packages\n",
    "\n",
    "!pip install wget pyspark  findspark"
   ]
  },
  {
   "cell_type": "markdown",
   "metadata": {},
   "source": [
    "#### Prework - Initiate the Spark Session\n"
   ]
  },
  {
   "cell_type": "code",
   "execution_count": 3,
   "metadata": {
    "tags": []
   },
   "outputs": [],
   "source": [
    "import findspark\n",
    "\n",
    "findspark.init()"
   ]
  },
  {
   "cell_type": "code",
   "execution_count": 4,
   "metadata": {
    "tags": []
   },
   "outputs": [],
   "source": [
    "# PySpark is the Spark API for Python. In this lab, we use PySpark to initialize the SparkContext.   \n",
    "\n",
    "from pyspark import SparkContext, SparkConf\n",
    "\n",
    "from pyspark.sql import SparkSession"
   ]
  },
  {
   "cell_type": "code",
   "execution_count": 5,
   "metadata": {
    "tags": []
   },
   "outputs": [
    {
     "name": "stderr",
     "output_type": "stream",
     "text": [
      "24/01/30 06:33:59 WARN util.NativeCodeLoader: Unable to load native-hadoop library for your platform... using builtin-java classes where applicable\n",
      "Setting default log level to \"WARN\".\n",
      "To adjust logging level use sc.setLogLevel(newLevel). For SparkR, use setLogLevel(newLevel).\n"
     ]
    }
   ],
   "source": [
    "# Creating a SparkContext object\n",
    "\n",
    "sc = SparkContext.getOrCreate()\n",
    "\n",
    "# Creating a Spark Session\n",
    "\n",
    "spark = SparkSession \\\n",
    "    .builder \\\n",
    "    .appName(\"Python Spark DataFrames basic example\") \\\n",
    "    .config(\"spark.some.config.option\", \"some-value\") \\\n",
    "    .getOrCreate()"
   ]
  },
  {
   "cell_type": "markdown",
   "metadata": {},
   "source": [
    "### Task 1: Load datasets into PySpark DataFrames\n",
    "\n",
    "Download the datasets from the folloing links using `wget` and load it in a Spark Dataframe.\n",
    "\n",
    "1. https://cf-courses-data.s3.us.cloud-object-storage.appdomain.cloud/IBM-BD0225EN-SkillsNetwork/labs/data/dataset1.csv  \n",
    "2. https://cf-courses-data.s3.us.cloud-object-storage.appdomain.cloud/IBM-BD0225EN-SkillsNetwork/labs/data/dataset2.csv  \n",
    "\n",
    "*Hint: Import wget*\n"
   ]
  },
  {
   "cell_type": "code",
   "execution_count": 6,
   "metadata": {
    "tags": []
   },
   "outputs": [
    {
     "data": {
      "text/plain": [
       "'/resources/labs/authoride/IBMSkillsNetwork+BD0225EN/labs'"
      ]
     },
     "execution_count": 6,
     "metadata": {},
     "output_type": "execute_result"
    }
   ],
   "source": [
    "import os\n",
    "os.getcwd()"
   ]
  },
  {
   "cell_type": "code",
   "execution_count": 7,
   "metadata": {
    "tags": []
   },
   "outputs": [
    {
     "data": {
      "text/plain": [
       "['._SUCCESS.crc',\n",
       " '.ipynb_checkpoints',\n",
       " '.part-00000-9da5cbc2-6777-47e8-b199-9c4f5e28891e-c000.snappy.parquet.crc',\n",
       " '.part-00004-9da5cbc2-6777-47e8-b199-9c4f5e28891e-c000.snappy.parquet.crc',\n",
       " '.part-00009-9da5cbc2-6777-47e8-b199-9c4f5e28891e-c000.snappy.parquet.crc',\n",
       " '.part-00012-9da5cbc2-6777-47e8-b199-9c4f5e28891e-c000.snappy.parquet.crc',\n",
       " '.part-00018-9da5cbc2-6777-47e8-b199-9c4f5e28891e-c000.snappy.parquet.crc',\n",
       " '.part-00022-9da5cbc2-6777-47e8-b199-9c4f5e28891e-c000.snappy.parquet.crc',\n",
       " '.part-00025-9da5cbc2-6777-47e8-b199-9c4f5e28891e-c000.snappy.parquet.crc',\n",
       " '.part-00026-9da5cbc2-6777-47e8-b199-9c4f5e28891e-c000.snappy.parquet.crc',\n",
       " '.part-00028-9da5cbc2-6777-47e8-b199-9c4f5e28891e-c000.snappy.parquet.crc',\n",
       " '.part-00031-9da5cbc2-6777-47e8-b199-9c4f5e28891e-c000.snappy.parquet.crc',\n",
       " '.part-00036-9da5cbc2-6777-47e8-b199-9c4f5e28891e-c000.snappy.parquet.crc',\n",
       " '.part-00045-9da5cbc2-6777-47e8-b199-9c4f5e28891e-c000.snappy.parquet.crc',\n",
       " '.part-00046-9da5cbc2-6777-47e8-b199-9c4f5e28891e-c000.snappy.parquet.crc',\n",
       " '.part-00047-9da5cbc2-6777-47e8-b199-9c4f5e28891e-c000.snappy.parquet.crc',\n",
       " '.part-00050-9da5cbc2-6777-47e8-b199-9c4f5e28891e-c000.snappy.parquet.crc',\n",
       " '.part-00051-9da5cbc2-6777-47e8-b199-9c4f5e28891e-c000.snappy.parquet.crc',\n",
       " '.part-00055-9da5cbc2-6777-47e8-b199-9c4f5e28891e-c000.snappy.parquet.crc',\n",
       " '.part-00058-9da5cbc2-6777-47e8-b199-9c4f5e28891e-c000.snappy.parquet.crc',\n",
       " '.part-00064-9da5cbc2-6777-47e8-b199-9c4f5e28891e-c000.snappy.parquet.crc',\n",
       " '.part-00068-9da5cbc2-6777-47e8-b199-9c4f5e28891e-c000.snappy.parquet.crc',\n",
       " '.part-00069-9da5cbc2-6777-47e8-b199-9c4f5e28891e-c000.snappy.parquet.crc',\n",
       " '.part-00071-9da5cbc2-6777-47e8-b199-9c4f5e28891e-c000.snappy.parquet.crc',\n",
       " '.part-00077-9da5cbc2-6777-47e8-b199-9c4f5e28891e-c000.snappy.parquet.crc',\n",
       " '.part-00083-9da5cbc2-6777-47e8-b199-9c4f5e28891e-c000.snappy.parquet.crc',\n",
       " '.part-00088-9da5cbc2-6777-47e8-b199-9c4f5e28891e-c000.snappy.parquet.crc',\n",
       " '.part-00090-9da5cbc2-6777-47e8-b199-9c4f5e28891e-c000.snappy.parquet.crc',\n",
       " '.part-00100-9da5cbc2-6777-47e8-b199-9c4f5e28891e-c000.snappy.parquet.crc',\n",
       " '.part-00109-9da5cbc2-6777-47e8-b199-9c4f5e28891e-c000.snappy.parquet.crc',\n",
       " '.part-00114-9da5cbc2-6777-47e8-b199-9c4f5e28891e-c000.snappy.parquet.crc',\n",
       " '.part-00116-9da5cbc2-6777-47e8-b199-9c4f5e28891e-c000.snappy.parquet.crc',\n",
       " '.part-00121-9da5cbc2-6777-47e8-b199-9c4f5e28891e-c000.snappy.parquet.crc',\n",
       " '.part-00128-9da5cbc2-6777-47e8-b199-9c4f5e28891e-c000.snappy.parquet.crc',\n",
       " '.part-00129-9da5cbc2-6777-47e8-b199-9c4f5e28891e-c000.snappy.parquet.crc',\n",
       " '.part-00137-9da5cbc2-6777-47e8-b199-9c4f5e28891e-c000.snappy.parquet.crc',\n",
       " '.part-00140-9da5cbc2-6777-47e8-b199-9c4f5e28891e-c000.snappy.parquet.crc',\n",
       " '.part-00143-9da5cbc2-6777-47e8-b199-9c4f5e28891e-c000.snappy.parquet.crc',\n",
       " '.part-00145-9da5cbc2-6777-47e8-b199-9c4f5e28891e-c000.snappy.parquet.crc',\n",
       " '.part-00147-9da5cbc2-6777-47e8-b199-9c4f5e28891e-c000.snappy.parquet.crc',\n",
       " '.part-00150-9da5cbc2-6777-47e8-b199-9c4f5e28891e-c000.snappy.parquet.crc',\n",
       " '.part-00153-9da5cbc2-6777-47e8-b199-9c4f5e28891e-c000.snappy.parquet.crc',\n",
       " '.part-00159-9da5cbc2-6777-47e8-b199-9c4f5e28891e-c000.snappy.parquet.crc',\n",
       " '.part-00164-9da5cbc2-6777-47e8-b199-9c4f5e28891e-c000.snappy.parquet.crc',\n",
       " '.part-00166-9da5cbc2-6777-47e8-b199-9c4f5e28891e-c000.snappy.parquet.crc',\n",
       " '.part-00167-9da5cbc2-6777-47e8-b199-9c4f5e28891e-c000.snappy.parquet.crc',\n",
       " '.part-00168-9da5cbc2-6777-47e8-b199-9c4f5e28891e-c000.snappy.parquet.crc',\n",
       " '.part-00169-9da5cbc2-6777-47e8-b199-9c4f5e28891e-c000.snappy.parquet.crc',\n",
       " '.part-00174-9da5cbc2-6777-47e8-b199-9c4f5e28891e-c000.snappy.parquet.crc',\n",
       " '.part-00175-9da5cbc2-6777-47e8-b199-9c4f5e28891e-c000.snappy.parquet.crc',\n",
       " '.part-00177-9da5cbc2-6777-47e8-b199-9c4f5e28891e-c000.snappy.parquet.crc',\n",
       " '.part-00182-9da5cbc2-6777-47e8-b199-9c4f5e28891e-c000.snappy.parquet.crc',\n",
       " '.part-00184-9da5cbc2-6777-47e8-b199-9c4f5e28891e-c000.snappy.parquet.crc',\n",
       " '.part-00185-9da5cbc2-6777-47e8-b199-9c4f5e28891e-c000.snappy.parquet.crc',\n",
       " '.part-00190-9da5cbc2-6777-47e8-b199-9c4f5e28891e-c000.snappy.parquet.crc',\n",
       " '.part-00192-9da5cbc2-6777-47e8-b199-9c4f5e28891e-c000.snappy.parquet.crc',\n",
       " '.part-00195-9da5cbc2-6777-47e8-b199-9c4f5e28891e-c000.snappy.parquet.crc',\n",
       " '.part-00198-9da5cbc2-6777-47e8-b199-9c4f5e28891e-c000.snappy.parquet.crc',\n",
       " 'DataFrames.ipynb',\n",
       " 'FinalAssignment-bak-2024-01-26-05-39-27Z.ipynb',\n",
       " 'FinalAssignment.ipynb',\n",
       " '_SUCCESS',\n",
       " 'dataset1.csv',\n",
       " 'dataset2.csv',\n",
       " 'spark-warehouse']"
      ]
     },
     "execution_count": 7,
     "metadata": {},
     "output_type": "execute_result"
    }
   ],
   "source": [
    "os.listdir()"
   ]
  },
  {
   "cell_type": "code",
   "execution_count": 5,
   "metadata": {
    "tags": []
   },
   "outputs": [
    {
     "name": "stdout",
     "output_type": "stream",
     "text": [
      "--2024-01-28 07:09:30--  https://cf-courses-data.s3.us.cloud-object-storage.appdomain.cloud/IBM-BD0225EN-SkillsNetwork/labs/data/dataset1.csv\n",
      "Resolving cf-courses-data.s3.us.cloud-object-storage.appdomain.cloud (cf-courses-data.s3.us.cloud-object-storage.appdomain.cloud)... 169.63.118.104, 169.63.118.104\n",
      "Connecting to cf-courses-data.s3.us.cloud-object-storage.appdomain.cloud (cf-courses-data.s3.us.cloud-object-storage.appdomain.cloud)|169.63.118.104|:443... connected.\n",
      "HTTP request sent, awaiting response... 200 OK\n",
      "Length: 4115 (4.0K) [text/csv]\n",
      "Saving to: ‘dataset1.csv.1’\n",
      "\n",
      "dataset1.csv.1      100%[===================>]   4.02K  --.-KB/s    in 0s      \n",
      "\n",
      "2024-01-28 07:09:30 (35.6 MB/s) - ‘dataset1.csv.1’ saved [4115/4115]\n",
      "\n"
     ]
    }
   ],
   "source": [
    "#download dataset using wget\n",
    "!wget https://cf-courses-data.s3.us.cloud-object-storage.appdomain.cloud/IBM-BD0225EN-SkillsNetwork/labs/data/dataset1.csv >> dataset1.csv"
   ]
  },
  {
   "cell_type": "markdown",
   "metadata": {},
   "source": [
    "\n",
    "<details>\n",
    "    <summary>Click here for Solution</summary>\n",
    "\n",
    "```python\n",
    "# download the dataset using wget\n",
    "import wget\n",
    "\n",
    "link_to_data1 = 'https://cf-courses-data.s3.us.cloud-object-storage.appdomain.cloud/IBM-BD0225EN-SkillsNetwork/labs/data/dataset1.csv'\n",
    "wget.download(link_to_data1)\n",
    "\n",
    "link_to_data2 = 'https://cf-courses-data.s3.us.cloud-object-storage.appdomain.cloud/IBM-BD0225EN-SkillsNetwork/labs/data/dataset2.csv'\n",
    "wget.download(link_to_data2)\n",
    "```\n",
    "\n",
    "</details>\n"
   ]
  },
  {
   "cell_type": "code",
   "execution_count": 23,
   "metadata": {
    "tags": []
   },
   "outputs": [
    {
     "name": "stdout",
     "output_type": "stream",
     "text": [
      "  % Total    % Received % Xferd  Average Speed   Time    Time     Time  Current\n",
      "                                 Dload  Upload   Total   Spent    Left  Speed\n",
      "100  4115  100  4115    0     0  60514      0 --:--:-- --:--:-- --:--:-- 60514\n"
     ]
    }
   ],
   "source": [
    "!curl https://cf-courses-data.s3.us.cloud-object-storage.appdomain.cloud/IBM-BD0225EN-SkillsNetwork/labs/data/dataset1.csv >> dataset1.csv"
   ]
  },
  {
   "cell_type": "code",
   "execution_count": 20,
   "metadata": {
    "tags": []
   },
   "outputs": [
    {
     "name": "stdout",
     "output_type": "stream",
     "text": [
      "  % Total    % Received % Xferd  Average Speed   Time    Time     Time  Current\n",
      "                                 Dload  Upload   Total   Spent    Left  Speed\n",
      "100  2688  100  2688    0     0  25846      0 --:--:-- --:--:-- --:--:-- 28595\n"
     ]
    }
   ],
   "source": [
    "!curl https://cf-courses-data.s3.us.cloud-object-storage.appdomain.cloud/IBM-BD0225EN-SkillsNetwork/labs/data/dataset2.csv >> dataset2.csv"
   ]
  },
  {
   "cell_type": "code",
   "execution_count": 109,
   "metadata": {
    "tags": []
   },
   "outputs": [],
   "source": [
    "#load the data into a pyspark dataframe\n",
    "\n",
    "df1 = spark.read.csv('dataset1.csv',header = True)\n",
    "df2 = spark.read.csv('dataset2.csv',header = True)"
   ]
  },
  {
   "cell_type": "markdown",
   "metadata": {},
   "source": [
    "\n",
    "<details>\n",
    "    <summary>Click here for Solution</summary>\n",
    "\n",
    "```python\n",
    "\n",
    "#load the data into a pyspark dataframe\n",
    "    \n",
    "df1 = spark.read.csv(\"dataset1.csv\", header=True, inferSchema=True)\n",
    "df2 = spark.read.csv(\"dataset2.csv\", header=True, inferSchema=True)\n",
    "```\n",
    "\n",
    "</details>\n",
    "\n",
    "\n"
   ]
  },
  {
   "cell_type": "markdown",
   "metadata": {},
   "source": [
    "### Task 2: Display the schema of both dataframes\n",
    "\n",
    "Display the schema of `df1` and `df2` to understand the structure of the datasets.\n"
   ]
  },
  {
   "cell_type": "code",
   "execution_count": 9,
   "metadata": {
    "tags": []
   },
   "outputs": [
    {
     "name": "stdout",
     "output_type": "stream",
     "text": [
      "+-----------+-----------+------+-----------+--------+\n",
      "|customer_id|date_column|amount|description|location|\n",
      "+-----------+-----------+------+-----------+--------+\n",
      "|          1|   1/1/2022|  5000| Purchase A| Store A|\n",
      "|          2|  15/2/2022|  1200| Purchase B| Store B|\n",
      "|          3|  20/3/2022|   800| Purchase C| Store C|\n",
      "|          4|  10/4/2022|  3000| Purchase D| Store D|\n",
      "|          5|   5/5/2022|  6000| Purchase E| Store E|\n",
      "|          6|  10/6/2022|  4500| Purchase F| Store F|\n",
      "|          7|  15/7/2022|   200| Purchase G| Store G|\n",
      "|          8|  20/8/2022|  3500| Purchase H| Store H|\n",
      "|          9|  25/9/2022|   700| Purchase I| Store I|\n",
      "|         10| 30/10/2022|  1800| Purchase J| Store J|\n",
      "|         11|  5/11/2022|  2200| Purchase K| Store K|\n",
      "|         12| 10/12/2022|   900| Purchase L| Store L|\n",
      "|         13|  15/1/2023|  4800| Purchase M| Store M|\n",
      "|         14|  20/2/2023|   300| Purchase N| Store N|\n",
      "|         15|  25/3/2023|  4200| Purchase O| Store O|\n",
      "|         16|  30/4/2023|  2600| Purchase P| Store P|\n",
      "|         17|   5/5/2023|   700| Purchase Q| Store Q|\n",
      "|         18|  10/6/2023|  1500| Purchase R| Store R|\n",
      "|         19|  15/7/2023|  3200| Purchase S| Store S|\n",
      "|         20|  20/8/2023|  1000| Purchase T| Store T|\n",
      "+-----------+-----------+------+-----------+--------+\n",
      "only showing top 20 rows\n",
      "\n"
     ]
    }
   ],
   "source": [
    "df1.show()"
   ]
  },
  {
   "cell_type": "code",
   "execution_count": 10,
   "metadata": {
    "tags": []
   },
   "outputs": [
    {
     "name": "stdout",
     "output_type": "stream",
     "text": [
      "+-----------+----------------+-----+-------+\n",
      "|customer_id|transaction_date|value|  notes|\n",
      "+-----------+----------------+-----+-------+\n",
      "|          1|        1/1/2022| 1500| Note 1|\n",
      "|          2|       15/2/2022| 2000| Note 2|\n",
      "|          3|       20/3/2022| 1000| Note 3|\n",
      "|          4|       10/4/2022| 2500| Note 4|\n",
      "|          5|        5/5/2022| 1800| Note 5|\n",
      "|          6|       10/6/2022| 1200| Note 6|\n",
      "|          7|       15/7/2022|  700| Note 7|\n",
      "|          8|       20/8/2022| 3000| Note 8|\n",
      "|          9|       25/9/2022|  600| Note 9|\n",
      "|         10|      30/10/2022| 1200|Note 10|\n",
      "|         11|       5/11/2022| 1500|Note 11|\n",
      "|         12|      10/12/2022|  800|Note 12|\n",
      "|         13|       15/1/2023| 2000|Note 13|\n",
      "|         14|       20/2/2023|  700|Note 14|\n",
      "|         15|       25/3/2023| 1800|Note 15|\n",
      "|         16|       30/4/2023| 1000|Note 16|\n",
      "|         17|        5/5/2023|  400|Note 17|\n",
      "|         18|       10/6/2023| 1500|Note 18|\n",
      "|         19|       15/7/2023| 3000|Note 19|\n",
      "|         20|       20/8/2023|  600|Note 20|\n",
      "+-----------+----------------+-----+-------+\n",
      "only showing top 20 rows\n",
      "\n"
     ]
    }
   ],
   "source": [
    "df2.show()"
   ]
  },
  {
   "cell_type": "code",
   "execution_count": 11,
   "metadata": {
    "tags": []
   },
   "outputs": [
    {
     "name": "stdout",
     "output_type": "stream",
     "text": [
      "root\n",
      " |-- customer_id: string (nullable = true)\n",
      " |-- date_column: string (nullable = true)\n",
      " |-- amount: string (nullable = true)\n",
      " |-- description: string (nullable = true)\n",
      " |-- location: string (nullable = true)\n",
      "\n"
     ]
    }
   ],
   "source": [
    "#print the schema of df1 and df2\n",
    "\n",
    "df1.printSchema()"
   ]
  },
  {
   "cell_type": "code",
   "execution_count": 72,
   "metadata": {
    "tags": []
   },
   "outputs": [
    {
     "name": "stdout",
     "output_type": "stream",
     "text": [
      "root\n",
      " |-- customer_id: string (nullable = true)\n",
      " |-- transaction_date: string (nullable = true)\n",
      " |-- value: string (nullable = true)\n",
      " |-- notes: string (nullable = true)\n",
      " |-- quarter: date (nullable = true)\n",
      "\n"
     ]
    }
   ],
   "source": [
    "df2.printSchema()"
   ]
  },
  {
   "cell_type": "markdown",
   "metadata": {},
   "source": [
    "\n",
    "<details>\n",
    "    <summary>Click here for Solution</summary>\n",
    "\n",
    "```python\n",
    "\n",
    "#print the schema of df1 and df2\n",
    "    \n",
    "df1.printSchema()\n",
    "df2.printSchema()\n",
    "```\n",
    "\n",
    "</details>\n",
    "\n",
    "\n"
   ]
  },
  {
   "cell_type": "markdown",
   "metadata": {},
   "source": [
    "#### Task 3: Add a new column to each dataframe\n",
    "\n",
    "Add a new column named **year** to `df1` and **quarter** to `df2` representing the year and quarter of the data.\n",
    "\n",
    "*Hint: use withColumn. Convert the date columns which are present as string to date before extracting the year and quarter information*\n",
    "\n",
    "\n"
   ]
  },
  {
   "cell_type": "code",
   "execution_count": 129,
   "metadata": {
    "tags": []
   },
   "outputs": [],
   "source": [
    "from pyspark.sql.functions import year, quarter, to_date,col,regexp_replace\n",
    "\n",
    "\n",
    "df1 = df1.withColumn(\"date_column\", regexp_replace(\"date_column\",'/','-'))\n",
    "#Add new column year to df1\n",
    "df1 = df1.withColumn('year',year(to_date(df1['date_column'],'d-M-yyyy')))\n",
    "\n",
    "df2 = df2.withColumn(\"transaction_date\", regexp_replace(\"transaction_date\",'/','-'))\n",
    "\n",
    "#Add new column quarter to df2    \n",
    "df2 = df2.withColumn('quarter',quarter(to_date(df2['transaction_date'],'d-M-yyyy')))\n",
    "\n"
   ]
  },
  {
   "cell_type": "code",
   "execution_count": 131,
   "metadata": {
    "tags": []
   },
   "outputs": [
    {
     "name": "stdout",
     "output_type": "stream",
     "text": [
      "+-----------+-----------+------------------+----+\n",
      "|customer_id|date_column|transaction_amount|year|\n",
      "+-----------+-----------+------------------+----+\n",
      "|          1|   1-1-2022|              5000|2022|\n",
      "|          2|  15-2-2022|              1200|2022|\n",
      "|          3|  20-3-2022|               800|2022|\n",
      "|          4|  10-4-2022|              3000|2022|\n",
      "|          5|   5-5-2022|              6000|2022|\n",
      "|          6|  10-6-2022|              4500|2022|\n",
      "|          7|  15-7-2022|               200|2022|\n",
      "|          8|  20-8-2022|              3500|2022|\n",
      "|          9|  25-9-2022|               700|2022|\n",
      "|         10| 30-10-2022|              1800|2022|\n",
      "|         11|  5-11-2022|              2200|2022|\n",
      "|         12| 10-12-2022|               900|2022|\n",
      "|         13|  15-1-2023|              4800|2023|\n",
      "|         14|  20-2-2023|               300|2023|\n",
      "|         15|  25-3-2023|              4200|2023|\n",
      "|         16|  30-4-2023|              2600|2023|\n",
      "|         17|   5-5-2023|               700|2023|\n",
      "|         18|  10-6-2023|              1500|2023|\n",
      "|         19|  15-7-2023|              3200|2023|\n",
      "|         20|  20-8-2023|              1000|2023|\n",
      "+-----------+-----------+------------------+----+\n",
      "only showing top 20 rows\n",
      "\n"
     ]
    }
   ],
   "source": [
    "df1.show()"
   ]
  },
  {
   "cell_type": "code",
   "execution_count": 130,
   "metadata": {
    "tags": []
   },
   "outputs": [
    {
     "name": "stdout",
     "output_type": "stream",
     "text": [
      "+-----------+----------------+-----------------+-------+\n",
      "|customer_id|transaction_date|transaction_value|quarter|\n",
      "+-----------+----------------+-----------------+-------+\n",
      "|          1|        1-1-2022|             1500|      1|\n",
      "|          2|       15-2-2022|             2000|      1|\n",
      "|          3|       20-3-2022|             1000|      1|\n",
      "|          4|       10-4-2022|             2500|      2|\n",
      "|          5|        5-5-2022|             1800|      2|\n",
      "|          6|       10-6-2022|             1200|      2|\n",
      "|          7|       15-7-2022|              700|      3|\n",
      "|          8|       20-8-2022|             3000|      3|\n",
      "|          9|       25-9-2022|              600|      3|\n",
      "|         10|      30-10-2022|             1200|      4|\n",
      "|         11|       5-11-2022|             1500|      4|\n",
      "|         12|      10-12-2022|              800|      4|\n",
      "|         13|       15-1-2023|             2000|      1|\n",
      "|         14|       20-2-2023|              700|      1|\n",
      "|         15|       25-3-2023|             1800|      1|\n",
      "|         16|       30-4-2023|             1000|      2|\n",
      "|         17|        5-5-2023|              400|      2|\n",
      "|         18|       10-6-2023|             1500|      2|\n",
      "|         19|       15-7-2023|             3000|      3|\n",
      "|         20|       20-8-2023|              600|      3|\n",
      "+-----------+----------------+-----------------+-------+\n",
      "only showing top 20 rows\n",
      "\n"
     ]
    }
   ],
   "source": [
    "df2.show()"
   ]
  },
  {
   "cell_type": "code",
   "execution_count": 112,
   "metadata": {
    "tags": []
   },
   "outputs": [
    {
     "name": "stdout",
     "output_type": "stream",
     "text": [
      "root\n",
      " |-- customer_id: string (nullable = true)\n",
      " |-- transaction_date: string (nullable = true)\n",
      " |-- value: string (nullable = true)\n",
      " |-- notes: string (nullable = true)\n",
      " |-- quarter: integer (nullable = true)\n",
      "\n"
     ]
    }
   ],
   "source": [
    "df2.printSchema()"
   ]
  },
  {
   "cell_type": "markdown",
   "metadata": {},
   "source": [
    "\n",
    "<details>\n",
    "    <summary>Click here for Solution</summary>\n",
    "\n",
    "```python\n",
    "from pyspark.sql.functions import year, quarter\n",
    "\n",
    "#Add new column year to df1\n",
    "df1 = df1.withColumn('year', year(to_date('date_column','dd/MM/yyyy')))\n",
    "    \n",
    "#Add new column quarter to df2    \n",
    "df2 = df2.withColumn('quarter', quarter(to_date('transaction_date','dd/MM/yyyy')))```\n",
    "\n",
    "</details>\n",
    "\n",
    "\n",
    "\n"
   ]
  },
  {
   "cell_type": "markdown",
   "metadata": {},
   "source": [
    "#### Task 4: Rename columns in both dataframes\n",
    "\n",
    "Rename the column **amount** to **transaction_amount** in `df1` and **value** to **transaction_value** in `df2`.\n",
    "\n",
    "*Hint: Use withColumnRenamed*\n"
   ]
  },
  {
   "cell_type": "code",
   "execution_count": 113,
   "metadata": {
    "tags": []
   },
   "outputs": [],
   "source": [
    "#Rename df1 column amount to transaction_amount\n",
    "df1 = df1.withColumnRenamed('amount','transaction_amount')\n",
    "\n",
    "#Rename df2 column value to transaction_value\n",
    "df2 = df2.withColumnRenamed('value','transaction_value')\n"
   ]
  },
  {
   "cell_type": "code",
   "execution_count": 114,
   "metadata": {
    "tags": []
   },
   "outputs": [
    {
     "name": "stdout",
     "output_type": "stream",
     "text": [
      "root\n",
      " |-- customer_id: string (nullable = true)\n",
      " |-- date_column: string (nullable = true)\n",
      " |-- transaction_amount: string (nullable = true)\n",
      " |-- description: string (nullable = true)\n",
      " |-- location: string (nullable = true)\n",
      " |-- year: integer (nullable = true)\n",
      "\n",
      "None \n",
      " DataFrame[customer_id: string, transaction_date: string, transaction_value: string, notes: string, quarter: int]\n"
     ]
    }
   ],
   "source": [
    "print(df1.printSchema(),'\\n',df2)"
   ]
  },
  {
   "cell_type": "markdown",
   "metadata": {},
   "source": [
    "\n",
    "\n",
    "<details>\n",
    "    <summary>Click here for Solution</summary>\n",
    "\n",
    "```python\n",
    "\n",
    "#Rename df1 column amount to transaction_amount\n",
    "df1 = df1.withColumnRenamed('amount', 'transaction_amount')\n",
    "    \n",
    "#Rename df2 column value to transaction_value\n",
    "df2 = df2.withColumnRenamed('value', 'transaction_value')\n",
    "```\n",
    "\n",
    "</details>\n",
    "\n",
    "\n",
    "\n"
   ]
  },
  {
   "cell_type": "markdown",
   "metadata": {},
   "source": [
    "#### Task 5: Drop unnecessary columns\n",
    "\n",
    "Drop the columns **description** and **location** from `df1` and **notes** from `df2`.\n",
    "\n",
    "\n"
   ]
  },
  {
   "cell_type": "code",
   "execution_count": 115,
   "metadata": {
    "tags": []
   },
   "outputs": [],
   "source": [
    "#Drop columns description and location from df1\n",
    "df1 = df1.drop('description','location')\n",
    "\n",
    "#Drop column notes from df2\n",
    "df2  = df2.drop('notes')\n"
   ]
  },
  {
   "cell_type": "markdown",
   "metadata": {},
   "source": [
    "\n",
    "\n",
    "\n",
    "<details>\n",
    "    <summary>Click here for Solution</summary>\n",
    "\n",
    "```python\n",
    "\n",
    "#Drop columns description and location from df1\n",
    "df1 = df1.drop('description', 'location')\n",
    "    \n",
    "#Drop column notes from df2\n",
    "df2 = df2.drop('notes')\n",
    "```\n",
    "\n",
    "</details>\n",
    "\n",
    "\n",
    "\n"
   ]
  },
  {
   "cell_type": "markdown",
   "metadata": {},
   "source": [
    "#### Task 6: Join dataframes based on a common column\n",
    "\n",
    "Join `df1` and `df2` based on the common column **customer_id** and create a new dataframe named `joined_df`.\n",
    "\n",
    "\n"
   ]
  },
  {
   "cell_type": "code",
   "execution_count": 116,
   "metadata": {
    "tags": []
   },
   "outputs": [
    {
     "name": "stdout",
     "output_type": "stream",
     "text": [
      "root\n",
      " |-- customer_id: string (nullable = true)\n",
      " |-- date_column: string (nullable = true)\n",
      " |-- transaction_amount: string (nullable = true)\n",
      " |-- year: integer (nullable = true)\n",
      "\n"
     ]
    }
   ],
   "source": [
    "df1.printSchema()"
   ]
  },
  {
   "cell_type": "code",
   "execution_count": 45,
   "metadata": {
    "tags": []
   },
   "outputs": [
    {
     "name": "stdout",
     "output_type": "stream",
     "text": [
      "root\n",
      " |-- customer_id: string (nullable = true)\n",
      " |-- transaction_date: string (nullable = true)\n",
      " |-- transaction_value: string (nullable = true)\n",
      " |-- quarter: integer (nullable = true)\n",
      "\n"
     ]
    }
   ],
   "source": [
    "df2.printSchema()"
   ]
  },
  {
   "cell_type": "code",
   "execution_count": 117,
   "metadata": {
    "tags": []
   },
   "outputs": [],
   "source": [
    "#join df1 and df2 based on common column customer_id\n",
    "\n",
    "joined_df = df1.join(df2,on='customer_id',how='inner')"
   ]
  },
  {
   "cell_type": "markdown",
   "metadata": {},
   "source": [
    "<details>\n",
    "    <summary>Click here for Solution</summary>\n",
    "\n",
    "```python\n",
    "\n",
    "#join df1 and df2 based on common column customer_id\n",
    "joined_df = df1.join(df2, 'customer_id', 'inner')\n",
    "    \n",
    "```\n",
    "\n",
    "</details>\n"
   ]
  },
  {
   "cell_type": "markdown",
   "metadata": {},
   "source": [
    "#### Task 7: Filter data based on a condition\n",
    "\n",
    "Filter `joined_df` to include only transactions where \"transaction_amount\" is greater than 1000 and create a new dataframe named `filtered_df`.\n",
    "\n",
    "\n",
    "\n"
   ]
  },
  {
   "cell_type": "code",
   "execution_count": 118,
   "metadata": {
    "tags": []
   },
   "outputs": [],
   "source": [
    "# filter the dataframe for transaction amount > 1000\n",
    "filtered_df = joined_df.filter(joined_df['transaction_amount']>1000)"
   ]
  },
  {
   "cell_type": "code",
   "execution_count": 119,
   "metadata": {
    "tags": []
   },
   "outputs": [
    {
     "name": "stdout",
     "output_type": "stream",
     "text": [
      "+-----------+-----------+------------------+----+----------------+-----------------+-------+\n",
      "|customer_id|date_column|transaction_amount|year|transaction_date|transaction_value|quarter|\n",
      "+-----------+-----------+------------------+----+----------------+-----------------+-------+\n",
      "|          1|   1/1/2022|              5000|null|        1-1-2022|             1500|      1|\n",
      "|          2|  15/2/2022|              1200|null|       15-2-2022|             2000|      1|\n",
      "|          4|  10/4/2022|              3000|null|       10-4-2022|             2500|      2|\n",
      "|          5|   5/5/2022|              6000|null|        5-5-2022|             1800|      2|\n",
      "|          6|  10/6/2022|              4500|null|       10-6-2022|             1200|      2|\n",
      "|          8|  20/8/2022|              3500|null|       20-8-2022|             3000|      3|\n",
      "|         10| 30/10/2022|              1800|null|      30-10-2022|             1200|      4|\n",
      "|         11|  5/11/2022|              2200|null|       5-11-2022|             1500|      4|\n",
      "|         13|  15/1/2023|              4800|null|       15-1-2023|             2000|      1|\n",
      "|         15|  25/3/2023|              4200|null|       25-3-2023|             1800|      1|\n",
      "|         16|  30/4/2023|              2600|null|       30-4-2023|             1000|      2|\n",
      "|         18|  10/6/2023|              1500|null|       10-6-2023|             1500|      2|\n",
      "|         19|  15/7/2023|              3200|null|       15-7-2023|             3000|      3|\n",
      "|         21|  25/9/2023|              5500|null|       25-9-2023|             2500|      3|\n",
      "|         22| 30/10/2023|              1200|null|      30-10-2023|              700|      4|\n",
      "|         24| 10/12/2023|              2400|null|      10-12-2023|             1200|      4|\n",
      "|         25|  15/1/2024|              1800|null|       15-1-2024|              800|      1|\n",
      "|         27|  25/3/2024|              4200|null|       25-3-2024|             1800|      1|\n",
      "|         28|  30/4/2024|              2600|null|       30-4-2024|             1000|      2|\n",
      "|         30|  10/6/2024|              1500|null|       10-6-2024|             1500|      2|\n",
      "+-----------+-----------+------------------+----+----------------+-----------------+-------+\n",
      "only showing top 20 rows\n",
      "\n"
     ]
    }
   ],
   "source": [
    "filtered_df.show()"
   ]
  },
  {
   "cell_type": "markdown",
   "metadata": {},
   "source": [
    "<details>\n",
    "    <summary>Click here for Solution</summary>\n",
    "\n",
    "```python\n",
    "\n",
    "# filter the dataframe for transaction amount > 1000\n",
    "filtered_df = joined_df.filter(\"transaction_amount > 1000\")    \n",
    "```\n",
    "\n",
    "</details>\n"
   ]
  },
  {
   "cell_type": "markdown",
   "metadata": {},
   "source": [
    "#### Task 8: Aggregate data by customer\n",
    "\n",
    "Calculate the total transaction amount for each customer in `filtered_df` and display the result.\n",
    "\n",
    "*Hint: Use sum from pyspark.sql.functions*\n"
   ]
  },
  {
   "cell_type": "code",
   "execution_count": 120,
   "metadata": {
    "tags": []
   },
   "outputs": [
    {
     "name": "stdout",
     "output_type": "stream",
     "text": [
      "+-----------+-----------------------+\n",
      "|customer_id|sum(transaction_amount)|\n",
      "+-----------+-----------------------+\n",
      "|         51|                 4200.0|\n",
      "|         15|                 4200.0|\n",
      "|         54|                 1500.0|\n",
      "|         11|                 2200.0|\n",
      "|         69|                 5500.0|\n",
      "|         42|                 1500.0|\n",
      "|         73|                 1800.0|\n",
      "|         87|                 4200.0|\n",
      "|         64|                 2600.0|\n",
      "|         30|                 1500.0|\n",
      "|         34|                 1200.0|\n",
      "|          8|                 3500.0|\n",
      "|         22|                 1200.0|\n",
      "|         28|                 2600.0|\n",
      "|         85|                 1800.0|\n",
      "|         16|                 2600.0|\n",
      "|         52|                 2600.0|\n",
      "|         99|                 4200.0|\n",
      "|         96|                 2400.0|\n",
      "|         43|                 3200.0|\n",
      "+-----------+-----------------------+\n",
      "only showing top 20 rows\n",
      "\n"
     ]
    }
   ],
   "source": [
    "\n",
    "# group by customer_id and aggregate the sum of transaction amount\n",
    "from pyspark.sql.functions import *\n",
    "total_amount_per_customer = filtered_df.groupby('customer_id').agg({'transaction_amount':'sum'}).alias('total_amount')\n",
    "\n",
    "#display the result\n",
    "total_amount_per_customer.show()\n"
   ]
  },
  {
   "cell_type": "code",
   "execution_count": 121,
   "metadata": {
    "tags": []
   },
   "outputs": [
    {
     "name": "stdout",
     "output_type": "stream",
     "text": [
      "+-----------+------------+\n",
      "|customer_id|total_amount|\n",
      "+-----------+------------+\n",
      "|         51|      4200.0|\n",
      "|         15|      4200.0|\n",
      "|         54|      1500.0|\n",
      "|         11|      2200.0|\n",
      "|         69|      5500.0|\n",
      "|         42|      1500.0|\n",
      "|         73|      1800.0|\n",
      "|         87|      4200.0|\n",
      "|         64|      2600.0|\n",
      "|         30|      1500.0|\n",
      "|         34|      1200.0|\n",
      "|          8|      3500.0|\n",
      "|         22|      1200.0|\n",
      "|         28|      2600.0|\n",
      "|         85|      1800.0|\n",
      "|         16|      2600.0|\n",
      "|         52|      2600.0|\n",
      "|         99|      4200.0|\n",
      "|         96|      2400.0|\n",
      "|         43|      3200.0|\n",
      "+-----------+------------+\n",
      "only showing top 20 rows\n",
      "\n"
     ]
    }
   ],
   "source": [
    "total_amount_per_customer1  = filtered_df.groupBy('customer_id').agg(sum('transaction_amount').alias('total_amount'))\n",
    "total_amount_per_customer1.show()"
   ]
  },
  {
   "cell_type": "markdown",
   "metadata": {},
   "source": [
    "<details>\n",
    "    <summary>Click here for Solution</summary>\n",
    "\n",
    "```python\n",
    "\n",
    "from pyspark.sql.functions import sum\n",
    "   \n",
    "# group by customer_id and aggregate the sum of transaction amount\n",
    "\n",
    "total_amount_per_customer = filtered_df.groupBy('customer_id').agg(sum('transaction_amount').alias('total_amount'))\n",
    "\n",
    "#display the result\n",
    "total_amount_per_customer.show()\n",
    "```\n",
    "\n",
    "</details>\n"
   ]
  },
  {
   "cell_type": "markdown",
   "metadata": {},
   "source": [
    "#### Task 9: Write the result to a Hive table\n",
    "\n",
    "Write `total_amount_per_customer` to a Hive table named **customer_totals**.\n"
   ]
  },
  {
   "cell_type": "code",
   "execution_count": 71,
   "metadata": {},
   "outputs": [
    {
     "name": "stderr",
     "output_type": "stream",
     "text": [
      "                                                                                \r"
     ]
    }
   ],
   "source": [
    "# Write total_amount_per_customer to a Hive table named customer_totals\n",
    "\n",
    "total_amount_per_customer1.write.mode(\"overwrite\").saveAsTable(\"customer_totals\") #bunu total_amount_per_customer1 uzerinden yapamamin sebebi digerinde sumli gosterim enge"
   ]
  },
  {
   "cell_type": "markdown",
   "metadata": {},
   "source": [
    "\n",
    "<details>\n",
    "    <summary>Click here for Solution</summary>\n",
    "\n",
    "```python\n",
    "\n",
    "# Write total_amount_per_customer to a Hive table named customer_totals\n",
    "total_amount_per_customer.write.mode(\"overwrite\").saveAsTable(\"customer_totals\")\n",
    "```\n",
    "\n",
    "</details>\n"
   ]
  },
  {
   "cell_type": "markdown",
   "metadata": {},
   "source": [
    "#### Task 10: Write the filtered data to HDFS\n",
    "\n",
    "Write `filtered_df` to HDFS in parquet format to a file named **filtered_data**.\n"
   ]
  },
  {
   "cell_type": "code",
   "execution_count": null,
   "metadata": {},
   "outputs": [],
   "source": [
    "#Write filtered_df to HDFS in parquet format file filtered_data.parquet\n",
    "\n",
    "filtered.write.mode(\"overwrite\").parquet(\"filtered_data.parquet\")"
   ]
  },
  {
   "cell_type": "markdown",
   "metadata": {},
   "source": [
    "\n",
    "<details>\n",
    "    <summary>Click here for Solution</summary>\n",
    "\n",
    "```python\n",
    "\n",
    "#Write filtered_df to HDFS in parquet format file filtered_data\n",
    "\n",
    "filtered_df.write.mode(\"overwrite\").parquet(\"filtered_data.parquet\")\n",
    "```\n",
    "\n",
    "</details>\n"
   ]
  },
  {
   "cell_type": "markdown",
   "metadata": {},
   "source": [
    "#### Task 11: Add a new column based on a condition\n",
    "\n",
    "Add a new column named **high_value** to `df1` indicating whether the transaction_amount is greater than 5000. When the value is greater than 5000, the value of the column should be **Yes**. When the value is less than or equal to 5000, the value of the column should be **No**. \n",
    "\n",
    "*Hint: Use when and lit from pyspark.sql.functions\n"
   ]
  },
  {
   "cell_type": "code",
   "execution_count": 72,
   "metadata": {},
   "outputs": [],
   "source": [
    "# Add new column with value indicating whether transaction amount is > 5000 or not\n",
    "\n",
    "df1 = df1.withColumn('high_value',when(df1.transaction_amount >5000,lit(\"Yes\")).otherwise(lit(\"No\")))"
   ]
  },
  {
   "cell_type": "code",
   "execution_count": 73,
   "metadata": {
    "tags": []
   },
   "outputs": [
    {
     "name": "stdout",
     "output_type": "stream",
     "text": [
      "+-----------+-----------+------------------+----+----------+\n",
      "|customer_id|date_column|transaction_amount|year|high_value|\n",
      "+-----------+-----------+------------------+----+----------+\n",
      "|          1|   1/1/2022|              5000|null|        No|\n",
      "|          2|  15/2/2022|              1200|null|        No|\n",
      "|          3|  20/3/2022|               800|null|        No|\n",
      "|          4|  10/4/2022|              3000|null|        No|\n",
      "|          5|   5/5/2022|              6000|null|       Yes|\n",
      "+-----------+-----------+------------------+----+----------+\n",
      "only showing top 5 rows\n",
      "\n"
     ]
    }
   ],
   "source": [
    "df1.show(5)"
   ]
  },
  {
   "cell_type": "markdown",
   "metadata": {},
   "source": [
    "\n",
    "<details>\n",
    "    <summary>Click here for Solution</summary>\n",
    "\n",
    "```python\n",
    "\n",
    "from pyspark.sql.functions import when, lit\n",
    "\n",
    "# Add new column with value indicating whether transaction amount is > 5000 or not\n",
    "df1 = df1.withColumn(\"high_value\", when(df1.transaction_amount > 5000, lit(\"Yes\")).otherwise(lit(\"No\")))\n",
    "```\n",
    "\n",
    "</details>\n"
   ]
  },
  {
   "cell_type": "markdown",
   "metadata": {},
   "source": [
    "total_amount_per_customer#### Task 12: Calculate the average transaction value per quarter\n",
    "\n",
    "Calculate and display the average transaction value for each quarter in `df2` and create a new dataframe named `average_value_per_quarter` with column `avg_trans_val`.\n",
    "\n",
    "*Hint: Use avg from pyspark.sql.functions*\n"
   ]
  },
  {
   "cell_type": "code",
   "execution_count": 79,
   "metadata": {
    "tags": []
   },
   "outputs": [
    {
     "name": "stdout",
     "output_type": "stream",
     "text": [
      "+-------+-------------+\n",
      "|quarter|avg_trans_val|\n",
      "+-------+-------------+\n",
      "|   null|       1234.0|\n",
      "+-------+-------------+\n",
      "\n"
     ]
    }
   ],
   "source": [
    "df2.groupby('quarter').agg(mean('transaction_value').alias('avg_trans_val')).show()"
   ]
  },
  {
   "cell_type": "code",
   "execution_count": 125,
   "metadata": {
    "tags": []
   },
   "outputs": [],
   "source": [
    "#calculate the average transaction value for each quarter in df2\n",
    "average_value_per_quarter = df2.groupby('quarter').agg(avg('transaction_value').alias('avg_trans_val'))\n",
    "\n",
    "#show the average transaction value for each quarter in df2    \n",
    "\n"
   ]
  },
  {
   "cell_type": "code",
   "execution_count": 126,
   "metadata": {
    "tags": []
   },
   "outputs": [
    {
     "name": "stderr",
     "output_type": "stream",
     "text": [
      "                                                                                \r"
     ]
    },
    {
     "name": "stdout",
     "output_type": "stream",
     "text": [
      "+-------+------------------+\n",
      "|quarter|     avg_trans_val|\n",
      "+-------+------------------+\n",
      "|      1| 1111.111111111111|\n",
      "|      3|1958.3333333333333|\n",
      "|      4| 816.6666666666666|\n",
      "|      2|            1072.0|\n",
      "+-------+------------------+\n",
      "\n"
     ]
    },
    {
     "name": "stderr",
     "output_type": "stream",
     "text": [
      "                                                                                \r"
     ]
    }
   ],
   "source": [
    "average_value_per_quarter.show()"
   ]
  },
  {
   "cell_type": "markdown",
   "metadata": {},
   "source": [
    "\n",
    "<details>\n",
    "    <summary>Click here for Solution</summary>\n",
    "\n",
    "```python\n",
    "from pyspark.sql.functions import avg\n",
    "\n",
    "#calculate the average transaction value for each quarter in df2\n",
    "average_value_per_quarter = df2.groupBy('quarter').agg(avg(\"transaction_value\").alias(\"avg_trans_val\"))\n",
    "\n",
    "    \n",
    "#show the average transaction value for each quarter in df2    \n",
    "average_value_per_quarter.show()\n",
    "\n",
    "```\n",
    "\n",
    "</details>\n"
   ]
  },
  {
   "cell_type": "markdown",
   "metadata": {},
   "source": [
    "#### Task 13: Write the result to a Hive table\n",
    "\n",
    "Write `average_value_per_quarter` to a Hive table named **quarterly_averages**.\n"
   ]
  },
  {
   "cell_type": "code",
   "execution_count": 127,
   "metadata": {
    "tags": []
   },
   "outputs": [
    {
     "name": "stderr",
     "output_type": "stream",
     "text": [
      "                                                                                \r"
     ]
    }
   ],
   "source": [
    "#Write average_value_per_quarter to a Hive table named quarterly_averages\n",
    "\n",
    "average_value_per_quarter.write.mode(\"overwrite\").saveAsTable(\"quarterly_averages\")"
   ]
  },
  {
   "cell_type": "markdown",
   "metadata": {},
   "source": [
    "\n",
    "<details>\n",
    "    <summary>Click here for Solution</summary>\n",
    "\n",
    "```python\n",
    "\n",
    "#Write average_value_per_quarter to a Hive table named quarterly_averages\n",
    "\n",
    "average_value_per_quarter.write.mode(\"overwrite\").saveAsTable(\"quarterly_averages\")\n",
    "\n",
    "```\n",
    "\n",
    "</details>\n"
   ]
  },
  {
   "cell_type": "markdown",
   "metadata": {},
   "source": [
    "#### Task 14: Calculate the total transaction value per year\n",
    "\n",
    "Calculate and display the total transaction value for each year in `df1` and create a new dataframe named `total_value_per_year` with column `total_transaction_val`.\n"
   ]
  },
  {
   "cell_type": "code",
   "execution_count": 133,
   "metadata": {
    "tags": []
   },
   "outputs": [
    {
     "name": "stdout",
     "output_type": "stream",
     "text": [
      "+----+---------------------+\n",
      "|year|total_transaction_val|\n",
      "+----+---------------------+\n",
      "|2025|              25700.0|\n",
      "|2027|              25700.0|\n",
      "|2023|              28100.0|\n",
      "|2022|              29800.0|\n",
      "|2026|              25700.0|\n",
      "|2029|              25700.0|\n",
      "|2030|               9500.0|\n",
      "|2028|              25700.0|\n",
      "|2024|              25700.0|\n",
      "+----+---------------------+\n",
      "\n"
     ]
    }
   ],
   "source": [
    "# calculate the total transaction value for each year in df1.\n",
    "\n",
    "total_value_per_year = df1.groupby('year').agg(sum('transaction_amount').alias('total_transaction_val'))\n",
    "# show the total transaction value for each year in df1.\n",
    "total_value_per_year.show()\n"
   ]
  },
  {
   "cell_type": "markdown",
   "metadata": {},
   "source": [
    "\n",
    "<details>\n",
    "    <summary>Click here for Solution</summary>\n",
    "\n",
    "```python\n",
    "\n",
    "# calculate the total transaction value for each year in df1.\n",
    "total_value_per_year = df1.groupBy('year').agg(sum(\"transaction_amount\").alias(\"total_transaction_val\"))\n",
    "\n",
    "# show the total transaction value for each year in df1.\n",
    "total_value_per_year.show()\n",
    "\n",
    "```\n",
    "\n",
    "</details>\n"
   ]
  },
  {
   "cell_type": "markdown",
   "metadata": {},
   "source": [
    "#### Task 15: Write the result to HDFS\n",
    "\n",
    "Write `total_value_per_year` to HDFS in the CSV format to file named **total_value_per_year**.\n",
    "\n"
   ]
  },
  {
   "cell_type": "code",
   "execution_count": null,
   "metadata": {},
   "outputs": [],
   "source": [
    "#Write total_value_per_year to HDFS in the CSV format\n",
    "total_value_per_year.write.mode(\"overwrite)\n"
   ]
  },
  {
   "cell_type": "markdown",
   "metadata": {},
   "source": [
    "\n",
    "<details>\n",
    "    <summary>Click here for Solution</summary>\n",
    "\n",
    "```python\n",
    "\n",
    "#Write total_value_per_year to HDFS in the CSV format\n",
    "\n",
    "total_value_per_year.write.mode(\"overwrite\").csv(\"total_value_per_year.csv\")\n",
    "\n",
    "```\n",
    "\n",
    "</details>\n"
   ]
  },
  {
   "cell_type": "markdown",
   "metadata": {},
   "source": [
    "### Congratulations! You have completed the lab.\n",
    "This practice project provides hands-on experience with data transformation and integration using PySpark. You've performed various tasks, including adding columns, renaming columns, dropping unnecessary columns, joining dataframes, and writing the results into both a Hive warehouse and an HDFS file system.\n"
   ]
  },
  {
   "cell_type": "markdown",
   "metadata": {},
   "source": [
    "## Authors\n",
    "\n",
    "Raghul Ramesh\n",
    "\n",
    "Lavanya T S\n"
   ]
  },
  {
   "cell_type": "markdown",
   "metadata": {},
   "source": [
    "## Change Log\n"
   ]
  },
  {
   "cell_type": "markdown",
   "metadata": {},
   "source": [
    "|Date (YYYY-MM-DD)|Version|Changed By|Change Description|\n",
    "|-|-|-|-|\n",
    "|2023-09-01|0.1|Lavanya T S|Initial version|\n",
    "|2023-09-08|0.2|Pornima More|QA pass with edits|\n"
   ]
  },
  {
   "cell_type": "markdown",
   "metadata": {},
   "source": [
    "Copyright © 2023 IBM Corporation. All rights reserved.\n"
   ]
  }
 ],
 "metadata": {
  "kernelspec": {
   "display_name": "Python",
   "language": "python",
   "name": "conda-env-python-py"
  },
  "language_info": {
   "codemirror_mode": {
    "name": "ipython",
    "version": 3
   },
   "file_extension": ".py",
   "mimetype": "text/x-python",
   "name": "python",
   "nbconvert_exporter": "python",
   "pygments_lexer": "ipython3",
   "version": "3.7.12"
  }
 },
 "nbformat": 4,
 "nbformat_minor": 4
}
