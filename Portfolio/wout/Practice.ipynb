{
 "cells": [
  {
   "cell_type": "code",
   "execution_count": 2,
   "id": "edd630a5",
   "metadata": {},
   "outputs": [],
   "source": [
    "def is_even():\n",
    "    x = input(\"Write down a integer\")\n",
    "    if x.is_numeric():\n",
    "        if type(x)==int and x//2==0:\n",
    "            print(\"This number is even\")\n",
    "        else:\n",
    "            print(\"This number is\")\n",
    "    else:\n",
    "        print(\"Please write numeric number\")\n",
    "        "
   ]
  },
  {
   "cell_type": "code",
   "execution_count": 3,
   "id": "b8869204",
   "metadata": {},
   "outputs": [],
   "source": [
    "def is_even(x:int):\n",
    "    if x%2==0:\n",
    "        print(f\"{x} is even\")\n",
    "    else:\n",
    "        print(f\"{x} is odd\")"
   ]
  },
  {
   "cell_type": "code",
   "execution_count": 4,
   "id": "042fae5d",
   "metadata": {},
   "outputs": [
    {
     "name": "stdout",
     "output_type": "stream",
     "text": [
      "8 is even\n"
     ]
    }
   ],
   "source": [
    "is_even(8)"
   ]
  },
  {
   "cell_type": "code",
   "execution_count": 5,
   "id": "87359dff",
   "metadata": {},
   "outputs": [
    {
     "ename": "NameError",
     "evalue": "name 'x' is not defined",
     "output_type": "error",
     "traceback": [
      "\u001b[1;31m---------------------------------------------------------------------------\u001b[0m",
      "\u001b[1;31mNameError\u001b[0m                                 Traceback (most recent call last)",
      "\u001b[1;32m~\\AppData\\Local\\Temp\\ipykernel_8312\\2744710341.py\u001b[0m in \u001b[0;36m<module>\u001b[1;34m\u001b[0m\n\u001b[0;32m     10\u001b[0m     \u001b[1;32mfor\u001b[0m \u001b[0mi\u001b[0m\u001b[1;33m,\u001b[0m\u001b[0mk\u001b[0m \u001b[1;32min\u001b[0m \u001b[0mzip\u001b[0m\u001b[1;33m(\u001b[0m\u001b[0mls_1\u001b[0m\u001b[1;33m,\u001b[0m\u001b[0mls\u001b[0m\u001b[1;33m)\u001b[0m\u001b[1;33m:\u001b[0m\u001b[1;33m\u001b[0m\u001b[1;33m\u001b[0m\u001b[0m\n\u001b[0;32m     11\u001b[0m         \u001b[0mx\u001b[0m \u001b[1;33m=\u001b[0m \u001b[0mx\u001b[0m\u001b[1;33m.\u001b[0m\u001b[0mreplace\u001b[0m\u001b[1;33m(\u001b[0m\u001b[0mi\u001b[0m\u001b[1;33m,\u001b[0m\u001b[0mk\u001b[0m\u001b[1;33m)\u001b[0m\u001b[1;33m\u001b[0m\u001b[1;33m\u001b[0m\u001b[0m\n\u001b[1;32m---> 12\u001b[1;33m \u001b[0mprint\u001b[0m\u001b[1;33m(\u001b[0m\u001b[0mx\u001b[0m\u001b[1;33m)\u001b[0m\u001b[1;33m\u001b[0m\u001b[1;33m\u001b[0m\u001b[0m\n\u001b[0m\u001b[0;32m     13\u001b[0m \u001b[1;33m\u001b[0m\u001b[0m\n\u001b[0;32m     14\u001b[0m \u001b[1;33m\u001b[0m\u001b[0m\n",
      "\u001b[1;31mNameError\u001b[0m: name 'x' is not defined"
     ]
    }
   ],
   "source": [
    "def reverse_vowels(x:str):\n",
    "    y = x[:]\n",
    "    ls = []\n",
    "    for i in y:\n",
    "        if i in ['a','e','i','o','u']:\n",
    "            ls.append(i)\n",
    "            ls_1 = ls[:]\n",
    "            \n",
    "    ls.reverse()\n",
    "    for i,k in zip(ls_1,ls):\n",
    "        x = x.replace(i,k)\n",
    "print(x)\n",
    "    \n",
    "            \n",
    "        "
   ]
  },
  {
   "cell_type": "code",
   "execution_count": 6,
   "id": "c84b7ccd",
   "metadata": {},
   "outputs": [],
   "source": [
    "x ='hello'"
   ]
  },
  {
   "cell_type": "code",
   "execution_count": 7,
   "id": "7d939af2",
   "metadata": {},
   "outputs": [],
   "source": [
    " y = x[:]"
   ]
  },
  {
   "cell_type": "code",
   "execution_count": 8,
   "id": "4c6ad687",
   "metadata": {},
   "outputs": [
    {
     "data": {
      "text/plain": [
       "'hello'"
      ]
     },
     "execution_count": 8,
     "metadata": {},
     "output_type": "execute_result"
    }
   ],
   "source": [
    "y"
   ]
  },
  {
   "cell_type": "code",
   "execution_count": 9,
   "id": "a6800ba8",
   "metadata": {},
   "outputs": [
    {
     "name": "stdout",
     "output_type": "stream",
     "text": [
      "['e', 'o']\n"
     ]
    }
   ],
   "source": [
    " ls = []\n",
    "for i in y:\n",
    "        if i in ['a','e','i','o','u']:\n",
    "            ls.append(i)\n",
    "            ls_1 = ls[:]\n",
    "print(ls_1)"
   ]
  },
  {
   "cell_type": "code",
   "execution_count": 10,
   "id": "76da20ff",
   "metadata": {},
   "outputs": [
    {
     "name": "stdout",
     "output_type": "stream",
     "text": [
      "['o', 'e']\n"
     ]
    }
   ],
   "source": [
    "ls.reverse()\n",
    "print(ls)"
   ]
  },
  {
   "cell_type": "code",
   "execution_count": 11,
   "id": "2ea8fc30",
   "metadata": {},
   "outputs": [
    {
     "name": "stdout",
     "output_type": "stream",
     "text": [
      "e o\n",
      "o e\n"
     ]
    }
   ],
   "source": [
    "for i,k in zip(ls_1,ls):\n",
    "    print(i,k)"
   ]
  },
  {
   "cell_type": "code",
   "execution_count": 12,
   "id": "f298e21c",
   "metadata": {},
   "outputs": [
    {
     "data": {
      "text/plain": [
       "['o', 'e']"
      ]
     },
     "execution_count": 12,
     "metadata": {},
     "output_type": "execute_result"
    }
   ],
   "source": [
    "ls"
   ]
  },
  {
   "cell_type": "code",
   "execution_count": 13,
   "id": "e1f1705b",
   "metadata": {},
   "outputs": [
    {
     "data": {
      "text/plain": [
       "['e', 'o']"
      ]
     },
     "execution_count": 13,
     "metadata": {},
     "output_type": "execute_result"
    }
   ],
   "source": [
    "ls_1"
   ]
  },
  {
   "cell_type": "code",
   "execution_count": 14,
   "id": "82fa023c",
   "metadata": {},
   "outputs": [
    {
     "name": "stdout",
     "output_type": "stream",
     "text": [
      "hello\n",
      "hello\n"
     ]
    }
   ],
   "source": [
    "for i,k in zip(ls_1,ls):\n",
    "    x.replace(i,k)\n",
    "    print(x)"
   ]
  },
  {
   "cell_type": "code",
   "execution_count": null,
   "id": "a6ac7ac8",
   "metadata": {},
   "outputs": [],
   "source": []
  },
  {
   "cell_type": "code",
   "execution_count": null,
   "id": "08772031",
   "metadata": {},
   "outputs": [],
   "source": []
  },
  {
   "cell_type": "code",
   "execution_count": null,
   "id": "af4fa0eb",
   "metadata": {},
   "outputs": [],
   "source": []
  },
  {
   "cell_type": "code",
   "execution_count": 15,
   "id": "5082ac45",
   "metadata": {},
   "outputs": [],
   "source": [
    "reverse_vowels('hello')"
   ]
  },
  {
   "cell_type": "code",
   "execution_count": 16,
   "id": "f3f82bb2",
   "metadata": {},
   "outputs": [],
   "source": [
    "lst = ['e','o']\n",
    "lst.reverse()"
   ]
  },
  {
   "cell_type": "code",
   "execution_count": 17,
   "id": "55c185a7",
   "metadata": {},
   "outputs": [
    {
     "data": {
      "text/plain": [
       "['o', 'e']"
      ]
     },
     "execution_count": 17,
     "metadata": {},
     "output_type": "execute_result"
    }
   ],
   "source": [
    "lst"
   ]
  },
  {
   "cell_type": "code",
   "execution_count": 18,
   "id": "ebbf55ed",
   "metadata": {},
   "outputs": [
    {
     "data": {
      "text/plain": [
       "True"
      ]
     },
     "execution_count": 18,
     "metadata": {},
     "output_type": "execute_result"
    }
   ],
   "source": [
    "x= 1\n",
    "type(x)==int"
   ]
  },
  {
   "cell_type": "code",
   "execution_count": 19,
   "id": "94891428",
   "metadata": {},
   "outputs": [
    {
     "data": {
      "text/plain": [
       "4"
      ]
     },
     "execution_count": 19,
     "metadata": {},
     "output_type": "execute_result"
    }
   ],
   "source": [
    "2+2"
   ]
  },
  {
   "cell_type": "code",
   "execution_count": 20,
   "id": "4656e7c8",
   "metadata": {},
   "outputs": [
    {
     "data": {
      "text/plain": [
       "'ali'"
      ]
     },
     "execution_count": 20,
     "metadata": {},
     "output_type": "execute_result"
    }
   ],
   "source": [
    "'ali'"
   ]
  },
  {
   "cell_type": "code",
   "execution_count": 21,
   "id": "6f4c2928",
   "metadata": {},
   "outputs": [],
   "source": [
    "person = {\n",
    "    'name':'John',\n",
    "    \"age\" : 30 ,\n",
    "    \"city\" : \"New York\"\n",
    "}"
   ]
  },
  {
   "cell_type": "code",
   "execution_count": 22,
   "id": "6c910691",
   "metadata": {},
   "outputs": [
    {
     "data": {
      "text/plain": [
       "'John'"
      ]
     },
     "execution_count": 22,
     "metadata": {},
     "output_type": "execute_result"
    }
   ],
   "source": [
    "person['name']"
   ]
  },
  {
   "cell_type": "code",
   "execution_count": 23,
   "id": "ca6866e5",
   "metadata": {},
   "outputs": [],
   "source": [
    "person['job'] = 'ds'"
   ]
  },
  {
   "cell_type": "code",
   "execution_count": 24,
   "id": "dc5d2bfb",
   "metadata": {},
   "outputs": [
    {
     "data": {
      "text/plain": [
       "'ds'"
      ]
     },
     "execution_count": 24,
     "metadata": {},
     "output_type": "execute_result"
    }
   ],
   "source": [
    "person['job']"
   ]
  },
  {
   "cell_type": "code",
   "execution_count": 25,
   "id": "4524a6ec",
   "metadata": {},
   "outputs": [],
   "source": [
    "del person['job']"
   ]
  },
  {
   "cell_type": "code",
   "execution_count": 26,
   "id": "a16a0e99",
   "metadata": {},
   "outputs": [
    {
     "data": {
      "text/plain": [
       "{'name': 'John', 'age': 30, 'city': 'New York'}"
      ]
     },
     "execution_count": 26,
     "metadata": {},
     "output_type": "execute_result"
    }
   ],
   "source": [
    "person"
   ]
  },
  {
   "cell_type": "code",
   "execution_count": 28,
   "id": "aa17861d",
   "metadata": {},
   "outputs": [],
   "source": [
    "list1 = [1,2,3]"
   ]
  },
  {
   "cell_type": "code",
   "execution_count": 29,
   "id": "dd327785",
   "metadata": {},
   "outputs": [],
   "source": [
    "list2 = list1"
   ]
  },
  {
   "cell_type": "code",
   "execution_count": 30,
   "id": "5109c73a",
   "metadata": {},
   "outputs": [
    {
     "data": {
      "text/plain": [
       "True"
      ]
     },
     "execution_count": 30,
     "metadata": {},
     "output_type": "execute_result"
    }
   ],
   "source": [
    "list1 == list2"
   ]
  },
  {
   "cell_type": "code",
   "execution_count": 31,
   "id": "f3432ff3",
   "metadata": {},
   "outputs": [
    {
     "data": {
      "text/plain": [
       "True"
      ]
     },
     "execution_count": 31,
     "metadata": {},
     "output_type": "execute_result"
    }
   ],
   "source": [
    "list2 == list1"
   ]
  },
  {
   "cell_type": "code",
   "execution_count": 34,
   "id": "d30186ab",
   "metadata": {},
   "outputs": [],
   "source": [
    "x = 5\n",
    "y = 10"
   ]
  },
  {
   "cell_type": "code",
   "execution_count": 35,
   "id": "08a7bc94",
   "metadata": {},
   "outputs": [],
   "source": [
    "temp = x "
   ]
  },
  {
   "cell_type": "code",
   "execution_count": 36,
   "id": "6575f29c",
   "metadata": {},
   "outputs": [],
   "source": [
    "x = y "
   ]
  },
  {
   "cell_type": "code",
   "execution_count": 37,
   "id": "0704ea55",
   "metadata": {},
   "outputs": [],
   "source": [
    "y = temp"
   ]
  },
  {
   "cell_type": "code",
   "execution_count": 38,
   "id": "dd83c513",
   "metadata": {},
   "outputs": [
    {
     "name": "stdout",
     "output_type": "stream",
     "text": [
      "10 5\n"
     ]
    }
   ],
   "source": [
    "print(x,y)"
   ]
  },
  {
   "cell_type": "code",
   "execution_count": 39,
   "id": "2d6cfbc7",
   "metadata": {},
   "outputs": [],
   "source": [
    "x= 5\n",
    "y = 10"
   ]
  },
  {
   "cell_type": "code",
   "execution_count": 40,
   "id": "cb3d1de3",
   "metadata": {},
   "outputs": [
    {
     "name": "stdout",
     "output_type": "stream",
     "text": [
      "10 5\n"
     ]
    }
   ],
   "source": [
    "x,y = y, x \n",
    "print(x,y)"
   ]
  },
  {
   "cell_type": "code",
   "execution_count": 47,
   "id": "abb6718c",
   "metadata": {},
   "outputs": [],
   "source": [
    "x = 117"
   ]
  },
  {
   "cell_type": "code",
   "execution_count": 48,
   "id": "ea8dfc57",
   "metadata": {},
   "outputs": [],
   "source": [
    "ls = list(range(int(x/2)+1))\n",
    "ls.append(x)"
   ]
  },
  {
   "cell_type": "code",
   "execution_count": 52,
   "id": "df959443",
   "metadata": {},
   "outputs": [
    {
     "data": {
      "text/plain": [
       "0"
      ]
     },
     "execution_count": 52,
     "metadata": {},
     "output_type": "execute_result"
    }
   ],
   "source": [
    "ls.pop(0)"
   ]
  },
  {
   "cell_type": "code",
   "execution_count": 53,
   "id": "f2416195",
   "metadata": {},
   "outputs": [
    {
     "data": {
      "text/plain": [
       "[1,\n",
       " 2,\n",
       " 3,\n",
       " 4,\n",
       " 5,\n",
       " 6,\n",
       " 7,\n",
       " 8,\n",
       " 9,\n",
       " 10,\n",
       " 11,\n",
       " 12,\n",
       " 13,\n",
       " 14,\n",
       " 15,\n",
       " 16,\n",
       " 17,\n",
       " 18,\n",
       " 19,\n",
       " 20,\n",
       " 21,\n",
       " 22,\n",
       " 23,\n",
       " 24,\n",
       " 25,\n",
       " 26,\n",
       " 27,\n",
       " 28,\n",
       " 29,\n",
       " 30,\n",
       " 31,\n",
       " 32,\n",
       " 33,\n",
       " 34,\n",
       " 35,\n",
       " 36,\n",
       " 37,\n",
       " 38,\n",
       " 39,\n",
       " 40,\n",
       " 41,\n",
       " 42,\n",
       " 43,\n",
       " 44,\n",
       " 45,\n",
       " 46,\n",
       " 47,\n",
       " 48,\n",
       " 49,\n",
       " 50,\n",
       " 51,\n",
       " 52,\n",
       " 53,\n",
       " 54,\n",
       " 55,\n",
       " 56,\n",
       " 57,\n",
       " 58,\n",
       " 117]"
      ]
     },
     "execution_count": 53,
     "metadata": {},
     "output_type": "execute_result"
    }
   ],
   "source": [
    "ls"
   ]
  },
  {
   "cell_type": "code",
   "execution_count": 54,
   "id": "d3f5b899",
   "metadata": {},
   "outputs": [
    {
     "name": "stdout",
     "output_type": "stream",
     "text": [
      "117 is not a prime number\n"
     ]
    }
   ],
   "source": [
    "list1 = []\n",
    "for i in ls:\n",
    "    if x%i==0:\n",
    "        list1.append(i)\n",
    "if len(list1)<=2:\n",
    "    print(f'{x} is a prime number')\n",
    "else:\n",
    "    print(f'{x} is not a prime number')"
   ]
  },
  {
   "cell_type": "code",
   "execution_count": 55,
   "id": "970f295e",
   "metadata": {},
   "outputs": [
    {
     "ename": "NameError",
     "evalue": "name 'factorial' is not defined",
     "output_type": "error",
     "traceback": [
      "\u001b[1;31m---------------------------------------------------------------------------\u001b[0m",
      "\u001b[1;31mNameError\u001b[0m                                 Traceback (most recent call last)",
      "\u001b[1;32m~\\AppData\\Local\\Temp\\ipykernel_8312\\4286945680.py\u001b[0m in \u001b[0;36m<module>\u001b[1;34m\u001b[0m\n\u001b[1;32m----> 1\u001b[1;33m \u001b[0mfactorial\u001b[0m\u001b[1;33m\u001b[0m\u001b[1;33m\u001b[0m\u001b[0m\n\u001b[0m",
      "\u001b[1;31mNameError\u001b[0m: name 'factorial' is not defined"
     ]
    }
   ],
   "source": []
  },
  {
   "cell_type": "code",
   "execution_count": 59,
   "id": "4f762aa9",
   "metadata": {},
   "outputs": [
    {
     "name": "stdout",
     "output_type": "stream",
     "text": [
      "Enter a number : 6\n"
     ]
    }
   ],
   "source": [
    "try:\n",
    "    x = int(input(\"Enter a number : \"))\n",
    "except :\n",
    "    print('Please enter a integer')"
   ]
  },
  {
   "cell_type": "code",
   "execution_count": 62,
   "id": "6586f80c",
   "metadata": {},
   "outputs": [],
   "source": [
    "def factorial(x:int)->int:\n",
    "    y = 1\n",
    "    \n",
    "    if x<0:\n",
    "        print(\"Negative numbers do not have factorial\")\n",
    "    if x == 0 : \n",
    "        print(\"Factorial {x} is 1\")\n",
    "    else:\n",
    "        for i in range(1,x+1):\n",
    "            y*=i\n",
    "    return y\n",
    "            \n",
    "        "
   ]
  },
  {
   "cell_type": "code",
   "execution_count": 63,
   "id": "7200eada",
   "metadata": {},
   "outputs": [
    {
     "data": {
      "text/plain": [
       "720"
      ]
     },
     "execution_count": 63,
     "metadata": {},
     "output_type": "execute_result"
    }
   ],
   "source": [
    "factorial(6)"
   ]
  },
  {
   "cell_type": "code",
   "execution_count": null,
   "id": "f8cd99f9",
   "metadata": {},
   "outputs": [],
   "source": []
  }
 ],
 "metadata": {
  "kernelspec": {
   "display_name": "Python 3 (ipykernel)",
   "language": "python",
   "name": "python3"
  },
  "language_info": {
   "codemirror_mode": {
    "name": "ipython",
    "version": 3
   },
   "file_extension": ".py",
   "mimetype": "text/x-python",
   "name": "python",
   "nbconvert_exporter": "python",
   "pygments_lexer": "ipython3",
   "version": "3.9.13"
  },
  "toc": {
   "base_numbering": 1,
   "nav_menu": {},
   "number_sections": true,
   "sideBar": true,
   "skip_h1_title": false,
   "title_cell": "Table of Contents",
   "title_sidebar": "Contents",
   "toc_cell": false,
   "toc_position": {},
   "toc_section_display": true,
   "toc_window_display": false
  }
 },
 "nbformat": 4,
 "nbformat_minor": 5
}
