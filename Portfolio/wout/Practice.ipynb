{
 "cells": [
  {
   "cell_type": "code",
   "execution_count": 7,
   "id": "edd630a5",
   "metadata": {},
   "outputs": [],
   "source": [
    "def is_even():\n",
    "    x = input(\"Write down a integer\")\n",
    "    if x.is_numeric():\n",
    "        if type(x)==int and x//2==0:\n",
    "            print(\"This number is even\")\n",
    "        else:\n",
    "            print(\"This number is\")\n",
    "    else:\n",
    "        print(\"Please write numeric number\")\n",
    "        "
   ]
  },
  {
   "cell_type": "code",
   "execution_count": 13,
   "id": "b8869204",
   "metadata": {},
   "outputs": [],
   "source": [
    "def is_even(x:int):\n",
    "    if x%2==0:\n",
    "        print(f\"{x} is even\")\n",
    "    else:\n",
    "        print(f\"{x} is odd\")"
   ]
  },
  {
   "cell_type": "code",
   "execution_count": 14,
   "id": "042fae5d",
   "metadata": {},
   "outputs": [
    {
     "name": "stdout",
     "output_type": "stream",
     "text": [
      "8 is even\n"
     ]
    }
   ],
   "source": [
    "is_even(8)"
   ]
  },
  {
   "cell_type": "code",
   "execution_count": 46,
   "id": "87359dff",
   "metadata": {},
   "outputs": [
    {
     "name": "stdout",
     "output_type": "stream",
     "text": [
      "hello\n"
     ]
    }
   ],
   "source": [
    "def reverse_vowels(x:str):\n",
    "    y = x[:]\n",
    "    ls = []\n",
    "    for i in y:\n",
    "        if i in ['a','e','i','o','u']:\n",
    "            ls.append(i)\n",
    "            ls_1 = ls[:]\n",
    "            \n",
    "    ls.reverse()\n",
    "    for i,k in zip(ls_1,ls):\n",
    "        x = x.replace(i,k)\n",
    "print(x)\n",
    "    \n",
    "            \n",
    "        "
   ]
  },
  {
   "cell_type": "code",
   "execution_count": 31,
   "id": "c84b7ccd",
   "metadata": {},
   "outputs": [],
   "source": [
    "x ='hello'"
   ]
  },
  {
   "cell_type": "code",
   "execution_count": 32,
   "id": "7d939af2",
   "metadata": {},
   "outputs": [],
   "source": [
    " y = x[:]"
   ]
  },
  {
   "cell_type": "code",
   "execution_count": 33,
   "id": "4c6ad687",
   "metadata": {},
   "outputs": [
    {
     "data": {
      "text/plain": [
       "'hello'"
      ]
     },
     "execution_count": 33,
     "metadata": {},
     "output_type": "execute_result"
    }
   ],
   "source": [
    "y"
   ]
  },
  {
   "cell_type": "code",
   "execution_count": 35,
   "id": "a6800ba8",
   "metadata": {},
   "outputs": [
    {
     "name": "stdout",
     "output_type": "stream",
     "text": [
      "['e', 'o']\n"
     ]
    }
   ],
   "source": [
    " ls = []\n",
    "for i in y:\n",
    "        if i in ['a','e','i','o','u']:\n",
    "            ls.append(i)\n",
    "            ls_1 = ls[:]\n",
    "print(ls_1)"
   ]
  },
  {
   "cell_type": "code",
   "execution_count": 37,
   "id": "76da20ff",
   "metadata": {},
   "outputs": [
    {
     "name": "stdout",
     "output_type": "stream",
     "text": [
      "['o', 'e']\n"
     ]
    }
   ],
   "source": [
    "ls.reverse()\n",
    "print(ls)"
   ]
  },
  {
   "cell_type": "code",
   "execution_count": 39,
   "id": "2ea8fc30",
   "metadata": {},
   "outputs": [
    {
     "name": "stdout",
     "output_type": "stream",
     "text": [
      "e o\n",
      "o e\n"
     ]
    }
   ],
   "source": [
    "for i,k in zip(ls_1,ls):\n",
    "    print(i,k)"
   ]
  },
  {
   "cell_type": "code",
   "execution_count": 42,
   "id": "f298e21c",
   "metadata": {},
   "outputs": [
    {
     "data": {
      "text/plain": [
       "['o', 'e']"
      ]
     },
     "execution_count": 42,
     "metadata": {},
     "output_type": "execute_result"
    }
   ],
   "source": [
    "ls"
   ]
  },
  {
   "cell_type": "code",
   "execution_count": 45,
   "id": "e1f1705b",
   "metadata": {},
   "outputs": [
    {
     "data": {
      "text/plain": [
       "['e', 'o']"
      ]
     },
     "execution_count": 45,
     "metadata": {},
     "output_type": "execute_result"
    }
   ],
   "source": [
    "ls_1"
   ]
  },
  {
   "cell_type": "code",
   "execution_count": 41,
   "id": "82fa023c",
   "metadata": {},
   "outputs": [
    {
     "name": "stdout",
     "output_type": "stream",
     "text": [
      "hello\n",
      "hello\n"
     ]
    }
   ],
   "source": [
    "for i,k in zip(ls_1,ls):\n",
    "    x.replace(i,k)\n",
    "    print(x)"
   ]
  },
  {
   "cell_type": "code",
   "execution_count": null,
   "id": "a6ac7ac8",
   "metadata": {},
   "outputs": [],
   "source": []
  },
  {
   "cell_type": "code",
   "execution_count": null,
   "id": "08772031",
   "metadata": {},
   "outputs": [],
   "source": []
  },
  {
   "cell_type": "code",
   "execution_count": null,
   "id": "af4fa0eb",
   "metadata": {},
   "outputs": [],
   "source": []
  },
  {
   "cell_type": "code",
   "execution_count": 30,
   "id": "5082ac45",
   "metadata": {},
   "outputs": [
    {
     "name": "stdout",
     "output_type": "stream",
     "text": [
      "hello\n"
     ]
    }
   ],
   "source": [
    "reverse_vowels('hello')"
   ]
  },
  {
   "cell_type": "code",
   "execution_count": 27,
   "id": "f3f82bb2",
   "metadata": {},
   "outputs": [],
   "source": [
    "lst = ['e','o']\n",
    "lst.reverse()"
   ]
  },
  {
   "cell_type": "code",
   "execution_count": 28,
   "id": "55c185a7",
   "metadata": {},
   "outputs": [
    {
     "data": {
      "text/plain": [
       "['o', 'e']"
      ]
     },
     "execution_count": 28,
     "metadata": {},
     "output_type": "execute_result"
    }
   ],
   "source": [
    "lst"
   ]
  },
  {
   "cell_type": "code",
   "execution_count": 5,
   "id": "ebbf55ed",
   "metadata": {},
   "outputs": [
    {
     "data": {
      "text/plain": [
       "True"
      ]
     },
     "execution_count": 5,
     "metadata": {},
     "output_type": "execute_result"
    }
   ],
   "source": [
    "x= 1\n",
    "type(x)==int"
   ]
  },
  {
   "cell_type": "code",
   "execution_count": 2,
   "id": "94891428",
   "metadata": {},
   "outputs": [
    {
     "data": {
      "text/plain": [
       "4"
      ]
     },
     "execution_count": 2,
     "metadata": {},
     "output_type": "execute_result"
    }
   ],
   "source": [
    "2+2"
   ]
  },
  {
   "cell_type": "code",
   "execution_count": null,
   "id": "4656e7c8",
   "metadata": {},
   "outputs": [],
   "source": [
    "'ali'"
   ]
  },
  {
   "cell_type": "code",
   "execution_count": null,
   "id": "6f4c2928",
   "metadata": {},
   "outputs": [],
   "source": []
  }
 ],
 "metadata": {
  "kernelspec": {
   "display_name": "Python 3 (ipykernel)",
   "language": "python",
   "name": "python3"
  },
  "language_info": {
   "codemirror_mode": {
    "name": "ipython",
    "version": 3
   },
   "file_extension": ".py",
   "mimetype": "text/x-python",
   "name": "python",
   "nbconvert_exporter": "python",
   "pygments_lexer": "ipython3",
   "version": "3.9.13"
  },
  "toc": {
   "base_numbering": 1,
   "nav_menu": {},
   "number_sections": true,
   "sideBar": true,
   "skip_h1_title": false,
   "title_cell": "Table of Contents",
   "title_sidebar": "Contents",
   "toc_cell": false,
   "toc_position": {},
   "toc_section_display": true,
   "toc_window_display": false
  }
 },
 "nbformat": 4,
 "nbformat_minor": 5
}
