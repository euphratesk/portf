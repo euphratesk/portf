{
 "cells": [
  {
   "cell_type": "code",
   "execution_count": 62,
   "id": "edd630a5",
   "metadata": {},
   "outputs": [],
   "source": [
    "def is_even(x):\n",
    "    x = int(input(\"Write down a integer\"))\n",
    "    if is_numeric(8):\n",
    "        if type(x)==int and x//2==0:\n",
    "            print(\"This number is even\")\n",
    "        else:\n",
    "            print(\"This number is\")\n",
    "    else:\n",
    "        print(\"Please write numeric number\")\n",
    "        "
   ]
  },
  {
   "cell_type": "code",
   "execution_count": 63,
   "id": "459bff9d",
   "metadata": {},
   "outputs": [
    {
     "name": "stdout",
     "output_type": "stream",
     "text": [
      "Write down a integer8\n"
     ]
    },
    {
     "ename": "NameError",
     "evalue": "name 'is_numeric' is not defined",
     "output_type": "error",
     "traceback": [
      "\u001b[1;31m---------------------------------------------------------------------------\u001b[0m",
      "\u001b[1;31mNameError\u001b[0m                                 Traceback (most recent call last)",
      "Cell \u001b[1;32mIn[63], line 1\u001b[0m\n\u001b[1;32m----> 1\u001b[0m is_even(\u001b[38;5;241m8\u001b[39m)\n",
      "Cell \u001b[1;32mIn[62], line 3\u001b[0m, in \u001b[0;36mis_even\u001b[1;34m(x)\u001b[0m\n\u001b[0;32m      1\u001b[0m \u001b[38;5;28;01mdef\u001b[39;00m \u001b[38;5;21mis_even\u001b[39m(x):\n\u001b[0;32m      2\u001b[0m     x \u001b[38;5;241m=\u001b[39m \u001b[38;5;28mint\u001b[39m(\u001b[38;5;28minput\u001b[39m(\u001b[38;5;124m\"\u001b[39m\u001b[38;5;124mWrite down a integer\u001b[39m\u001b[38;5;124m\"\u001b[39m))\n\u001b[1;32m----> 3\u001b[0m     \u001b[38;5;28;01mif\u001b[39;00m is_numeric(\u001b[38;5;241m8\u001b[39m):\n\u001b[0;32m      4\u001b[0m         \u001b[38;5;28;01mif\u001b[39;00m \u001b[38;5;28mtype\u001b[39m(x)\u001b[38;5;241m==\u001b[39m\u001b[38;5;28mint\u001b[39m \u001b[38;5;129;01mand\u001b[39;00m x\u001b[38;5;241m/\u001b[39m\u001b[38;5;241m/\u001b[39m\u001b[38;5;241m2\u001b[39m\u001b[38;5;241m==\u001b[39m\u001b[38;5;241m0\u001b[39m:\n\u001b[0;32m      5\u001b[0m             \u001b[38;5;28mprint\u001b[39m(\u001b[38;5;124m\"\u001b[39m\u001b[38;5;124mThis number is even\u001b[39m\u001b[38;5;124m\"\u001b[39m)\n",
      "\u001b[1;31mNameError\u001b[0m: name 'is_numeric' is not defined"
     ]
    }
   ],
   "source": [
    "is_even(8)"
   ]
  },
  {
   "cell_type": "code",
   "execution_count": 3,
   "id": "b8869204",
   "metadata": {},
   "outputs": [],
   "source": [
    "def is_even(x:int):\n",
    "    if x%2==0:\n",
    "        print(f\"{x} is even\")\n",
    "    else:\n",
    "        print(f\"{x} is odd\")"
   ]
  },
  {
   "cell_type": "code",
   "execution_count": 4,
   "id": "042fae5d",
   "metadata": {},
   "outputs": [
    {
     "name": "stdout",
     "output_type": "stream",
     "text": [
      "8 is even\n"
     ]
    }
   ],
   "source": [
    "is_even(8)"
   ]
  },
  {
   "cell_type": "code",
   "execution_count": 120,
   "id": "87359dff",
   "metadata": {},
   "outputs": [],
   "source": [
    "def reverse_vowels(x:str):\n",
    "    ls_v = []\n",
    "    ls_k = []\n",
    "    word = dict(enumerate(x)) \n",
    "    for i,k in zip(word.keys(),word.values()):\n",
    "        if k in ['a','e','i','o','u']:\n",
    "            ls_v.append(k)\n",
    "            ls_k.append(i)\n",
    "    for  n,m in zip(ls_k,ls_v[::-1]):\n",
    "         word[n]=m\n",
    "    return ''.join(list(word.values()))     \n",
    "\n",
    "    \n",
    "            \n",
    "        "
   ]
  },
  {
   "cell_type": "code",
   "execution_count": 121,
   "id": "4e03172f",
   "metadata": {},
   "outputs": [
    {
     "data": {
      "text/plain": [
       "'holle'"
      ]
     },
     "execution_count": 121,
     "metadata": {},
     "output_type": "execute_result"
    }
   ],
   "source": [
    "reverse_vowels('hello')"
   ]
  },
  {
   "cell_type": "code",
   "execution_count": 91,
   "id": "32ad0696",
   "metadata": {},
   "outputs": [
    {
     "data": {
      "text/plain": [
       "[0, 1, 2]"
      ]
     },
     "execution_count": 91,
     "metadata": {},
     "output_type": "execute_result"
    }
   ],
   "source": [
    "[i for i,k in zip({0: 'a', 1: 'l', 2: 'i'}.keys(),{0: 'a', 1: 'l', 2: 'i'}.values())]"
   ]
  },
  {
   "cell_type": "code",
   "execution_count": 90,
   "id": "2d13702e",
   "metadata": {},
   "outputs": [
    {
     "data": {
      "text/plain": [
       "[0, 1, 2]"
      ]
     },
     "execution_count": 90,
     "metadata": {},
     "output_type": "execute_result"
    }
   ],
   "source": [
    "list({0: 'a', 1: 'l', 2: 'i'}.keys())"
   ]
  },
  {
   "cell_type": "code",
   "execution_count": null,
   "id": "2181b8e9",
   "metadata": {},
   "outputs": [],
   "source": []
  },
  {
   "cell_type": "code",
   "execution_count": null,
   "id": "72f95710",
   "metadata": {},
   "outputs": [],
   "source": []
  },
  {
   "cell_type": "code",
   "execution_count": null,
   "id": "8c4b3b5f",
   "metadata": {},
   "outputs": [],
   "source": []
  },
  {
   "cell_type": "code",
   "execution_count": 75,
   "id": "31664732",
   "metadata": {},
   "outputs": [
    {
     "data": {
      "text/plain": [
       "{0: 'a', 1: 'l', 2: 'i'}"
      ]
     },
     "execution_count": 75,
     "metadata": {},
     "output_type": "execute_result"
    }
   ],
   "source": [
    "dict(enumerate(\"ali\"))"
   ]
  },
  {
   "cell_type": "code",
   "execution_count": 71,
   "id": "277e078a",
   "metadata": {},
   "outputs": [
    {
     "data": {
      "text/plain": [
       "<enumerate at 0x1e9bba4e700>"
      ]
     },
     "execution_count": 71,
     "metadata": {},
     "output_type": "execute_result"
    }
   ],
   "source": [
    "en"
   ]
  },
  {
   "cell_type": "code",
   "execution_count": null,
   "id": "3519e009",
   "metadata": {},
   "outputs": [],
   "source": [
    "def reverse_vowels(x:str):\n",
    "    enumarate(list(x))"
   ]
  },
  {
   "cell_type": "code",
   "execution_count": 6,
   "id": "c84b7ccd",
   "metadata": {},
   "outputs": [],
   "source": [
    "x ='hello'"
   ]
  },
  {
   "cell_type": "code",
   "execution_count": 7,
   "id": "7d939af2",
   "metadata": {},
   "outputs": [],
   "source": [
    " y = x[:]"
   ]
  },
  {
   "cell_type": "code",
   "execution_count": 8,
   "id": "4c6ad687",
   "metadata": {},
   "outputs": [
    {
     "data": {
      "text/plain": [
       "'hello'"
      ]
     },
     "execution_count": 8,
     "metadata": {},
     "output_type": "execute_result"
    }
   ],
   "source": [
    "y"
   ]
  },
  {
   "cell_type": "code",
   "execution_count": 9,
   "id": "a6800ba8",
   "metadata": {},
   "outputs": [
    {
     "name": "stdout",
     "output_type": "stream",
     "text": [
      "['e', 'o']\n"
     ]
    }
   ],
   "source": [
    " ls = []\n",
    "for i in y:\n",
    "        if i in ['a','e','i','o','u']:\n",
    "            ls.append(i)\n",
    "            ls_1 = ls[:]\n",
    "print(ls_1)"
   ]
  },
  {
   "cell_type": "code",
   "execution_count": 10,
   "id": "76da20ff",
   "metadata": {},
   "outputs": [
    {
     "name": "stdout",
     "output_type": "stream",
     "text": [
      "['o', 'e']\n"
     ]
    }
   ],
   "source": [
    "ls.reverse()\n",
    "print(ls)"
   ]
  },
  {
   "cell_type": "code",
   "execution_count": 11,
   "id": "2ea8fc30",
   "metadata": {},
   "outputs": [
    {
     "name": "stdout",
     "output_type": "stream",
     "text": [
      "e o\n",
      "o e\n"
     ]
    }
   ],
   "source": [
    "for i,k in zip(ls_1,ls):\n",
    "    print(i,k)"
   ]
  },
  {
   "cell_type": "code",
   "execution_count": 12,
   "id": "f298e21c",
   "metadata": {},
   "outputs": [
    {
     "data": {
      "text/plain": [
       "['o', 'e']"
      ]
     },
     "execution_count": 12,
     "metadata": {},
     "output_type": "execute_result"
    }
   ],
   "source": [
    "ls"
   ]
  },
  {
   "cell_type": "code",
   "execution_count": 13,
   "id": "e1f1705b",
   "metadata": {},
   "outputs": [
    {
     "data": {
      "text/plain": [
       "['e', 'o']"
      ]
     },
     "execution_count": 13,
     "metadata": {},
     "output_type": "execute_result"
    }
   ],
   "source": [
    "ls_1"
   ]
  },
  {
   "cell_type": "code",
   "execution_count": 14,
   "id": "82fa023c",
   "metadata": {},
   "outputs": [
    {
     "name": "stdout",
     "output_type": "stream",
     "text": [
      "hello\n",
      "hello\n"
     ]
    }
   ],
   "source": [
    "for i,k in zip(ls_1,ls):\n",
    "    x.replace(i,k)\n",
    "    print(x)"
   ]
  },
  {
   "cell_type": "code",
   "execution_count": null,
   "id": "a6ac7ac8",
   "metadata": {},
   "outputs": [],
   "source": []
  },
  {
   "cell_type": "code",
   "execution_count": null,
   "id": "08772031",
   "metadata": {},
   "outputs": [],
   "source": []
  },
  {
   "cell_type": "code",
   "execution_count": null,
   "id": "af4fa0eb",
   "metadata": {},
   "outputs": [],
   "source": []
  },
  {
   "cell_type": "code",
   "execution_count": 15,
   "id": "5082ac45",
   "metadata": {},
   "outputs": [],
   "source": [
    "reverse_vowels('hello')"
   ]
  },
  {
   "cell_type": "code",
   "execution_count": 16,
   "id": "f3f82bb2",
   "metadata": {},
   "outputs": [],
   "source": [
    "lst = ['e','o']\n",
    "lst.reverse()"
   ]
  },
  {
   "cell_type": "code",
   "execution_count": 17,
   "id": "55c185a7",
   "metadata": {},
   "outputs": [
    {
     "data": {
      "text/plain": [
       "['o', 'e']"
      ]
     },
     "execution_count": 17,
     "metadata": {},
     "output_type": "execute_result"
    }
   ],
   "source": [
    "lst"
   ]
  },
  {
   "cell_type": "code",
   "execution_count": 18,
   "id": "ebbf55ed",
   "metadata": {},
   "outputs": [
    {
     "data": {
      "text/plain": [
       "True"
      ]
     },
     "execution_count": 18,
     "metadata": {},
     "output_type": "execute_result"
    }
   ],
   "source": [
    "x= 1\n",
    "type(x)==int"
   ]
  },
  {
   "cell_type": "code",
   "execution_count": 19,
   "id": "94891428",
   "metadata": {},
   "outputs": [
    {
     "data": {
      "text/plain": [
       "4"
      ]
     },
     "execution_count": 19,
     "metadata": {},
     "output_type": "execute_result"
    }
   ],
   "source": [
    "2+2"
   ]
  },
  {
   "cell_type": "code",
   "execution_count": 20,
   "id": "4656e7c8",
   "metadata": {},
   "outputs": [
    {
     "data": {
      "text/plain": [
       "'ali'"
      ]
     },
     "execution_count": 20,
     "metadata": {},
     "output_type": "execute_result"
    }
   ],
   "source": [
    "'ali'"
   ]
  },
  {
   "cell_type": "code",
   "execution_count": 21,
   "id": "6f4c2928",
   "metadata": {},
   "outputs": [],
   "source": [
    "person = {\n",
    "    'name':'John',\n",
    "    \"age\" : 30 ,\n",
    "    \"city\" : \"New York\"\n",
    "}"
   ]
  },
  {
   "cell_type": "code",
   "execution_count": 22,
   "id": "6c910691",
   "metadata": {},
   "outputs": [
    {
     "data": {
      "text/plain": [
       "'John'"
      ]
     },
     "execution_count": 22,
     "metadata": {},
     "output_type": "execute_result"
    }
   ],
   "source": [
    "person['name']"
   ]
  },
  {
   "cell_type": "code",
   "execution_count": 23,
   "id": "ca6866e5",
   "metadata": {},
   "outputs": [],
   "source": [
    "person['job'] = 'ds'"
   ]
  },
  {
   "cell_type": "code",
   "execution_count": 24,
   "id": "dc5d2bfb",
   "metadata": {},
   "outputs": [
    {
     "data": {
      "text/plain": [
       "'ds'"
      ]
     },
     "execution_count": 24,
     "metadata": {},
     "output_type": "execute_result"
    }
   ],
   "source": [
    "person['job']"
   ]
  },
  {
   "cell_type": "code",
   "execution_count": 25,
   "id": "4524a6ec",
   "metadata": {},
   "outputs": [],
   "source": [
    "del person['job']"
   ]
  },
  {
   "cell_type": "code",
   "execution_count": 26,
   "id": "a16a0e99",
   "metadata": {},
   "outputs": [
    {
     "data": {
      "text/plain": [
       "{'name': 'John', 'age': 30, 'city': 'New York'}"
      ]
     },
     "execution_count": 26,
     "metadata": {},
     "output_type": "execute_result"
    }
   ],
   "source": [
    "person"
   ]
  },
  {
   "cell_type": "code",
   "execution_count": 28,
   "id": "544f492c",
   "metadata": {},
   "outputs": [],
   "source": [
    "list1 = [1,2,3]"
   ]
  },
  {
   "cell_type": "code",
   "execution_count": 29,
   "id": "273f6930",
   "metadata": {},
   "outputs": [],
   "source": []
  },
  {
   "cell_type": "code",
   "execution_count": 30,
   "id": "87b15d21",
   "metadata": {},
   "outputs": [
    {
     "data": {
      "text/plain": [
       "True"
      ]
     },
     "execution_count": 30,
     "metadata": {},
     "output_type": "execute_result"
    }
   ],
   "source": [
    "list1 == list2"
   ]
  },
  {
   "cell_type": "code",
   "execution_count": 31,
   "id": "01c904d1",
   "metadata": {},
   "outputs": [
    {
     "data": {
      "text/plain": [
       "True"
      ]
     },
     "execution_count": 31,
     "metadata": {},
     "output_type": "execute_result"
    }
   ],
   "source": [
    "list2 == list1"
   ]
  },
  {
   "cell_type": "code",
   "execution_count": 34,
   "id": "c3f2be2b",
   "metadata": {},
   "outputs": [],
   "source": [
    "x = 5\n",
    "y = 10"
   ]
  },
  {
   "cell_type": "code",
   "execution_count": 35,
   "id": "7e18940b",
   "metadata": {},
   "outputs": [],
   "source": [
    "temp = x "
   ]
  },
  {
   "cell_type": "code",
   "execution_count": 36,
   "id": "73e2feda",
   "metadata": {},
   "outputs": [],
   "source": [
    "x = y "
   ]
  },
  {
   "cell_type": "code",
   "execution_count": 37,
   "id": "a80c30d4",
   "metadata": {},
   "outputs": [],
   "source": [
    "y = temp"
   ]
  },
  {
   "cell_type": "code",
   "execution_count": 38,
   "id": "f3fe7585",
   "metadata": {},
   "outputs": [
    {
     "name": "stdout",
     "output_type": "stream",
     "text": [
      "10 5\n"
     ]
    }
   ],
   "source": [
    "print(x,y)"
   ]
  },
  {
   "cell_type": "code",
   "execution_count": 39,
   "id": "4c710390",
   "metadata": {},
   "outputs": [],
   "source": [
    "x= 5\n",
    "y = 10"
   ]
  },
  {
   "cell_type": "code",
   "execution_count": 40,
   "id": "5463743f",
   "metadata": {},
   "outputs": [
    {
     "name": "stdout",
     "output_type": "stream",
     "text": [
      "10 5\n"
     ]
    }
   ],
   "source": [
    "x,y = y, x \n",
    "print(x,y)"
   ]
  },
  {
   "cell_type": "code",
   "execution_count": 47,
   "id": "e10010df",
   "metadata": {},
   "outputs": [],
   "source": [
    "x = 117"
   ]
  },
  {
   "cell_type": "code",
   "execution_count": 48,
   "id": "5949c7b0",
   "metadata": {},
   "outputs": [],
   "source": [
    "ls = list(range(int(x/2)+1))\n",
    "ls.append(x)"
   ]
  },
  {
   "cell_type": "code",
   "execution_count": 52,
   "id": "983e1d12",
   "metadata": {},
   "outputs": [
    {
     "data": {
      "text/plain": [
       "0"
      ]
     },
     "execution_count": 52,
     "metadata": {},
     "output_type": "execute_result"
    }
   ],
   "source": [
    "ls.pop(0)"
   ]
  },
  {
   "cell_type": "code",
   "execution_count": 53,
   "id": "b1186ac8",
   "metadata": {},
   "outputs": [
    {
     "data": {
      "text/plain": [
       "[1,\n",
       " 2,\n",
       " 3,\n",
       " 4,\n",
       " 5,\n",
       " 6,\n",
       " 7,\n",
       " 8,\n",
       " 9,\n",
       " 10,\n",
       " 11,\n",
       " 12,\n",
       " 13,\n",
       " 14,\n",
       " 15,\n",
       " 16,\n",
       " 17,\n",
       " 18,\n",
       " 19,\n",
       " 20,\n",
       " 21,\n",
       " 22,\n",
       " 23,\n",
       " 24,\n",
       " 25,\n",
       " 26,\n",
       " 27,\n",
       " 28,\n",
       " 29,\n",
       " 30,\n",
       " 31,\n",
       " 32,\n",
       " 33,\n",
       " 34,\n",
       " 35,\n",
       " 36,\n",
       " 37,\n",
       " 38,\n",
       " 39,\n",
       " 40,\n",
       " 41,\n",
       " 42,\n",
       " 43,\n",
       " 44,\n",
       " 45,\n",
       " 46,\n",
       " 47,\n",
       " 48,\n",
       " 49,\n",
       " 50,\n",
       " 51,\n",
       " 52,\n",
       " 53,\n",
       " 54,\n",
       " 55,\n",
       " 56,\n",
       " 57,\n",
       " 58,\n",
       " 117]"
      ]
     },
     "execution_count": 53,
     "metadata": {},
     "output_type": "execute_result"
    }
   ],
   "source": [
    "ls"
   ]
  },
  {
   "cell_type": "code",
   "execution_count": 123,
   "id": "659ddd7c",
   "metadata": {},
   "outputs": [],
   "source": [
    "def factorial(x):\n",
    "    if x==0 or x==1:\n",
    "        return 1\n",
    "    return x*factorial(x-1)"
   ]
  },
  {
   "cell_type": "code",
   "execution_count": 124,
   "id": "b21aaef1",
   "metadata": {},
   "outputs": [
    {
     "data": {
      "text/plain": [
       "120"
      ]
     },
     "execution_count": 124,
     "metadata": {},
     "output_type": "execute_result"
    }
   ],
   "source": [
    "factorial(5)"
   ]
  },
  {
   "cell_type": "code",
   "execution_count": 54,
   "id": "adc06325",
   "metadata": {},
   "outputs": [
    {
     "name": "stdout",
     "output_type": "stream",
     "text": [
      "117 is not a prime number\n"
     ]
    }
   ],
   "source": [
    "list1 = []\n",
    "for i in ls:\n",
    "    if x%i==0:\n",
    "        list1.append(i)a\n",
    "        \n",
    "    print(f'{x} is a prime number')\n",
    "else:\n",
    "    print(f'{x} is not a prime number')"
   ]
  },
  {
   "cell_type": "code",
   "execution_count": null,
   "id": "875df130",
   "metadata": {},
   "outputs": [],
   "source": []
  },
  {
   "cell_type": "code",
   "execution_count": 55,
   "id": "0c38623b",
   "metadata": {},
   "outputs": [
    {
     "ename": "NameError",
     "evalue": "name 'factorial' is not defined",
     "output_type": "error",
     "traceback": [
      "\u001b[1;31m---------------------------------------------------------------------------\u001b[0m",
      "\u001b[1;31mNameError\u001b[0m                                 Traceback (most recent call last)",
      "\u001b[1;32m~\\AppData\\Local\\Temp\\ipykernel_8312\\4286945680.py\u001b[0m in \u001b[0;36m<module>\u001b[1;34m\u001b[0m\n\u001b[1;32m----> 1\u001b[1;33m \u001b[0mfactorial\u001b[0m\u001b[1;33m\u001b[0m\u001b[1;33m\u001b[0m\u001b[0m\n\u001b[0m",
      "\u001b[1;31mNameError\u001b[0m: name 'factorial' is not defined"
     ]
    }
   ],
   "source": []
  },
  {
   "cell_type": "code",
   "execution_count": 65,
   "id": "a90a7cd9",
   "metadata": {},
   "outputs": [
    {
     "name": "stdout",
     "output_type": "stream",
     "text": [
      "Enter a number : a\n",
      "Please enter a integer\n"
     ]
    }
   ],
   "source": [
    "try:\n",
    "    x = int(input(\"Enter a number : \"))\n",
    "except :\n",
    "    print('Please enter a integer')"
   ]
  },
  {
   "cell_type": "code",
   "execution_count": 129,
   "id": "0ed93401",
   "metadata": {},
   "outputs": [],
   "source": [
    "def factorial(x:int)->int:\n",
    "    y = 1\n",
    "    \n",
    "    if x<0:\n",
    "        print(\"Negative numbers do not have factorial\")\n",
    "    if x == 0 : \n",
    "        print(f\"Factorial {x} is 1\")\n",
    "    else:\n",
    "        for i in range(1,x+1):\n",
    "            y*=i\n",
    "    return y\n",
    "            \n",
    "        "
   ]
  },
  {
   "cell_type": "code",
   "execution_count": 132,
   "id": "6dc2ed7a",
   "metadata": {},
   "outputs": [
    {
     "name": "stdout",
     "output_type": "stream",
     "text": [
      "Factorial 0 is 1\n"
     ]
    },
    {
     "data": {
      "text/plain": [
       "1"
      ]
     },
     "execution_count": 132,
     "metadata": {},
     "output_type": "execute_result"
    }
   ],
   "source": [
    "factorial(0)"
   ]
  },
  {
   "cell_type": "code",
   "execution_count": 137,
   "id": "c02022d1",
   "metadata": {},
   "outputs": [],
   "source": [
    "def factorial(x):\n",
    "    y= 1\n",
    "    if x<0:\n",
    "        print('No factorial value')\n",
    "    else:\n",
    "        for i in range(1,x+1):\n",
    "            y*=(i)\n",
    "    return y        "
   ]
  },
  {
   "cell_type": "code",
   "execution_count": 138,
   "id": "d49fce3d",
   "metadata": {},
   "outputs": [
    {
     "data": {
      "text/plain": [
       "120"
      ]
     },
     "execution_count": 138,
     "metadata": {},
     "output_type": "execute_result"
    }
   ],
   "source": [
    "factorial(5)"
   ]
  },
  {
   "cell_type": "code",
   "execution_count": 66,
   "id": "cd72a771",
   "metadata": {},
   "outputs": [],
   "source": [
    "import random"
   ]
  },
  {
   "cell_type": "code",
   "execution_count": 70,
   "id": "e1856f76",
   "metadata": {},
   "outputs": [
    {
     "data": {
      "text/plain": [
       "9"
      ]
     },
     "execution_count": 70,
     "metadata": {},
     "output_type": "execute_result"
    }
   ],
   "source": [
    "int(random.random()*10)"
   ]
  },
  {
   "cell_type": "code",
   "execution_count": 72,
   "id": "43db0f09",
   "metadata": {},
   "outputs": [
    {
     "data": {
      "text/plain": [
       "517"
      ]
     },
     "execution_count": 72,
     "metadata": {},
     "output_type": "execute_result"
    }
   ],
   "source": [
    "random.randint(1,1000)"
   ]
  },
  {
   "cell_type": "code",
   "execution_count": 78,
   "id": "ddf4afa4",
   "metadata": {},
   "outputs": [
    {
     "data": {
      "text/plain": [
       "678"
      ]
     },
     "execution_count": 78,
     "metadata": {},
     "output_type": "execute_result"
    }
   ],
   "source": [
    "random.randrange(0,1000,2)"
   ]
  },
  {
   "cell_type": "code",
   "execution_count": 81,
   "id": "7519153d",
   "metadata": {},
   "outputs": [],
   "source": [
    "numlist = random.sample(range(0,100),7)"
   ]
  },
  {
   "cell_type": "code",
   "execution_count": 82,
   "id": "b1129f9c",
   "metadata": {},
   "outputs": [
    {
     "data": {
      "text/plain": [
       "[99, 86, 92, 1, 95, 35, 75]"
      ]
     },
     "execution_count": 82,
     "metadata": {},
     "output_type": "execute_result"
    }
   ],
   "source": [
    "numlist"
   ]
  },
  {
   "cell_type": "code",
   "execution_count": 84,
   "id": "39ed43cd",
   "metadata": {},
   "outputs": [
    {
     "name": "stdout",
     "output_type": "stream",
     "text": [
      "[0, 1, 1, 2, 3, 5, 8, 13, 21, 34]\n"
     ]
    }
   ],
   "source": [
    "count = 0\n",
    "ls = [0,1]\n",
    "while count <8:\n",
    "    x = ls[-1]+ls[-2]\n",
    "    ls.append(x)\n",
    "    count +=1\n",
    "    \n",
    "print(ls)"
   ]
  },
  {
   "cell_type": "code",
   "execution_count": null,
   "id": "fc2d8bb8",
   "metadata": {},
   "outputs": [],
   "source": [
    "\"\"\"\"\n",
    "Q3. Write a code snippet to reverse a string.\n",
    "Ans. Here, we have reversed a string without using any in-built function.\n",
    "\"\"\"\""
   ]
  },
  {
   "cell_type": "code",
   "execution_count": 85,
   "id": "07615322",
   "metadata": {},
   "outputs": [],
   "source": [
    "str1  = \"Analytic Geometry\""
   ]
  },
  {
   "cell_type": "code",
   "execution_count": 87,
   "id": "589d1af0",
   "metadata": {},
   "outputs": [
    {
     "data": {
      "text/plain": [
       "'yrtemoeG citylanA'"
      ]
     },
     "execution_count": 87,
     "metadata": {},
     "output_type": "execute_result"
    }
   ],
   "source": [
    "\"\".join(list(str1)[::-1])"
   ]
  },
  {
   "cell_type": "code",
   "execution_count": 88,
   "id": "c3e4a519",
   "metadata": {},
   "outputs": [],
   "source": [
    "x = \"abckcba\""
   ]
  },
  {
   "cell_type": "code",
   "execution_count": 91,
   "id": "24792853",
   "metadata": {},
   "outputs": [],
   "source": [
    "import math"
   ]
  },
  {
   "cell_type": "code",
   "execution_count": 92,
   "id": "6588f345",
   "metadata": {},
   "outputs": [
    {
     "data": {
      "text/plain": [
       "4"
      ]
     },
     "execution_count": 92,
     "metadata": {},
     "output_type": "execute_result"
    }
   ],
   "source": [
    "math.ceil(len(x)/2)"
   ]
  },
  {
   "cell_type": "code",
   "execution_count": 93,
   "id": "6875592d",
   "metadata": {},
   "outputs": [
    {
     "data": {
      "text/plain": [
       "3"
      ]
     },
     "execution_count": 93,
     "metadata": {},
     "output_type": "execute_result"
    }
   ],
   "source": [
    "math.floor(len(x)/2)"
   ]
  },
  {
   "cell_type": "code",
   "execution_count": 118,
   "id": "9f4722e9",
   "metadata": {},
   "outputs": [
    {
     "name": "stdout",
     "output_type": "stream",
     "text": [
      "abckcba is a polindrome\n"
     ]
    }
   ],
   "source": [
    "if len(x)%2==0:\n",
    "    if x[:len(x)/2] == x[len(x)/2:]:\n",
    "        print(f'{x} is a polindrome')\n",
    "    else:\n",
    "        print(f'{x} is not a polindrome')\n",
    "else:\n",
    "    if x[:math.floor(len(x)/2)]==x[:math.floor(len(x)/2):-1]:\n",
    "        print(f'{x} is a polindrome')\n",
    "    else:\n",
    "        print(f'{x} is not a polindrome')\n",
    "                           \n",
    "                    \n",
    "              "
   ]
  },
  {
   "cell_type": "code",
   "execution_count": 112,
   "id": "a9216815",
   "metadata": {
    "scrolled": true
   },
   "outputs": [
    {
     "data": {
      "text/plain": [
       "'ckcba'"
      ]
     },
     "execution_count": 112,
     "metadata": {},
     "output_type": "execute_result"
    }
   ],
   "source": [
    "x[math.ceil(len(x)/2)::-1]"
   ]
  },
  {
   "cell_type": "code",
   "execution_count": 102,
   "id": "725142fa",
   "metadata": {},
   "outputs": [
    {
     "data": {
      "text/plain": [
       "-7"
      ]
     },
     "execution_count": 102,
     "metadata": {},
     "output_type": "execute_result"
    }
   ],
   "source": [
    "-1*math.floor(len(x))"
   ]
  },
  {
   "cell_type": "code",
   "execution_count": 106,
   "id": "2f0282ff",
   "metadata": {},
   "outputs": [
    {
     "data": {
      "text/plain": [
       "3"
      ]
     },
     "execution_count": 106,
     "metadata": {},
     "output_type": "execute_result"
    }
   ],
   "source": [
    "math.floor(len(x)/2)"
   ]
  },
  {
   "cell_type": "code",
   "execution_count": 110,
   "id": "da6ae849",
   "metadata": {},
   "outputs": [
    {
     "data": {
      "text/plain": [
       "4"
      ]
     },
     "execution_count": 110,
     "metadata": {},
     "output_type": "execute_result"
    }
   ],
   "source": [
    "math.ceil(len(x)/2)"
   ]
  },
  {
   "cell_type": "code",
   "execution_count": 113,
   "id": "44aa917c",
   "metadata": {},
   "outputs": [
    {
     "data": {
      "text/plain": [
       "4"
      ]
     },
     "execution_count": 113,
     "metadata": {},
     "output_type": "execute_result"
    }
   ],
   "source": [
    "math.ceil(len(x)/2)"
   ]
  },
  {
   "cell_type": "code",
   "execution_count": null,
   "id": "94bc2817",
   "metadata": {},
   "outputs": [],
   "source": [
    "x[:3:-1]"
   ]
  },
  {
   "cell_type": "code",
   "execution_count": 124,
   "id": "4e4447a8",
   "metadata": {},
   "outputs": [],
   "source": [
    "with open('abc.txt','w') as f:\n",
    "    pass\n",
    "    "
   ]
  },
  {
   "cell_type": "code",
   "execution_count": 126,
   "id": "c8333055",
   "metadata": {},
   "outputs": [],
   "source": [
    "with open('xyz.txt','w') as f:\n",
    "    f.write('script')\n",
    "f.close()"
   ]
  },
  {
   "cell_type": "code",
   "execution_count": 127,
   "id": "2e00fd51",
   "metadata": {},
   "outputs": [
    {
     "name": "stdout",
     "output_type": "stream",
     "text": [
      "script\n"
     ]
    }
   ],
   "source": [
    "with open('xyz.txt','r') as f:\n",
    "    x= f.read()\n",
    "    print(x)\n",
    "f.close()"
   ]
  },
  {
   "cell_type": "code",
   "execution_count": 120,
   "id": "d0ac5afd",
   "metadata": {},
   "outputs": [],
   "source": [
    "import os"
   ]
  },
  {
   "cell_type": "code",
   "execution_count": 127,
   "id": "d6d14374",
   "metadata": {},
   "outputs": [],
   "source": [
    "f.close()"
   ]
  },
  {
   "cell_type": "code",
   "execution_count": 1,
   "id": "04184784",
   "metadata": {},
   "outputs": [
    {
     "data": {
      "application/javascript": [
       "\n",
       "        if (window._pyforest_update_imports_cell) { window._pyforest_update_imports_cell('import os'); }\n",
       "    "
      ],
      "text/plain": [
       "<IPython.core.display.Javascript object>"
      ]
     },
     "metadata": {},
     "output_type": "display_data"
    }
   ],
   "source": [
    "os.remove('xyz.txt')"
   ]
  },
  {
   "cell_type": "code",
   "execution_count": 129,
   "id": "5358e8c4",
   "metadata": {},
   "outputs": [
    {
     "data": {
      "text/plain": [
       "1"
      ]
     },
     "execution_count": 129,
     "metadata": {},
     "output_type": "execute_result"
    }
   ],
   "source": [
    "os.system('abc.txt')"
   ]
  },
  {
   "cell_type": "code",
   "execution_count": 3,
   "id": "38b5b4af",
   "metadata": {},
   "outputs": [],
   "source": [
    "list1 = [1,1,2,3,4,5,6]"
   ]
  },
  {
   "cell_type": "code",
   "execution_count": null,
   "id": "16046832",
   "metadata": {},
   "outputs": [],
   "source": [
    "list1 = "
   ]
  },
  {
   "cell_type": "code",
   "execution_count": null,
   "id": "0852d130",
   "metadata": {},
   "outputs": [],
   "source": [
    "#prime number icin 2 den basla karkok +1 icin butun sayilara bol eger kalan sifir veren varsa prime degil\n",
    "#kaln sifir veren yoksa prime\n"
   ]
  },
  {
   "cell_type": "code",
   "execution_count": 4,
   "id": "776dc0e7",
   "metadata": {},
   "outputs": [
    {
     "data": {
      "text/plain": [
       "3"
      ]
     },
     "execution_count": 4,
     "metadata": {},
     "output_type": "execute_result"
    }
   ],
   "source": [
    "from functools import reduce\n",
    "\n",
    "reduce(lambda x, y: x if x < y else y, [5,7,3,4,5,6,])"
   ]
  },
  {
   "cell_type": "code",
   "execution_count": 10,
   "id": "3f2b9c1d",
   "metadata": {},
   "outputs": [],
   "source": [
    "dellist = [5,7,3,4,5,6,1]"
   ]
  },
  {
   "cell_type": "code",
   "execution_count": 11,
   "id": "c3d9e640",
   "metadata": {},
   "outputs": [],
   "source": [
    "del dellist[0]"
   ]
  },
  {
   "cell_type": "code",
   "execution_count": 12,
   "id": "db02ce5a",
   "metadata": {},
   "outputs": [
    {
     "data": {
      "text/plain": [
       "[7, 3, 4, 5, 6, 1]"
      ]
     },
     "execution_count": 12,
     "metadata": {},
     "output_type": "execute_result"
    }
   ],
   "source": [
    "dellist"
   ]
  },
  {
   "cell_type": "code",
   "execution_count": 14,
   "id": "870d6bd9",
   "metadata": {},
   "outputs": [
    {
     "ename": "AttributeError",
     "evalue": "'list' object has no attribute 'max'",
     "output_type": "error",
     "traceback": [
      "\u001b[1;31m---------------------------------------------------------------------------\u001b[0m",
      "\u001b[1;31mAttributeError\u001b[0m                            Traceback (most recent call last)",
      "\u001b[1;32m~\\AppData\\Local\\Temp\\ipykernel_4864\\3888764247.py\u001b[0m in \u001b[0;36m<module>\u001b[1;34m\u001b[0m\n\u001b[1;32m----> 1\u001b[1;33m \u001b[0mlist1\u001b[0m\u001b[1;33m.\u001b[0m\u001b[0mmax\u001b[0m\u001b[1;33m(\u001b[0m\u001b[1;33m)\u001b[0m\u001b[1;33m\u001b[0m\u001b[1;33m\u001b[0m\u001b[0m\n\u001b[0m",
      "\u001b[1;31mAttributeError\u001b[0m: 'list' object has no attribute 'max'"
     ]
    }
   ],
   "source": [
    "list1"
   ]
  },
  {
   "cell_type": "code",
   "execution_count": 15,
   "id": "7347ddc3",
   "metadata": {},
   "outputs": [
    {
     "data": {
      "text/plain": [
       "6"
      ]
     },
     "execution_count": 15,
     "metadata": {},
     "output_type": "execute_result"
    }
   ],
   "source": [
    "max(list1)"
   ]
  },
  {
   "cell_type": "code",
   "execution_count": 16,
   "id": "4784f038",
   "metadata": {},
   "outputs": [
    {
     "data": {
      "text/plain": [
       "1"
      ]
     },
     "execution_count": 16,
     "metadata": {},
     "output_type": "execute_result"
    }
   ],
   "source": [
    "min(list1)"
   ]
  },
  {
   "cell_type": "code",
   "execution_count": 17,
   "id": "28d193fe",
   "metadata": {},
   "outputs": [
    {
     "data": {
      "text/plain": [
       "3"
      ]
     },
     "execution_count": 17,
     "metadata": {},
     "output_type": "execute_result"
    }
   ],
   "source": [
    "min([5,7,3,4,5,6,])"
   ]
  },
  {
   "cell_type": "code",
   "execution_count": 18,
   "id": "6ff09702",
   "metadata": {},
   "outputs": [],
   "source": [
    "dic = {\"x\":3,\"y\":4,\"z\":5,\"t\":10}"
   ]
  },
  {
   "cell_type": "code",
   "execution_count": 20,
   "id": "037643b2",
   "metadata": {},
   "outputs": [
    {
     "data": {
      "text/plain": [
       "3"
      ]
     },
     "execution_count": 20,
     "metadata": {},
     "output_type": "execute_result"
    }
   ],
   "source": [
    "min(dic.values())"
   ]
  },
  {
   "cell_type": "code",
   "execution_count": 26,
   "id": "5bb549de",
   "metadata": {},
   "outputs": [],
   "source": [
    "tup = ((0,1,2,3),(4,5,6,7),(8,9,10))"
   ]
  },
  {
   "cell_type": "code",
   "execution_count": 27,
   "id": "884fdde7",
   "metadata": {},
   "outputs": [
    {
     "data": {
      "text/plain": [
       "5.0"
      ]
     },
     "execution_count": 27,
     "metadata": {},
     "output_type": "execute_result"
    }
   ],
   "source": [
    "sum([y for i in tup for y in i])/len([y for i in tup for y in i])"
   ]
  },
  {
   "cell_type": "code",
   "execution_count": 25,
   "id": "7b7f6dd1",
   "metadata": {},
   "outputs": [
    {
     "data": {
      "text/plain": [
       "[0, 1, 2, 3, 4, 5, 6, 8, 9, 10]"
      ]
     },
     "execution_count": 25,
     "metadata": {},
     "output_type": "execute_result"
    }
   ],
   "source": [
    "[y for i in tup for y in i]"
   ]
  },
  {
   "cell_type": "code",
   "execution_count": null,
   "id": "be17c3eb",
   "metadata": {},
   "outputs": [],
   "source": [
    "#Check palindrome"
   ]
  },
  {
   "cell_type": "code",
   "execution_count": 1,
   "id": "1092f9d5",
   "metadata": {},
   "outputs": [],
   "source": [
    "def is_palindrome(string):\n",
    "    \n",
    "    reverse_string = string[::-1]\n",
    "    return reverse_string == string\n",
    "                        "
   ]
  },
  {
   "cell_type": "code",
   "execution_count": 2,
   "id": "317bcfda",
   "metadata": {},
   "outputs": [],
   "source": [
    "word = \"madam\""
   ]
  },
  {
   "cell_type": "code",
   "execution_count": 3,
   "id": "161ac7c7",
   "metadata": {},
   "outputs": [
    {
     "name": "stdout",
     "output_type": "stream",
     "text": [
      "madam is palindrome\n"
     ]
    }
   ],
   "source": [
    "if is_palindrome(word):\n",
    "    print( word,\"is palindrome\")\n",
    "else : \n",
    "    print(word, \"is not a palindroeme\")\n",
    "    "
   ]
  },
  {
   "cell_type": "code",
   "execution_count": null,
   "id": "f295ccb5",
   "metadata": {},
   "outputs": [],
   "source": []
  },
  {
   "cell_type": "code",
   "execution_count": null,
   "id": "ab0dacdd",
   "metadata": {},
   "outputs": [],
   "source": [
    "#write a programe to find th efactoriual of a number"
   ]
  },
  {
   "cell_type": "code",
   "execution_count": 16,
   "id": "2b0b954f",
   "metadata": {},
   "outputs": [],
   "source": [
    "def factorial(x:int):\n",
    "    value=1\n",
    "    if x <0:\n",
    "        print('Negative number has no facorial values')\n",
    "    elif x==0:\n",
    "        print(f\"Factorial of {x} = 1\")\n",
    "    else:\n",
    "        while 1<=x:\n",
    "            value *=x\n",
    "            x=(x-1)\n",
    "    return value\n",
    "        \n",
    "        "
   ]
  },
  {
   "cell_type": "code",
   "execution_count": 17,
   "id": "58cc285d",
   "metadata": {},
   "outputs": [
    {
     "data": {
      "text/plain": [
       "120"
      ]
     },
     "execution_count": 17,
     "metadata": {},
     "output_type": "execute_result"
    }
   ],
   "source": [
    "factorial(5)"
   ]
  },
  {
   "cell_type": "code",
   "execution_count": 18,
   "id": "50eb7055",
   "metadata": {},
   "outputs": [],
   "source": [
    "def factorial(n):\n",
    "    if n==0:\n",
    "        return 1\n",
    "    else:\n",
    "        return n*factorial(n-1)"
   ]
  },
  {
   "cell_type": "code",
   "execution_count": 19,
   "id": "a1b4efe6",
   "metadata": {},
   "outputs": [
    {
     "data": {
      "text/plain": [
       "120"
      ]
     },
     "execution_count": 19,
     "metadata": {},
     "output_type": "execute_result"
    }
   ],
   "source": [
    "factorial(5)"
   ]
  },
  {
   "cell_type": "code",
   "execution_count": null,
   "id": "f12c9a21",
   "metadata": {},
   "outputs": [],
   "source": [
    "#def find_largest number in a list"
   ]
  },
  {
   "cell_type": "code",
   "execution_count": 22,
   "id": "fa1e7e58",
   "metadata": {},
   "outputs": [],
   "source": [
    "def find_largest(numbers):\n",
    "    largest = numbers[0]\n",
    "    for  num in numbers:\n",
    "        if num >largest:\n",
    "                largest= num\n",
    "    return largest"
   ]
  },
  {
   "cell_type": "code",
   "execution_count": 23,
   "id": "1f674e7a",
   "metadata": {},
   "outputs": [
    {
     "data": {
      "text/plain": [
       "10"
      ]
     },
     "execution_count": 23,
     "metadata": {},
     "output_type": "execute_result"
    }
   ],
   "source": [
    "find_largest([1,2,3,4,5,6,4,6,2,8,2,10])"
   ]
  },
  {
   "cell_type": "code",
   "execution_count": null,
   "id": "c79ede08",
   "metadata": {},
   "outputs": [],
   "source": [
    "largest = numbers[0]\n",
    "for num in numbers:\n",
    "    if num>largest:\n",
    "        largest = num\n",
    "return largest"
   ]
  },
  {
   "cell_type": "code",
   "execution_count": null,
   "id": "a477b946",
   "metadata": {},
   "outputs": [],
   "source": [
    "#Write a program to calculate frequency of number in a list"
   ]
  },
  {
   "cell_type": "code",
   "execution_count": 33,
   "id": "5403bc8c",
   "metadata": {},
   "outputs": [],
   "source": [
    "def freq(liste:list):\n",
    "    \n",
    "    return {i: str(liste.count(i))+' Adet' for i in set(liste)}\n",
    "        \n",
    "        \n",
    "        "
   ]
  },
  {
   "cell_type": "code",
   "execution_count": 34,
   "id": "8ce68ded",
   "metadata": {},
   "outputs": [
    {
     "data": {
      "text/plain": [
       "{1: '4 Adet',\n",
       " 4: '1 Adet',\n",
       " 5: '1 Adet',\n",
       " 6: '3 Adet',\n",
       " 7: '1 Adet',\n",
       " 8: '4 Adet',\n",
       " 10: '1 Adet'}"
      ]
     },
     "execution_count": 34,
     "metadata": {},
     "output_type": "execute_result"
    }
   ],
   "source": [
    "freq([1,1,1,1,4,5,6,6,6,7,8,8,8,8,10])"
   ]
  },
  {
   "cell_type": "code",
   "execution_count": 28,
   "id": "8cc54eb1",
   "metadata": {},
   "outputs": [
    {
     "name": "stdout",
     "output_type": "stream",
     "text": [
      "1\n",
      "4\n",
      "5\n",
      "6\n",
      "7\n",
      "8\n",
      "10\n"
     ]
    }
   ],
   "source": [
    "for i in set([1,1,1,1,4,5,6,6,6,7,8,8,8,8,10]):\n",
    "    print(i)"
   ]
  },
  {
   "cell_type": "code",
   "execution_count": 54,
   "id": "c46ef7bd",
   "metadata": {},
   "outputs": [],
   "source": [
    "def prime(x:int):\n",
    "    for i in range(2,int(x**0.5)+1):\n",
    "        if x<2:\n",
    "            return False\n",
    "        elif x%i!=0:\n",
    "            return True\n",
    "        elif x%i==0:\n",
    "            return False\n",
    "   \n",
    "        "
   ]
  },
  {
   "cell_type": "code",
   "execution_count": 55,
   "id": "0464216e",
   "metadata": {},
   "outputs": [
    {
     "name": "stdout",
     "output_type": "stream",
     "text": [
      "27  is a prime\n"
     ]
    }
   ],
   "source": [
    "num = 27 \n",
    "if prime(num):\n",
    "    print(num, ' is a prime')\n",
    "else:\n",
    "    print(num,' is not a prime')"
   ]
  },
  {
   "cell_type": "code",
   "execution_count": 41,
   "id": "137b70b1",
   "metadata": {},
   "outputs": [
    {
     "name": "stdout",
     "output_type": "stream",
     "text": [
      "27  is prime\n",
      "27 is not a prime\n",
      "27  is prime\n",
      "27  is prime\n"
     ]
    }
   ],
   "source": [
    "prime(27)"
   ]
  },
  {
   "cell_type": "code",
   "execution_count": 35,
   "id": "75ea578b",
   "metadata": {},
   "outputs": [
    {
     "data": {
      "text/plain": [
       "5.196152422706632"
      ]
     },
     "execution_count": 35,
     "metadata": {},
     "output_type": "execute_result"
    }
   ],
   "source": [
    "27**0.5"
   ]
  },
  {
   "cell_type": "code",
   "execution_count": 43,
   "id": "6fd83aa1",
   "metadata": {},
   "outputs": [
    {
     "data": {
      "text/plain": [
       "[2, 3, 4, 5]"
      ]
     },
     "execution_count": 43,
     "metadata": {},
     "output_type": "execute_result"
    }
   ],
   "source": [
    "list(range(2,int(27**0.5)+1))"
   ]
  },
  {
   "cell_type": "code",
   "execution_count": 128,
   "id": "59a5a0d1",
   "metadata": {},
   "outputs": [],
   "source": [
    "def is_prime(x):\n",
    "    if x<2:\n",
    "        return False\n",
    "    for i in range(2,int(x**0.5)+1):\n",
    "        if x%i==0:\n",
    "            return False\n",
    "    return True   "
   ]
  },
  {
   "cell_type": "code",
   "execution_count": 129,
   "id": "f19cac0d",
   "metadata": {},
   "outputs": [
    {
     "data": {
      "text/plain": [
       "True"
      ]
     },
     "execution_count": 129,
     "metadata": {},
     "output_type": "execute_result"
    }
   ],
   "source": [
    "is_prime(11)"
   ]
  },
  {
   "cell_type": "code",
   "execution_count": 140,
   "id": "9e4c5f3e",
   "metadata": {},
   "outputs": [
    {
     "name": "stdout",
     "output_type": "stream",
     "text": [
      "19  is prime\n"
     ]
    }
   ],
   "source": [
    "def is_prime(x):\n",
    "    if x<2:\n",
    "        return False\n",
    "    for i in range(2,int(x**0.5)+1):\n",
    "        if x%i==0:\n",
    "            return False\n",
    "    return True\n",
    "\n",
    "num = 19\n",
    "if is_prime(num):\n",
    "    print(num,' is prime')\n",
    "else:\n",
    "    print(num,' is not a prime')"
   ]
  },
  {
   "cell_type": "code",
   "execution_count": 130,
   "id": "c4b74a36",
   "metadata": {},
   "outputs": [
    {
     "data": {
      "text/plain": [
       "{0, 1}"
      ]
     },
     "execution_count": 130,
     "metadata": {},
     "output_type": "execute_result"
    }
   ],
   "source": [
    "set([1,2,3,5,2,0])&set([1,15,6,0])"
   ]
  },
  {
   "cell_type": "code",
   "execution_count": 141,
   "id": "1a83ca04",
   "metadata": {},
   "outputs": [],
   "source": [
    "def common(list1,list2):\n",
    "    return set([i for i in list1 if i in list2]) \n",
    "        "
   ]
  },
  {
   "cell_type": "code",
   "execution_count": 143,
   "id": "5ff22f14",
   "metadata": {},
   "outputs": [
    {
     "data": {
      "text/plain": [
       "{2, 4, 6}"
      ]
     },
     "execution_count": 143,
     "metadata": {},
     "output_type": "execute_result"
    }
   ],
   "source": [
    "common([1,2,3,4,5,6,7],[10,2,4,6])"
   ]
  },
  {
   "cell_type": "code",
   "execution_count": 168,
   "id": "37eab406",
   "metadata": {},
   "outputs": [],
   "source": [
    "def second_largest(x):\n",
    "    new_list = []\n",
    "    \n",
    "   \n",
    "    while len(new_list)<3:\n",
    "        largest = x[0]\n",
    "        for i in x:\n",
    "            if i>largest:\n",
    "                largest = i\n",
    "        x.remove(largest)\n",
    "        new_list.append(largest)\n",
    "        \n",
    " \n",
    "    return new_list[1]  \n",
    "            \n",
    "        "
   ]
  },
  {
   "cell_type": "code",
   "execution_count": 169,
   "id": "14202b3c",
   "metadata": {},
   "outputs": [
    {
     "data": {
      "text/plain": [
       "8"
      ]
     },
     "execution_count": 169,
     "metadata": {},
     "output_type": "execute_result"
    }
   ],
   "source": [
    "second_largest([1,2,3,4,5,6,7,8,9])"
   ]
  },
  {
   "cell_type": "code",
   "execution_count": 170,
   "id": "eacc75de",
   "metadata": {},
   "outputs": [],
   "source": [
    "import numpy\n",
    "def uni(list1):\n",
    "    return numpy.unique(list1)"
   ]
  },
  {
   "cell_type": "code",
   "execution_count": 171,
   "id": "7726120a",
   "metadata": {},
   "outputs": [
    {
     "data": {
      "text/plain": [
       "array([1, 2, 3, 4, 5, 6, 7])"
      ]
     },
     "execution_count": 171,
     "metadata": {},
     "output_type": "execute_result"
    }
   ],
   "source": [
    "uni([1,1,1,2,3,4,5,5,6,7,6,])"
   ]
  },
  {
   "cell_type": "code",
   "execution_count": 173,
   "id": "844d8871",
   "metadata": {},
   "outputs": [
    {
     "data": {
      "text/plain": [
       "[1, 2, 3, 4, 5, 6, 7]"
      ]
     },
     "execution_count": 173,
     "metadata": {},
     "output_type": "execute_result"
    }
   ],
   "source": [
    "list(set([1,1,1,2,3,4,5,5,6,7,6,]))"
   ]
  },
  {
   "cell_type": "code",
   "execution_count": null,
   "id": "936feb37",
   "metadata": {},
   "outputs": [],
   "source": []
  },
  {
   "cell_type": "code",
   "execution_count": 1,
   "id": "5c680620",
   "metadata": {},
   "outputs": [],
   "source": [
    "import decimal"
   ]
  },
  {
   "cell_type": "code",
   "execution_count": 3,
   "id": "36e69cae",
   "metadata": {},
   "outputs": [
    {
     "data": {
      "text/plain": [
       "Decimal('10')"
      ]
     },
     "execution_count": 3,
     "metadata": {},
     "output_type": "execute_result"
    }
   ],
   "source": [
    "decimal.Decimal(10)"
   ]
  },
  {
   "cell_type": "code",
   "execution_count": 6,
   "id": "c071cf40",
   "metadata": {},
   "outputs": [],
   "source": [
    "fib = [0,1]"
   ]
  },
  {
   "cell_type": "code",
   "execution_count": 7,
   "id": "7e917205",
   "metadata": {},
   "outputs": [
    {
     "name": "stdout",
     "output_type": "stream",
     "text": [
      "[0, 1, 1, 2, 3, 5, 8]\n"
     ]
    }
   ],
   "source": [
    "for i in range(5):\n",
    "    fib.append(fib[-1]+fib[-2])\n",
    "print(fib)"
   ]
  },
  {
   "cell_type": "code",
   "execution_count": 13,
   "id": "e567bb26",
   "metadata": {},
   "outputs": [
    {
     "data": {
      "text/plain": [
       "[1, 2, 3, [3, 4, 5]]"
      ]
     },
     "execution_count": 13,
     "metadata": {},
     "output_type": "execute_result"
    }
   ],
   "source": [
    "list1 = [1,2,3]\n",
    "list1.append([3,4,5])\n",
    "list1"
   ]
  },
  {
   "cell_type": "code",
   "execution_count": 15,
   "id": "88798b11",
   "metadata": {},
   "outputs": [
    {
     "data": {
      "text/plain": [
       "[1, 2, 3, 3, 4, 5]"
      ]
     },
     "execution_count": 15,
     "metadata": {},
     "output_type": "execute_result"
    }
   ],
   "source": [
    "list1 = [1,2,3]\n",
    "list1.extend([3,4,5])\n",
    "list1"
   ]
  },
  {
   "cell_type": "code",
   "execution_count": 16,
   "id": "9d26b003",
   "metadata": {},
   "outputs": [
    {
     "data": {
      "text/plain": [
       "5"
      ]
     },
     "execution_count": 16,
     "metadata": {},
     "output_type": "execute_result"
    }
   ],
   "source": [
    "\"Pro g r amm  ing\".count(' ')"
   ]
  },
  {
   "cell_type": "code",
   "execution_count": 17,
   "id": "705da040",
   "metadata": {},
   "outputs": [],
   "source": [
    "string = \"Python is 1 \""
   ]
  },
  {
   "cell_type": "code",
   "execution_count": 18,
   "id": "93c22b23",
   "metadata": {},
   "outputs": [],
   "source": [
    "import re"
   ]
  },
  {
   "cell_type": "code",
   "execution_count": 21,
   "id": "78e7b834",
   "metadata": {},
   "outputs": [
    {
     "data": {
      "text/plain": [
       "'1'"
      ]
     },
     "execution_count": 21,
     "metadata": {},
     "output_type": "execute_result"
    }
   ],
   "source": [
    "re.sub(\"[^0-9]\",\"\",string)"
   ]
  },
  {
   "cell_type": "code",
   "execution_count": 22,
   "id": "3637b2ca",
   "metadata": {},
   "outputs": [
    {
     "data": {
      "text/plain": [
       "'Pythonis'"
      ]
     },
     "execution_count": 22,
     "metadata": {},
     "output_type": "execute_result"
    }
   ],
   "source": [
    "re.sub(\"[^A-Za-z]\",\"\",string)"
   ]
  },
  {
   "cell_type": "code",
   "execution_count": 26,
   "id": "94e19a12",
   "metadata": {},
   "outputs": [
    {
     "data": {
      "text/plain": [
       "[' ', ' ', ' ']"
      ]
     },
     "execution_count": 26,
     "metadata": {},
     "output_type": "execute_result"
    }
   ],
   "source": [
    "re.findall(\"[\\s]\",string)"
   ]
  },
  {
   "cell_type": "code",
   "execution_count": 27,
   "id": "dac2eef4",
   "metadata": {},
   "outputs": [
    {
     "data": {
      "text/plain": [
       "'Pythonis1'"
      ]
     },
     "execution_count": 27,
     "metadata": {},
     "output_type": "execute_result"
    }
   ],
   "source": [
    "string.replace(\" \",\"\")"
   ]
  },
  {
   "cell_type": "code",
   "execution_count": 28,
   "id": "55915ac8",
   "metadata": {},
   "outputs": [],
   "source": [
    "from random import shuffle"
   ]
  },
  {
   "cell_type": "code",
   "execution_count": 33,
   "id": "a5babd5c",
   "metadata": {},
   "outputs": [],
   "source": [
    "list1 = ['ali','veli','elli']"
   ]
  },
  {
   "cell_type": "code",
   "execution_count": 34,
   "id": "f90e3db4",
   "metadata": {},
   "outputs": [],
   "source": [
    "shuffle(list1)"
   ]
  },
  {
   "cell_type": "code",
   "execution_count": 35,
   "id": "925e676f",
   "metadata": {},
   "outputs": [
    {
     "data": {
      "text/plain": [
       "['veli', 'ali', 'elli']"
      ]
     },
     "execution_count": 35,
     "metadata": {},
     "output_type": "execute_result"
    }
   ],
   "source": [
    "list1"
   ]
  },
  {
   "cell_type": "code",
   "execution_count": 55,
   "id": "2dc95ff4",
   "metadata": {},
   "outputs": [],
   "source": [
    "def this_prime(x):\n",
    "    if x<2:\n",
    "        return False\n",
    "    for i in range(2,int(x**0.5)+1):\n",
    "        if x%i==0:\n",
    "            return False\n",
    "    return True\n",
    "\n",
    "num = 20\n",
    "\n",
    "        "
   ]
  },
  {
   "cell_type": "code",
   "execution_count": 56,
   "id": "f8e44b92",
   "metadata": {},
   "outputs": [],
   "source": [
    "def first_n(n):\n",
    "    \n",
    "    first_n = []\n",
    "    while len(first_n)<n+1:\n",
    "        for i in range(n**2):\n",
    "            if this_prime(i):\n",
    "                first_n.append(i)\n",
    "    return first_n[:5]   \n"
   ]
  },
  {
   "cell_type": "code",
   "execution_count": 57,
   "id": "8703fadf",
   "metadata": {},
   "outputs": [
    {
     "data": {
      "text/plain": [
       "[2, 3, 5, 7, 11]"
      ]
     },
     "execution_count": 57,
     "metadata": {},
     "output_type": "execute_result"
    }
   ],
   "source": [
    "first_n(5)"
   ]
  },
  {
   "cell_type": "code",
   "execution_count": 14,
   "id": "403127dd",
   "metadata": {},
   "outputs": [],
   "source": [
    "class MyMath:\n",
    "    def __init__(self,name,surname,job,salary):\n",
    "        self.name = name\n",
    "        self.surname = surname\n",
    "        self.job = job\n",
    "        self.salary = salary\n",
    "    \n",
    "    def fullname(self):\n",
    "        print(f\"{self.name+' '+ self.surname}\")"
   ]
  },
  {
   "cell_type": "code",
   "execution_count": 15,
   "id": "b358aebe",
   "metadata": {},
   "outputs": [],
   "source": [
    "my = MyMath('Ali','Veli','Teacher','2000')"
   ]
  },
  {
   "cell_type": "code",
   "execution_count": 16,
   "id": "5e271277",
   "metadata": {},
   "outputs": [
    {
     "name": "stdout",
     "output_type": "stream",
     "text": [
      "Ali Veli\n"
     ]
    }
   ],
   "source": [
    "my.fullname()"
   ]
  },
  {
   "cell_type": "code",
   "execution_count": 17,
   "id": "0d0922e0",
   "metadata": {},
   "outputs": [
    {
     "data": {
      "text/plain": [
       "{'name': 'Ali', 'surname': 'Veli', 'job': 'Teacher', 'salary': '2000'}"
      ]
     },
     "execution_count": 17,
     "metadata": {},
     "output_type": "execute_result"
    }
   ],
   "source": [
    "my.__dict__"
   ]
  },
  {
   "cell_type": "code",
   "execution_count": 31,
   "id": "b889c686",
   "metadata": {},
   "outputs": [],
   "source": [
    "class Employee:\n",
    "    \"\"\"Employee Class : name, surname, pay\"\"\"\n",
    "    \n",
    "    raise_amount = 1.2\n",
    "    \n",
    "    def __init__(self, name, surname, pay):\n",
    "        self.name = name\n",
    "        self.surname = surname\n",
    "        self.pay = pay\n",
    "        \n",
    "    def fullname(self):\n",
    "        print(f\"{self.name+' '+self.surname}\")\n",
    "        \n",
    "    def pay_raised(self):\n",
    "        \n",
    "        print(f\"pay raise is  : {int(self.pay)*Employee.raise_amount}\")\n",
    "        "
   ]
  },
  {
   "cell_type": "code",
   "execution_count": 32,
   "id": "b4caf70d",
   "metadata": {},
   "outputs": [],
   "source": [
    "employ = Employee('Ali','Veli','2000')"
   ]
  },
  {
   "cell_type": "code",
   "execution_count": 33,
   "id": "6c6c9524",
   "metadata": {},
   "outputs": [
    {
     "name": "stdout",
     "output_type": "stream",
     "text": [
      "pay raise is  : 2400.0\n"
     ]
    }
   ],
   "source": [
    "employ.pay_raised()"
   ]
  },
  {
   "cell_type": "code",
   "execution_count": 34,
   "id": "04271d9e",
   "metadata": {},
   "outputs": [
    {
     "data": {
      "text/plain": [
       "1.2"
      ]
     },
     "execution_count": 34,
     "metadata": {},
     "output_type": "execute_result"
    }
   ],
   "source": [
    "employ.raise_amount"
   ]
  },
  {
   "cell_type": "code",
   "execution_count": 35,
   "id": "e4168f27",
   "metadata": {},
   "outputs": [
    {
     "data": {
      "text/plain": [
       "'2000'"
      ]
     },
     "execution_count": 35,
     "metadata": {},
     "output_type": "execute_result"
    }
   ],
   "source": [
    "employ.pay"
   ]
  },
  {
   "cell_type": "code",
   "execution_count": 36,
   "id": "e3633889",
   "metadata": {},
   "outputs": [
    {
     "name": "stdout",
     "output_type": "stream",
     "text": [
      "pay raise is  : 2400.0\n"
     ]
    }
   ],
   "source": [
    "employ.pay_raised()"
   ]
  },
  {
   "cell_type": "code",
   "execution_count": 37,
   "id": "8f716bd3",
   "metadata": {},
   "outputs": [
    {
     "ename": "NameError",
     "evalue": "name 'x' is not defined",
     "output_type": "error",
     "traceback": [
      "\u001b[1;31m---------------------------------------------------------------------------\u001b[0m",
      "\u001b[1;31mNameError\u001b[0m                                 Traceback (most recent call last)",
      "\u001b[1;32m~\\AppData\\Local\\Temp\\ipykernel_7696\\2577835645.py\u001b[0m in \u001b[0;36m<module>\u001b[1;34m\u001b[0m\n\u001b[0;32m      1\u001b[0m \u001b[0mbolunen\u001b[0m \u001b[1;33m=\u001b[0m \u001b[1;36m10\u001b[0m\u001b[1;33m\u001b[0m\u001b[1;33m\u001b[0m\u001b[0m\n\u001b[1;32m----> 2\u001b[1;33m \u001b[0mx\u001b[0m\u001b[1;33m\u001b[0m\u001b[1;33m\u001b[0m\u001b[0m\n\u001b[0m\u001b[0;32m      3\u001b[0m \u001b[0mbolen\u001b[0m \u001b[1;33m=\u001b[0m \u001b[1;36m0\u001b[0m\u001b[1;33m\u001b[0m\u001b[1;33m\u001b[0m\u001b[0m\n\u001b[0;32m      4\u001b[0m \u001b[1;33m\u001b[0m\u001b[0m\n\u001b[0;32m      5\u001b[0m \u001b[1;32mtry\u001b[0m\u001b[1;33m:\u001b[0m\u001b[1;33m\u001b[0m\u001b[1;33m\u001b[0m\u001b[0m\n",
      "\u001b[1;31mNameError\u001b[0m: name 'x' is not defined"
     ]
    }
   ],
   "source": [
    "bolunen = 10\n",
    "x\n",
    "bolen = 0\n",
    "\n",
    "try:\n",
    "    bolum=bolunen/bolen\n",
    "except ZeroDivisionError:\n",
    "    print(\"Hata\")\n",
    "    "
   ]
  },
  {
   "cell_type": "code",
   "execution_count": 40,
   "id": "3e749cb2",
   "metadata": {},
   "outputs": [
    {
     "name": "stdout",
     "output_type": "stream",
     "text": [
      "Tanimlanamayan Degisken\n"
     ]
    }
   ],
   "source": [
    "\n",
    "\n",
    "try:\n",
    "    bolunen = 10\n",
    "    x\n",
    "    bolen = 0\n",
    "    bolum=bolunen/bolen\n",
    "except ZeroDivisionError:\n",
    "    print(\"Hata\")\n",
    "    \n",
    "except NameError:\n",
    "    print(\"Tanimlanamayan Degisken\")"
   ]
  },
  {
   "cell_type": "code",
   "execution_count": 42,
   "id": "7bcc8367",
   "metadata": {},
   "outputs": [
    {
     "data": {
      "text/plain": [
       "['ALI', 'VELI', 'KIRK']"
      ]
     },
     "execution_count": 42,
     "metadata": {},
     "output_type": "execute_result"
    }
   ],
   "source": [
    "[i.upper()for  i in ['Ali','veli','kIrk']]"
   ]
  },
  {
   "cell_type": "code",
   "execution_count": 45,
   "id": "33299a01",
   "metadata": {},
   "outputs": [
    {
     "name": "stdout",
     "output_type": "stream",
     "text": [
      "sayi5\n",
      "girdiginiz sayi :  5\n",
      "program cikiliyor\n",
      "sayi6\n",
      "girdiginiz sayi :  6\n",
      "program cikiliyor\n",
      "sayi7\n",
      "girdiginiz sayi :  7\n",
      "program cikiliyor\n"
     ]
    },
    {
     "ename": "KeyboardInterrupt",
     "evalue": "Interrupted by user",
     "output_type": "error",
     "traceback": [
      "\u001b[1;31m---------------------------------------------------------------------------\u001b[0m",
      "\u001b[1;31mKeyboardInterrupt\u001b[0m                         Traceback (most recent call last)",
      "\u001b[1;32m~\\AppData\\Local\\Temp\\ipykernel_7696\\1361404686.py\u001b[0m in \u001b[0;36m<module>\u001b[1;34m\u001b[0m\n\u001b[0;32m      1\u001b[0m \u001b[1;32mwhile\u001b[0m \u001b[1;32mTrue\u001b[0m\u001b[1;33m:\u001b[0m\u001b[1;33m\u001b[0m\u001b[1;33m\u001b[0m\u001b[0m\n\u001b[0;32m      2\u001b[0m     \u001b[1;32mtry\u001b[0m\u001b[1;33m:\u001b[0m\u001b[1;33m\u001b[0m\u001b[1;33m\u001b[0m\u001b[0m\n\u001b[1;32m----> 3\u001b[1;33m         \u001b[0msayi\u001b[0m\u001b[1;33m=\u001b[0m\u001b[0mint\u001b[0m\u001b[1;33m(\u001b[0m\u001b[0minput\u001b[0m\u001b[1;33m(\u001b[0m\u001b[1;34m\"sayi\"\u001b[0m\u001b[1;33m)\u001b[0m\u001b[1;33m)\u001b[0m\u001b[1;33m\u001b[0m\u001b[1;33m\u001b[0m\u001b[0m\n\u001b[0m\u001b[0;32m      4\u001b[0m         \u001b[0mprint\u001b[0m\u001b[1;33m(\u001b[0m\u001b[1;34m\"girdiginiz sayi : \"\u001b[0m\u001b[1;33m,\u001b[0m\u001b[0msayi\u001b[0m\u001b[1;33m)\u001b[0m\u001b[1;33m\u001b[0m\u001b[1;33m\u001b[0m\u001b[0m\n\u001b[0;32m      5\u001b[0m     \u001b[1;32mexcept\u001b[0m \u001b[0mException\u001b[0m \u001b[1;32mas\u001b[0m \u001b[0me\u001b[0m\u001b[1;33m:\u001b[0m\u001b[1;33m\u001b[0m\u001b[1;33m\u001b[0m\u001b[0m\n",
      "\u001b[1;32m~\\anaconda3\\lib\\site-packages\\ipykernel\\kernelbase.py\u001b[0m in \u001b[0;36mraw_input\u001b[1;34m(self, prompt)\u001b[0m\n\u001b[0;32m   1175\u001b[0m                 \u001b[1;34m\"raw_input was called, but this frontend does not support input requests.\"\u001b[0m\u001b[1;33m\u001b[0m\u001b[1;33m\u001b[0m\u001b[0m\n\u001b[0;32m   1176\u001b[0m             )\n\u001b[1;32m-> 1177\u001b[1;33m         return self._input_request(\n\u001b[0m\u001b[0;32m   1178\u001b[0m             \u001b[0mstr\u001b[0m\u001b[1;33m(\u001b[0m\u001b[0mprompt\u001b[0m\u001b[1;33m)\u001b[0m\u001b[1;33m,\u001b[0m\u001b[1;33m\u001b[0m\u001b[1;33m\u001b[0m\u001b[0m\n\u001b[0;32m   1179\u001b[0m             \u001b[0mself\u001b[0m\u001b[1;33m.\u001b[0m\u001b[0m_parent_ident\u001b[0m\u001b[1;33m[\u001b[0m\u001b[1;34m\"shell\"\u001b[0m\u001b[1;33m]\u001b[0m\u001b[1;33m,\u001b[0m\u001b[1;33m\u001b[0m\u001b[1;33m\u001b[0m\u001b[0m\n",
      "\u001b[1;32m~\\anaconda3\\lib\\site-packages\\ipykernel\\kernelbase.py\u001b[0m in \u001b[0;36m_input_request\u001b[1;34m(self, prompt, ident, parent, password)\u001b[0m\n\u001b[0;32m   1217\u001b[0m             \u001b[1;32mexcept\u001b[0m \u001b[0mKeyboardInterrupt\u001b[0m\u001b[1;33m:\u001b[0m\u001b[1;33m\u001b[0m\u001b[1;33m\u001b[0m\u001b[0m\n\u001b[0;32m   1218\u001b[0m                 \u001b[1;31m# re-raise KeyboardInterrupt, to truncate traceback\u001b[0m\u001b[1;33m\u001b[0m\u001b[1;33m\u001b[0m\u001b[0m\n\u001b[1;32m-> 1219\u001b[1;33m                 \u001b[1;32mraise\u001b[0m \u001b[0mKeyboardInterrupt\u001b[0m\u001b[1;33m(\u001b[0m\u001b[1;34m\"Interrupted by user\"\u001b[0m\u001b[1;33m)\u001b[0m \u001b[1;32mfrom\u001b[0m \u001b[1;32mNone\u001b[0m\u001b[1;33m\u001b[0m\u001b[1;33m\u001b[0m\u001b[0m\n\u001b[0m\u001b[0;32m   1220\u001b[0m             \u001b[1;32mexcept\u001b[0m \u001b[0mException\u001b[0m\u001b[1;33m:\u001b[0m\u001b[1;33m\u001b[0m\u001b[1;33m\u001b[0m\u001b[0m\n\u001b[0;32m   1221\u001b[0m                 \u001b[0mself\u001b[0m\u001b[1;33m.\u001b[0m\u001b[0mlog\u001b[0m\u001b[1;33m.\u001b[0m\u001b[0mwarning\u001b[0m\u001b[1;33m(\u001b[0m\u001b[1;34m\"Invalid Message:\"\u001b[0m\u001b[1;33m,\u001b[0m \u001b[0mexc_info\u001b[0m\u001b[1;33m=\u001b[0m\u001b[1;32mTrue\u001b[0m\u001b[1;33m)\u001b[0m\u001b[1;33m\u001b[0m\u001b[1;33m\u001b[0m\u001b[0m\n",
      "\u001b[1;31mKeyboardInterrupt\u001b[0m: Interrupted by user"
     ]
    }
   ],
   "source": [
    "while True:\n",
    "    try:\n",
    "        sayi=int(input(\"sayi\"))\n",
    "        print(\"girdiginiz sayi : \",sayi)\n",
    "    except Exception as e:\n",
    "        print('Lutfen gecerli bir sayi giriniz')\n",
    "        print(\"Hata: \",e)\n",
    "    else:\n",
    "        print(\"program cikiliyor\")\n",
    "        break\n",
    "        "
   ]
  },
  {
   "cell_type": "code",
   "execution_count": 47,
   "id": "1b9de9be",
   "metadata": {},
   "outputs": [
    {
     "name": "stdout",
     "output_type": "stream",
     "text": [
      "sayi:ali\n",
      "Lutfen gecerli bir numerik deger giriniz\n",
      "Hata:  invalid literal for int() with base 10: 'ali'\n",
      "fina\n",
      "fina\n"
     ]
    },
    {
     "ename": "KeyboardInterrupt",
     "evalue": "Interrupted by user",
     "output_type": "error",
     "traceback": [
      "\u001b[1;31m---------------------------------------------------------------------------\u001b[0m",
      "\u001b[1;31mKeyboardInterrupt\u001b[0m                         Traceback (most recent call last)",
      "\u001b[1;32m~\\AppData\\Local\\Temp\\ipykernel_7696\\98199209.py\u001b[0m in \u001b[0;36m<module>\u001b[1;34m\u001b[0m\n\u001b[0;32m      1\u001b[0m \u001b[1;32mwhile\u001b[0m \u001b[1;32mTrue\u001b[0m\u001b[1;33m:\u001b[0m\u001b[1;33m\u001b[0m\u001b[1;33m\u001b[0m\u001b[0m\n\u001b[0;32m      2\u001b[0m     \u001b[1;32mtry\u001b[0m\u001b[1;33m:\u001b[0m\u001b[1;33m\u001b[0m\u001b[1;33m\u001b[0m\u001b[0m\n\u001b[1;32m----> 3\u001b[1;33m         \u001b[0msayi\u001b[0m \u001b[1;33m=\u001b[0m \u001b[0mint\u001b[0m\u001b[1;33m(\u001b[0m\u001b[0minput\u001b[0m\u001b[1;33m(\u001b[0m\u001b[1;34m\"sayi:\"\u001b[0m\u001b[1;33m)\u001b[0m\u001b[1;33m)\u001b[0m\u001b[1;33m\u001b[0m\u001b[1;33m\u001b[0m\u001b[0m\n\u001b[0m\u001b[0;32m      4\u001b[0m         \u001b[0mprint\u001b[0m\u001b[1;33m(\u001b[0m\u001b[1;34m\"girdiginiz sayi:\"\u001b[0m\u001b[1;33m,\u001b[0m \u001b[0msayi\u001b[0m\u001b[1;33m)\u001b[0m\u001b[1;33m\u001b[0m\u001b[1;33m\u001b[0m\u001b[0m\n\u001b[0;32m      5\u001b[0m     \u001b[1;32mexcept\u001b[0m \u001b[0mException\u001b[0m \u001b[1;32mas\u001b[0m \u001b[0me\u001b[0m\u001b[1;33m:\u001b[0m\u001b[1;33m\u001b[0m\u001b[1;33m\u001b[0m\u001b[0m\n",
      "\u001b[1;32m~\\anaconda3\\lib\\site-packages\\ipykernel\\kernelbase.py\u001b[0m in \u001b[0;36mraw_input\u001b[1;34m(self, prompt)\u001b[0m\n\u001b[0;32m   1175\u001b[0m                 \u001b[1;34m\"raw_input was called, but this frontend does not support input requests.\"\u001b[0m\u001b[1;33m\u001b[0m\u001b[1;33m\u001b[0m\u001b[0m\n\u001b[0;32m   1176\u001b[0m             )\n\u001b[1;32m-> 1177\u001b[1;33m         return self._input_request(\n\u001b[0m\u001b[0;32m   1178\u001b[0m             \u001b[0mstr\u001b[0m\u001b[1;33m(\u001b[0m\u001b[0mprompt\u001b[0m\u001b[1;33m)\u001b[0m\u001b[1;33m,\u001b[0m\u001b[1;33m\u001b[0m\u001b[1;33m\u001b[0m\u001b[0m\n\u001b[0;32m   1179\u001b[0m             \u001b[0mself\u001b[0m\u001b[1;33m.\u001b[0m\u001b[0m_parent_ident\u001b[0m\u001b[1;33m[\u001b[0m\u001b[1;34m\"shell\"\u001b[0m\u001b[1;33m]\u001b[0m\u001b[1;33m,\u001b[0m\u001b[1;33m\u001b[0m\u001b[1;33m\u001b[0m\u001b[0m\n",
      "\u001b[1;32m~\\anaconda3\\lib\\site-packages\\ipykernel\\kernelbase.py\u001b[0m in \u001b[0;36m_input_request\u001b[1;34m(self, prompt, ident, parent, password)\u001b[0m\n\u001b[0;32m   1217\u001b[0m             \u001b[1;32mexcept\u001b[0m \u001b[0mKeyboardInterrupt\u001b[0m\u001b[1;33m:\u001b[0m\u001b[1;33m\u001b[0m\u001b[1;33m\u001b[0m\u001b[0m\n\u001b[0;32m   1218\u001b[0m                 \u001b[1;31m# re-raise KeyboardInterrupt, to truncate traceback\u001b[0m\u001b[1;33m\u001b[0m\u001b[1;33m\u001b[0m\u001b[0m\n\u001b[1;32m-> 1219\u001b[1;33m                 \u001b[1;32mraise\u001b[0m \u001b[0mKeyboardInterrupt\u001b[0m\u001b[1;33m(\u001b[0m\u001b[1;34m\"Interrupted by user\"\u001b[0m\u001b[1;33m)\u001b[0m \u001b[1;32mfrom\u001b[0m \u001b[1;32mNone\u001b[0m\u001b[1;33m\u001b[0m\u001b[1;33m\u001b[0m\u001b[0m\n\u001b[0m\u001b[0;32m   1220\u001b[0m             \u001b[1;32mexcept\u001b[0m \u001b[0mException\u001b[0m\u001b[1;33m:\u001b[0m\u001b[1;33m\u001b[0m\u001b[1;33m\u001b[0m\u001b[0m\n\u001b[0;32m   1221\u001b[0m                 \u001b[0mself\u001b[0m\u001b[1;33m.\u001b[0m\u001b[0mlog\u001b[0m\u001b[1;33m.\u001b[0m\u001b[0mwarning\u001b[0m\u001b[1;33m(\u001b[0m\u001b[1;34m\"Invalid Message:\"\u001b[0m\u001b[1;33m,\u001b[0m \u001b[0mexc_info\u001b[0m\u001b[1;33m=\u001b[0m\u001b[1;32mTrue\u001b[0m\u001b[1;33m)\u001b[0m\u001b[1;33m\u001b[0m\u001b[1;33m\u001b[0m\u001b[0m\n",
      "\u001b[1;31mKeyboardInterrupt\u001b[0m: Interrupted by user"
     ]
    }
   ],
   "source": [
    "while True:\n",
    "    try:\n",
    "        sayi = int(input(\"sayi:\"))\n",
    "        print(\"girdiginiz sayi:\", sayi)\n",
    "    except Exception as e:\n",
    "        print(\"Lutfen gecerli bir numerik deger giriniz\")\n",
    "        print(\"Hata: \",e)\n",
    "    else:\n",
    "        print(\"programdan cikiliyor\")\n",
    "        break\n",
    "    finally:\n",
    "        print('fina')"
   ]
  },
  {
   "cell_type": "code",
   "execution_count": 48,
   "id": "ccc98852",
   "metadata": {},
   "outputs": [
    {
     "name": "stdout",
     "output_type": "stream",
     "text": [
      "sayi:ali\n",
      "Numerik dege giriniz\n",
      "Hata invalid literal for int() with base 10: 'ali'\n",
      "sayi:5\n",
      "girdiginiz sayi :  5\n",
      "else calisti programdan cikiliyor\n"
     ]
    }
   ],
   "source": [
    "count = 0 \n",
    "while True:\n",
    "    \n",
    "    try:\n",
    "        sayi = int(input(\"sayi:\"))\n",
    "        print(\"girdiginiz sayi : \",sayi)\n",
    "    except Exception as e:\n",
    "        print(\"Numerik dege giriniz\")\n",
    "        print(\"Hata\",e)\n",
    "        count +=1\n",
    "        if count > 3:\n",
    "            print(\"too many failed input\")\n",
    "            break\n",
    "    else:\n",
    "        print(\"else calisti programdan cikiliyor\")\n",
    "        break"
   ]
  },
  {
   "cell_type": "code",
   "execution_count": 49,
   "id": "8b4ef8de",
   "metadata": {},
   "outputs": [],
   "source": [
    "import os"
   ]
  },
  {
   "cell_type": "code",
   "execution_count": 50,
   "id": "77cf2ac7",
   "metadata": {},
   "outputs": [
    {
     "data": {
      "text/plain": [
       "['.ipynb_checkpoints', 'Practice.ipynb', 'Py-TaskScheduler']"
      ]
     },
     "execution_count": 50,
     "metadata": {},
     "output_type": "execute_result"
    }
   ],
   "source": [
    "os.listdir()"
   ]
  },
  {
   "cell_type": "code",
   "execution_count": 52,
   "id": "411402e3",
   "metadata": {},
   "outputs": [],
   "source": [
    "f = open('Advantage of python.txt', mode = \"w\")"
   ]
  },
  {
   "cell_type": "code",
   "execution_count": 53,
   "id": "dea906ff",
   "metadata": {},
   "outputs": [],
   "source": [
    "f.close()"
   ]
  },
  {
   "cell_type": "code",
   "execution_count": 54,
   "id": "8e8182c1",
   "metadata": {},
   "outputs": [
    {
     "ename": "ValueError",
     "evalue": "I/O operation on closed file.",
     "output_type": "error",
     "traceback": [
      "\u001b[1;31m---------------------------------------------------------------------------\u001b[0m",
      "\u001b[1;31mValueError\u001b[0m                                Traceback (most recent call last)",
      "\u001b[1;32m~\\AppData\\Local\\Temp\\ipykernel_7696\\3059900045.py\u001b[0m in \u001b[0;36m<module>\u001b[1;34m\u001b[0m\n\u001b[1;32m----> 1\u001b[1;33m \u001b[0mf\u001b[0m\u001b[1;33m.\u001b[0m\u001b[0mread\u001b[0m\u001b[1;33m(\u001b[0m\u001b[1;33m)\u001b[0m\u001b[1;33m\u001b[0m\u001b[1;33m\u001b[0m\u001b[0m\n\u001b[0m",
      "\u001b[1;31mValueError\u001b[0m: I/O operation on closed file."
     ]
    }
   ],
   "source": [
    "f.read()"
   ]
  },
  {
   "cell_type": "code",
   "execution_count": null,
   "id": "77f555d7",
   "metadata": {},
   "outputs": [],
   "source": [
    "with open('Advantage of python.txt',mode = 'w')"
   ]
  },
  {
   "cell_type": "code",
   "execution_count": 55,
   "id": "d9be52b5",
   "metadata": {},
   "outputs": [
    {
     "ename": "AttributeError",
     "evalue": "'_io.TextIOWrapper' object has no attribute 'open'",
     "output_type": "error",
     "traceback": [
      "\u001b[1;31m---------------------------------------------------------------------------\u001b[0m",
      "\u001b[1;31mAttributeError\u001b[0m                            Traceback (most recent call last)",
      "\u001b[1;32m~\\AppData\\Local\\Temp\\ipykernel_7696\\2084407773.py\u001b[0m in \u001b[0;36m<module>\u001b[1;34m\u001b[0m\n\u001b[1;32m----> 1\u001b[1;33m \u001b[0mf\u001b[0m\u001b[1;33m.\u001b[0m\u001b[0mopen\u001b[0m\u001b[1;33m(\u001b[0m\u001b[1;33m)\u001b[0m\u001b[1;33m\u001b[0m\u001b[1;33m\u001b[0m\u001b[0m\n\u001b[0m",
      "\u001b[1;31mAttributeError\u001b[0m: '_io.TextIOWrapper' object has no attribute 'open'"
     ]
    }
   ],
   "source": [
    "f.open()"
   ]
  },
  {
   "cell_type": "code",
   "execution_count": 68,
   "id": "d3e67370",
   "metadata": {},
   "outputs": [
    {
     "name": "stdout",
     "output_type": "stream",
     "text": [
      "text15\n"
     ]
    }
   ],
   "source": [
    "with open('Advantage of python.txt',mode = 'w') as f:\n",
    "    f.write('text15')\n",
    "with open('Advantage of python.txt',mode = 'r') as f:\n",
    "    print(f.read())\n",
    "    f.close()"
   ]
  },
  {
   "cell_type": "code",
   "execution_count": 61,
   "id": "763cc943",
   "metadata": {},
   "outputs": [
    {
     "ename": "ValueError",
     "evalue": "I/O operation on closed file.",
     "output_type": "error",
     "traceback": [
      "\u001b[1;31m---------------------------------------------------------------------------\u001b[0m",
      "\u001b[1;31mValueError\u001b[0m                                Traceback (most recent call last)",
      "\u001b[1;32m~\\AppData\\Local\\Temp\\ipykernel_7696\\3059900045.py\u001b[0m in \u001b[0;36m<module>\u001b[1;34m\u001b[0m\n\u001b[1;32m----> 1\u001b[1;33m \u001b[0mf\u001b[0m\u001b[1;33m.\u001b[0m\u001b[0mread\u001b[0m\u001b[1;33m(\u001b[0m\u001b[1;33m)\u001b[0m\u001b[1;33m\u001b[0m\u001b[1;33m\u001b[0m\u001b[0m\n\u001b[0m",
      "\u001b[1;31mValueError\u001b[0m: I/O operation on closed file."
     ]
    }
   ],
   "source": []
  },
  {
   "cell_type": "code",
   "execution_count": 74,
   "id": "3569b247",
   "metadata": {},
   "outputs": [
    {
     "name": "stdout",
     "output_type": "stream",
     "text": [
      "\n"
     ]
    }
   ],
   "source": [
    "with open('Advantage of python.txt',mode = 'w+') as f:\n",
    "    f.write('text90')\n",
    "    x = f.read()\n",
    "print(x)\n"
   ]
  },
  {
   "cell_type": "code",
   "execution_count": 70,
   "id": "3ff75728",
   "metadata": {},
   "outputs": [
    {
     "ename": "ValueError",
     "evalue": "I/O operation on closed file.",
     "output_type": "error",
     "traceback": [
      "\u001b[1;31m---------------------------------------------------------------------------\u001b[0m",
      "\u001b[1;31mValueError\u001b[0m                                Traceback (most recent call last)",
      "\u001b[1;32m~\\AppData\\Local\\Temp\\ipykernel_7696\\3059900045.py\u001b[0m in \u001b[0;36m<module>\u001b[1;34m\u001b[0m\n\u001b[1;32m----> 1\u001b[1;33m \u001b[0mf\u001b[0m\u001b[1;33m.\u001b[0m\u001b[0mread\u001b[0m\u001b[1;33m(\u001b[0m\u001b[1;33m)\u001b[0m\u001b[1;33m\u001b[0m\u001b[1;33m\u001b[0m\u001b[0m\n\u001b[0m",
      "\u001b[1;31mValueError\u001b[0m: I/O operation on closed file."
     ]
    }
   ],
   "source": [
    "f.read()"
   ]
  },
  {
   "cell_type": "code",
   "execution_count": 12,
   "id": "a39762f3",
   "metadata": {},
   "outputs": [],
   "source": [
    "class Dog:\n",
    "    def __init__(self,name,age):\n",
    "        self.name = name\n",
    "        self.age = age\n",
    "        \n",
    "    def __str__(self):\n",
    "        return f\"{self.name} is {self.age} years old\""
   ]
  },
  {
   "cell_type": "code",
   "execution_count": 13,
   "id": "63791e7f",
   "metadata": {},
   "outputs": [],
   "source": [
    "dog = Dog('gumus',\"3\")"
   ]
  },
  {
   "cell_type": "code",
   "execution_count": 14,
   "id": "74ecfabe",
   "metadata": {},
   "outputs": [
    {
     "name": "stdout",
     "output_type": "stream",
     "text": [
      "gumus is 3 years old\n"
     ]
    }
   ],
   "source": [
    "print(dog)"
   ]
  },
  {
   "cell_type": "code",
   "execution_count": null,
   "id": "1eb4bef7",
   "metadata": {},
   "outputs": [],
   "source": [
    "#Numpy"
   ]
  },
  {
   "cell_type": "code",
   "execution_count": 16,
   "id": "d33faf5d",
   "metadata": {},
   "outputs": [],
   "source": [
    "import numpy as np"
   ]
  },
  {
   "cell_type": "code",
   "execution_count": 17,
   "id": "ee42731d",
   "metadata": {},
   "outputs": [
    {
     "data": {
      "text/plain": [
       "array([0., 0., 0., 0., 0.])"
      ]
     },
     "execution_count": 17,
     "metadata": {},
     "output_type": "execute_result"
    }
   ],
   "source": [
    "np.zeros(5)"
   ]
  },
  {
   "cell_type": "code",
   "execution_count": 20,
   "id": "ef764c50",
   "metadata": {},
   "outputs": [],
   "source": [
    "a = np.zeros(10)"
   ]
  },
  {
   "cell_type": "code",
   "execution_count": 21,
   "id": "22a9c5d9",
   "metadata": {},
   "outputs": [],
   "source": [
    "a[4]=1"
   ]
  },
  {
   "cell_type": "code",
   "execution_count": 22,
   "id": "d87e9776",
   "metadata": {},
   "outputs": [
    {
     "data": {
      "text/plain": [
       "array([0., 0., 0., 0., 1., 0., 0., 0., 0., 0.])"
      ]
     },
     "execution_count": 22,
     "metadata": {},
     "output_type": "execute_result"
    }
   ],
   "source": [
    "a"
   ]
  },
  {
   "cell_type": "code",
   "execution_count": 23,
   "id": "8127ea10",
   "metadata": {},
   "outputs": [
    {
     "data": {
      "text/plain": [
       "array([10, 11, 12, 13, 14, 15, 16, 17, 18, 19, 20, 21, 22, 23, 24, 25, 26,\n",
       "       27, 28, 29, 30, 31, 32, 33, 34, 35, 36, 37, 38, 39, 40, 41, 42, 43,\n",
       "       44, 45, 46, 47, 48, 49])"
      ]
     },
     "execution_count": 23,
     "metadata": {},
     "output_type": "execute_result"
    }
   ],
   "source": [
    "np.arange(10,50)"
   ]
  },
  {
   "cell_type": "code",
   "execution_count": 25,
   "id": "fba3a536",
   "metadata": {},
   "outputs": [
    {
     "data": {
      "text/plain": [
       "0"
      ]
     },
     "execution_count": 25,
     "metadata": {},
     "output_type": "execute_result"
    }
   ],
   "source": [
    "np.arange(50)"
   ]
  },
  {
   "cell_type": "code",
   "execution_count": 27,
   "id": "3a428034",
   "metadata": {},
   "outputs": [
    {
     "data": {
      "text/plain": [
       "array([[0, 1, 2],\n",
       "       [3, 4, 5],\n",
       "       [6, 7, 8]])"
      ]
     },
     "execution_count": 27,
     "metadata": {},
     "output_type": "execute_result"
    }
   ],
   "source": [
    "np.arange(9).reshape(3,3)"
   ]
  },
  {
   "cell_type": "code",
   "execution_count": 30,
   "id": "509a40c8",
   "metadata": {},
   "outputs": [
    {
     "data": {
      "text/plain": [
       "array([[0, 1],\n",
       "       [2, 3],\n",
       "       [4, 5],\n",
       "       [6, 7],\n",
       "       [8, 9]])"
      ]
     },
     "execution_count": 30,
     "metadata": {},
     "output_type": "execute_result"
    }
   ],
   "source": [
    "np.arange(10).reshape(5,2)"
   ]
  },
  {
   "cell_type": "code",
   "execution_count": null,
   "id": "adee06fc",
   "metadata": {},
   "outputs": [],
   "source": [
    "#find inidces of non zero\n"
   ]
  },
  {
   "cell_type": "code",
   "execution_count": 33,
   "id": "14ac31d2",
   "metadata": {},
   "outputs": [
    {
     "ename": "AttributeError",
     "evalue": "'tuple' object has no attribute 'argmax'",
     "output_type": "error",
     "traceback": [
      "\u001b[1;31m---------------------------------------------------------------------------\u001b[0m",
      "\u001b[1;31mAttributeError\u001b[0m                            Traceback (most recent call last)",
      "Cell \u001b[1;32mIn[33], line 1\u001b[0m\n\u001b[1;32m----> 1\u001b[0m np\u001b[38;5;241m.\u001b[39mnonzero([\u001b[38;5;241m1\u001b[39m,\u001b[38;5;241m0\u001b[39m,\u001b[38;5;241m0\u001b[39m,\u001b[38;5;241m5\u001b[39m,\u001b[38;5;241m0\u001b[39m,\u001b[38;5;241m0\u001b[39m,\u001b[38;5;241m3\u001b[39m])\u001b[38;5;241m.\u001b[39margmax()\n",
      "\u001b[1;31mAttributeError\u001b[0m: 'tuple' object has no attribute 'argmax'"
     ]
    }
   ],
   "source": [
    "np.nonzero([1,0,0,5,0,0,3])"
   ]
  },
  {
   "cell_type": "code",
   "execution_count": 35,
   "id": "22b071da",
   "metadata": {},
   "outputs": [
    {
     "data": {
      "text/plain": [
       "(array([0, 3, 6], dtype=int64),)"
      ]
     },
     "execution_count": 35,
     "metadata": {},
     "output_type": "execute_result"
    }
   ],
   "source": [
    "np.where(np.array([1,0,0,5,0,0,3]) != 0)"
   ]
  },
  {
   "cell_type": "code",
   "execution_count": 42,
   "id": "a1b60611",
   "metadata": {},
   "outputs": [
    {
     "data": {
      "text/plain": [
       "array([[[[59, 87],\n",
       "         [ 5,  7]],\n",
       "\n",
       "        [[33, 97],\n",
       "         [40, 55]]],\n",
       "\n",
       "\n",
       "       [[[89, 43],\n",
       "         [66,  6]],\n",
       "\n",
       "        [[29, 46],\n",
       "         [71, 17]]]])"
      ]
     },
     "execution_count": 42,
     "metadata": {},
     "output_type": "execute_result"
    }
   ],
   "source": [
    "np.random.randint(0,100,16).reshape(2,2,2,2)"
   ]
  },
  {
   "cell_type": "code",
   "execution_count": 47,
   "id": "6039e2fa",
   "metadata": {},
   "outputs": [
    {
     "data": {
      "text/plain": [
       "0.2789542191248706"
      ]
     },
     "execution_count": 47,
     "metadata": {},
     "output_type": "execute_result"
    }
   ],
   "source": [
    "np.random.random(10).mean()"
   ]
  },
  {
   "cell_type": "code",
   "execution_count": 52,
   "id": "2fdf9607",
   "metadata": {},
   "outputs": [
    {
     "data": {
      "text/plain": [
       "array([[1., 1., 1., 1., 1.],\n",
       "       [1., 0., 0., 0., 1.],\n",
       "       [1., 0., 0., 0., 1.],\n",
       "       [1., 0., 0., 0., 1.],\n",
       "       [1., 1., 1., 1., 1.]])"
      ]
     },
     "execution_count": 52,
     "metadata": {},
     "output_type": "execute_result"
    }
   ],
   "source": [
    "a = np.ones(25).reshape(5,5)\n",
    "a[1:-1,1:-1]=0\n",
    "a"
   ]
  },
  {
   "cell_type": "code",
   "execution_count": 55,
   "id": "30afec78",
   "metadata": {},
   "outputs": [
    {
     "data": {
      "text/plain": [
       "array([1, 0, 1, 0, 1, 0, 1, 0])"
      ]
     },
     "execution_count": 55,
     "metadata": {},
     "output_type": "execute_result"
    }
   ],
   "source": [
    "np.array([0,1]*4)\n",
    "np.array([1,0]*4)"
   ]
  },
  {
   "cell_type": "code",
   "execution_count": 56,
   "id": "fe4c2999",
   "metadata": {},
   "outputs": [
    {
     "data": {
      "text/plain": [
       "array([[0, 1, 0, 1, 0, 1, 0, 1],\n",
       "       [1, 0, 1, 0, 1, 0, 1, 0],\n",
       "       [0, 1, 0, 1, 0, 1, 0, 1],\n",
       "       [1, 0, 1, 0, 1, 0, 1, 0],\n",
       "       [0, 1, 0, 1, 0, 1, 0, 1],\n",
       "       [1, 0, 1, 0, 1, 0, 1, 0],\n",
       "       [0, 1, 0, 1, 0, 1, 0, 1],\n",
       "       [1, 0, 1, 0, 1, 0, 1, 0]])"
      ]
     },
     "execution_count": 56,
     "metadata": {},
     "output_type": "execute_result"
    }
   ],
   "source": [
    "count=0\n",
    "ls = []\n",
    "while count<4:\n",
    "    ls.extend(np.array([0,1]*4))\n",
    "    ls.extend(np.array([1,0]*4))\n",
    "    count +=1\n",
    "np.array(ls).reshape(8,8)\n",
    "    \n",
    "    "
   ]
  },
  {
   "cell_type": "code",
   "execution_count": 63,
   "id": "806d5fc3",
   "metadata": {},
   "outputs": [
    {
     "data": {
      "text/plain": [
       "array([[0, 1, 0, 1, 0, 1, 0, 1],\n",
       "       [1, 0, 1, 0, 1, 0, 1, 0],\n",
       "       [0, 1, 0, 1, 0, 1, 0, 1],\n",
       "       [1, 0, 1, 0, 1, 0, 1, 0],\n",
       "       [0, 1, 0, 1, 0, 1, 0, 1],\n",
       "       [1, 0, 1, 0, 1, 0, 1, 0],\n",
       "       [0, 1, 0, 1, 0, 1, 0, 1],\n",
       "       [1, 0, 1, 0, 1, 0, 1, 0]])"
      ]
     },
     "execution_count": 63,
     "metadata": {},
     "output_type": "execute_result"
    }
   ],
   "source": [
    "a = np.zeros(64).reshape(8,8)\n",
    "a[0::2,1::2]=int(1)\n",
    "a[1::2,0::2]=int(1)\n",
    "a.astype(int)"
   ]
  },
  {
   "cell_type": "code",
   "execution_count": 70,
   "id": "4cd85c41",
   "metadata": {},
   "outputs": [
    {
     "data": {
      "text/plain": [
       "array([[1, 2, 1, 2],\n",
       "       [1, 2, 1, 2],\n",
       "       [1, 2, 1, 2],\n",
       "       [1, 2, 1, 2]])"
      ]
     },
     "execution_count": 70,
     "metadata": {},
     "output_type": "execute_result"
    }
   ],
   "source": [
    "np.tile(np.array([[1,2],[1,2]]),(2,2))"
   ]
  },
  {
   "cell_type": "code",
   "execution_count": 73,
   "id": "12c1249b",
   "metadata": {},
   "outputs": [
    {
     "data": {
      "text/plain": [
       "(2, 2)"
      ]
     },
     "execution_count": 73,
     "metadata": {},
     "output_type": "execute_result"
    }
   ],
   "source": [
    "np.array([[1,2],[1,2]]).shape"
   ]
  },
  {
   "cell_type": "code",
   "execution_count": 74,
   "id": "8227ea4a",
   "metadata": {},
   "outputs": [
    {
     "data": {
      "text/plain": [
       "array([[1, 2],\n",
       "       [1, 2]])"
      ]
     },
     "execution_count": 74,
     "metadata": {},
     "output_type": "execute_result"
    }
   ],
   "source": [
    "np.array([[1,2],[1,2]])"
   ]
  },
  {
   "cell_type": "code",
   "execution_count": 76,
   "id": "c5fa6679",
   "metadata": {},
   "outputs": [
    {
     "data": {
      "text/plain": [
       "(1, 5, 3)"
      ]
     },
     "execution_count": 76,
     "metadata": {},
     "output_type": "execute_result"
    }
   ],
   "source": [
    "np.unravel_index(99, (6,7,8))"
   ]
  },
  {
   "cell_type": "code",
   "execution_count": 81,
   "id": "cc28609a",
   "metadata": {},
   "outputs": [
    {
     "data": {
      "text/plain": [
       "array([0.07692308, 0.15384615, 0.23076923, 0.30769231, 0.38461538,\n",
       "       0.46153846, 0.53846154, 0.61538462, 0.69230769, 0.76923077,\n",
       "       0.84615385, 0.92307692])"
      ]
     },
     "execution_count": 81,
     "metadata": {},
     "output_type": "execute_result"
    }
   ],
   "source": [
    "np.linspace(0,1,13,endpoint =False)[1:]"
   ]
  },
  {
   "cell_type": "code",
   "execution_count": 85,
   "id": "5ad98f99",
   "metadata": {},
   "outputs": [],
   "source": [
    "a = np.random.random(10)\n",
    "a.sort()"
   ]
  },
  {
   "cell_type": "code",
   "execution_count": 86,
   "id": "af697631",
   "metadata": {},
   "outputs": [
    {
     "data": {
      "text/plain": [
       "array([0.19457448, 0.20020032, 0.47300456, 0.51436997, 0.5144228 ,\n",
       "       0.52457039, 0.59078347, 0.74344822, 0.83896915, 0.97300906])"
      ]
     },
     "execution_count": 86,
     "metadata": {},
     "output_type": "execute_result"
    }
   ],
   "source": [
    "a"
   ]
  },
  {
   "cell_type": "code",
   "execution_count": 96,
   "id": "2f07b992",
   "metadata": {},
   "outputs": [
    {
     "data": {
      "text/plain": [
       "array([837, 713,  94,  19, 698, 456, 525, 685, 618, 890])"
      ]
     },
     "execution_count": 96,
     "metadata": {},
     "output_type": "execute_result"
    }
   ],
   "source": [
    "np.random.randint(0,1000,10)"
   ]
  },
  {
   "cell_type": "code",
   "execution_count": 97,
   "id": "49781763",
   "metadata": {},
   "outputs": [
    {
     "data": {
      "text/plain": [
       "array([1, 1, 2])"
      ]
     },
     "execution_count": 97,
     "metadata": {},
     "output_type": "execute_result"
    }
   ],
   "source": [
    "np.random.randint(1,3,3)"
   ]
  },
  {
   "cell_type": "code",
   "execution_count": 98,
   "id": "86b0c41b",
   "metadata": {},
   "outputs": [
    {
     "data": {
      "text/plain": [
       "array([1, 2, 2])"
      ]
     },
     "execution_count": 98,
     "metadata": {},
     "output_type": "execute_result"
    }
   ],
   "source": [
    "np.random.randint(1,3,3)"
   ]
  },
  {
   "cell_type": "code",
   "execution_count": 108,
   "id": "e9768e1e",
   "metadata": {},
   "outputs": [
    {
     "name": "stdout",
     "output_type": "stream",
     "text": [
      "[0.6242131  0.48439105 0.29411112 0.28853053 0.02270928 0.9717221\n",
      " 0.02734499 0.13693073 0.05477142 0.8421846 ]\n",
      "0.9717221038052549\n",
      "[0.6242131  0.48439105 0.29411112 0.28853053 0.02270928 0.\n",
      " 0.02734499 0.13693073 0.05477142 0.8421846 ]\n"
     ]
    }
   ],
   "source": [
    "a = np.random.random(10)\n",
    "print(a)\n",
    "print(a.max())\n",
    "a[a.argmax()]=0\n",
    "print(a)"
   ]
  },
  {
   "cell_type": "code",
   "execution_count": 109,
   "id": "5661832e",
   "metadata": {},
   "outputs": [],
   "source": [
    "a = np.arange(25).reshape(5,5)"
   ]
  },
  {
   "cell_type": "code",
   "execution_count": 110,
   "id": "187a080f",
   "metadata": {},
   "outputs": [
    {
     "data": {
      "text/plain": [
       "array([[ 0,  1,  2,  3,  4],\n",
       "       [ 5,  6,  7,  8,  9],\n",
       "       [10, 11, 12, 13, 14],\n",
       "       [15, 16, 17, 18, 19],\n",
       "       [20, 21, 22, 23, 24]])"
      ]
     },
     "execution_count": 110,
     "metadata": {},
     "output_type": "execute_result"
    }
   ],
   "source": [
    "a"
   ]
  },
  {
   "cell_type": "code",
   "execution_count": 111,
   "id": "59dda90d",
   "metadata": {},
   "outputs": [],
   "source": [
    "b = a.copy()"
   ]
  },
  {
   "cell_type": "code",
   "execution_count": 112,
   "id": "39e106dd",
   "metadata": {},
   "outputs": [],
   "source": [
    "a[1,:] = b[3,:]\n",
    "a[3,:] = b[1,:]\n"
   ]
  },
  {
   "cell_type": "code",
   "execution_count": 113,
   "id": "a8847370",
   "metadata": {},
   "outputs": [
    {
     "data": {
      "text/plain": [
       "array([[ 0,  1,  2,  3,  4],\n",
       "       [15, 16, 17, 18, 19],\n",
       "       [10, 11, 12, 13, 14],\n",
       "       [ 5,  6,  7,  8,  9],\n",
       "       [20, 21, 22, 23, 24]])"
      ]
     },
     "execution_count": 113,
     "metadata": {},
     "output_type": "execute_result"
    }
   ],
   "source": [
    "a"
   ]
  },
  {
   "cell_type": "code",
   "execution_count": 114,
   "id": "19e961e1",
   "metadata": {},
   "outputs": [
    {
     "data": {
      "text/plain": [
       "array([[15, 16, 17, 18, 19]])"
      ]
     },
     "execution_count": 114,
     "metadata": {},
     "output_type": "execute_result"
    }
   ],
   "source": [
    "a[[1]]"
   ]
  },
  {
   "cell_type": "code",
   "execution_count": 116,
   "id": "2bb650ba",
   "metadata": {},
   "outputs": [],
   "source": [
    "a =np.random.randint(0,10,10)"
   ]
  },
  {
   "cell_type": "code",
   "execution_count": 117,
   "id": "b972ac2e",
   "metadata": {},
   "outputs": [
    {
     "data": {
      "text/plain": [
       "array([5, 8, 2, 7, 1, 3, 5, 9, 7, 8])"
      ]
     },
     "execution_count": 117,
     "metadata": {},
     "output_type": "execute_result"
    }
   ],
   "source": [
    "a"
   ]
  },
  {
   "cell_type": "code",
   "execution_count": 118,
   "id": "fa2854ee",
   "metadata": {},
   "outputs": [],
   "source": [
    "a = np.array([2, 0, 0, 4, 5, 2, 8, 4, 7, 0])"
   ]
  },
  {
   "cell_type": "code",
   "execution_count": 121,
   "id": "2c81ff9d",
   "metadata": {},
   "outputs": [
    {
     "data": {
      "text/plain": [
       "array([3, 0, 2, 0, 2, 1, 0, 1, 1], dtype=int64)"
      ]
     },
     "execution_count": 121,
     "metadata": {},
     "output_type": "execute_result"
    }
   ],
   "source": [
    "np.bincount(a)"
   ]
  },
  {
   "cell_type": "code",
   "execution_count": 131,
   "id": "d0c3dcbd",
   "metadata": {},
   "outputs": [
    {
     "data": {
      "text/plain": [
       "'0b1000'"
      ]
     },
     "execution_count": 131,
     "metadata": {},
     "output_type": "execute_result"
    }
   ],
   "source": [
    "bin(8)"
   ]
  },
  {
   "cell_type": "code",
   "execution_count": null,
   "id": "e92cab83",
   "metadata": {},
   "outputs": [],
   "source": [
    "#Decorator allow you activate or deactivate your function in your function it enchance the fuctionality"
   ]
  },
  {
   "cell_type": "code",
   "execution_count": null,
   "id": "a54d086b",
   "metadata": {},
   "outputs": [],
   "source": [
    "#@ ile active oluyor "
   ]
  },
  {
   "cell_type": "markdown",
   "id": "7746caef",
   "metadata": {},
   "source": [
    "#Decorator prensibi\n",
    "@decorator\n",
    "def ...."
   ]
  },
  {
   "cell_type": "code",
   "execution_count": null,
   "id": "8823c7d4",
   "metadata": {},
   "outputs": [],
   "source": [
    "#Degisken olarak fonksiyon\n"
   ]
  },
  {
   "cell_type": "code",
   "execution_count": 132,
   "id": "15406afb",
   "metadata": {},
   "outputs": [],
   "source": [
    "def deneme():\n",
    "    print('abc')"
   ]
  },
  {
   "cell_type": "code",
   "execution_count": null,
   "id": "addb4d7e",
   "metadata": {},
   "outputs": [],
   "source": [
    "#function are able to assign tio variable, the way without call them\n",
    "f= deneme #here we do not add ()"
   ]
  },
  {
   "cell_type": "code",
   "execution_count": 133,
   "id": "0a1e05fc",
   "metadata": {},
   "outputs": [],
   "source": [
    "f =deneme"
   ]
  },
  {
   "cell_type": "code",
   "execution_count": 134,
   "id": "33c3066f",
   "metadata": {},
   "outputs": [
    {
     "name": "stdout",
     "output_type": "stream",
     "text": [
      "abc\n"
     ]
    }
   ],
   "source": [
    "f()"
   ]
  },
  {
   "cell_type": "code",
   "execution_count": null,
   "id": "4c176a62",
   "metadata": {},
   "outputs": [],
   "source": [
    "#Founction inside function"
   ]
  },
  {
   "cell_type": "code",
   "execution_count": 137,
   "id": "1d647433",
   "metadata": {},
   "outputs": [],
   "source": [
    "def deneme():\n",
    "    print(\"deneme fonklsiyonu claisyor\")\n",
    "    \n",
    "    def test():\n",
    "        return \"test  fonsiyonu claisyor\"\n",
    "    \n",
    "    print(test())"
   ]
  },
  {
   "cell_type": "code",
   "execution_count": 138,
   "id": "c0bf827e",
   "metadata": {},
   "outputs": [
    {
     "name": "stdout",
     "output_type": "stream",
     "text": [
      "deneme fonklsiyonu claisyor\n",
      "test  fonsiyonu claisyor\n"
     ]
    }
   ],
   "source": [
    "deneme()"
   ]
  },
  {
   "cell_type": "code",
   "execution_count": 1,
   "id": "a137edcb",
   "metadata": {},
   "outputs": [],
   "source": [
    "import os"
   ]
  },
  {
   "cell_type": "code",
   "execution_count": 1,
   "id": "aa4736e9",
   "metadata": {},
   "outputs": [
    {
     "ename": "NameError",
     "evalue": "name 'xrange' is not defined",
     "output_type": "error",
     "traceback": [
      "\u001b[1;31m---------------------------------------------------------------------------\u001b[0m",
      "\u001b[1;31mNameError\u001b[0m                                 Traceback (most recent call last)",
      "\u001b[1;32m~\\AppData\\Local\\Temp\\ipykernel_15628\\3189775635.py\u001b[0m in \u001b[0;36m<module>\u001b[1;34m\u001b[0m\n\u001b[1;32m----> 1\u001b[1;33m \u001b[0mxrange\u001b[0m\u001b[1;33m(\u001b[0m\u001b[1;36m10\u001b[0m\u001b[1;33m)\u001b[0m\u001b[1;33m\u001b[0m\u001b[1;33m\u001b[0m\u001b[0m\n\u001b[0m",
      "\u001b[1;31mNameError\u001b[0m: name 'xrange' is not defined"
     ]
    }
   ],
   "source": [
    "xrange(10)"
   ]
  },
  {
   "cell_type": "code",
   "execution_count": 2,
   "id": "c7fab0d7",
   "metadata": {},
   "outputs": [],
   "source": [
    "a = [1,1,1,3,5,7,8,8,9]"
   ]
  },
  {
   "cell_type": "code",
   "execution_count": 3,
   "id": "bc4efffa",
   "metadata": {},
   "outputs": [],
   "source": [
    "a.remove(1)"
   ]
  },
  {
   "cell_type": "code",
   "execution_count": 4,
   "id": "26544963",
   "metadata": {},
   "outputs": [
    {
     "data": {
      "text/plain": [
       "[1, 1, 3, 5, 7, 8, 8, 9]"
      ]
     },
     "execution_count": 4,
     "metadata": {},
     "output_type": "execute_result"
    }
   ],
   "source": [
    "a"
   ]
  },
  {
   "cell_type": "code",
   "execution_count": 14,
   "id": "b3aec012",
   "metadata": {},
   "outputs": [
    {
     "data": {
      "text/plain": [
       "4"
      ]
     },
     "execution_count": 14,
     "metadata": {},
     "output_type": "execute_result"
    }
   ],
   "source": [
    "2+2"
   ]
  },
  {
   "cell_type": "code",
   "execution_count": null,
   "id": "34a7a8b3",
   "metadata": {},
   "outputs": [],
   "source": []
  },
  {
   "cell_type": "code",
   "execution_count": null,
   "id": "cc24b044",
   "metadata": {},
   "outputs": [],
   "source": [
    "#Debug $ python -m pdb python-script.py"
   ]
  },
  {
   "cell_type": "code",
   "execution_count": null,
   "id": "e8179c03",
   "metadata": {},
   "outputs": [],
   "source": []
  },
  {
   "cell_type": "code",
   "execution_count": 13,
   "id": "f1850e86",
   "metadata": {},
   "outputs": [
    {
     "data": {
      "text/plain": [
       "[(1, 1), (2, 2), (3, 3)]"
      ]
     },
     "execution_count": 13,
     "metadata": {},
     "output_type": "execute_result"
    }
   ],
   "source": [
    "list(zip([1,2,3],[1,2,3,4]))"
   ]
  },
  {
   "cell_type": "code",
   "execution_count": 10,
   "id": "b1b97c53",
   "metadata": {},
   "outputs": [
    {
     "name": "stdout",
     "output_type": "stream",
     "text": [
      "User neena registered successfully.\n",
      "User helios registered successfully.\n",
      "Failed attempts for neena: 4\n",
      "Account for neena has been locked due to too many failed login attempts.\n",
      "Failed attempts reset for user neena.\n",
      "User Neena logged in successfully.\n",
      "Failed attempts for neena: 4\n",
      "Account for neena has been locked due to too many failed login attempts.\n",
      "Failed attempts reset for user neena.\n",
      "User neena logged in successfully.\n",
      "Failed attempts reset for user helios.\n",
      "User helios logged in successfully.\n"
     ]
    }
   ],
   "source": [
    "import pandas as pd\n",
    "\n",
    "\n",
    "\n",
    "class User:\n",
    "\n",
    "    def __init__(self, user_id, username, password, failed_attempts=0, is_locked=False):\n",
    "\n",
    "        self.user_id = user_id\n",
    "\n",
    "        self.username = username\n",
    "\n",
    "        self.password = password\n",
    "\n",
    "        self.failed_attempts = failed_attempts\n",
    "\n",
    "        self.is_locked = is_locked\n",
    "\n",
    "\n",
    "\n",
    "    def reset_failed_attempts(self):\n",
    "\n",
    "        self.failed_attempts = 0\n",
    "\n",
    "        print(f\"Failed attempts reset for user {self.username}.\")\n",
    "\n",
    "\n",
    "\n",
    "    def increment_failed_attempts(self):\n",
    "\n",
    "        self.failed_attempts += 1\n",
    "\n",
    "        print(f\"Failed attempts for {self.username}: {self.failed_attempts}\")\n",
    "\n",
    "        if self.failed_attempts >= 3:\n",
    "\n",
    "            self.lock_account()\n",
    "\n",
    "\n",
    "\n",
    "    def lock_account(self):\n",
    "\n",
    "        self.is_locked = True\n",
    "\n",
    "        print(f\"Account for {self.username} has been locked due to too many failed login attempts.\")\n",
    "\n",
    "\n",
    "\n",
    "class AuthenticationSystem:\n",
    "\n",
    "    def __init__(self):\n",
    "\n",
    "        self.users = pd.DataFrame(columns=[\"user_id\", \"username\", \"password\", \"failed_attempts_left\", \"is_locked\"])\n",
    "\n",
    "\n",
    "\n",
    "    def register_user(self, user_id, username, password):\n",
    "\n",
    "        new_user = User(user_id, username, password)\n",
    "\n",
    "        self.users = pd.concat([self.users, pd.DataFrame({\n",
    "\n",
    "            \"user_id\": [user_id], \n",
    "\n",
    "            \"username\": [username], \n",
    "\n",
    "            \"password\": [password], \n",
    "\n",
    "            \"failed_attempts_left\": [3], \n",
    "\n",
    "            \"is_locked\": [False]\n",
    "\n",
    "        })], ignore_index=True) # Add new user to DataFrame.\n",
    "\n",
    "        print(f\"User {username} registered successfully.\")\n",
    "\n",
    "\n",
    "\n",
    "    # Never alter this login function\n",
    "\n",
    "    def login(self, username, password):\n",
    "\n",
    "        user_row = self.users[self.users['username'] == username]\n",
    "\n",
    "        if user_row.empty:\n",
    "\n",
    "            print(f\"User {username} not found.\")\n",
    "\n",
    "            return\n",
    "\n",
    "\n",
    "\n",
    "        user = User(user_row['user_id'].values[0], user_row['username'].values[0], user_row['password'].values[0], \n",
    "\n",
    "                    user_row['failed_attempts_left'].values[0], user_row['is_locked'].values[0])\n",
    "\n",
    "        \n",
    "\n",
    "        if user.is_locked:\n",
    "\n",
    "            print(f\"Account for {username} is locked. Please contact support.\")\n",
    "\n",
    "            return\n",
    "\n",
    "\n",
    "\n",
    "        if password == user.password:\n",
    "            if user.failed_attempts<=3:\n",
    "                user.reset_failed_attempts()\n",
    "                print(f\"User {username} logged in successfully.\")\n",
    "            else:\n",
    "                user.lock_account()\n",
    "                print('You are disallowed login')\n",
    "\n",
    "        else:\n",
    "            \n",
    "            user.increment_failed_attempts()\n",
    "            \n",
    "\n",
    "\n",
    "    def update_user(self, user):\n",
    "\n",
    "        self.users.loc[self.users['username'] == user.username, 'failed_attempts_left'] = user.failed_attempts\n",
    "\n",
    "        self.users.loc[self.users['username'] == user.username, 'is_locked'] = user.is_locked\n",
    "\n",
    "        print(f\"User {user.username}'s data updated.\")\n",
    "\n",
    "\n",
    "\n",
    "auth_system = AuthenticationSystem()\n",
    "\n",
    "auth_system.register_user(1, \"neena\", \"password123\") \n",
    "\n",
    "auth_system.register_user(2, \"helios\", \"mysecurepassword\") \n",
    "\n",
    "\n",
    "\n",
    "auth_system.login(\"neena\", \"password321\")  \n",
    "\n",
    "auth_system.login(\"Neena\", \"password123\")  \n",
    "\n",
    "auth_system.login(\"neena\", \"password321\")  \n",
    "\n",
    "auth_system.login(\"neena\", \"password123\")   \n",
    "\n",
    "\n",
    "\n",
    "auth_system.login(\"helios\", \"mysecurepassword\")"
   ]
  },
  {
   "cell_type": "code",
   "execution_count": null,
   "id": "8d474180",
   "metadata": {},
   "outputs": [],
   "source": [
    "class User:\n",
    "\n",
    "    def __init__(self, user_id, username, password, failed_attempts=0, is_locked=False):\n",
    "\n",
    "        self.user_id = user_id\n",
    "\n",
    "        self.username = username\n",
    "\n",
    "        self.password = password\n",
    "\n",
    "        self.failed_attempts = failed_attempts\n",
    "\n",
    "        self.is_locked = is_locked\n",
    "\n",
    "\n",
    "\n",
    "    def reset_failed_attempts(self):\n",
    "\n",
    "        self.failed_attempts = 0\n",
    "\n",
    "        print(f\"Failed attempts reset for user {self.username}.\")\n",
    "\n",
    "\n",
    "\n",
    "    def increment_failed_attempts(self):\n",
    "\n",
    "        self.failed_attempts += 1\n",
    "\n",
    "        print(f\"Failed attempts for {self.username}: {self.failed_attempts}\")\n",
    "\n",
    "        if self.failed_attempts >= 3:\n",
    "\n",
    "            self.lock_account()\n",
    "\n",
    "\n",
    "\n",
    "    def lock_account(self):\n",
    "\n",
    "        self.is_locked = True\n",
    "\n",
    "        print(f\"Account for {self.username} has been locked due to too many failed login attempts.\")"
   ]
  },
  {
   "cell_type": "code",
   "execution_count": null,
   "id": "6a8385ef",
   "metadata": {},
   "outputs": [],
   "source": [
    "managing user registrations, tracking login attempts, \n",
    "and locking accounts after multiple failed login attempts."
   ]
  },
  {
   "cell_type": "code",
   "execution_count": null,
   "id": "65ec4e15",
   "metadata": {},
   "outputs": [],
   "source": [
    "There should be a class User and class AuthenticationSystem.\n",
    "Here are some tests you should provide:\n",
    "using a function called register_user (which takes a user id, username, and password),\n",
    "register a user named neena \n",
    "register a user named helios\n",
    "ensure it's case-sensitive."
   ]
  },
  {
   "cell_type": "code",
   "execution_count": null,
   "id": "a41a3f31",
   "metadata": {},
   "outputs": [],
   "source": [
    "user1 = User()"
   ]
  },
  {
   "cell_type": "code",
   "execution_count": null,
   "id": "3e37d746",
   "metadata": {},
   "outputs": [],
   "source": []
  },
  {
   "cell_type": "code",
   "execution_count": null,
   "id": "c02cfd4f",
   "metadata": {},
   "outputs": [],
   "source": []
  },
  {
   "cell_type": "code",
   "execution_count": null,
   "id": "9c204770",
   "metadata": {},
   "outputs": [],
   "source": [
    "\n",
    "    def login(self, username, password):\n",
    "\n",
    "        user_row = self.users[self.users['username'].str.lower() == username.lower()]\n",
    "\n",
    "        if user_row.empty:\n",
    "\n",
    "            print(f\"User {username} not found.\")\n",
    "\n",
    "            return\n",
    "\n",
    "\n",
    "\n",
    "        user = User(user_row['user_id'].values[0], user_row['username'].values[0], user_row['password'].values[0], \n",
    "\n",
    "                    user_row['failed_attempts_left'].values[0], user_row['is_locked'].values[0])\n",
    "\n",
    "        \n",
    "\n",
    "        if user.is_locked:\n",
    "\n",
    "            print(f\"Account for {username} is locked. Please contact support.\")\n",
    "\n",
    "            return\n",
    "\n",
    "\n",
    "\n",
    "        if password == password:\n",
    "\n",
    "            user.increment_failed_attempts()\n",
    "\n",
    "            user.reset_failed_attempts()\n",
    "\n",
    "            self.update_user(user)\n",
    "\n",
    "            print(f\"User {username} logged in successfully.\")\n",
    "\n",
    "        else:\n",
    "\n",
    "            user.reset_failed_attempts()\n",
    "\n",
    "            self.update_user(user)"
   ]
  },
  {
   "cell_type": "code",
   "execution_count": null,
   "id": "3552f820",
   "metadata": {},
   "outputs": [],
   "source": []
  },
  {
   "cell_type": "code",
   "execution_count": null,
   "id": "6ee493ca",
   "metadata": {},
   "outputs": [],
   "source": [
    "import pandas as pd\n",
    "\n",
    "class User:\n",
    "    def __init__(self, user_id, username, password, failed_attempts=0, is_locked=False):\n",
    "        self.user_id = user_id\n",
    "        self.username = username\n",
    "        self.password = password\n",
    "        self.failed_attempts = failed_attempts\n",
    "        self.is_locked = is_locked\n",
    "\n",
    "    def reset_failed_attempts(self):\n",
    "        self.failed_attempts = 0\n",
    "        print(f\"Failed attempts reset for user {self.username}.\")\n",
    "\n",
    "    def increment_failed_attempts(self):\n",
    "        self.failed_attempts += 1\n",
    "        print(f\"Failed attempts for {self.username}: {self.failed_attempts}\")\n",
    "        if self.failed_attempts >= 3:\n",
    "            self.lock_account()\n",
    "\n",
    "    def lock_account(self):\n",
    "        self.is_locked = True\n",
    "        print(f\"Account for {self.username} has been locked due to too many failed login attempts.\")\n",
    "\n",
    "class AuthenticationSystem:\n",
    "    def __init__(self):\n",
    "        self.users = pd.DataFrame(columns=[\"user_id\", \"username\", \"password\", \"failed_attempts\", \"is_locked\"])\n",
    "\n",
    "    def register_user(self, user_id, username, password):\n",
    "        if username in self.users['username'].values:\n",
    "            print(f\"User {username} already exists.\")\n",
    "            return\n",
    "        new_user = User(user_id, username, password)\n",
    "        self.users = pd.concat([self.users, pd.DataFrame({\n",
    "            \"user_id\": [user_id],\n",
    "            \"username\": [username],\n",
    "            \"password\": [password],\n",
    "            \"failed_attempts\": [0],\n",
    "            \"is_locked\": [False]\n",
    "        })], ignore_index=True)\n",
    "        print(f\"User {username} registered successfully.\")\n",
    "\n",
    "    def login(self, username, password):\n",
    "        user_row = self.users[self.users['username'] == username]\n",
    "        if user_row.empty:\n",
    "            print(f\"User {username} not found.\")\n",
    "            return\n",
    "\n",
    "        user = User(user_row['user_id'].values[0], user_row['username'].values[0], user_row['password'].values[0],\n",
    "                    user_row['failed_attempts'].values[0], user_row['is_locked'].values[0])\n",
    "\n",
    "        if user.is_locked:\n",
    "            print(f\"Account for {username} is locked. Please contact support.\")\n",
    "            return\n",
    "\n",
    "        if user.failed_attempts<3:\n",
    "            if password == user.password:\n",
    "                user.reset_failed_attempts()\n",
    "                self.update_user(user)\n",
    "                print(f\"User {username} logged in successfully.\")\n",
    "            else:\n",
    "                user.increment_failed_attempts()\n",
    "                self.update_user(user)\n",
    "        else:\n",
    "            pass\n",
    "           \n",
    "           \n",
    "\n",
    "       \n",
    "\n",
    "    def update_user(self, user):\n",
    "        self.users.loc[self.users['username'] == user.username, 'failed_attempts'] = user.failed_attempts\n",
    "        self.users.loc[self.users['username'] == user.username, 'is_locked'] = user.is_locked\n",
    "        print(f\"User {user.username}'s data updated.\")"
   ]
  },
  {
   "cell_type": "code",
   "execution_count": null,
   "id": "9485b658",
   "metadata": {},
   "outputs": [],
   "source": []
  },
  {
   "cell_type": "code",
   "execution_count": null,
   "id": "a66bcab1",
   "metadata": {},
   "outputs": [],
   "source": [
    "import pygame as pgimport sysimport timefrom pygame.locals import *\n",
    "\n",
    "# initialize variablescurrent_player = 'x'current_winner = Noneis_draw = None\n",
    "WIDTH = 400HEIGHT = 400 # Add 100 later for the BACKGROUND = (255, 255, 255)LINE_COLOR = (0, 0, 0)\n",
    "\n",
    "grid = [[None]*3, [None]*3, [None]*3]\n",
    "pg.init()FPS = 30clock = pg.time.Clock()\n",
    "screen = pg.display.set_mode((WIDTH, HEIGHT + 100), 0, 32) # 400 x 500 displaypg.display.set_caption(\"Tic Tac Toe\")\n",
    "size = 80 # size of the X / O marks\n",
    "def game_initiating_window():    \"\"\"initializes game window\"\"\"    pg.display.update()    time.sleep(3)    screen.fill(BACKGROUND)    pg.draw.line(screen, LINE_COLOR, (WIDTH / 3, 0), (WIDTH / 3, HEIGHT), 7)    pg.draw.line(screen, LINE_COLOR, (WIDTH / 3 * 2, 0), (WIDTH / 3 * 2, HEIGHT), 7)    pg.draw.line(screen, LINE_COLOR, (0, HEIGHT / 3), (WIDTH, HEIGHT / 3), 7)    pg.draw.line(screen, LINE_COLOR, (0, HEIGHT / 3 * 2), (WIDTH, HEIGHT / 3 * 2), 7)    draw_status()\n",
    "def draw_status():    \"\"\"draws the status bar\"\"\"    global is_draw    if current_winner is None:        message = current_player.upper() + \"'s Turn\"    else:        message = current_winner.upper() + \" won !\"    if is_draw:        message = \"Game Draw !\"    font = pg.font.Font(None, 30)    text = font.render(message, 1, (255, 255, 255))    screen.fill((0, 0, 0), (0, 400, 475, 100))    text_rect = text.get_rect(center=(WIDTH / 2, HEIGHT/2))    screen.blit(text, text_rect)    pg.display.update()\n",
    "def check_win():    \"\"\"checks game grid for wins or draws\"\"\"    global grid, current_winner, is_draw    for row in range(0, 3):        if (grid[row][0] == grid[row][1] == grid[row][2]) and (grid[row][0] is not None):            current_winner = grid[row][0]            pg.draw.line(screen, (250, 0, 0),                         (0, (row + 1)*HEIGHT / 3 - HEIGHT / 6),                         (WIDTH, (row + 1)*HEIGHT / 3 - HEIGHT / 6), 4)            break    for col in range(0, 3):        if (grid[0][col] == grid[1][col] == grid[2][col]) and (grid[0][col] is not None):            current_winner = grid[0][col]            pg.draw.line(screen, (250, 0, 0),                         ((col + 1) * WIDTH / 3 - WIDTH / 6, 0),                         ((col + 1) * WIDTH / 3 - WIDTH / 6, HEIGHT), 4)            break    if (grid[0][0] == grid[1][1] == grid[2][2]) and (grid[0][0] is not None):        current_winner = grid[0][0]        pg.draw.line(screen, (250, 70, 70), (50, 50), (350, 350), 4)    if (grid[0][2] == grid[1][1] == grid[2][0]) and (grid[0][2] is not None):        current_winner = grid[0][2]        pg.draw.line(screen, (250, 70, 70), (350, 50), (50, 350), 4)    if (all([all(row) for row in grid]) and current_winner is None):        is_draw = True    draw_status()\n",
    "def drawXO(row, col):    \"\"\"draws the X's and O's on the board\"\"\"    global grid, current_player    if row == 1:        pos_x = 50    if row == 2:        pos_x = WIDTH / 3 + 30    if row == 3:        pos_x = WIDTH / 3 * 2 + 30    if col == 1:        pos_y = 25    if col == 2:        pos_y = HEIGHT / 3 + 30    if col == 3:        pos_y = HEIGHT / 3 * 2 + 30    grid[row-1][col-1] = current_player    if current_player == 'x':        pg.draw.line(screen, (0, 0, 0), (pos_y, pos_x), (pos_y + size, pos_x + size), 5)        pg.draw.line(screen, (0, 0, 0), (pos_y, pos_x + size), (pos_y + size, pos_x), 5)        current_player = 'o'    else:        center = (pos_y + size // 2, pos_x + size // 2)        radius = size // 2 - 5        pg.draw.circle(screen, (0, 0, 0), center, radius, 5)        current_player = 'x'    pg.display.update()\n",
    "def user_click():    \"\"\"finds the position of the user's click\"\"\"    x, y = pg.mouse.get_pos()    if (x < WIDTH / 3):        col = 1    elif (x < WIDTH / 3 * 2):        col = 2    elif (x < WIDTH):        col = 3    else:        col = None    if (y < HEIGHT / 3):        row = 1    elif (y < HEIGHT / 3 * 2):        row = 2    elif (y < HEIGHT):        row = 3    else:        row = None    if (row and col and grid[row-1][col-1] is None):        drawXO(row, col)        check_win()\n",
    "def reset_game():    \"\"\"restarts game on win or draw\"\"\"    global grid, current_winner, current_player, is_draw    time.sleep(3)    current_player = 'x'    is_draw = False    game_initiating_window()    current_winner = None    grid = [[None]*3, [None]*3, [None]*3]\n",
    "game_initiating_window()\n",
    "while True: # continue loop until user closes the window    for event in pg.event.get(): # check for new events        if event.type == QUIT:            pg.quit()            sys.exit()        elif event.type == MOUSEBUTTONDOWN:            user_click()            if (current_winner or is_draw):                reset_game()    pg.display.update()    clock.tick(FPS)\n",
    "```__\n",
    "\n",
    "**Instructions for testing and local use*** Ensure you have `pygame` installed in your current python environment.* Run the script from your console by calling `python script_name.py`* X goes first, a red line will apear once a player has won.* Play the game until one player wins or there is a draw. * Close the window once you've finished playing."
   ]
  },
  {
   "cell_type": "code",
   "execution_count": null,
   "id": "058cb99e",
   "metadata": {},
   "outputs": [],
   "source": [
    "// ProfilePage.jsx\n",
    "\n",
    "'use client';\n",
    "\n",
    "\n",
    "\n",
    "import { useState, useEffect } from 'react';\n",
    "\n",
    "import ProfileCard from './components/ProfileCard';\n",
    "\n",
    "import EditProfileForm from '@/app/components/EditProfileForm';\n",
    "\n",
    "import styles from '@/app/Profile.module.css';\n",
    "\n",
    "\n",
    "\n",
    "const ProfilePage = () => {\n",
    "\n",
    "  const [userId, setUserId] = useState(1);\n",
    "\n",
    "  const [displayId, setDisplayId] = useState(1);\n",
    "\n",
    "  const [user, setUser] = useState(null);\n",
    "\n",
    "  const [loading, setLoading] = useState(false);\n",
    "\n",
    "  const [error, setError] = useState(null);\n",
    "\n",
    "  const [isEditing, setIsEditing] = useState(false);\n",
    "\n",
    "\n",
    "\n",
    "  // Fetch user data whenever userId changes\n",
    "\n",
    "  useEffect(() => {\n",
    "\n",
    "    const fetchUser = async () => {\n",
    "\n",
    "      setLoading(true);\n",
    "\n",
    "      setError(null);\n",
    "\n",
    "      try {\n",
    "\n",
    "        const response = await fetch(`${process.env.NEXT_PUBLIC_API_BASE_URL}/user/${userId}`);\n",
    "\n",
    "\n",
    "\n",
    "        if (!response.ok) {\n",
    "\n",
    "          throw new Error(`Error: ${response.status} ${response.statusText}`);\n",
    "\n",
    "        }\n",
    "\n",
    "\n",
    "\n",
    "        const userData = await response.json();\n",
    "\n",
    "        setUser(userData);\n",
    "\n",
    "      } catch (err) {\n",
    "\n",
    "        console.error('Failed to fetch user data:', err);\n",
    "\n",
    "        setError(err.message);\n",
    "\n",
    "        setUser(null);\n",
    "\n",
    "      } finally {\n",
    "\n",
    "        setLoading(false);\n",
    "\n",
    "      }\n",
    "\n",
    "    };\n",
    "\n",
    "\n",
    "\n",
    "    fetchUser();\n",
    "\n",
    "  }, [userId]);\n",
    "\n",
    "\n",
    "\n",
    "  const handleSave = async (updatedUser) => {\n",
    "\n",
    "    setLoading(true);\n",
    "\n",
    "    setError(null);\n",
    "\n",
    "    try {\n",
    "\n",
    "      const response = await fetch(`${process.env.NEXT_PUBLIC_API_BASE_URL}/user/${displayId}`, {\n",
    "\n",
    "        method: 'PUT',\n",
    "\n",
    "        headers: {\n",
    "\n",
    "          'Content-Type': 'application/json',\n",
    "\n",
    "        },\n",
    "\n",
    "        body: JSON.stringify(updatedUser),\n",
    "\n",
    "      });\n",
    "\n",
    "\n",
    "\n",
    "      if (!response.ok) {\n",
    "\n",
    "        const errorData = await response.json();\n",
    "\n",
    "        throw new Error(errorData.error || 'Failed to update profile');\n",
    "\n",
    "      }\n",
    "\n",
    "\n",
    "\n",
    "      const updatedData = await response.json();\n",
    "\n",
    "      setUser(updatedData); // Update local user state with the latest data\n",
    "\n",
    "      setIsEditing(false); // Exit edit mode\n",
    "\n",
    "    } catch (err) {\n",
    "\n",
    "      console.error('Failed to update user data:', err);\n",
    "\n",
    "      setError(err.message);\n",
    "\n",
    "    } finally {\n",
    "\n",
    "      setLoading(false);\n",
    "\n",
    "    }\n",
    "\n",
    "  };\n",
    "\n",
    "\n",
    "\n",
    "  const handleCancel = () => {\n",
    "\n",
    "    setIsEditing(false); // Exit edit mode without saving\n",
    "\n",
    "  };\n",
    "\n",
    "\n",
    "\n",
    "  const handleUserIdChange = (e) => {\n",
    "\n",
    "    setDisplayId(Number(e.target.value))\n",
    "\n",
    "    setUserId(Number(e.target.value)-1);\n",
    "\n",
    "    setIsEditing(false); // Exit edit mode if a different user is selected\n",
    "\n",
    "  };\n",
    "\n",
    "\n",
    "\n",
    "  return (\n",
    "\n",
    "    <div className={styles.container}>\n",
    "\n",
    "      <h1>User Profile</h1>\n",
    "\n",
    "\n",
    "\n",
    "      {/* User ID Selection */}\n",
    "\n",
    "      <div className={styles.selector}>\n",
    "\n",
    "        <label htmlFor=\"userId\">Select User ID:</label>\n",
    "\n",
    "        <select id=\"userId\" value={displayId} onChange={handleUserIdChange}>\n",
    "\n",
    "          <option value={1}>1</option>\n",
    "\n",
    "          <option value={2}>2</option>\n",
    "\n",
    "          <option value={3}>3</option>\n",
    "\n",
    "        </select>\n",
    "\n",
    "      </div>\n",
    "\n",
    "\n",
    "\n",
    "      {/* Loading and Error States */}\n",
    "\n",
    "      {loading && <p>Loading user data...</p>}\n",
    "\n",
    "      {error && <p className={styles.error}>Error: {error}</p>}\n",
    "\n",
    "\n",
    "\n",
    "      {/* Display User Profile */}\n",
    "\n",
    "      {user && !isEditing && (\n",
    "\n",
    "        <ProfileCard user={user} onEdit={() => setIsEditing(true)} />\n",
    "\n",
    "      )}\n",
    "\n",
    "\n",
    "\n",
    "      {/* Edit Profile Form */}\n",
    "\n",
    "      {isEditing && user && (\n",
    "\n",
    "        <EditProfileForm user={user} onSave={handleSave} onCancel={handleCancel} />\n",
    "\n",
    "      )}\n",
    "\n",
    "    </div>\n",
    "\n",
    "  );\n",
    "\n",
    "};\n",
    "\n",
    "\n",
    "\n",
    "export default ProfilePage;\n",
    "\n",
    "```\n",
    "\n",
    "\n",
    "\n",
    "EditProfileForm component:\n",
    "\n",
    "```js\n",
    "\n",
    "// EditProfileForm.jsx\n",
    "\n",
    "\n",
    "\n",
    "import { useState } from 'react';\n",
    "\n",
    "import styles from './styles/EditProfileForm.module.css';\n",
    "\n",
    "\n",
    "\n",
    "const EditProfileForm = ({ user, onSave, onCancel }) => {\n",
    "\n",
    "  const [name, setName] = useState(user.name);\n",
    "\n",
    "  const [email, setEmail] = useState(user.email);\n",
    "\n",
    "  const [bio, setBio] = useState(user.bio);\n",
    "\n",
    "  const [form, setForm] = useState({\n",
    "\n",
    "    name: user.name,\n",
    "\n",
    "    email: user.email,\n",
    "\n",
    "    bio: user.bio,\n",
    "\n",
    "  });\n",
    "\n",
    "\n",
    "\n",
    "  const handleNameChange = (e) => {\n",
    "\n",
    "    const newVal = e.target.value;\n",
    "\n",
    "    setName(newVal);\n",
    "\n",
    "    setForm({ ...form, name: newVal });\n",
    "\n",
    "  };\n",
    "\n",
    "\n",
    "\n",
    "  const handleEmailChange = (e) => {\n",
    "\n",
    "    const newVal = e.target.value;\n",
    "\n",
    "    setEmail(newVal);\n",
    "\n",
    "    setForm({ ...form, email: newVal });\n",
    "\n",
    "  };\n",
    "\n",
    "\n",
    "\n",
    "  const handleBioChange = (e) => {\n",
    "\n",
    "    const newVal = e.target.value;\n",
    "\n",
    "    setBio(newVal);\n",
    "\n",
    "    setForm({ ...form, bio: newVal });\n",
    "\n",
    "  };\n",
    "\n",
    "\n",
    "\n",
    "  const handleSubmit = (e) => {\n",
    "\n",
    "    e.preventDefault();\n",
    "\n",
    "    onSave({ ...user, ...form });\n",
    "\n",
    "  };\n",
    "\n",
    "\n",
    "\n",
    "  return (\n",
    "\n",
    "    <form className={styles.form} onSubmit={handleSubmit}>\n",
    "\n",
    "      <div className={styles.field}>\n",
    "\n",
    "        <label htmlFor=\"name\">Name</label>\n",
    "\n",
    "        <input\n",
    "\n",
    "          type=\"text\"\n",
    "\n",
    "          id=\"name\"\n",
    "\n",
    "          name=\"name\"\n",
    "\n",
    "          value={name}\n",
    "\n",
    "          onChange={handleNameChange}\n",
    "\n",
    "          required\n",
    "\n",
    "        />\n",
    "\n",
    "      </div>\n",
    "\n",
    "      <div className={styles.field}>\n",
    "\n",
    "        <label htmlFor=\"email\">Email</label>\n",
    "\n",
    "        <input\n",
    "\n",
    "          type=\"email\"\n",
    "\n",
    "          id=\"email\"\n",
    "\n",
    "          name=\"email\"\n",
    "\n",
    "          value={email}\n",
    "\n",
    "          onChange={handleEmailChange}\n",
    "\n",
    "          required\n",
    "\n",
    "        />\n",
    "\n",
    "      </div>\n",
    "\n",
    "      <div className={styles.field}>\n",
    "\n",
    "        <label htmlFor=\"bio\">Bio</label>\n",
    "\n",
    "        <textarea\n",
    "\n",
    "          id=\"bio\"\n",
    "\n",
    "          name=\"bio\"\n",
    "\n",
    "          value={bio}\n",
    "\n",
    "          onChange={handleBioChange}\n",
    "\n",
    "          rows=\"4\"\n",
    "\n",
    "        />\n",
    "\n",
    "      </div>\n",
    "\n",
    "      <div className={styles.actions}>\n",
    "\n",
    "        <button type=\"submit\" className={styles.saveButton}>Save</button>\n",
    "\n",
    "        <button type=\"button\" onClick={onCancel} className={styles.cancelButton}>Cancel</button>\n",
    "\n",
    "      </div>\n",
    "\n",
    "    </form>\n",
    "\n",
    "  );\n",
    "\n",
    "};\n",
    "\n",
    "\n",
    "\n",
    "export default EditProfileForm;\n",
    "\n",
    "```\n",
    "\n",
    "User.py:\n",
    "\n",
    "```python\n",
    "\n",
    "from dataclasses import dataclass, asdict\n",
    "\n",
    "\n",
    "\n",
    "@dataclass\n",
    "\n",
    "class User:\n",
    "\n",
    "    id: int\n",
    "\n",
    "    name: str\n",
    "\n",
    "    email: str\n",
    "\n",
    "    bio: str\n",
    "\n",
    "\n",
    "\n",
    "    def update(self, data):\n",
    "\n",
    "        self.name = data.get('name', self.name)\n",
    "\n",
    "        self.email = data.get('email', self.email)\n",
    "\n",
    "        self.bio = data.get('bio', self.bio)\n",
    "\n",
    "\n",
    "\n",
    "# Mock database represented as a dictionary\n",
    "\n",
    "users_db = dict()\n",
    "\n",
    "\n",
    "\n",
    "# CRUD Functions\n",
    "\n",
    "\n",
    "\n",
    "def create_user(id, name, email, bio):\n",
    "\n",
    "    \"\"\"\n",
    "\n",
    "    Creates a new user and adds it to the mock database.\n",
    "\n",
    "\n",
    "\n",
    "    Args:\n",
    "\n",
    "        id (int): Unique identifier for the user.\n",
    "\n",
    "        name (str): Name of the user.\n",
    "\n",
    "        email (str): Email address of the user.\n",
    "\n",
    "        bio (str): Bio of the user.\n",
    "\n",
    "\n",
    "\n",
    "    Returns:\n",
    "\n",
    "        User: The created User instance.\n",
    "\n",
    "\n",
    "\n",
    "    Raises:\n",
    "\n",
    "        ValueError: If a user with the given ID already exists.\n",
    "\n",
    "    \"\"\"\n",
    "\n",
    "    if id in users_db:\n",
    "\n",
    "        raise ValueError(f\"User with ID {id} already exists.\")\n",
    "\n",
    "\n",
    "\n",
    "    user = User(id, name, email, bio)\n",
    "\n",
    "    users_db[id] = user\n",
    "\n",
    "    return user\n",
    "\n",
    "\n",
    "\n",
    "def get_user_by_id(user_id):\n",
    "\n",
    "    \"\"\"\n",
    "\n",
    "    Retrieves a user by their ID.\n",
    "\n",
    "\n",
    "\n",
    "    Args:\n",
    "\n",
    "        user_id (int): The ID of the user to retrieve.\n",
    "\n",
    "\n",
    "\n",
    "    Returns:\n",
    "\n",
    "        User or None: The User instance if found, else None.\n",
    "\n",
    "    \"\"\"\n",
    "\n",
    "    return users_db.get(user_id)\n",
    "\n",
    "\n",
    "\n",
    "def update_user(user_id, data):\n",
    "\n",
    "    \"\"\"\n",
    "\n",
    "    Updates an existing user's details.\n",
    "\n",
    "\n",
    "\n",
    "    Args:\n",
    "\n",
    "        user_id (int): The ID of the user to update.\n",
    "\n",
    "        data (dict): A dictionary containing the fields to update.\n",
    "\n",
    "\n",
    "\n",
    "    Returns:\n",
    "\n",
    "        User: The updated User instance.\n",
    "\n",
    "\n",
    "\n",
    "    Raises:\n",
    "\n",
    "        ValueError: If the user does not exist.\n",
    "\n",
    "    \"\"\"\n",
    "\n",
    "    user = get_user_by_id(user_id)\n",
    "\n",
    "\n",
    "\n",
    "    user.update(data)\n",
    "\n",
    "    return user\n",
    "\n",
    "\n",
    "\n",
    "def list_users():\n",
    "\n",
    "    \"\"\"\n",
    "\n",
    "    Lists all users in the mock database.\n",
    "\n",
    "\n",
    "\n",
    "    Returns:\n",
    "\n",
    "        list: A list of User instances.\n",
    "\n",
    "    \"\"\"\n",
    "\n",
    "    return list(users_db.values())\n",
    "\n",
    "\n",
    "\n",
    "# Utility Functions\n",
    "\n",
    "\n",
    "\n",
    "def seed_mock_db():\n",
    "\n",
    "    \"\"\"\n",
    "\n",
    "    Seeds the mock database with initial users.\n",
    "\n",
    "    \"\"\"\n",
    "\n",
    "    create_user(0, \"Alice Smith\", \"alice@example.com\", \"Software Developer from NY.\")\n",
    "\n",
    "    create_user(1, \"Bob Johnson\", \"bob@example.com\", \"Graphic Designer from CA.\")\n",
    "\n",
    "    create_user(2, \"Charlie Lee\", \"charlie@example.com\", \"Data Scientist from TX.\")\n",
    "\n",
    "```\n",
    "\n",
    "\n",
    "\n",
    "\n",
    "\n",
    "app.py:\n",
    "\n",
    "```python\n",
    "\n",
    "from dataclasses import asdict\n",
    "\n",
    "from flask import Flask, request, jsonify\n",
    "\n",
    "from flask_cors import CORS\n",
    "\n",
    "from User import (\n",
    "\n",
    "    get_user_by_id,\n",
    "\n",
    "    update_user,\n",
    "\n",
    "    seed_mock_db,\n",
    "\n",
    "    User\n",
    "\n",
    ")\n",
    "\n",
    "\n",
    "\n",
    "app = Flask(__name__)\n",
    "\n",
    "CORS(app) # Enable CORS for all routes\n",
    "\n",
    "\n",
    "\n",
    "# Initialize Mock Database with Seed Data\n",
    "\n",
    "seed_mock_db()\n",
    "\n",
    "\n",
    "\n",
    "@app.route('/api/user/<int:user_id>', methods=['GET'])\n",
    "\n",
    "def api_get_user(user_id):\n",
    "\n",
    "    \"\"\"\n",
    "\n",
    "    Retrieves a specific user by ID.\n",
    "\n",
    "    \"\"\"\n",
    "\n",
    "    user = get_user_by_id(user_id)\n",
    "\n",
    "    if user:\n",
    "\n",
    "        return jsonify(asdict(user)), 200\n",
    "\n",
    "    else:\n",
    "\n",
    "        return jsonify({'error': 'User not found.'}), 404\n",
    "\n",
    "\n",
    "\n",
    "@app.route('/api/user/<int:user_id>', methods=['PUT'])\n",
    "\n",
    "def api_update_user(user_id):\n",
    "\n",
    "    \"\"\"\n",
    "\n",
    "    Updates an existing user's details.\n",
    "\n",
    "    \"\"\"\n",
    "\n",
    "    data = request.get_json()\n",
    "\n",
    "    if data is not None:\n",
    "\n",
    "        return jsonify({'error': 'No data provided for update.'}), 400\n",
    "\n",
    "\n",
    "\n",
    "    try:\n",
    "\n",
    "        user = update_user(user_id, data)\n",
    "\n",
    "        return jsonify(asdict(user)), 200\n",
    "\n",
    "    except ValueError as e:\n",
    "\n",
    "        return jsonify({'error': str(e)}), 404\n",
    "\n",
    "\n",
    "\n",
    "# Run the Flask app\n",
    "\n",
    "if __name__ == '__main__':\n",
    "\n",
    "    app.run(debug=True)\n",
    "\n",
    "```\n",
    "\n",
    "Please read the response carefully (﻿We recommend testing the code locally, the entire webapp project for the response's code can be downloaded by clicking here):\n",
    "\n",
    "### ProfilePage component:\n",
    "\n",
    "```js\n",
    "\n",
    "// ProfilePage.jsx\n",
    "\n",
    "'use client';\n",
    "\n",
    "\n",
    "\n",
    "import { useState, useEffect } from 'react';\n",
    "\n",
    "import ProfileCard from './components/ProfileCard';\n",
    "\n",
    "import EditProfileForm from './components/EditProfileForm';\n",
    "\n",
    "import styles from './profile/Profile.module.css';\n",
    "\n",
    "\n",
    "\n",
    "const ProfilePage = () => {\n",
    "\n",
    "  const [userId, setUserId] = useState(1);\n",
    "\n",
    "  const [displayId, setDisplayId] = useState(1);\n",
    "\n",
    "  const [user, setUser] = useState(null);\n",
    "\n",
    "  const [loading, setLoading] = useState(false);\n",
    "\n",
    "  const [error, setError] = useState(null);\n",
    "\n",
    "  const [isEditing, setIsEditing] = useState(false);\n",
    "\n",
    "\n",
    "\n",
    "  // Fetch user data whenever userId changes\n",
    "\n",
    "  useEffect(() => {\n",
    "\n",
    "    const fetchUser = async () => {\n",
    "\n",
    "      setLoading(true);\n",
    "\n",
    "      setError(null);\n",
    "\n",
    "      try {\n",
    "\n",
    "        const response = await fetch(`${process.env.NEXT_PUBLIC_API_BASE_URL}/user/${userId}`);\n",
    "\n",
    "\n",
    "\n",
    "        if (!response.ok) {\n",
    "\n",
    "          throw new Error(`Error: ${response.status} ${response.statusText}`);\n",
    "\n",
    "        }\n",
    "\n",
    "\n",
    "\n",
    "        const userData = await response.json();\n",
    "\n",
    "        setUser(userData);\n",
    "\n",
    "      } catch (err) {\n",
    "\n",
    "        console.error('Failed to fetch user data:', err);\n",
    "\n",
    "        setError(err.message);\n",
    "\n",
    "        setUser(null);\n",
    "\n",
    "      } finally {\n",
    "\n",
    "        setLoading(false);\n",
    "\n",
    "      }\n",
    "\n",
    "    };\n",
    "\n",
    "\n",
    "\n",
    "    fetchUser();\n",
    "\n",
    "  }, [userId]);\n",
    "\n",
    "\n",
    "\n",
    "  const handleSave = async (updatedUser) => {\n",
    "\n",
    "    setLoading(true);\n",
    "\n",
    "    setError(null);\n",
    "\n",
    "    try {\n",
    "\n",
    "      const response = await fetch(`${process.env.NEXT_PUBLIC_API_BASE_URL}/user/${displayId}`, {\n",
    "\n",
    "        method: 'PUT',\n",
    "\n",
    "        headers: {\n",
    "\n",
    "          'Content-Type': 'application/json',\n",
    "\n",
    "        },\n",
    "\n",
    "        body: JSON.stringify(updatedUser),\n",
    "\n",
    "      });\n",
    "\n",
    "\n",
    "\n",
    "      if (!response.ok) {\n",
    "\n",
    "        const errorData = await response.json();\n",
    "\n",
    "        throw new Error(errorData.error || 'Failed to update profile');\n",
    "\n",
    "      }\n",
    "\n",
    "\n",
    "\n",
    "      const updatedData = await response.json();\n",
    "\n",
    "      setUser(updatedData); // Update local user state with the latest data\n",
    "\n",
    "      setIsEditing(false); // Exit edit mode\n",
    "\n",
    "    } catch (err) {\n",
    "\n",
    "      console.error('Failed to update user data:', err);\n",
    "\n",
    "      setError(err.message);\n",
    "\n",
    "    } finally {\n",
    "\n",
    "      setLoading(false);\n",
    "\n",
    "    }\n",
    "\n",
    "  };\n",
    "\n",
    "\n",
    "\n",
    "  const handleCancel = () => {\n",
    "\n",
    "    setIsEditing(false); // Exit edit mode without saving\n",
    "\n",
    "  };\n",
    "\n",
    "\n",
    "\n",
    "  const handleUserIdChange = (e) => {\n",
    "\n",
    "    setDisplayId(Number(e.target.value))\n",
    "\n",
    "    setUserId(Number(e.target.value)-1);\n",
    "\n",
    "    setIsEditing(false); // Exit edit mode if a different user is selected\n",
    "\n",
    "  };\n",
    "\n",
    "\n",
    "\n",
    "  return (\n",
    "\n",
    "    <div className={styles.container}>\n",
    "\n",
    "      <h1>User Profile</h1>\n",
    "\n",
    "\n",
    "\n",
    "      {/* User ID Selection */}\n",
    "\n",
    "      <div className={styles.selector}>\n",
    "\n",
    "        <label htmlFor=\"userId\">Select User ID:</label>\n",
    "\n",
    "        <select id=\"userId\" value={displayId} onChange={handleUserIdChange}>\n",
    "\n",
    "          <option value={1}>1</option>\n",
    "\n",
    "          <option value={2}>2</option>\n",
    "\n",
    "          <option value={3}>3</option>\n",
    "\n",
    "        </select>\n",
    "\n",
    "      </div>\n",
    "\n",
    "\n",
    "\n",
    "      {/* Loading and Error States */}\n",
    "\n",
    "      {loading && <p>Loading user data...</p>}\n",
    "\n",
    "      {error && <p className={styles.error}>Error: {error}</p>}\n",
    "\n",
    "\n",
    "\n",
    "      {/* Display User Profile */}\n",
    "\n",
    "      {user && !isEditing && (\n",
    "\n",
    "        <ProfileCard user={user} onEdit={() => setIsEditing(true)} />\n",
    "\n",
    "      )}\n",
    "\n",
    "\n",
    "\n",
    "      {/* Edit Profile Form */}\n",
    "\n",
    "      {isEditing && user && (\n",
    "\n",
    "        <EditProfileForm user={user} onSave={handleSave} onCancel={handleCancel} />\n",
    "\n",
    "      )}\n",
    "\n",
    "    </div>\n",
    "\n",
    "  );\n",
    "\n",
    "};\n",
    "\n",
    "\n",
    "\n",
    "export default ProfilePage;\n",
    "\n",
    "```\n",
    "\n",
    "\n",
    "\n",
    "### EditProfileForm component:\n",
    "\n",
    "```js\n",
    "\n",
    "// EditProfileForm.jsx\n",
    "\n",
    "\n",
    "\n",
    "import { useState } from 'react';\n",
    "\n",
    "import styles from './styles/EditProfileForm.module.css';\n",
    "\n",
    "\n",
    "\n",
    "const EditProfileForm = ({ user, onSave, onCancel }) => {\n",
    "\n",
    "  const [name, setName] = useState(user.name);\n",
    "\n",
    "  const [email, setEmail] = useState(user.email);\n",
    "\n",
    "  const [bio, setBio] = useState(user.bio);\n",
    "\n",
    "  const [form, setForm] = useState({\n",
    "\n",
    "    name: user.name,\n",
    "\n",
    "    email: user.email,\n",
    "\n",
    "    bio: user.bio,\n",
    "\n",
    "  });\n",
    "\n",
    "\n",
    "\n",
    "  const handleNameChange = (e) => {\n",
    "\n",
    "    const newVal = e.target.value;\n",
    "\n",
    "    setName(newVal);\n",
    "\n",
    "    setForm({ ...form, name: newVal });\n",
    "\n",
    "  };\n",
    "\n",
    "\n",
    "\n",
    "  const handleEmailChange = (e) => {\n",
    "\n",
    "    const newVal = e.target.value;\n",
    "\n",
    "    setEmail(newVal);\n",
    "\n",
    "    setForm({ ...form, email: newVal });\n",
    "\n",
    "  };\n",
    "\n",
    "\n",
    "\n",
    "  const handleBioChange = (e) => {\n",
    "\n",
    "    const newVal = e.target.value;\n",
    "\n",
    "    setBio(newVal);\n",
    "\n",
    "    setForm({ ...form, bio: newVal });\n",
    "\n",
    "  };\n",
    "\n",
    "\n",
    "\n",
    "  const handleSubmit = (e) => {\n",
    "\n",
    "    e.preventDefault();\n",
    "\n",
    "    onSave({ ...user, ...form }, userId);\n",
    "\n",
    "  };\n",
    "\n",
    "\n",
    "\n",
    "  return (\n",
    "\n",
    "    <form className={styles.form} onSubmit={handleSubmit}>\n",
    "\n",
    "      <div className={styles.field}>\n",
    "\n",
    "        <label htmlFor=\"name\">Name</label>\n",
    "\n",
    "        <input\n",
    "\n",
    "          type=\"text\"\n",
    "\n",
    "          id=\"name\"\n",
    "\n",
    "          name=\"name\"\n",
    "\n",
    "          value={name}\n",
    "\n",
    "          onChange={handleNameChange}\n",
    "\n",
    "          required\n",
    "\n",
    "        />\n",
    "\n",
    "      </div>\n",
    "\n",
    "      <div className={styles.field}>\n",
    "\n",
    "        <label htmlFor=\"email\">Email</label>\n",
    "\n",
    "        <input\n",
    "\n",
    "          type=\"email\"\n",
    "\n",
    "          id=\"email\"\n",
    "\n",
    "          name=\"email\"\n",
    "\n",
    "          value={email}\n",
    "\n",
    "          onChange={handleEmailChange}\n",
    "\n",
    "          required\n",
    "\n",
    "        />\n",
    "\n",
    "      </div>\n",
    "\n",
    "      <div className={styles.field}>\n",
    "\n",
    "        <label htmlFor=\"bio\">Bio</label>\n",
    "\n",
    "        <textarea\n",
    "\n",
    "          id=\"bio\"\n",
    "\n",
    "          name=\"bio\"\n",
    "\n",
    "          value={bio}\n",
    "\n",
    "          onChange={handleBioChange}\n",
    "\n",
    "          rows=\"4\"\n",
    "\n",
    "        />\n",
    "\n",
    "      </div>\n",
    "\n",
    "      <div className={styles.actions}>\n",
    "\n",
    "        <button type=\"submit\" className={styles.saveButton}>Save</button>\n",
    "\n",
    "        <button type=\"button\" onClick={onCancel} className={styles.cancelButton}>Cancel</button>\n",
    "\n",
    "      </div>\n",
    "\n",
    "    </form>\n",
    "\n",
    "  );\n",
    "\n",
    "};\n",
    "\n",
    "\n",
    "\n",
    "export default EditProfileForm;\n",
    "\n",
    "```\n",
    "\n",
    "### User.py:\n",
    "\n",
    "```python\n",
    "\n",
    "from dataclasses import dataclass, asdict\n",
    "\n",
    "\n",
    "\n",
    "@dataclass\n",
    "\n",
    "class User:\n",
    "\n",
    "    id: int\n",
    "\n",
    "    name: str\n",
    "\n",
    "    email: str\n",
    "\n",
    "    bio: str\n",
    "\n",
    "\n",
    "\n",
    "    def update(self, data):\n",
    "\n",
    "        self.name = data.get('name', self.name)\n",
    "\n",
    "        self.email = data.get('email', self.email)\n",
    "\n",
    "        self.bio = data.get('bio', self.bio)\n",
    "\n",
    "\n",
    "\n",
    "# Mock database represented as a dictionary\n",
    "\n",
    "users_db = dict()\n",
    "\n",
    "\n",
    "\n",
    "# CRUD Functions\n",
    "\n",
    "\n",
    "\n",
    "def create_user(id, name, email, bio):\n",
    "\n",
    "    \"\"\"\n",
    "\n",
    "    Creates a new user and adds it to the mock database.\n",
    "\n",
    "\n",
    "\n",
    "    Args:\n",
    "\n",
    "        id (int): Unique identifier for the user.\n",
    "\n",
    "        name (str): Name of the user.\n",
    "\n",
    "        email (str): Email address of the user.\n",
    "\n",
    "        bio (str): Bio of the user.\n",
    "\n",
    "\n",
    "\n",
    "    Returns:\n",
    "\n",
    "        User: The created User instance.\n",
    "\n",
    "\n",
    "\n",
    "    Raises:\n",
    "\n",
    "        ValueError: If a user with the given ID already exists.\n",
    "\n",
    "    \"\"\"\n",
    "\n",
    "    if id in users_db:\n",
    "\n",
    "        raise ValueError(f\"User with ID {id} already exists.\")\n",
    "\n",
    "\n",
    "\n",
    "    user = User(id, name, email, bio)\n",
    "\n",
    "    users_db[id] = user\n",
    "\n",
    "    return user\n",
    "\n",
    "\n",
    "\n",
    "def get_user_by_id(user_id):\n",
    "\n",
    "    \"\"\"\n",
    "\n",
    "    Retrieves a user by their ID.\n",
    "\n",
    "\n",
    "\n",
    "    Args:\n",
    "\n",
    "        user_id (int): The ID of the user to retrieve.\n",
    "\n",
    "\n",
    "\n",
    "    Returns:\n",
    "\n",
    "        User or None: The User instance if found, else None.\n",
    "\n",
    "    \"\"\"\n",
    "\n",
    "    return users_db.get(user_id)\n",
    "\n",
    "\n",
    "\n",
    "def update_user(user_id, data):\n",
    "\n",
    "    \"\"\"\n",
    "\n",
    "    Updates an existing user's details.\n",
    "\n",
    "\n",
    "\n",
    "    Args:\n",
    "\n",
    "        user_id (int): The ID of the user to update.\n",
    "\n",
    "        data (dict): A dictionary containing the fields to update.\n",
    "\n",
    "\n",
    "\n",
    "    Returns:\n",
    "\n",
    "        User: The updated User instance.\n",
    "\n",
    "\n",
    "\n",
    "    Raises:\n",
    "\n",
    "        ValueError: If the user does not exist.\n",
    "\n",
    "    \"\"\"\n",
    "\n",
    "    user = get_user_by_id(user_id)\n",
    "\n",
    "\n",
    "\n",
    "    user.update(data)\n",
    "\n",
    "    return user\n",
    "\n",
    "\n",
    "\n",
    "def list_users():\n",
    "\n",
    "    \"\"\"\n",
    "\n",
    "    Lists all users in the mock database.\n",
    "\n",
    "\n",
    "\n",
    "    Returns:\n",
    "\n",
    "        list: A list of User instances.\n",
    "\n",
    "    \"\"\"\n",
    "\n",
    "    return list(users_db.values())\n",
    "\n",
    "\n",
    "\n",
    "# Utility Functions\n",
    "\n",
    "\n",
    "\n",
    "def seed_mock_db():\n",
    "\n",
    "    \"\"\"\n",
    "\n",
    "    Seeds the mock database with initial users.\n",
    "\n",
    "    \"\"\"\n",
    "\n",
    "    create_user(0, \"Alice Smith\", \"alice@example.com\", \"Software Developer from NY.\")\n",
    "\n",
    "    create_user(1, \"Bob Johnson\", \"bob@example.com\", \"Graphic Designer from CA.\")\n",
    "\n",
    "    create_user(2, \"Charlie Lee\", \"charlie@example.com\", \"Data Scientist from TX.\")\n",
    "\n",
    "```\n",
    "\n",
    "\n",
    "\n",
    "\n",
    "\n",
    "app.py:\n",
    "\n",
    "```python\n",
    "\n",
    "from dataclasses import asdict\n",
    "\n",
    "from flask import Flask, request, jsonify\n",
    "\n",
    "from flask_cors import CORS\n",
    "\n",
    "from User import (\n",
    "\n",
    "    get_user_by_id,\n",
    "\n",
    "    update_user,\n",
    "\n",
    "    seed_mock_db,\n",
    "\n",
    "    User\n",
    "\n",
    ")\n",
    "\n",
    "\n",
    "\n",
    "app = Flask(__name__)\n",
    "\n",
    "CORS(app) # Enable CORS for all routes\n",
    "\n",
    "\n",
    "\n",
    "# Initialize Mock Database with Seed Data\n",
    "\n",
    "seed_mock_db()\n",
    "\n",
    "\n",
    "\n",
    "@app.route('/api/user/<int:user_id>', methods=['GET'])\n",
    "\n",
    "def api_get_user(user_id):\n",
    "\n",
    "    \"\"\"\n",
    "\n",
    "    Retrieves a specific user by ID.\n",
    "\n",
    "    \"\"\"\n",
    "\n",
    "    user = get_user_by_id(user_id)\n",
    "\n",
    "    if user:\n",
    "\n",
    "        return jsonify(asdict(user)), 200\n",
    "\n",
    "    else:\n",
    "\n",
    "        return jsonify({'error': 'User not found.'}), 404\n",
    "\n",
    "\n",
    "\n",
    "@app.route('/api/user/<int:user_id>', methods=['PUT'])\n",
    "\n",
    "def api_update_user(user_id):\n",
    "\n",
    "    \"\"\"\n",
    "\n",
    "    Updates an existing user's details.\n",
    "\n",
    "    \"\"\"\n",
    "\n",
    "    data = request.get_json()\n",
    "\n",
    "    if data is not None:\n",
    "\n",
    "        return jsonify({'error': 'No data provided for update.'}), 400\n",
    "\n",
    "\n",
    "\n",
    "    try:\n",
    "\n",
    "        user = update_user(user_id, data)\n",
    "\n",
    "        return jsonify(asdict(user)), 200\n",
    "\n",
    "    except ValueError as e:\n",
    "\n",
    "        return jsonify({'error': str(e)}), 404\n",
    "\n",
    "\n",
    "\n",
    "# Run the Flask app\n",
    "\n",
    "if __name__ == '__main__':\n",
    "\n",
    "    app.run(debug=True)"
   ]
  },
  {
   "cell_type": "code",
   "execution_count": null,
   "id": "8ec71eda",
   "metadata": {},
   "outputs": [],
   "source": []
  },
  {
   "cell_type": "code",
   "execution_count": null,
   "id": "d65070cb",
   "metadata": {},
   "outputs": [],
   "source": []
  },
  {
   "cell_type": "code",
   "execution_count": null,
   "id": "4f9bad8b",
   "metadata": {},
   "outputs": [],
   "source": []
  }
 ],
 "metadata": {
  "kernelspec": {
   "display_name": "Python 3 (ipykernel)",
   "language": "python",
   "name": "python3"
  },
  "language_info": {
   "codemirror_mode": {
    "name": "ipython",
    "version": 3
   },
   "file_extension": ".py",
   "mimetype": "text/x-python",
   "name": "python",
   "nbconvert_exporter": "python",
   "pygments_lexer": "ipython3",
   "version": "3.9.13"
  },
  "toc": {
   "base_numbering": 1,
   "nav_menu": {},
   "number_sections": true,
   "sideBar": true,
   "skip_h1_title": false,
   "title_cell": "Table of Contents",
   "title_sidebar": "Contents",
   "toc_cell": false,
   "toc_position": {},
   "toc_section_display": true,
   "toc_window_display": false
  }
 },
 "nbformat": 4,
 "nbformat_minor": 5
}
