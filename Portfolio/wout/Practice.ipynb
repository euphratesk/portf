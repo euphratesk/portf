{
 "cells": [
  {
   "cell_type": "code",
   "execution_count": 62,
   "id": "edd630a5",
   "metadata": {},
   "outputs": [],
   "source": [
    "def is_even(x):\n",
    "    x = int(input(\"Write down a integer\"))\n",
    "    if is_numeric(8):\n",
    "        if type(x)==int and x//2==0:\n",
    "            print(\"This number is even\")\n",
    "        else:\n",
    "            print(\"This number is\")\n",
    "    else:\n",
    "        print(\"Please write numeric number\")\n",
    "        "
   ]
  },
  {
   "cell_type": "code",
   "execution_count": 63,
   "id": "d76cbcd0",
   "metadata": {},
   "outputs": [
    {
     "name": "stdout",
     "output_type": "stream",
     "text": [
      "Write down a integer8\n"
     ]
    },
    {
     "ename": "NameError",
     "evalue": "name 'is_numeric' is not defined",
     "output_type": "error",
     "traceback": [
      "\u001b[1;31m---------------------------------------------------------------------------\u001b[0m",
      "\u001b[1;31mNameError\u001b[0m                                 Traceback (most recent call last)",
      "Cell \u001b[1;32mIn[63], line 1\u001b[0m\n\u001b[1;32m----> 1\u001b[0m is_even(\u001b[38;5;241m8\u001b[39m)\n",
      "Cell \u001b[1;32mIn[62], line 3\u001b[0m, in \u001b[0;36mis_even\u001b[1;34m(x)\u001b[0m\n\u001b[0;32m      1\u001b[0m \u001b[38;5;28;01mdef\u001b[39;00m \u001b[38;5;21mis_even\u001b[39m(x):\n\u001b[0;32m      2\u001b[0m     x \u001b[38;5;241m=\u001b[39m \u001b[38;5;28mint\u001b[39m(\u001b[38;5;28minput\u001b[39m(\u001b[38;5;124m\"\u001b[39m\u001b[38;5;124mWrite down a integer\u001b[39m\u001b[38;5;124m\"\u001b[39m))\n\u001b[1;32m----> 3\u001b[0m     \u001b[38;5;28;01mif\u001b[39;00m is_numeric(\u001b[38;5;241m8\u001b[39m):\n\u001b[0;32m      4\u001b[0m         \u001b[38;5;28;01mif\u001b[39;00m \u001b[38;5;28mtype\u001b[39m(x)\u001b[38;5;241m==\u001b[39m\u001b[38;5;28mint\u001b[39m \u001b[38;5;129;01mand\u001b[39;00m x\u001b[38;5;241m/\u001b[39m\u001b[38;5;241m/\u001b[39m\u001b[38;5;241m2\u001b[39m\u001b[38;5;241m==\u001b[39m\u001b[38;5;241m0\u001b[39m:\n\u001b[0;32m      5\u001b[0m             \u001b[38;5;28mprint\u001b[39m(\u001b[38;5;124m\"\u001b[39m\u001b[38;5;124mThis number is even\u001b[39m\u001b[38;5;124m\"\u001b[39m)\n",
      "\u001b[1;31mNameError\u001b[0m: name 'is_numeric' is not defined"
     ]
    }
   ],
   "source": [
    "is_even(8)"
   ]
  },
  {
   "cell_type": "code",
   "execution_count": 3,
   "id": "b8869204",
   "metadata": {},
   "outputs": [],
   "source": [
    "def is_even(x:int):\n",
    "    if x%2==0:\n",
    "        print(f\"{x} is even\")\n",
    "    else:\n",
    "        print(f\"{x} is odd\")"
   ]
  },
  {
   "cell_type": "code",
   "execution_count": 4,
   "id": "042fae5d",
   "metadata": {},
   "outputs": [
    {
     "name": "stdout",
     "output_type": "stream",
     "text": [
      "8 is even\n"
     ]
    }
   ],
   "source": [
    "is_even(8)"
   ]
  },
  {
   "cell_type": "code",
   "execution_count": 120,
   "id": "87359dff",
   "metadata": {},
   "outputs": [],
   "source": [
    "def reverse_vowels(x:str):\n",
    "    ls_v = []\n",
    "    ls_k = []\n",
    "    word = dict(enumerate(x)) \n",
    "    for i,k in zip(word.keys(),word.values()):\n",
    "        if k in ['a','e','i','o','u']:\n",
    "            ls_v.append(k)\n",
    "            ls_k.append(i)\n",
    "    for  n,m in zip(ls_k,ls_v[::-1]):\n",
    "         word[n]=m\n",
    "    return ''.join(list(word.values()))     \n",
    "\n",
    "    \n",
    "            \n",
    "        "
   ]
  },
  {
   "cell_type": "code",
   "execution_count": 121,
   "id": "5ee7bd7e",
   "metadata": {},
   "outputs": [
    {
     "data": {
      "text/plain": [
       "'holle'"
      ]
     },
     "execution_count": 121,
     "metadata": {},
     "output_type": "execute_result"
    }
   ],
   "source": [
    "reverse_vowels('hello')"
   ]
  },
  {
   "cell_type": "code",
   "execution_count": 91,
   "id": "3a16d358",
   "metadata": {},
   "outputs": [
    {
     "data": {
      "text/plain": [
       "[0, 1, 2]"
      ]
     },
     "execution_count": 91,
     "metadata": {},
     "output_type": "execute_result"
    }
   ],
   "source": [
    "[i for i,k in zip({0: 'a', 1: 'l', 2: 'i'}.keys(),{0: 'a', 1: 'l', 2: 'i'}.values())]"
   ]
  },
  {
   "cell_type": "code",
   "execution_count": 90,
   "id": "53dead41",
   "metadata": {},
   "outputs": [
    {
     "data": {
      "text/plain": [
       "[0, 1, 2]"
      ]
     },
     "execution_count": 90,
     "metadata": {},
     "output_type": "execute_result"
    }
   ],
   "source": [
    "list({0: 'a', 1: 'l', 2: 'i'}.keys())"
   ]
  },
  {
   "cell_type": "code",
   "execution_count": null,
   "id": "eae0133a",
   "metadata": {},
   "outputs": [],
   "source": []
  },
  {
   "cell_type": "code",
   "execution_count": null,
   "id": "401f789e",
   "metadata": {},
   "outputs": [],
   "source": []
  },
  {
   "cell_type": "code",
   "execution_count": null,
   "id": "96e81a0f",
   "metadata": {},
   "outputs": [],
   "source": []
  },
  {
   "cell_type": "code",
   "execution_count": 75,
   "id": "cafde291",
   "metadata": {},
   "outputs": [
    {
     "data": {
      "text/plain": [
       "{0: 'a', 1: 'l', 2: 'i'}"
      ]
     },
     "execution_count": 75,
     "metadata": {},
     "output_type": "execute_result"
    }
   ],
   "source": [
    "dict(enumerate(\"ali\"))"
   ]
  },
  {
   "cell_type": "code",
   "execution_count": 71,
   "id": "d87efc58",
   "metadata": {},
   "outputs": [
    {
     "data": {
      "text/plain": [
       "<enumerate at 0x1e9bba4e700>"
      ]
     },
     "execution_count": 71,
     "metadata": {},
     "output_type": "execute_result"
    }
   ],
   "source": [
    "en"
   ]
  },
  {
   "cell_type": "code",
   "execution_count": null,
   "id": "038472fe",
   "metadata": {},
   "outputs": [],
   "source": [
    "def reverse_vowels(x:str):\n",
    "    enumarate(list(x))"
   ]
  },
  {
   "cell_type": "code",
   "execution_count": 6,
   "id": "c84b7ccd",
   "metadata": {},
   "outputs": [],
   "source": [
    "x ='hello'"
   ]
  },
  {
   "cell_type": "code",
   "execution_count": 7,
   "id": "7d939af2",
   "metadata": {},
   "outputs": [],
   "source": [
    " y = x[:]"
   ]
  },
  {
   "cell_type": "code",
   "execution_count": 8,
   "id": "4c6ad687",
   "metadata": {},
   "outputs": [
    {
     "data": {
      "text/plain": [
       "'hello'"
      ]
     },
     "execution_count": 8,
     "metadata": {},
     "output_type": "execute_result"
    }
   ],
   "source": [
    "y"
   ]
  },
  {
   "cell_type": "code",
   "execution_count": 9,
   "id": "a6800ba8",
   "metadata": {},
   "outputs": [
    {
     "name": "stdout",
     "output_type": "stream",
     "text": [
      "['e', 'o']\n"
     ]
    }
   ],
   "source": [
    " ls = []\n",
    "for i in y:\n",
    "        if i in ['a','e','i','o','u']:\n",
    "            ls.append(i)\n",
    "            ls_1 = ls[:]\n",
    "print(ls_1)"
   ]
  },
  {
   "cell_type": "code",
   "execution_count": 10,
   "id": "76da20ff",
   "metadata": {},
   "outputs": [
    {
     "name": "stdout",
     "output_type": "stream",
     "text": [
      "['o', 'e']\n"
     ]
    }
   ],
   "source": [
    "ls.reverse()\n",
    "print(ls)"
   ]
  },
  {
   "cell_type": "code",
   "execution_count": 11,
   "id": "2ea8fc30",
   "metadata": {},
   "outputs": [
    {
     "name": "stdout",
     "output_type": "stream",
     "text": [
      "e o\n",
      "o e\n"
     ]
    }
   ],
   "source": [
    "for i,k in zip(ls_1,ls):\n",
    "    print(i,k)"
   ]
  },
  {
   "cell_type": "code",
   "execution_count": 12,
   "id": "f298e21c",
   "metadata": {},
   "outputs": [
    {
     "data": {
      "text/plain": [
       "['o', 'e']"
      ]
     },
     "execution_count": 12,
     "metadata": {},
     "output_type": "execute_result"
    }
   ],
   "source": [
    "ls"
   ]
  },
  {
   "cell_type": "code",
   "execution_count": 13,
   "id": "e1f1705b",
   "metadata": {},
   "outputs": [
    {
     "data": {
      "text/plain": [
       "['e', 'o']"
      ]
     },
     "execution_count": 13,
     "metadata": {},
     "output_type": "execute_result"
    }
   ],
   "source": [
    "ls_1"
   ]
  },
  {
   "cell_type": "code",
   "execution_count": 14,
   "id": "82fa023c",
   "metadata": {},
   "outputs": [
    {
     "name": "stdout",
     "output_type": "stream",
     "text": [
      "hello\n",
      "hello\n"
     ]
    }
   ],
   "source": [
    "for i,k in zip(ls_1,ls):\n",
    "    x.replace(i,k)\n",
    "    print(x)"
   ]
  },
  {
   "cell_type": "code",
   "execution_count": null,
   "id": "a6ac7ac8",
   "metadata": {},
   "outputs": [],
   "source": []
  },
  {
   "cell_type": "code",
   "execution_count": null,
   "id": "08772031",
   "metadata": {},
   "outputs": [],
   "source": []
  },
  {
   "cell_type": "code",
   "execution_count": null,
   "id": "af4fa0eb",
   "metadata": {},
   "outputs": [],
   "source": []
  },
  {
   "cell_type": "code",
   "execution_count": 15,
   "id": "5082ac45",
   "metadata": {},
   "outputs": [],
   "source": [
    "reverse_vowels('hello')"
   ]
  },
  {
   "cell_type": "code",
   "execution_count": 16,
   "id": "f3f82bb2",
   "metadata": {},
   "outputs": [],
   "source": [
    "lst = ['e','o']\n",
    "lst.reverse()"
   ]
  },
  {
   "cell_type": "code",
   "execution_count": 17,
   "id": "55c185a7",
   "metadata": {},
   "outputs": [
    {
     "data": {
      "text/plain": [
       "['o', 'e']"
      ]
     },
     "execution_count": 17,
     "metadata": {},
     "output_type": "execute_result"
    }
   ],
   "source": [
    "lst"
   ]
  },
  {
   "cell_type": "code",
   "execution_count": 18,
   "id": "ebbf55ed",
   "metadata": {},
   "outputs": [
    {
     "data": {
      "text/plain": [
       "True"
      ]
     },
     "execution_count": 18,
     "metadata": {},
     "output_type": "execute_result"
    }
   ],
   "source": [
    "x= 1\n",
    "type(x)==int"
   ]
  },
  {
   "cell_type": "code",
   "execution_count": 19,
   "id": "94891428",
   "metadata": {},
   "outputs": [
    {
     "data": {
      "text/plain": [
       "4"
      ]
     },
     "execution_count": 19,
     "metadata": {},
     "output_type": "execute_result"
    }
   ],
   "source": [
    "2+2"
   ]
  },
  {
   "cell_type": "code",
   "execution_count": 20,
   "id": "4656e7c8",
   "metadata": {},
   "outputs": [
    {
     "data": {
      "text/plain": [
       "'ali'"
      ]
     },
     "execution_count": 20,
     "metadata": {},
     "output_type": "execute_result"
    }
   ],
   "source": [
    "'ali'"
   ]
  },
  {
   "cell_type": "code",
   "execution_count": 21,
   "id": "6f4c2928",
   "metadata": {},
   "outputs": [],
   "source": [
    "person = {\n",
    "    'name':'John',\n",
    "    \"age\" : 30 ,\n",
    "    \"city\" : \"New York\"\n",
    "}"
   ]
  },
  {
   "cell_type": "code",
   "execution_count": 22,
   "id": "6c910691",
   "metadata": {},
   "outputs": [
    {
     "data": {
      "text/plain": [
       "'John'"
      ]
     },
     "execution_count": 22,
     "metadata": {},
     "output_type": "execute_result"
    }
   ],
   "source": [
    "person['name']"
   ]
  },
  {
   "cell_type": "code",
   "execution_count": 23,
   "id": "ca6866e5",
   "metadata": {},
   "outputs": [],
   "source": [
    "person['job'] = 'ds'"
   ]
  },
  {
   "cell_type": "code",
   "execution_count": 24,
   "id": "dc5d2bfb",
   "metadata": {},
   "outputs": [
    {
     "data": {
      "text/plain": [
       "'ds'"
      ]
     },
     "execution_count": 24,
     "metadata": {},
     "output_type": "execute_result"
    }
   ],
   "source": [
    "person['job']"
   ]
  },
  {
   "cell_type": "code",
   "execution_count": 25,
   "id": "4524a6ec",
   "metadata": {},
   "outputs": [],
   "source": [
    "del person['job']"
   ]
  },
  {
   "cell_type": "code",
   "execution_count": 26,
   "id": "a16a0e99",
   "metadata": {},
   "outputs": [
    {
     "data": {
      "text/plain": [
       "{'name': 'John', 'age': 30, 'city': 'New York'}"
      ]
     },
     "execution_count": 26,
     "metadata": {},
     "output_type": "execute_result"
    }
   ],
   "source": [
    "person"
   ]
  },
  {
   "cell_type": "code",
   "execution_count": 28,
   "id": "544f492c",
   "metadata": {},
   "outputs": [],
   "source": [
    "list1 = [1,2,3]"
   ]
  },
  {
   "cell_type": "code",
   "execution_count": 29,
   "id": "273f6930",
   "metadata": {},
   "outputs": [],
   "source": [
    "list2 = list1"
   ]
  },
  {
   "cell_type": "code",
   "execution_count": 30,
   "id": "87b15d21",
   "metadata": {},
   "outputs": [
    {
     "data": {
      "text/plain": [
       "True"
      ]
     },
     "execution_count": 30,
     "metadata": {},
     "output_type": "execute_result"
    }
   ],
   "source": [
    "list1 == list2"
   ]
  },
  {
   "cell_type": "code",
   "execution_count": 31,
   "id": "01c904d1",
   "metadata": {},
   "outputs": [
    {
     "data": {
      "text/plain": [
       "True"
      ]
     },
     "execution_count": 31,
     "metadata": {},
     "output_type": "execute_result"
    }
   ],
   "source": [
    "list2 == list1"
   ]
  },
  {
   "cell_type": "code",
   "execution_count": 34,
   "id": "c3f2be2b",
   "metadata": {},
   "outputs": [],
   "source": [
    "x = 5\n",
    "y = 10"
   ]
  },
  {
   "cell_type": "code",
   "execution_count": 35,
   "id": "7e18940b",
   "metadata": {},
   "outputs": [],
   "source": [
    "temp = x "
   ]
  },
  {
   "cell_type": "code",
   "execution_count": 36,
   "id": "73e2feda",
   "metadata": {},
   "outputs": [],
   "source": [
    "x = y "
   ]
  },
  {
   "cell_type": "code",
   "execution_count": 37,
   "id": "a80c30d4",
   "metadata": {},
   "outputs": [],
   "source": [
    "y = temp"
   ]
  },
  {
   "cell_type": "code",
   "execution_count": 38,
   "id": "f3fe7585",
   "metadata": {},
   "outputs": [
    {
     "name": "stdout",
     "output_type": "stream",
     "text": [
      "10 5\n"
     ]
    }
   ],
   "source": [
    "print(x,y)"
   ]
  },
  {
   "cell_type": "code",
   "execution_count": 39,
   "id": "4c710390",
   "metadata": {},
   "outputs": [],
   "source": [
    "x= 5\n",
    "y = 10"
   ]
  },
  {
   "cell_type": "code",
   "execution_count": 40,
   "id": "5463743f",
   "metadata": {},
   "outputs": [
    {
     "name": "stdout",
     "output_type": "stream",
     "text": [
      "10 5\n"
     ]
    }
   ],
   "source": [
    "x,y = y, x \n",
    "print(x,y)"
   ]
  },
  {
   "cell_type": "code",
   "execution_count": 47,
   "id": "e10010df",
   "metadata": {},
   "outputs": [],
   "source": [
    "x = 117"
   ]
  },
  {
   "cell_type": "code",
   "execution_count": 48,
   "id": "5949c7b0",
   "metadata": {},
   "outputs": [],
   "source": [
    "ls = list(range(int(x/2)+1))\n",
    "ls.append(x)"
   ]
  },
  {
   "cell_type": "code",
   "execution_count": 52,
   "id": "983e1d12",
   "metadata": {},
   "outputs": [
    {
     "data": {
      "text/plain": [
       "0"
      ]
     },
     "execution_count": 52,
     "metadata": {},
     "output_type": "execute_result"
    }
   ],
   "source": [
    "ls.pop(0)"
   ]
  },
  {
   "cell_type": "code",
   "execution_count": 53,
   "id": "b1186ac8",
   "metadata": {},
   "outputs": [
    {
     "data": {
      "text/plain": [
       "[1,\n",
       " 2,\n",
       " 3,\n",
       " 4,\n",
       " 5,\n",
       " 6,\n",
       " 7,\n",
       " 8,\n",
       " 9,\n",
       " 10,\n",
       " 11,\n",
       " 12,\n",
       " 13,\n",
       " 14,\n",
       " 15,\n",
       " 16,\n",
       " 17,\n",
       " 18,\n",
       " 19,\n",
       " 20,\n",
       " 21,\n",
       " 22,\n",
       " 23,\n",
       " 24,\n",
       " 25,\n",
       " 26,\n",
       " 27,\n",
       " 28,\n",
       " 29,\n",
       " 30,\n",
       " 31,\n",
       " 32,\n",
       " 33,\n",
       " 34,\n",
       " 35,\n",
       " 36,\n",
       " 37,\n",
       " 38,\n",
       " 39,\n",
       " 40,\n",
       " 41,\n",
       " 42,\n",
       " 43,\n",
       " 44,\n",
       " 45,\n",
       " 46,\n",
       " 47,\n",
       " 48,\n",
       " 49,\n",
       " 50,\n",
       " 51,\n",
       " 52,\n",
       " 53,\n",
       " 54,\n",
       " 55,\n",
       " 56,\n",
       " 57,\n",
       " 58,\n",
       " 117]"
      ]
     },
     "execution_count": 53,
     "metadata": {},
     "output_type": "execute_result"
    }
   ],
   "source": [
    "ls"
   ]
  },
  {
   "cell_type": "code",
   "execution_count": 54,
   "id": "adc06325",
   "metadata": {},
   "outputs": [
    {
     "name": "stdout",
     "output_type": "stream",
     "text": [
      "117 is not a prime number\n"
     ]
    }
   ],
   "source": [
    "list1 = []\n",
    "for i in ls:\n",
    "    if x%i==0:\n",
    "        list1.append(i)\n",
    "if len(list1)<=2:\n",
    "    print(f'{x} is a prime number')\n",
    "else:\n",
    "    print(f'{x} is not a prime number')"
   ]
  },
  {
   "cell_type": "code",
   "execution_count": 55,
   "id": "0c38623b",
   "metadata": {},
   "outputs": [
    {
     "ename": "NameError",
     "evalue": "name 'factorial' is not defined",
     "output_type": "error",
     "traceback": [
      "\u001b[1;31m---------------------------------------------------------------------------\u001b[0m",
      "\u001b[1;31mNameError\u001b[0m                                 Traceback (most recent call last)",
      "\u001b[1;32m~\\AppData\\Local\\Temp\\ipykernel_8312\\4286945680.py\u001b[0m in \u001b[0;36m<module>\u001b[1;34m\u001b[0m\n\u001b[1;32m----> 1\u001b[1;33m \u001b[0mfactorial\u001b[0m\u001b[1;33m\u001b[0m\u001b[1;33m\u001b[0m\u001b[0m\n\u001b[0m",
      "\u001b[1;31mNameError\u001b[0m: name 'factorial' is not defined"
     ]
    }
   ],
   "source": []
  },
  {
   "cell_type": "code",
   "execution_count": 65,
   "id": "a90a7cd9",
   "metadata": {},
   "outputs": [
    {
     "name": "stdout",
     "output_type": "stream",
     "text": [
      "Enter a number : a\n",
      "Please enter a integer\n"
     ]
    }
   ],
   "source": [
    "try:\n",
    "    x = int(input(\"Enter a number : \"))\n",
    "except :\n",
    "    print('Please enter a integer')"
   ]
  },
  {
   "cell_type": "code",
   "execution_count": 129,
   "id": "0ed93401",
   "metadata": {},
   "outputs": [],
   "source": [
    "def factorial(x:int)->int:\n",
    "    y = 1\n",
    "    \n",
    "    if x<0:\n",
    "        print(\"Negative numbers do not have factorial\")\n",
    "    if x == 0 : \n",
    "        print(f\"Factorial {x} is 1\")\n",
    "    else:\n",
    "        for i in range(1,x+1):\n",
    "            y*=i\n",
    "    return y\n",
    "            \n",
    "        "
   ]
  },
  {
   "cell_type": "code",
   "execution_count": 132,
   "id": "6dc2ed7a",
   "metadata": {},
   "outputs": [
    {
     "name": "stdout",
     "output_type": "stream",
     "text": [
      "Factorial 0 is 1\n"
     ]
    },
    {
     "data": {
      "text/plain": [
       "1"
      ]
     },
     "execution_count": 132,
     "metadata": {},
     "output_type": "execute_result"
    }
   ],
   "source": [
    "factorial(0)"
   ]
  },
  {
   "cell_type": "code",
   "execution_count": 137,
   "id": "b2e88a18",
   "metadata": {},
   "outputs": [],
   "source": [
    "def factorial(x):\n",
    "    y= 1\n",
    "    if x<0:\n",
    "        print('No factorial value')\n",
    "    else:\n",
    "        for i in range(1,x+1):\n",
    "            y*=(i)\n",
    "    return y        "
   ]
  },
  {
   "cell_type": "code",
   "execution_count": 138,
   "id": "d49fce3d",
   "metadata": {},
   "outputs": [
    {
     "data": {
      "text/plain": [
       "120"
      ]
     },
     "execution_count": 138,
     "metadata": {},
     "output_type": "execute_result"
    }
   ],
   "source": [
    "factorial(5)"
   ]
  },
  {
   "cell_type": "code",
   "execution_count": 66,
   "id": "cd72a771",
   "metadata": {},
   "outputs": [],
   "source": [
    "import random"
   ]
  },
  {
   "cell_type": "code",
   "execution_count": 70,
   "id": "e1856f76",
   "metadata": {},
   "outputs": [
    {
     "data": {
      "text/plain": [
       "9"
      ]
     },
     "execution_count": 70,
     "metadata": {},
     "output_type": "execute_result"
    }
   ],
   "source": [
    "int(random.random()*10)"
   ]
  },
  {
   "cell_type": "code",
   "execution_count": 72,
   "id": "43db0f09",
   "metadata": {},
   "outputs": [
    {
     "data": {
      "text/plain": [
       "517"
      ]
     },
     "execution_count": 72,
     "metadata": {},
     "output_type": "execute_result"
    }
   ],
   "source": [
    "random.randint(1,1000)"
   ]
  },
  {
   "cell_type": "code",
   "execution_count": 78,
   "id": "ddf4afa4",
   "metadata": {},
   "outputs": [
    {
     "data": {
      "text/plain": [
       "678"
      ]
     },
     "execution_count": 78,
     "metadata": {},
     "output_type": "execute_result"
    }
   ],
   "source": [
    "random.randrange(0,1000,2)"
   ]
  },
  {
   "cell_type": "code",
   "execution_count": 81,
   "id": "7519153d",
   "metadata": {},
   "outputs": [],
   "source": [
    "numlist = random.sample(range(0,100),7)"
   ]
  },
  {
   "cell_type": "code",
   "execution_count": 82,
   "id": "b1129f9c",
   "metadata": {},
   "outputs": [
    {
     "data": {
      "text/plain": [
       "[99, 86, 92, 1, 95, 35, 75]"
      ]
     },
     "execution_count": 82,
     "metadata": {},
     "output_type": "execute_result"
    }
   ],
   "source": [
    "numlist"
   ]
  },
  {
   "cell_type": "code",
   "execution_count": 84,
   "id": "39ed43cd",
   "metadata": {},
   "outputs": [
    {
     "name": "stdout",
     "output_type": "stream",
     "text": [
      "[0, 1, 1, 2, 3, 5, 8, 13, 21, 34]\n"
     ]
    }
   ],
   "source": [
    "count = 0\n",
    "ls = [0,1]\n",
    "while count <8:\n",
    "    x = ls[-1]+ls[-2]\n",
    "    ls.append(x)\n",
    "    count +=1\n",
    "    \n",
    "print(ls)"
   ]
  },
  {
   "cell_type": "code",
   "execution_count": null,
   "id": "fc2d8bb8",
   "metadata": {},
   "outputs": [],
   "source": [
    "\"\"\"\"\n",
    "Q3. Write a code snippet to reverse a string.\n",
    "Ans. Here, we have reversed a string without using any in-built function.\n",
    "\"\"\"\""
   ]
  },
  {
   "cell_type": "code",
   "execution_count": 85,
   "id": "07615322",
   "metadata": {},
   "outputs": [],
   "source": [
    "str1  = \"Analytic Geometry\""
   ]
  },
  {
   "cell_type": "code",
   "execution_count": 87,
   "id": "589d1af0",
   "metadata": {},
   "outputs": [
    {
     "data": {
      "text/plain": [
       "'yrtemoeG citylanA'"
      ]
     },
     "execution_count": 87,
     "metadata": {},
     "output_type": "execute_result"
    }
   ],
   "source": [
    "\"\".join(list(str1)[::-1])"
   ]
  },
  {
   "cell_type": "code",
   "execution_count": 88,
   "id": "c3e4a519",
   "metadata": {},
   "outputs": [],
   "source": [
    "x = \"abckcba\""
   ]
  },
  {
   "cell_type": "code",
   "execution_count": 91,
   "id": "24792853",
   "metadata": {},
   "outputs": [],
   "source": [
    "import math"
   ]
  },
  {
   "cell_type": "code",
   "execution_count": 92,
   "id": "6588f345",
   "metadata": {},
   "outputs": [
    {
     "data": {
      "text/plain": [
       "4"
      ]
     },
     "execution_count": 92,
     "metadata": {},
     "output_type": "execute_result"
    }
   ],
   "source": [
    "math.ceil(len(x)/2)"
   ]
  },
  {
   "cell_type": "code",
   "execution_count": 93,
   "id": "6875592d",
   "metadata": {},
   "outputs": [
    {
     "data": {
      "text/plain": [
       "3"
      ]
     },
     "execution_count": 93,
     "metadata": {},
     "output_type": "execute_result"
    }
   ],
   "source": [
    "math.floor(len(x)/2)"
   ]
  },
  {
   "cell_type": "code",
   "execution_count": 118,
   "id": "9f4722e9",
   "metadata": {},
   "outputs": [
    {
     "name": "stdout",
     "output_type": "stream",
     "text": [
      "abckcba is a polindrome\n"
     ]
    }
   ],
   "source": [
    "if len(x)%2==0:\n",
    "    if x[:len(x)/2] == x[len(x)/2:]:\n",
    "        print(f'{x} is a polindrome')\n",
    "    else:\n",
    "        print(f'{x} is not a polindrome')\n",
    "else:\n",
    "    if x[:math.floor(len(x)/2)]==x[:math.floor(len(x)/2):-1]:\n",
    "        print(f'{x} is a polindrome')\n",
    "    else:\n",
    "        print(f'{x} is not a polindrome')\n",
    "                           \n",
    "                    \n",
    "              "
   ]
  },
  {
   "cell_type": "code",
   "execution_count": 112,
   "id": "a9216815",
   "metadata": {
    "scrolled": true
   },
   "outputs": [
    {
     "data": {
      "text/plain": [
       "'ckcba'"
      ]
     },
     "execution_count": 112,
     "metadata": {},
     "output_type": "execute_result"
    }
   ],
   "source": [
    "x[math.ceil(len(x)/2)::-1]"
   ]
  },
  {
   "cell_type": "code",
   "execution_count": 102,
   "id": "725142fa",
   "metadata": {},
   "outputs": [
    {
     "data": {
      "text/plain": [
       "-7"
      ]
     },
     "execution_count": 102,
     "metadata": {},
     "output_type": "execute_result"
    }
   ],
   "source": [
    "-1*math.floor(len(x))"
   ]
  },
  {
   "cell_type": "code",
   "execution_count": 106,
   "id": "2f0282ff",
   "metadata": {},
   "outputs": [
    {
     "data": {
      "text/plain": [
       "3"
      ]
     },
     "execution_count": 106,
     "metadata": {},
     "output_type": "execute_result"
    }
   ],
   "source": [
    "math.floor(len(x)/2)"
   ]
  },
  {
   "cell_type": "code",
   "execution_count": 110,
   "id": "da6ae849",
   "metadata": {},
   "outputs": [
    {
     "data": {
      "text/plain": [
       "4"
      ]
     },
     "execution_count": 110,
     "metadata": {},
     "output_type": "execute_result"
    }
   ],
   "source": [
    "math.ceil(len(x)/2)"
   ]
  },
  {
   "cell_type": "code",
   "execution_count": 113,
   "id": "44aa917c",
   "metadata": {},
   "outputs": [
    {
     "data": {
      "text/plain": [
       "4"
      ]
     },
     "execution_count": 113,
     "metadata": {},
     "output_type": "execute_result"
    }
   ],
   "source": [
    "math.ceil(len(x)/2)"
   ]
  },
  {
   "cell_type": "code",
   "execution_count": null,
   "id": "94bc2817",
   "metadata": {},
   "outputs": [],
   "source": [
    "x[:3:-1]"
   ]
  },
  {
   "cell_type": "code",
   "execution_count": 124,
   "id": "4e4447a8",
   "metadata": {},
   "outputs": [],
   "source": [
    "with open('abc.txt','w') as f:\n",
    "    pass\n",
    "    "
   ]
  },
  {
   "cell_type": "code",
   "execution_count": null,
   "id": "c8333055",
   "metadata": {},
   "outputs": [],
   "source": []
  },
  {
   "cell_type": "code",
   "execution_count": 120,
   "id": "d0ac5afd",
   "metadata": {},
   "outputs": [],
   "source": [
    "import os"
   ]
  },
  {
   "cell_type": "code",
   "execution_count": 127,
   "id": "d6d14374",
   "metadata": {},
   "outputs": [],
   "source": [
    "f.close()"
   ]
  },
  {
   "cell_type": "code",
   "execution_count": 1,
   "id": "04184784",
   "metadata": {},
   "outputs": [
    {
     "data": {
      "application/javascript": [
       "\n",
       "        if (window._pyforest_update_imports_cell) { window._pyforest_update_imports_cell('import os'); }\n",
       "    "
      ],
      "text/plain": [
       "<IPython.core.display.Javascript object>"
      ]
     },
     "metadata": {},
     "output_type": "display_data"
    }
   ],
   "source": [
    "os.remove('xyz.txt')"
   ]
  },
  {
   "cell_type": "code",
   "execution_count": 129,
   "id": "5358e8c4",
   "metadata": {},
   "outputs": [
    {
     "data": {
      "text/plain": [
       "1"
      ]
     },
     "execution_count": 129,
     "metadata": {},
     "output_type": "execute_result"
    }
   ],
   "source": [
    "os.system('abc.txt')"
   ]
  },
  {
   "cell_type": "code",
   "execution_count": 3,
   "id": "38b5b4af",
   "metadata": {},
   "outputs": [],
   "source": [
    "list1 = [1,1,2,3,4,5,6]"
   ]
  },
  {
   "cell_type": "code",
   "execution_count": null,
   "id": "16046832",
   "metadata": {},
   "outputs": [],
   "source": [
    "list1 = "
   ]
  },
  {
   "cell_type": "code",
   "execution_count": null,
   "id": "0852d130",
   "metadata": {},
   "outputs": [],
   "source": [
    "#prime number icin 2 den basla karkok +1 icin butun sayilara bol eger kalan sifir veren varsa prime degil\n",
    "#kaln sifir veren yoksa prime\n"
   ]
  },
  {
   "cell_type": "code",
   "execution_count": 4,
   "id": "776dc0e7",
   "metadata": {},
   "outputs": [
    {
     "data": {
      "text/plain": [
       "3"
      ]
     },
     "execution_count": 4,
     "metadata": {},
     "output_type": "execute_result"
    }
   ],
   "source": [
    "from functools import reduce\n",
    "\n",
    "reduce(lambda x, y: x if x < y else y, [5,7,3,4,5,6,])"
   ]
  },
  {
   "cell_type": "code",
   "execution_count": 10,
   "id": "3f2b9c1d",
   "metadata": {},
   "outputs": [],
   "source": [
    "dellist = [5,7,3,4,5,6,1]"
   ]
  },
  {
   "cell_type": "code",
   "execution_count": 11,
   "id": "c3d9e640",
   "metadata": {},
   "outputs": [],
   "source": [
    "del dellist[0]"
   ]
  },
  {
   "cell_type": "code",
   "execution_count": 12,
   "id": "db02ce5a",
   "metadata": {},
   "outputs": [
    {
     "data": {
      "text/plain": [
       "[7, 3, 4, 5, 6, 1]"
      ]
     },
     "execution_count": 12,
     "metadata": {},
     "output_type": "execute_result"
    }
   ],
   "source": [
    "dellist"
   ]
  },
  {
   "cell_type": "code",
   "execution_count": 14,
   "id": "870d6bd9",
   "metadata": {},
   "outputs": [
    {
     "ename": "AttributeError",
     "evalue": "'list' object has no attribute 'max'",
     "output_type": "error",
     "traceback": [
      "\u001b[1;31m---------------------------------------------------------------------------\u001b[0m",
      "\u001b[1;31mAttributeError\u001b[0m                            Traceback (most recent call last)",
      "\u001b[1;32m~\\AppData\\Local\\Temp\\ipykernel_4864\\3888764247.py\u001b[0m in \u001b[0;36m<module>\u001b[1;34m\u001b[0m\n\u001b[1;32m----> 1\u001b[1;33m \u001b[0mlist1\u001b[0m\u001b[1;33m.\u001b[0m\u001b[0mmax\u001b[0m\u001b[1;33m(\u001b[0m\u001b[1;33m)\u001b[0m\u001b[1;33m\u001b[0m\u001b[1;33m\u001b[0m\u001b[0m\n\u001b[0m",
      "\u001b[1;31mAttributeError\u001b[0m: 'list' object has no attribute 'max'"
     ]
    }
   ],
   "source": [
    "list1"
   ]
  },
  {
   "cell_type": "code",
   "execution_count": 15,
   "id": "7347ddc3",
   "metadata": {},
   "outputs": [
    {
     "data": {
      "text/plain": [
       "6"
      ]
     },
     "execution_count": 15,
     "metadata": {},
     "output_type": "execute_result"
    }
   ],
   "source": [
    "max(list1)"
   ]
  },
  {
   "cell_type": "code",
   "execution_count": 16,
   "id": "4784f038",
   "metadata": {},
   "outputs": [
    {
     "data": {
      "text/plain": [
       "1"
      ]
     },
     "execution_count": 16,
     "metadata": {},
     "output_type": "execute_result"
    }
   ],
   "source": [
    "min(list1)"
   ]
  },
  {
   "cell_type": "code",
   "execution_count": 17,
   "id": "28d193fe",
   "metadata": {},
   "outputs": [
    {
     "data": {
      "text/plain": [
       "3"
      ]
     },
     "execution_count": 17,
     "metadata": {},
     "output_type": "execute_result"
    }
   ],
   "source": [
    "min([5,7,3,4,5,6,])"
   ]
  },
  {
   "cell_type": "code",
   "execution_count": 18,
   "id": "6ff09702",
   "metadata": {},
   "outputs": [],
   "source": [
    "dic = {\"x\":3,\"y\":4,\"z\":5,\"t\":10}"
   ]
  },
  {
   "cell_type": "code",
   "execution_count": 20,
   "id": "037643b2",
   "metadata": {},
   "outputs": [
    {
     "data": {
      "text/plain": [
       "3"
      ]
     },
     "execution_count": 20,
     "metadata": {},
     "output_type": "execute_result"
    }
   ],
   "source": [
    "min(dic.values())"
   ]
  },
  {
   "cell_type": "code",
   "execution_count": 26,
   "id": "5bb549de",
   "metadata": {},
   "outputs": [],
   "source": [
    "tup = ((0,1,2,3),(4,5,6,7),(8,9,10))"
   ]
  },
  {
   "cell_type": "code",
   "execution_count": 27,
   "id": "884fdde7",
   "metadata": {},
   "outputs": [
    {
     "data": {
      "text/plain": [
       "5.0"
      ]
     },
     "execution_count": 27,
     "metadata": {},
     "output_type": "execute_result"
    }
   ],
   "source": [
    "sum([y for i in tup for y in i])/len([y for i in tup for y in i])"
   ]
  },
  {
   "cell_type": "code",
   "execution_count": 25,
   "id": "7b7f6dd1",
   "metadata": {},
   "outputs": [
    {
     "data": {
      "text/plain": [
       "[0, 1, 2, 3, 4, 5, 6, 8, 9, 10]"
      ]
     },
     "execution_count": 25,
     "metadata": {},
     "output_type": "execute_result"
    }
   ],
   "source": [
    "[y for i in tup for y in i]"
   ]
  },
  {
   "cell_type": "code",
   "execution_count": null,
   "id": "be17c3eb",
   "metadata": {},
   "outputs": [],
   "source": [
    "#Check palindrome"
   ]
  },
  {
   "cell_type": "code",
   "execution_count": 1,
   "id": "d1ccb204",
   "metadata": {},
   "outputs": [],
   "source": [
    "def is_palindrome(string):\n",
    "    \n",
    "    reverse_string = string[::-1]\n",
    "    return reverse_string == string\n",
    "                        "
   ]
  },
  {
   "cell_type": "code",
   "execution_count": 2,
   "id": "37895a33",
   "metadata": {},
   "outputs": [],
   "source": [
    "word = \"madam\""
   ]
  },
  {
   "cell_type": "code",
   "execution_count": 3,
   "id": "7543d45e",
   "metadata": {},
   "outputs": [
    {
     "name": "stdout",
     "output_type": "stream",
     "text": [
      "madam is palindrome\n"
     ]
    }
   ],
   "source": [
    "if is_palindrome(word):\n",
    "    print( word,\"is palindrome\")\n",
    "else : \n",
    "    print(word, \"is not a palindroeme\")\n",
    "    "
   ]
  },
  {
   "cell_type": "code",
   "execution_count": null,
   "id": "844d3f0b",
   "metadata": {},
   "outputs": [],
   "source": []
  },
  {
   "cell_type": "code",
   "execution_count": null,
   "id": "2f58fa1d",
   "metadata": {},
   "outputs": [],
   "source": [
    "#write a programe to find th efactoriual of a number"
   ]
  },
  {
   "cell_type": "code",
   "execution_count": 16,
   "id": "27348097",
   "metadata": {},
   "outputs": [],
   "source": [
    "def factorial(x:int):\n",
    "    value=1\n",
    "    if x <0:\n",
    "        print('Negative number has no facorial values')\n",
    "    elif x==0:\n",
    "        print(f\"Factorial of {x} = 1\")\n",
    "    else:\n",
    "        while 1<=x:\n",
    "            value *=x\n",
    "            x=(x-1)\n",
    "    return value\n",
    "        \n",
    "        "
   ]
  },
  {
   "cell_type": "code",
   "execution_count": 17,
   "id": "8a1eff83",
   "metadata": {},
   "outputs": [
    {
     "data": {
      "text/plain": [
       "120"
      ]
     },
     "execution_count": 17,
     "metadata": {},
     "output_type": "execute_result"
    }
   ],
   "source": [
    "factorial(5)"
   ]
  },
  {
   "cell_type": "code",
   "execution_count": 18,
   "id": "30e7c173",
   "metadata": {},
   "outputs": [],
   "source": [
    "def factorial(n):\n",
    "    if n==0:\n",
    "        return 1\n",
    "    else:\n",
    "        return n*factorial(n-1)"
   ]
  },
  {
   "cell_type": "code",
   "execution_count": 19,
   "id": "2644e858",
   "metadata": {},
   "outputs": [
    {
     "data": {
      "text/plain": [
       "120"
      ]
     },
     "execution_count": 19,
     "metadata": {},
     "output_type": "execute_result"
    }
   ],
   "source": [
    "factorial(5)"
   ]
  },
  {
   "cell_type": "code",
   "execution_count": null,
   "id": "59f28e39",
   "metadata": {},
   "outputs": [],
   "source": [
    "#def find_largest number in a list"
   ]
  },
  {
   "cell_type": "code",
   "execution_count": 22,
   "id": "a0051981",
   "metadata": {},
   "outputs": [],
   "source": [
    "def find_largest(numbers):\n",
    "    largest = numbers[0]\n",
    "    for  num in numbers:\n",
    "        if num >largest:\n",
    "                largest= num\n",
    "    return largest"
   ]
  },
  {
   "cell_type": "code",
   "execution_count": 23,
   "id": "040e22fe",
   "metadata": {},
   "outputs": [
    {
     "data": {
      "text/plain": [
       "10"
      ]
     },
     "execution_count": 23,
     "metadata": {},
     "output_type": "execute_result"
    }
   ],
   "source": [
    "find_largest([1,2,3,4,5,6,4,6,2,8,2,10])"
   ]
  },
  {
   "cell_type": "code",
   "execution_count": null,
   "id": "1e022f2e",
   "metadata": {},
   "outputs": [],
   "source": [
    "largest = numbers[0]\n",
    "for num in numbers:\n",
    "    if num>largest:\n",
    "        largest = num\n",
    "return largest"
   ]
  },
  {
   "cell_type": "code",
   "execution_count": null,
   "id": "a02e056a",
   "metadata": {},
   "outputs": [],
   "source": [
    "#Write a program to calculate frequency of number in a list"
   ]
  },
  {
   "cell_type": "code",
   "execution_count": 33,
   "id": "8e7fbaaf",
   "metadata": {},
   "outputs": [],
   "source": [
    "def freq(liste:list):\n",
    "    \n",
    "    return {i: str(liste.count(i))+' Adet' for i in set(liste)}\n",
    "        \n",
    "        \n",
    "        "
   ]
  },
  {
   "cell_type": "code",
   "execution_count": 34,
   "id": "ce8127c1",
   "metadata": {},
   "outputs": [
    {
     "data": {
      "text/plain": [
       "{1: '4 Adet',\n",
       " 4: '1 Adet',\n",
       " 5: '1 Adet',\n",
       " 6: '3 Adet',\n",
       " 7: '1 Adet',\n",
       " 8: '4 Adet',\n",
       " 10: '1 Adet'}"
      ]
     },
     "execution_count": 34,
     "metadata": {},
     "output_type": "execute_result"
    }
   ],
   "source": [
    "freq([1,1,1,1,4,5,6,6,6,7,8,8,8,8,10])"
   ]
  },
  {
   "cell_type": "code",
   "execution_count": 28,
   "id": "4191a4fd",
   "metadata": {},
   "outputs": [
    {
     "name": "stdout",
     "output_type": "stream",
     "text": [
      "1\n",
      "4\n",
      "5\n",
      "6\n",
      "7\n",
      "8\n",
      "10\n"
     ]
    }
   ],
   "source": [
    "for i in set([1,1,1,1,4,5,6,6,6,7,8,8,8,8,10]):\n",
    "    print(i)"
   ]
  },
  {
   "cell_type": "code",
   "execution_count": 54,
   "id": "24b1d0a6",
   "metadata": {},
   "outputs": [],
   "source": [
    "def prime(x:int):\n",
    "    for i in range(2,int(x**0.5)+1):\n",
    "        if x<2:\n",
    "            return False\n",
    "        elif x%i!=0:\n",
    "            return True\n",
    "        elif x%i==0:\n",
    "            return False\n",
    "   \n",
    "        "
   ]
  },
  {
   "cell_type": "code",
   "execution_count": 55,
   "id": "a6e18169",
   "metadata": {},
   "outputs": [
    {
     "name": "stdout",
     "output_type": "stream",
     "text": [
      "27  is a prime\n"
     ]
    }
   ],
   "source": [
    "num = 27 \n",
    "if prime(num):\n",
    "    print(num, ' is a prime')\n",
    "else:\n",
    "    print(num,' is not a prime')"
   ]
  },
  {
   "cell_type": "code",
   "execution_count": 41,
   "id": "ab388d5e",
   "metadata": {},
   "outputs": [
    {
     "name": "stdout",
     "output_type": "stream",
     "text": [
      "27  is prime\n",
      "27 is not a prime\n",
      "27  is prime\n",
      "27  is prime\n"
     ]
    }
   ],
   "source": [
    "prime(27)"
   ]
  },
  {
   "cell_type": "code",
   "execution_count": 35,
   "id": "60b4a0f0",
   "metadata": {},
   "outputs": [
    {
     "data": {
      "text/plain": [
       "5.196152422706632"
      ]
     },
     "execution_count": 35,
     "metadata": {},
     "output_type": "execute_result"
    }
   ],
   "source": [
    "27**0.5"
   ]
  },
  {
   "cell_type": "code",
   "execution_count": 43,
   "id": "5aea55b5",
   "metadata": {},
   "outputs": [
    {
     "data": {
      "text/plain": [
       "[2, 3, 4, 5]"
      ]
     },
     "execution_count": 43,
     "metadata": {},
     "output_type": "execute_result"
    }
   ],
   "source": [
    "list(range(2,int(27**0.5)+1))"
   ]
  },
  {
   "cell_type": "code",
   "execution_count": null,
   "id": "6a71bd45",
   "metadata": {},
   "outputs": [],
   "source": []
  },
  {
   "cell_type": "code",
   "execution_count": 140,
   "id": "1392f9d5",
   "metadata": {},
   "outputs": [
    {
     "name": "stdout",
     "output_type": "stream",
     "text": [
      "19  is prime\n"
     ]
    }
   ],
   "source": [
    "def is_prime(x):\n",
    "    if x<2:\n",
    "        return False\n",
    "    for i in range(2,int(x**0.5)+1):\n",
    "        if x%i==0:\n",
    "            return False\n",
    "    return True\n",
    "\n",
    "num = 19\n",
    "if is_prime(num):\n",
    "    print(num,' is prime')\n",
    "else:\n",
    "    print(num,' is not a prime')"
   ]
  },
  {
   "cell_type": "code",
   "execution_count": 141,
   "id": "004f5b07",
   "metadata": {},
   "outputs": [],
   "source": [
    "def common(list1,list2):\n",
    "    return set([i for i in list1 if i in list2]) \n",
    "        "
   ]
  },
  {
   "cell_type": "code",
   "execution_count": 143,
   "id": "8076bfc4",
   "metadata": {},
   "outputs": [
    {
     "data": {
      "text/plain": [
       "{2, 4, 6}"
      ]
     },
     "execution_count": 143,
     "metadata": {},
     "output_type": "execute_result"
    }
   ],
   "source": [
    "common([1,2,3,4,5,6,7],[10,2,4,6])"
   ]
  },
  {
   "cell_type": "code",
   "execution_count": 168,
   "id": "0dec5380",
   "metadata": {},
   "outputs": [],
   "source": [
    "def second_largest(x):\n",
    "    new_list = []\n",
    "    \n",
    "   \n",
    "    while len(new_list)<3:\n",
    "        largest = x[0]\n",
    "        for i in x:\n",
    "            if i>largest:\n",
    "                largest = i\n",
    "        x.remove(largest)\n",
    "        new_list.append(largest)\n",
    "        \n",
    " \n",
    "    return new_list[1]  \n",
    "            \n",
    "        "
   ]
  },
  {
   "cell_type": "code",
   "execution_count": 169,
   "id": "904b77dd",
   "metadata": {},
   "outputs": [
    {
     "data": {
      "text/plain": [
       "8"
      ]
     },
     "execution_count": 169,
     "metadata": {},
     "output_type": "execute_result"
    }
   ],
   "source": [
    "second_largest([1,2,3,4,5,6,7,8,9])"
   ]
  },
  {
   "cell_type": "code",
   "execution_count": 170,
   "id": "19fa97a1",
   "metadata": {},
   "outputs": [],
   "source": [
    "import numpy\n",
    "def uni(list1):\n",
    "    return numpy.unique(list1)"
   ]
  },
  {
   "cell_type": "code",
   "execution_count": 171,
   "id": "8583ae9d",
   "metadata": {},
   "outputs": [
    {
     "data": {
      "text/plain": [
       "array([1, 2, 3, 4, 5, 6, 7])"
      ]
     },
     "execution_count": 171,
     "metadata": {},
     "output_type": "execute_result"
    }
   ],
   "source": [
    "uni([1,1,1,2,3,4,5,5,6,7,6,])"
   ]
  },
  {
   "cell_type": "code",
   "execution_count": null,
   "id": "82ba6cef",
   "metadata": {},
   "outputs": [],
   "source": [
    "set()"
   ]
  },
  {
   "cell_type": "code",
   "execution_count": null,
   "id": "f76414c4",
   "metadata": {},
   "outputs": [],
   "source": []
  },
  {
   "cell_type": "code",
   "execution_count": null,
   "id": "a82d694c",
   "metadata": {},
   "outputs": [],
   "source": []
  },
  {
   "cell_type": "code",
   "execution_count": null,
   "id": "e1afe3f8",
   "metadata": {},
   "outputs": [],
   "source": []
  },
  {
   "cell_type": "code",
   "execution_count": null,
   "id": "01f582d5",
   "metadata": {},
   "outputs": [],
   "source": []
  }
 ],
 "metadata": {
  "kernelspec": {
   "display_name": "Python 3 (ipykernel)",
   "language": "python",
   "name": "python3"
  },
  "language_info": {
   "codemirror_mode": {
    "name": "ipython",
    "version": 3
   },
   "file_extension": ".py",
   "mimetype": "text/x-python",
   "name": "python",
   "nbconvert_exporter": "python",
   "pygments_lexer": "ipython3",
   "version": "3.11.5"
  },
  "toc": {
   "base_numbering": 1,
   "nav_menu": {},
   "number_sections": true,
   "sideBar": true,
   "skip_h1_title": false,
   "title_cell": "Table of Contents",
   "title_sidebar": "Contents",
   "toc_cell": false,
   "toc_position": {},
   "toc_section_display": true,
   "toc_window_display": false
  }
 },
 "nbformat": 4,
 "nbformat_minor": 5
}
