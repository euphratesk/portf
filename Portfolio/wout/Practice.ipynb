{
 "cells": [
  {
   "cell_type": "code",
   "execution_count": 2,
   "id": "edd630a5",
   "metadata": {},
   "outputs": [],
   "source": [
    "def is_even():\n",
    "    x = input(\"Write down a integer\")\n",
    "    if x.is_numeric():\n",
    "        if type(x)==int and x//2==0:\n",
    "            print(\"This number is even\")\n",
    "        else:\n",
    "            print(\"This number is\")\n",
    "    else:\n",
    "        print(\"Please write numeric number\")\n",
    "        "
   ]
  },
  {
   "cell_type": "code",
   "execution_count": 3,
   "id": "b8869204",
   "metadata": {},
   "outputs": [],
   "source": [
    "def is_even(x:int):\n",
    "    if x%2==0:\n",
    "        print(f\"{x} is even\")\n",
    "    else:\n",
    "        print(f\"{x} is odd\")"
   ]
  },
  {
   "cell_type": "code",
   "execution_count": 4,
   "id": "042fae5d",
   "metadata": {},
   "outputs": [
    {
     "name": "stdout",
     "output_type": "stream",
     "text": [
      "8 is even\n"
     ]
    }
   ],
   "source": [
    "is_even(8)"
   ]
  },
  {
   "cell_type": "code",
   "execution_count": 5,
   "id": "87359dff",
   "metadata": {},
   "outputs": [
    {
     "ename": "NameError",
     "evalue": "name 'x' is not defined",
     "output_type": "error",
     "traceback": [
      "\u001b[1;31m---------------------------------------------------------------------------\u001b[0m",
      "\u001b[1;31mNameError\u001b[0m                                 Traceback (most recent call last)",
      "\u001b[1;32m~\\AppData\\Local\\Temp\\ipykernel_8312\\2744710341.py\u001b[0m in \u001b[0;36m<module>\u001b[1;34m\u001b[0m\n\u001b[0;32m     10\u001b[0m     \u001b[1;32mfor\u001b[0m \u001b[0mi\u001b[0m\u001b[1;33m,\u001b[0m\u001b[0mk\u001b[0m \u001b[1;32min\u001b[0m \u001b[0mzip\u001b[0m\u001b[1;33m(\u001b[0m\u001b[0mls_1\u001b[0m\u001b[1;33m,\u001b[0m\u001b[0mls\u001b[0m\u001b[1;33m)\u001b[0m\u001b[1;33m:\u001b[0m\u001b[1;33m\u001b[0m\u001b[1;33m\u001b[0m\u001b[0m\n\u001b[0;32m     11\u001b[0m         \u001b[0mx\u001b[0m \u001b[1;33m=\u001b[0m \u001b[0mx\u001b[0m\u001b[1;33m.\u001b[0m\u001b[0mreplace\u001b[0m\u001b[1;33m(\u001b[0m\u001b[0mi\u001b[0m\u001b[1;33m,\u001b[0m\u001b[0mk\u001b[0m\u001b[1;33m)\u001b[0m\u001b[1;33m\u001b[0m\u001b[1;33m\u001b[0m\u001b[0m\n\u001b[1;32m---> 12\u001b[1;33m \u001b[0mprint\u001b[0m\u001b[1;33m(\u001b[0m\u001b[0mx\u001b[0m\u001b[1;33m)\u001b[0m\u001b[1;33m\u001b[0m\u001b[1;33m\u001b[0m\u001b[0m\n\u001b[0m\u001b[0;32m     13\u001b[0m \u001b[1;33m\u001b[0m\u001b[0m\n\u001b[0;32m     14\u001b[0m \u001b[1;33m\u001b[0m\u001b[0m\n",
      "\u001b[1;31mNameError\u001b[0m: name 'x' is not defined"
     ]
    }
   ],
   "source": [
    "def reverse_vowels(x:str):\n",
    "    y = x[:]\n",
    "    ls = []\n",
    "    for i in y:\n",
    "        if i in ['a','e','i','o','u']:\n",
    "            ls.append(i)\n",
    "            ls_1 = ls[:]\n",
    "            \n",
    "    ls.reverse()\n",
    "    for i,k in zip(ls_1,ls):\n",
    "        x = x.replace(i,k)\n",
    "print(x)\n",
    "    \n",
    "            \n",
    "        "
   ]
  },
  {
   "cell_type": "code",
   "execution_count": 6,
   "id": "c84b7ccd",
   "metadata": {},
   "outputs": [],
   "source": [
    "x ='hello'"
   ]
  },
  {
   "cell_type": "code",
   "execution_count": 7,
   "id": "7d939af2",
   "metadata": {},
   "outputs": [],
   "source": [
    " y = x[:]"
   ]
  },
  {
   "cell_type": "code",
   "execution_count": 8,
   "id": "4c6ad687",
   "metadata": {},
   "outputs": [
    {
     "data": {
      "text/plain": [
       "'hello'"
      ]
     },
     "execution_count": 8,
     "metadata": {},
     "output_type": "execute_result"
    }
   ],
   "source": [
    "y"
   ]
  },
  {
   "cell_type": "code",
   "execution_count": 9,
   "id": "a6800ba8",
   "metadata": {},
   "outputs": [
    {
     "name": "stdout",
     "output_type": "stream",
     "text": [
      "['e', 'o']\n"
     ]
    }
   ],
   "source": [
    " ls = []\n",
    "for i in y:\n",
    "        if i in ['a','e','i','o','u']:\n",
    "            ls.append(i)\n",
    "            ls_1 = ls[:]\n",
    "print(ls_1)"
   ]
  },
  {
   "cell_type": "code",
   "execution_count": 10,
   "id": "76da20ff",
   "metadata": {},
   "outputs": [
    {
     "name": "stdout",
     "output_type": "stream",
     "text": [
      "['o', 'e']\n"
     ]
    }
   ],
   "source": [
    "ls.reverse()\n",
    "print(ls)"
   ]
  },
  {
   "cell_type": "code",
   "execution_count": 11,
   "id": "2ea8fc30",
   "metadata": {},
   "outputs": [
    {
     "name": "stdout",
     "output_type": "stream",
     "text": [
      "e o\n",
      "o e\n"
     ]
    }
   ],
   "source": [
    "for i,k in zip(ls_1,ls):\n",
    "    print(i,k)"
   ]
  },
  {
   "cell_type": "code",
   "execution_count": 12,
   "id": "f298e21c",
   "metadata": {},
   "outputs": [
    {
     "data": {
      "text/plain": [
       "['o', 'e']"
      ]
     },
     "execution_count": 12,
     "metadata": {},
     "output_type": "execute_result"
    }
   ],
   "source": [
    "ls"
   ]
  },
  {
   "cell_type": "code",
   "execution_count": 13,
   "id": "e1f1705b",
   "metadata": {},
   "outputs": [
    {
     "data": {
      "text/plain": [
       "['e', 'o']"
      ]
     },
     "execution_count": 13,
     "metadata": {},
     "output_type": "execute_result"
    }
   ],
   "source": [
    "ls_1"
   ]
  },
  {
   "cell_type": "code",
   "execution_count": 14,
   "id": "82fa023c",
   "metadata": {},
   "outputs": [
    {
     "name": "stdout",
     "output_type": "stream",
     "text": [
      "hello\n",
      "hello\n"
     ]
    }
   ],
   "source": [
    "for i,k in zip(ls_1,ls):\n",
    "    x.replace(i,k)\n",
    "    print(x)"
   ]
  },
  {
   "cell_type": "code",
   "execution_count": null,
   "id": "a6ac7ac8",
   "metadata": {},
   "outputs": [],
   "source": []
  },
  {
   "cell_type": "code",
   "execution_count": null,
   "id": "08772031",
   "metadata": {},
   "outputs": [],
   "source": []
  },
  {
   "cell_type": "code",
   "execution_count": null,
   "id": "af4fa0eb",
   "metadata": {},
   "outputs": [],
   "source": []
  },
  {
   "cell_type": "code",
   "execution_count": 15,
   "id": "5082ac45",
   "metadata": {},
   "outputs": [],
   "source": [
    "reverse_vowels('hello')"
   ]
  },
  {
   "cell_type": "code",
   "execution_count": 16,
   "id": "f3f82bb2",
   "metadata": {},
   "outputs": [],
   "source": [
    "lst = ['e','o']\n",
    "lst.reverse()"
   ]
  },
  {
   "cell_type": "code",
   "execution_count": 17,
   "id": "55c185a7",
   "metadata": {},
   "outputs": [
    {
     "data": {
      "text/plain": [
       "['o', 'e']"
      ]
     },
     "execution_count": 17,
     "metadata": {},
     "output_type": "execute_result"
    }
   ],
   "source": [
    "lst"
   ]
  },
  {
   "cell_type": "code",
   "execution_count": 18,
   "id": "ebbf55ed",
   "metadata": {},
   "outputs": [
    {
     "data": {
      "text/plain": [
       "True"
      ]
     },
     "execution_count": 18,
     "metadata": {},
     "output_type": "execute_result"
    }
   ],
   "source": [
    "x= 1\n",
    "type(x)==int"
   ]
  },
  {
   "cell_type": "code",
   "execution_count": 19,
   "id": "94891428",
   "metadata": {},
   "outputs": [
    {
     "data": {
      "text/plain": [
       "4"
      ]
     },
     "execution_count": 19,
     "metadata": {},
     "output_type": "execute_result"
    }
   ],
   "source": [
    "2+2"
   ]
  },
  {
   "cell_type": "code",
   "execution_count": 20,
   "id": "4656e7c8",
   "metadata": {},
   "outputs": [
    {
     "data": {
      "text/plain": [
       "'ali'"
      ]
     },
     "execution_count": 20,
     "metadata": {},
     "output_type": "execute_result"
    }
   ],
   "source": [
    "'ali'"
   ]
  },
  {
   "cell_type": "code",
   "execution_count": 21,
   "id": "6f4c2928",
   "metadata": {},
   "outputs": [],
   "source": [
    "person = {\n",
    "    'name':'John',\n",
    "    \"age\" : 30 ,\n",
    "    \"city\" : \"New York\"\n",
    "}"
   ]
  },
  {
   "cell_type": "code",
   "execution_count": 22,
   "id": "6c910691",
   "metadata": {},
   "outputs": [
    {
     "data": {
      "text/plain": [
       "'John'"
      ]
     },
     "execution_count": 22,
     "metadata": {},
     "output_type": "execute_result"
    }
   ],
   "source": [
    "person['name']"
   ]
  },
  {
   "cell_type": "code",
   "execution_count": 23,
   "id": "ca6866e5",
   "metadata": {},
   "outputs": [],
   "source": [
    "person['job'] = 'ds'"
   ]
  },
  {
   "cell_type": "code",
   "execution_count": 24,
   "id": "dc5d2bfb",
   "metadata": {},
   "outputs": [
    {
     "data": {
      "text/plain": [
       "'ds'"
      ]
     },
     "execution_count": 24,
     "metadata": {},
     "output_type": "execute_result"
    }
   ],
   "source": [
    "person['job']"
   ]
  },
  {
   "cell_type": "code",
   "execution_count": 25,
   "id": "4524a6ec",
   "metadata": {},
   "outputs": [],
   "source": [
    "del person['job']"
   ]
  },
  {
   "cell_type": "code",
   "execution_count": 26,
   "id": "a16a0e99",
   "metadata": {},
   "outputs": [
    {
     "data": {
      "text/plain": [
       "{'name': 'John', 'age': 30, 'city': 'New York'}"
      ]
     },
     "execution_count": 26,
     "metadata": {},
     "output_type": "execute_result"
    }
   ],
   "source": [
    "person"
   ]
  },
  {
   "cell_type": "code",
   "execution_count": 28,
   "id": "544f492c",
   "metadata": {},
   "outputs": [],
   "source": [
    "list1 = [1,2,3]"
   ]
  },
  {
   "cell_type": "code",
   "execution_count": 29,
   "id": "273f6930",
   "metadata": {},
   "outputs": [],
   "source": [
    "list2 = list1"
   ]
  },
  {
   "cell_type": "code",
   "execution_count": 30,
   "id": "87b15d21",
   "metadata": {},
   "outputs": [
    {
     "data": {
      "text/plain": [
       "True"
      ]
     },
     "execution_count": 30,
     "metadata": {},
     "output_type": "execute_result"
    }
   ],
   "source": [
    "list1 == list2"
   ]
  },
  {
   "cell_type": "code",
   "execution_count": 31,
   "id": "01c904d1",
   "metadata": {},
   "outputs": [
    {
     "data": {
      "text/plain": [
       "True"
      ]
     },
     "execution_count": 31,
     "metadata": {},
     "output_type": "execute_result"
    }
   ],
   "source": [
    "list2 == list1"
   ]
  },
  {
   "cell_type": "code",
   "execution_count": 34,
   "id": "c3f2be2b",
   "metadata": {},
   "outputs": [],
   "source": [
    "x = 5\n",
    "y = 10"
   ]
  },
  {
   "cell_type": "code",
   "execution_count": 35,
   "id": "7e18940b",
   "metadata": {},
   "outputs": [],
   "source": [
    "temp = x "
   ]
  },
  {
   "cell_type": "code",
   "execution_count": 36,
   "id": "73e2feda",
   "metadata": {},
   "outputs": [],
   "source": [
    "x = y "
   ]
  },
  {
   "cell_type": "code",
   "execution_count": 37,
   "id": "a80c30d4",
   "metadata": {},
   "outputs": [],
   "source": [
    "y = temp"
   ]
  },
  {
   "cell_type": "code",
   "execution_count": 38,
   "id": "f3fe7585",
   "metadata": {},
   "outputs": [
    {
     "name": "stdout",
     "output_type": "stream",
     "text": [
      "10 5\n"
     ]
    }
   ],
   "source": [
    "print(x,y)"
   ]
  },
  {
   "cell_type": "code",
   "execution_count": 39,
   "id": "4c710390",
   "metadata": {},
   "outputs": [],
   "source": [
    "x= 5\n",
    "y = 10"
   ]
  },
  {
   "cell_type": "code",
   "execution_count": 40,
   "id": "5463743f",
   "metadata": {},
   "outputs": [
    {
     "name": "stdout",
     "output_type": "stream",
     "text": [
      "10 5\n"
     ]
    }
   ],
   "source": [
    "x,y = y, x \n",
    "print(x,y)"
   ]
  },
  {
   "cell_type": "code",
   "execution_count": 47,
   "id": "e10010df",
   "metadata": {},
   "outputs": [],
   "source": [
    "x = 117"
   ]
  },
  {
   "cell_type": "code",
   "execution_count": 48,
   "id": "5949c7b0",
   "metadata": {},
   "outputs": [],
   "source": [
    "ls = list(range(int(x/2)+1))\n",
    "ls.append(x)"
   ]
  },
  {
   "cell_type": "code",
   "execution_count": 52,
   "id": "983e1d12",
   "metadata": {},
   "outputs": [
    {
     "data": {
      "text/plain": [
       "0"
      ]
     },
     "execution_count": 52,
     "metadata": {},
     "output_type": "execute_result"
    }
   ],
   "source": [
    "ls.pop(0)"
   ]
  },
  {
   "cell_type": "code",
   "execution_count": 53,
   "id": "b1186ac8",
   "metadata": {},
   "outputs": [
    {
     "data": {
      "text/plain": [
       "[1,\n",
       " 2,\n",
       " 3,\n",
       " 4,\n",
       " 5,\n",
       " 6,\n",
       " 7,\n",
       " 8,\n",
       " 9,\n",
       " 10,\n",
       " 11,\n",
       " 12,\n",
       " 13,\n",
       " 14,\n",
       " 15,\n",
       " 16,\n",
       " 17,\n",
       " 18,\n",
       " 19,\n",
       " 20,\n",
       " 21,\n",
       " 22,\n",
       " 23,\n",
       " 24,\n",
       " 25,\n",
       " 26,\n",
       " 27,\n",
       " 28,\n",
       " 29,\n",
       " 30,\n",
       " 31,\n",
       " 32,\n",
       " 33,\n",
       " 34,\n",
       " 35,\n",
       " 36,\n",
       " 37,\n",
       " 38,\n",
       " 39,\n",
       " 40,\n",
       " 41,\n",
       " 42,\n",
       " 43,\n",
       " 44,\n",
       " 45,\n",
       " 46,\n",
       " 47,\n",
       " 48,\n",
       " 49,\n",
       " 50,\n",
       " 51,\n",
       " 52,\n",
       " 53,\n",
       " 54,\n",
       " 55,\n",
       " 56,\n",
       " 57,\n",
       " 58,\n",
       " 117]"
      ]
     },
     "execution_count": 53,
     "metadata": {},
     "output_type": "execute_result"
    }
   ],
   "source": [
    "ls"
   ]
  },
  {
   "cell_type": "code",
   "execution_count": 54,
   "id": "adc06325",
   "metadata": {},
   "outputs": [
    {
     "name": "stdout",
     "output_type": "stream",
     "text": [
      "117 is not a prime number\n"
     ]
    }
   ],
   "source": [
    "list1 = []\n",
    "for i in ls:\n",
    "    if x%i==0:\n",
    "        list1.append(i)\n",
    "if len(list1)<=2:\n",
    "    print(f'{x} is a prime number')\n",
    "else:\n",
    "    print(f'{x} is not a prime number')"
   ]
  },
  {
   "cell_type": "code",
   "execution_count": 55,
   "id": "0c38623b",
   "metadata": {},
   "outputs": [
    {
     "ename": "NameError",
     "evalue": "name 'factorial' is not defined",
     "output_type": "error",
     "traceback": [
      "\u001b[1;31m---------------------------------------------------------------------------\u001b[0m",
      "\u001b[1;31mNameError\u001b[0m                                 Traceback (most recent call last)",
      "\u001b[1;32m~\\AppData\\Local\\Temp\\ipykernel_8312\\4286945680.py\u001b[0m in \u001b[0;36m<module>\u001b[1;34m\u001b[0m\n\u001b[1;32m----> 1\u001b[1;33m \u001b[0mfactorial\u001b[0m\u001b[1;33m\u001b[0m\u001b[1;33m\u001b[0m\u001b[0m\n\u001b[0m",
      "\u001b[1;31mNameError\u001b[0m: name 'factorial' is not defined"
     ]
    }
   ],
   "source": []
  },
  {
   "cell_type": "code",
   "execution_count": 65,
   "id": "a90a7cd9",
   "metadata": {},
   "outputs": [
    {
     "name": "stdout",
     "output_type": "stream",
     "text": [
      "Enter a number : a\n",
      "Please enter a integer\n"
     ]
    }
   ],
   "source": [
    "try:\n",
    "    x = int(input(\"Enter a number : \"))\n",
    "except :\n",
    "    print('Please enter a integer')"
   ]
  },
  {
   "cell_type": "code",
   "execution_count": 62,
   "id": "0ed93401",
   "metadata": {},
   "outputs": [],
   "source": [
    "def factorial(x:int)->int:\n",
    "    y = 1\n",
    "    \n",
    "    if x<0:\n",
    "        print(\"Negative numbers do not have factorial\")\n",
    "    if x == 0 : \n",
    "        print(\"Factorial {x} is 1\")\n",
    "    else:\n",
    "        for i in range(1,x+1):\n",
    "            y*=i\n",
    "    return y\n",
    "            \n",
    "        "
   ]
  },
  {
   "cell_type": "code",
   "execution_count": 63,
   "id": "6dc2ed7a",
   "metadata": {},
   "outputs": [
    {
     "data": {
      "text/plain": [
       "720"
      ]
     },
     "execution_count": 63,
     "metadata": {},
     "output_type": "execute_result"
    }
   ],
   "source": [
    "factorial(6)"
   ]
  },
  {
   "cell_type": "code",
   "execution_count": 64,
   "id": "d49fce3d",
   "metadata": {},
   "outputs": [
    {
     "ename": "TypeError",
     "evalue": "'<' not supported between instances of 'str' and 'int'",
     "output_type": "error",
     "traceback": [
      "\u001b[1;31m---------------------------------------------------------------------------\u001b[0m",
      "\u001b[1;31mTypeError\u001b[0m                                 Traceback (most recent call last)",
      "\u001b[1;32m~\\AppData\\Local\\Temp\\ipykernel_8312\\4262394368.py\u001b[0m in \u001b[0;36m<module>\u001b[1;34m\u001b[0m\n\u001b[1;32m----> 1\u001b[1;33m \u001b[0mfactorial\u001b[0m\u001b[1;33m(\u001b[0m\u001b[1;34m'z'\u001b[0m\u001b[1;33m)\u001b[0m\u001b[1;33m\u001b[0m\u001b[1;33m\u001b[0m\u001b[0m\n\u001b[0m",
      "\u001b[1;32m~\\AppData\\Local\\Temp\\ipykernel_8312\\2371603464.py\u001b[0m in \u001b[0;36mfactorial\u001b[1;34m(x)\u001b[0m\n\u001b[0;32m      2\u001b[0m     \u001b[0my\u001b[0m \u001b[1;33m=\u001b[0m \u001b[1;36m1\u001b[0m\u001b[1;33m\u001b[0m\u001b[1;33m\u001b[0m\u001b[0m\n\u001b[0;32m      3\u001b[0m \u001b[1;33m\u001b[0m\u001b[0m\n\u001b[1;32m----> 4\u001b[1;33m     \u001b[1;32mif\u001b[0m \u001b[0mx\u001b[0m\u001b[1;33m<\u001b[0m\u001b[1;36m0\u001b[0m\u001b[1;33m:\u001b[0m\u001b[1;33m\u001b[0m\u001b[1;33m\u001b[0m\u001b[0m\n\u001b[0m\u001b[0;32m      5\u001b[0m         \u001b[0mprint\u001b[0m\u001b[1;33m(\u001b[0m\u001b[1;34m\"Negative numbers do not have factorial\"\u001b[0m\u001b[1;33m)\u001b[0m\u001b[1;33m\u001b[0m\u001b[1;33m\u001b[0m\u001b[0m\n\u001b[0;32m      6\u001b[0m     \u001b[1;32mif\u001b[0m \u001b[0mx\u001b[0m \u001b[1;33m==\u001b[0m \u001b[1;36m0\u001b[0m \u001b[1;33m:\u001b[0m\u001b[1;33m\u001b[0m\u001b[1;33m\u001b[0m\u001b[0m\n",
      "\u001b[1;31mTypeError\u001b[0m: '<' not supported between instances of 'str' and 'int'"
     ]
    }
   ],
   "source": [
    "factorial('z')"
   ]
  },
  {
   "cell_type": "code",
   "execution_count": 66,
   "id": "cd72a771",
   "metadata": {},
   "outputs": [],
   "source": [
    "import random"
   ]
  },
  {
   "cell_type": "code",
   "execution_count": 70,
   "id": "e1856f76",
   "metadata": {},
   "outputs": [
    {
     "data": {
      "text/plain": [
       "9"
      ]
     },
     "execution_count": 70,
     "metadata": {},
     "output_type": "execute_result"
    }
   ],
   "source": [
    "int(random.random()*10)"
   ]
  },
  {
   "cell_type": "code",
   "execution_count": 72,
   "id": "43db0f09",
   "metadata": {},
   "outputs": [
    {
     "data": {
      "text/plain": [
       "517"
      ]
     },
     "execution_count": 72,
     "metadata": {},
     "output_type": "execute_result"
    }
   ],
   "source": [
    "random.randint(1,1000)"
   ]
  },
  {
   "cell_type": "code",
   "execution_count": 78,
   "id": "ddf4afa4",
   "metadata": {},
   "outputs": [
    {
     "data": {
      "text/plain": [
       "678"
      ]
     },
     "execution_count": 78,
     "metadata": {},
     "output_type": "execute_result"
    }
   ],
   "source": [
    "random.randrange(0,1000,2)"
   ]
  },
  {
   "cell_type": "code",
   "execution_count": 81,
   "id": "7519153d",
   "metadata": {},
   "outputs": [],
   "source": [
    "numlist = random.sample(range(0,100),7)"
   ]
  },
  {
   "cell_type": "code",
   "execution_count": 82,
   "id": "b1129f9c",
   "metadata": {},
   "outputs": [
    {
     "data": {
      "text/plain": [
       "[99, 86, 92, 1, 95, 35, 75]"
      ]
     },
     "execution_count": 82,
     "metadata": {},
     "output_type": "execute_result"
    }
   ],
   "source": [
    "numlist"
   ]
  },
  {
   "cell_type": "code",
   "execution_count": 84,
   "id": "39ed43cd",
   "metadata": {},
   "outputs": [
    {
     "name": "stdout",
     "output_type": "stream",
     "text": [
      "[0, 1, 1, 2, 3, 5, 8, 13, 21, 34]\n"
     ]
    }
   ],
   "source": [
    "count = 0\n",
    "ls = [0,1]\n",
    "while count <8:\n",
    "    x = ls[-1]+ls[-2]\n",
    "    ls.append(x)\n",
    "    count +=1\n",
    "    \n",
    "print(ls)"
   ]
  },
  {
   "cell_type": "code",
   "execution_count": null,
   "id": "fc2d8bb8",
   "metadata": {},
   "outputs": [],
   "source": [
    "\"\"\"\"\n",
    "Q3. Write a code snippet to reverse a string.\n",
    "Ans. Here, we have reversed a string without using any in-built function.\n",
    "\"\"\"\""
   ]
  },
  {
   "cell_type": "code",
   "execution_count": 85,
   "id": "07615322",
   "metadata": {},
   "outputs": [],
   "source": [
    "str1  = \"Analytic Geometry\""
   ]
  },
  {
   "cell_type": "code",
   "execution_count": 87,
   "id": "589d1af0",
   "metadata": {},
   "outputs": [
    {
     "data": {
      "text/plain": [
       "'yrtemoeG citylanA'"
      ]
     },
     "execution_count": 87,
     "metadata": {},
     "output_type": "execute_result"
    }
   ],
   "source": [
    "\"\".join(list(str1)[::-1])"
   ]
  },
  {
   "cell_type": "code",
   "execution_count": 88,
   "id": "c3e4a519",
   "metadata": {},
   "outputs": [],
   "source": [
    "x = \"abckcba\""
   ]
  },
  {
   "cell_type": "code",
   "execution_count": 91,
   "id": "24792853",
   "metadata": {},
   "outputs": [],
   "source": [
    "import math"
   ]
  },
  {
   "cell_type": "code",
   "execution_count": 92,
   "id": "6588f345",
   "metadata": {},
   "outputs": [
    {
     "data": {
      "text/plain": [
       "4"
      ]
     },
     "execution_count": 92,
     "metadata": {},
     "output_type": "execute_result"
    }
   ],
   "source": [
    "math.ceil(len(x)/2)"
   ]
  },
  {
   "cell_type": "code",
   "execution_count": 93,
   "id": "6875592d",
   "metadata": {},
   "outputs": [
    {
     "data": {
      "text/plain": [
       "3"
      ]
     },
     "execution_count": 93,
     "metadata": {},
     "output_type": "execute_result"
    }
   ],
   "source": [
    "math.floor(len(x)/2)"
   ]
  },
  {
   "cell_type": "code",
   "execution_count": 118,
   "id": "9f4722e9",
   "metadata": {},
   "outputs": [
    {
     "name": "stdout",
     "output_type": "stream",
     "text": [
      "abckcba is a polindrome\n"
     ]
    }
   ],
   "source": [
    "if len(x)%2==0:\n",
    "    if x[:len(x)/2] == x[len(x)/2:]:\n",
    "        print(f'{x} is a polindrome')\n",
    "    else:\n",
    "        print(f'{x} is not a polindrome')\n",
    "else:\n",
    "    if x[:math.floor(len(x)/2)]==x[:math.floor(len(x)/2):-1]:\n",
    "        print(f'{x} is a polindrome')\n",
    "    else:\n",
    "        print(f'{x} is not a polindrome')\n",
    "                           \n",
    "                    \n",
    "              "
   ]
  },
  {
   "cell_type": "code",
   "execution_count": 112,
   "id": "a9216815",
   "metadata": {
    "scrolled": true
   },
   "outputs": [
    {
     "data": {
      "text/plain": [
       "'ckcba'"
      ]
     },
     "execution_count": 112,
     "metadata": {},
     "output_type": "execute_result"
    }
   ],
   "source": [
    "x[math.ceil(len(x)/2)::-1]"
   ]
  },
  {
   "cell_type": "code",
   "execution_count": 102,
   "id": "725142fa",
   "metadata": {},
   "outputs": [
    {
     "data": {
      "text/plain": [
       "-7"
      ]
     },
     "execution_count": 102,
     "metadata": {},
     "output_type": "execute_result"
    }
   ],
   "source": [
    "-1*math.floor(len(x))"
   ]
  },
  {
   "cell_type": "code",
   "execution_count": 106,
   "id": "2f0282ff",
   "metadata": {},
   "outputs": [
    {
     "data": {
      "text/plain": [
       "3"
      ]
     },
     "execution_count": 106,
     "metadata": {},
     "output_type": "execute_result"
    }
   ],
   "source": [
    "math.floor(len(x)/2)"
   ]
  },
  {
   "cell_type": "code",
   "execution_count": 110,
   "id": "da6ae849",
   "metadata": {},
   "outputs": [
    {
     "data": {
      "text/plain": [
       "4"
      ]
     },
     "execution_count": 110,
     "metadata": {},
     "output_type": "execute_result"
    }
   ],
   "source": [
    "math.ceil(len(x)/2)"
   ]
  },
  {
   "cell_type": "code",
   "execution_count": 113,
   "id": "44aa917c",
   "metadata": {},
   "outputs": [
    {
     "data": {
      "text/plain": [
       "4"
      ]
     },
     "execution_count": 113,
     "metadata": {},
     "output_type": "execute_result"
    }
   ],
   "source": [
    "math.ceil(len(x)/2)"
   ]
  },
  {
   "cell_type": "code",
   "execution_count": null,
   "id": "94bc2817",
   "metadata": {},
   "outputs": [],
   "source": [
    "x[:3:-1]"
   ]
  },
  {
   "cell_type": "code",
   "execution_count": 124,
   "id": "4e4447a8",
   "metadata": {},
   "outputs": [],
   "source": [
    "with open('abc.txt','w') as f:\n",
    "    pass\n",
    "    "
   ]
  },
  {
   "cell_type": "code",
   "execution_count": null,
   "id": "c8333055",
   "metadata": {},
   "outputs": [],
   "source": []
  },
  {
   "cell_type": "code",
   "execution_count": 120,
   "id": "d0ac5afd",
   "metadata": {},
   "outputs": [],
   "source": [
    "import os"
   ]
  },
  {
   "cell_type": "code",
   "execution_count": 127,
   "id": "d6d14374",
   "metadata": {},
   "outputs": [],
   "source": [
    "f.close()"
   ]
  },
  {
   "cell_type": "code",
   "execution_count": 1,
   "id": "04184784",
   "metadata": {},
   "outputs": [
    {
     "data": {
      "application/javascript": [
       "\n",
       "        if (window._pyforest_update_imports_cell) { window._pyforest_update_imports_cell('import os'); }\n",
       "    "
      ],
      "text/plain": [
       "<IPython.core.display.Javascript object>"
      ]
     },
     "metadata": {},
     "output_type": "display_data"
    }
   ],
   "source": [
    "os.remove('xyz.txt')"
   ]
  },
  {
   "cell_type": "code",
   "execution_count": 129,
   "id": "5358e8c4",
   "metadata": {},
   "outputs": [
    {
     "data": {
      "text/plain": [
       "1"
      ]
     },
     "execution_count": 129,
     "metadata": {},
     "output_type": "execute_result"
    }
   ],
   "source": [
    "os.system('abc.txt')"
   ]
  },
  {
   "cell_type": "code",
   "execution_count": 3,
   "id": "38b5b4af",
   "metadata": {},
   "outputs": [],
   "source": [
    "list1 = [1,1,2,3,4,5,6]"
   ]
  },
  {
   "cell_type": "code",
   "execution_count": null,
   "id": "16046832",
   "metadata": {},
   "outputs": [],
   "source": [
    "list1 = "
   ]
  },
  {
   "cell_type": "code",
   "execution_count": null,
   "id": "0852d130",
   "metadata": {},
   "outputs": [],
   "source": [
    "#prime number icin 2 den basla karkok +1 icin butun sayilara bol eger kalan sifir veren varsa prime degil\n",
    "#kaln sifir veren yoksa prime\n"
   ]
  },
  {
   "cell_type": "code",
   "execution_count": 4,
   "id": "776dc0e7",
   "metadata": {},
   "outputs": [
    {
     "data": {
      "text/plain": [
       "3"
      ]
     },
     "execution_count": 4,
     "metadata": {},
     "output_type": "execute_result"
    }
   ],
   "source": [
    "from functools import reduce\n",
    "\n",
    "reduce(lambda x, y: x if x < y else y, [5,7,3,4,5,6,])"
   ]
  },
  {
   "cell_type": "code",
   "execution_count": 10,
   "id": "3f2b9c1d",
   "metadata": {},
   "outputs": [],
   "source": [
    "dellist = [5,7,3,4,5,6,1]"
   ]
  },
  {
   "cell_type": "code",
   "execution_count": 11,
   "id": "c3d9e640",
   "metadata": {},
   "outputs": [],
   "source": [
    "del dellist[0]"
   ]
  },
  {
   "cell_type": "code",
   "execution_count": 12,
   "id": "db02ce5a",
   "metadata": {},
   "outputs": [
    {
     "data": {
      "text/plain": [
       "[7, 3, 4, 5, 6, 1]"
      ]
     },
     "execution_count": 12,
     "metadata": {},
     "output_type": "execute_result"
    }
   ],
   "source": [
    "dellist"
   ]
  },
  {
   "cell_type": "code",
   "execution_count": 14,
   "id": "870d6bd9",
   "metadata": {},
   "outputs": [
    {
     "ename": "AttributeError",
     "evalue": "'list' object has no attribute 'max'",
     "output_type": "error",
     "traceback": [
      "\u001b[1;31m---------------------------------------------------------------------------\u001b[0m",
      "\u001b[1;31mAttributeError\u001b[0m                            Traceback (most recent call last)",
      "\u001b[1;32m~\\AppData\\Local\\Temp\\ipykernel_4864\\3888764247.py\u001b[0m in \u001b[0;36m<module>\u001b[1;34m\u001b[0m\n\u001b[1;32m----> 1\u001b[1;33m \u001b[0mlist1\u001b[0m\u001b[1;33m.\u001b[0m\u001b[0mmax\u001b[0m\u001b[1;33m(\u001b[0m\u001b[1;33m)\u001b[0m\u001b[1;33m\u001b[0m\u001b[1;33m\u001b[0m\u001b[0m\n\u001b[0m",
      "\u001b[1;31mAttributeError\u001b[0m: 'list' object has no attribute 'max'"
     ]
    }
   ],
   "source": [
    "list1"
   ]
  },
  {
   "cell_type": "code",
   "execution_count": 15,
   "id": "7347ddc3",
   "metadata": {},
   "outputs": [
    {
     "data": {
      "text/plain": [
       "6"
      ]
     },
     "execution_count": 15,
     "metadata": {},
     "output_type": "execute_result"
    }
   ],
   "source": [
    "max(list1)"
   ]
  },
  {
   "cell_type": "code",
   "execution_count": 16,
   "id": "4784f038",
   "metadata": {},
   "outputs": [
    {
     "data": {
      "text/plain": [
       "1"
      ]
     },
     "execution_count": 16,
     "metadata": {},
     "output_type": "execute_result"
    }
   ],
   "source": [
    "min(list1)"
   ]
  },
  {
   "cell_type": "code",
   "execution_count": 17,
   "id": "28d193fe",
   "metadata": {},
   "outputs": [
    {
     "data": {
      "text/plain": [
       "3"
      ]
     },
     "execution_count": 17,
     "metadata": {},
     "output_type": "execute_result"
    }
   ],
   "source": [
    "min([5,7,3,4,5,6,])"
   ]
  },
  {
   "cell_type": "code",
   "execution_count": 18,
   "id": "6ff09702",
   "metadata": {},
   "outputs": [],
   "source": [
    "dic = {\"x\":3,\"y\":4,\"z\":5,\"t\":10}"
   ]
  },
  {
   "cell_type": "code",
   "execution_count": 20,
   "id": "037643b2",
   "metadata": {},
   "outputs": [
    {
     "data": {
      "text/plain": [
       "3"
      ]
     },
     "execution_count": 20,
     "metadata": {},
     "output_type": "execute_result"
    }
   ],
   "source": [
    "min(dic.values())"
   ]
  },
  {
   "cell_type": "code",
   "execution_count": 26,
   "id": "5bb549de",
   "metadata": {},
   "outputs": [],
   "source": [
    "tup = ((0,1,2,3),(4,5,6,7),(8,9,10))"
   ]
  },
  {
   "cell_type": "code",
   "execution_count": 27,
   "id": "884fdde7",
   "metadata": {},
   "outputs": [
    {
     "data": {
      "text/plain": [
       "5.0"
      ]
     },
     "execution_count": 27,
     "metadata": {},
     "output_type": "execute_result"
    }
   ],
   "source": [
    "sum([y for i in tup for y in i])/len([y for i in tup for y in i])"
   ]
  },
  {
   "cell_type": "code",
   "execution_count": 25,
   "id": "7b7f6dd1",
   "metadata": {},
   "outputs": [
    {
     "data": {
      "text/plain": [
       "[0, 1, 2, 3, 4, 5, 6, 8, 9, 10]"
      ]
     },
     "execution_count": 25,
     "metadata": {},
     "output_type": "execute_result"
    }
   ],
   "source": [
    "[y for i in tup for y in i]"
   ]
  },
  {
   "cell_type": "code",
   "execution_count": null,
   "id": "be17c3eb",
   "metadata": {},
   "outputs": [],
   "source": []
  }
 ],
 "metadata": {
  "kernelspec": {
   "display_name": "Python 3 (ipykernel)",
   "language": "python",
   "name": "python3"
  },
  "language_info": {
   "codemirror_mode": {
    "name": "ipython",
    "version": 3
   },
   "file_extension": ".py",
   "mimetype": "text/x-python",
   "name": "python",
   "nbconvert_exporter": "python",
   "pygments_lexer": "ipython3",
   "version": "3.9.13"
  },
  "toc": {
   "base_numbering": 1,
   "nav_menu": {},
   "number_sections": true,
   "sideBar": true,
   "skip_h1_title": false,
   "title_cell": "Table of Contents",
   "title_sidebar": "Contents",
   "toc_cell": false,
   "toc_position": {},
   "toc_section_display": true,
   "toc_window_display": false
  }
 },
 "nbformat": 4,
 "nbformat_minor": 5
}
