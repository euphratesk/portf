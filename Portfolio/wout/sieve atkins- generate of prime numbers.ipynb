{
 "cells": [
  {
   "cell_type": "code",
   "execution_count": 2,
   "id": "af4b42bf",
   "metadata": {},
   "outputs": [],
   "source": [
    "import math\n",
    "\n",
    "def sieve(limit):\n",
    "    \"\"\"\n",
    "    Orijinal iskelet korunarak Atkin Eleği düzeltildi:\n",
    "    - Doğru boyutta boolean dizi kuruluyor\n",
    "    - x,y döngüleri sqrt(limit)'e kadar (doğrusu bu)\n",
    "    - Kare çarpanlar eleniyor\n",
    "    - ÇIKTI: bool dizi değil, 'asal sayılar listesi'\n",
    "    \"\"\"\n",
    "    if limit < 2:\n",
    "        return []\n",
    "\n",
    "    # [FIX] Doğru boyutta dizi oluştur\n",
    "    is_prime = [False] * (limit + 1)\n",
    "    sqrt_lim = int(math.isqrt(limit))\n",
    "\n",
    "    # Atkin flip adımları\n",
    "    for x in range(1, sqrt_lim + 1):\n",
    "        x2 = x * x\n",
    "        for y in range(1, sqrt_lim + 1):\n",
    "            y2 = y * y\n",
    "\n",
    "            n = 4 * x2 + y2\n",
    "            if n <= limit and (n % 12 == 1 or n % 12 == 5):\n",
    "                is_prime[n] = not is_prime[n]\n",
    "\n",
    "            n = 3 * x2 + y2\n",
    "            if n <= limit and (n % 12 == 7):\n",
    "                is_prime[n] = not is_prime[n]\n",
    "\n",
    "            n = 3 * x2 - y2\n",
    "            if x > y and n <= limit and (n % 12 == 11):\n",
    "                is_prime[n] = not is_prime[n]\n",
    "\n",
    "    # [FIX] Kare çarpanları ele\n",
    "    for r in range(5, sqrt_lim + 1):\n",
    "        if is_prime[r]:\n",
    "            r2 = r * r\n",
    "            for k in range(r2, limit + 1, r2):\n",
    "                is_prime[k] = False\n",
    "\n",
    "    # [FIX] 2 ve 3'ü ekle; 5'ten itibaren filtrelenenleri ekle\n",
    "    primes = []\n",
    "    if limit >= 2:\n",
    "        primes.append(2)\n",
    "    if limit >= 3:\n",
    "        primes.append(3)\n",
    "    primes.extend(n for n in range(5, limit + 1) if is_prime[n])\n",
    "    return primes\n",
    "\n"
   ]
  },
  {
   "cell_type": "code",
   "execution_count": 3,
   "id": "d5df6d9d",
   "metadata": {},
   "outputs": [
    {
     "data": {
      "text/plain": [
       "[2, 3, 5, 7, 11, 13, 17, 19]"
      ]
     },
     "execution_count": 3,
     "metadata": {},
     "output_type": "execute_result"
    }
   ],
   "source": [
    "sieve(19)"
   ]
  },
  {
   "cell_type": "code",
   "execution_count": 24,
   "id": "7ee5a47e",
   "metadata": {},
   "outputs": [],
   "source": [
    "def sieve(limit):\n",
    "    if limit < 2:\n",
    "        return []\n",
    "\n",
    "    if limit == 2:\n",
    "        return [False, True]\n",
    "\n",
    "    if limit == 3:\n",
    "        return [False, True, True]\n",
    "\n",
    "    res = [False]*(limit+1)\n",
    "\n",
    "    if limit >= 2:\n",
    "        res[2] = True\n",
    "\n",
    "    if limit >= 3:\n",
    "        res[3] = True\n",
    "\n",
    "    for i in range(4, limit + 1):\n",
    "        res[i] = False\n",
    "\n",
    "    i = 1\n",
    "    while i <= limit:\n",
    "        j = 1\n",
    "        while j <= limit:\n",
    "            n = (4 * i * i) + (j * j)\n",
    "            if n <= limit and (n % 12 == 1 or n % 12 == 5):\n",
    "                res[n] ^= True\n",
    "\n",
    "            n = (3 * i * i) + (j * j)\n",
    "            if n <= limit and n % 12 == 7:\n",
    "                res[n] ^= True\n",
    "\n",
    "            n = (3 * i * i) - (j * j)\n",
    "            if i > j and n <= limit and n % 12 == 11:\n",
    "                res[n] ^= True\n",
    "\n",
    "            j += 1\n",
    "        i += 1\n",
    "\n",
    "    r = 5\n",
    "    while r * r <= limit:\n",
    "        if res[r]:\n",
    "            for i in range(r * r, limit + 1, r * r):\n",
    "                res[i] = False\n",
    "        r += 1\n",
    "    \n",
    "    return [i[0] for i in enumerate(res) if i[-1]==True]\n"
   ]
  },
  {
   "cell_type": "code",
   "execution_count": 25,
   "id": "3a36fb06",
   "metadata": {},
   "outputs": [
    {
     "data": {
      "text/plain": [
       "[2, 3, 5, 7, 11, 13, 17, 19]"
      ]
     },
     "execution_count": 25,
     "metadata": {},
     "output_type": "execute_result"
    }
   ],
   "source": [
    "sieve(19)"
   ]
  },
  {
   "cell_type": "code",
   "execution_count": 22,
   "id": "9b89d7f2",
   "metadata": {},
   "outputs": [
    {
     "data": {
      "text/plain": [
       "[2, 3, 5, 7, 11, 13, 17, 19]"
      ]
     },
     "execution_count": 22,
     "metadata": {},
     "output_type": "execute_result"
    }
   ],
   "source": [
    "[i[0] for i in enumerate(sieve(19)) if i[-1]==True]"
   ]
  },
  {
   "cell_type": "code",
   "execution_count": 13,
   "id": "47ff21ad",
   "metadata": {},
   "outputs": [
    {
     "ename": "AttributeError",
     "evalue": "'bool' object has no attribute 'values'",
     "output_type": "error",
     "traceback": [
      "\u001b[1;31m---------------------------------------------------------------------------\u001b[0m",
      "\u001b[1;31mAttributeError\u001b[0m                            Traceback (most recent call last)",
      "\u001b[1;32m~\\AppData\\Local\\Temp\\ipykernel_4736\\1257137423.py\u001b[0m in \u001b[0;36m<module>\u001b[1;34m\u001b[0m\n\u001b[0;32m      1\u001b[0m \u001b[1;32mfor\u001b[0m \u001b[0mi\u001b[0m \u001b[1;32min\u001b[0m \u001b[0msieve\u001b[0m\u001b[1;33m(\u001b[0m\u001b[1;36m19\u001b[0m\u001b[1;33m)\u001b[0m\u001b[1;33m:\u001b[0m\u001b[1;33m\u001b[0m\u001b[1;33m\u001b[0m\u001b[0m\n\u001b[1;32m----> 2\u001b[1;33m     \u001b[1;32mif\u001b[0m \u001b[0mi\u001b[0m\u001b[1;33m.\u001b[0m\u001b[0mvalues\u001b[0m\u001b[1;33m==\u001b[0m\u001b[1;32mTrue\u001b[0m\u001b[1;33m:\u001b[0m\u001b[1;33m\u001b[0m\u001b[1;33m\u001b[0m\u001b[0m\n\u001b[0m\u001b[0;32m      3\u001b[0m         \u001b[0mi\u001b[0m\u001b[1;33m.\u001b[0m\u001b[0mkeys\u001b[0m\u001b[1;33m(\u001b[0m\u001b[1;33m)\u001b[0m\u001b[1;33m\u001b[0m\u001b[1;33m\u001b[0m\u001b[0m\n",
      "\u001b[1;31mAttributeError\u001b[0m: 'bool' object has no attribute 'values'"
     ]
    }
   ],
   "source": [
    "for i in sieve(19):\n",
    "    if i.values==True:\n",
    "        i.keys()"
   ]
  },
  {
   "cell_type": "code",
   "execution_count": 14,
   "id": "975aff91",
   "metadata": {},
   "outputs": [
    {
     "ename": "TypeError",
     "evalue": "cannot unpack non-iterable int object",
     "output_type": "error",
     "traceback": [
      "\u001b[1;31m---------------------------------------------------------------------------\u001b[0m",
      "\u001b[1;31mTypeError\u001b[0m                                 Traceback (most recent call last)",
      "\u001b[1;32m~\\AppData\\Local\\Temp\\ipykernel_4736\\661711078.py\u001b[0m in \u001b[0;36m<module>\u001b[1;34m\u001b[0m\n\u001b[1;32m----> 1\u001b[1;33m \u001b[1;33m[\u001b[0m\u001b[0mm\u001b[0m \u001b[1;32mfor\u001b[0m \u001b[0mi\u001b[0m \u001b[1;32min\u001b[0m \u001b[0mlist\u001b[0m\u001b[1;33m(\u001b[0m\u001b[0menumerate\u001b[0m\u001b[1;33m(\u001b[0m\u001b[0msieve\u001b[0m\u001b[1;33m(\u001b[0m\u001b[1;36m19\u001b[0m\u001b[1;33m)\u001b[0m\u001b[1;33m)\u001b[0m\u001b[1;33m)\u001b[0m \u001b[1;32mfor\u001b[0m \u001b[0mm\u001b[0m\u001b[1;33m,\u001b[0m\u001b[0mn\u001b[0m \u001b[1;32min\u001b[0m \u001b[0mi\u001b[0m \u001b[1;32mif\u001b[0m \u001b[0mn\u001b[0m\u001b[1;33m==\u001b[0m\u001b[1;36m1\u001b[0m \u001b[1;33m]\u001b[0m\u001b[1;33m\u001b[0m\u001b[1;33m\u001b[0m\u001b[0m\n\u001b[0m",
      "\u001b[1;32m~\\AppData\\Local\\Temp\\ipykernel_4736\\661711078.py\u001b[0m in \u001b[0;36m<listcomp>\u001b[1;34m(.0)\u001b[0m\n\u001b[1;32m----> 1\u001b[1;33m \u001b[1;33m[\u001b[0m\u001b[0mm\u001b[0m \u001b[1;32mfor\u001b[0m \u001b[0mi\u001b[0m \u001b[1;32min\u001b[0m \u001b[0mlist\u001b[0m\u001b[1;33m(\u001b[0m\u001b[0menumerate\u001b[0m\u001b[1;33m(\u001b[0m\u001b[0msieve\u001b[0m\u001b[1;33m(\u001b[0m\u001b[1;36m19\u001b[0m\u001b[1;33m)\u001b[0m\u001b[1;33m)\u001b[0m\u001b[1;33m)\u001b[0m \u001b[1;32mfor\u001b[0m \u001b[0mm\u001b[0m\u001b[1;33m,\u001b[0m\u001b[0mn\u001b[0m \u001b[1;32min\u001b[0m \u001b[0mi\u001b[0m \u001b[1;32mif\u001b[0m \u001b[0mn\u001b[0m\u001b[1;33m==\u001b[0m\u001b[1;36m1\u001b[0m \u001b[1;33m]\u001b[0m\u001b[1;33m\u001b[0m\u001b[1;33m\u001b[0m\u001b[0m\n\u001b[0m",
      "\u001b[1;31mTypeError\u001b[0m: cannot unpack non-iterable int object"
     ]
    }
   ],
   "source": [
    "[m for i in list(enumerate(sieve(19))) for m,n in i if n==1 ]"
   ]
  },
  {
   "cell_type": "code",
   "execution_count": 15,
   "id": "9e7bafae",
   "metadata": {},
   "outputs": [
    {
     "name": "stdout",
     "output_type": "stream",
     "text": [
      "2\n",
      "3\n",
      "5\n",
      "7\n",
      "11\n",
      "13\n",
      "17\n",
      "19\n"
     ]
    }
   ],
   "source": [
    "for i in zip(enumerate(sieve(19))):\n",
    "    for m,n in i:\n",
    "        if n==True:\n",
    "            print(m)\n",
    "        \n",
    "    "
   ]
  },
  {
   "cell_type": "code",
   "execution_count": 17,
   "id": "d6eb3151",
   "metadata": {},
   "outputs": [
    {
     "data": {
      "text/plain": [
       "[0, 1, 2, 3, 4, 5, 6, 7, 8, 9, 10, 11, 12, 13, 14, 15, 16, 17, 18, 19]"
      ]
     },
     "execution_count": 17,
     "metadata": {},
     "output_type": "execute_result"
    }
   ],
   "source": [
    "list(dict(enumerate(sieve(19))))"
   ]
  },
  {
   "cell_type": "code",
   "execution_count": 15,
   "id": "2ef5526a",
   "metadata": {},
   "outputs": [
    {
     "ename": "TypeError",
     "evalue": "cannot unpack non-iterable int object",
     "output_type": "error",
     "traceback": [
      "\u001b[1;31m---------------------------------------------------------------------------\u001b[0m",
      "\u001b[1;31mTypeError\u001b[0m                                 Traceback (most recent call last)",
      "\u001b[1;32m~\\AppData\\Local\\Temp\\ipykernel_400\\1476326029.py\u001b[0m in \u001b[0;36m<module>\u001b[1;34m\u001b[0m\n\u001b[1;32m----> 1\u001b[1;33m \u001b[1;32mfor\u001b[0m \u001b[0mm\u001b[0m\u001b[1;33m,\u001b[0m\u001b[0mn\u001b[0m \u001b[1;32min\u001b[0m \u001b[0mlist\u001b[0m\u001b[1;33m(\u001b[0m\u001b[0menumerate\u001b[0m\u001b[1;33m(\u001b[0m\u001b[0msieve\u001b[0m\u001b[1;33m(\u001b[0m\u001b[1;36m19\u001b[0m\u001b[1;33m)\u001b[0m\u001b[1;33m)\u001b[0m\u001b[1;33m)\u001b[0m\u001b[1;33m[\u001b[0m\u001b[1;36m0\u001b[0m\u001b[1;33m]\u001b[0m\u001b[1;33m:\u001b[0m\u001b[1;33m\u001b[0m\u001b[1;33m\u001b[0m\u001b[0m\n\u001b[0m\u001b[0;32m      2\u001b[0m     \u001b[0mm\u001b[0m\u001b[1;33m\u001b[0m\u001b[1;33m\u001b[0m\u001b[0m\n",
      "\u001b[1;31mTypeError\u001b[0m: cannot unpack non-iterable int object"
     ]
    }
   ],
   "source": [
    "for m,n in dict(enumerate(sieve(19))):\n",
    "    m"
   ]
  },
  {
   "cell_type": "code",
   "execution_count": null,
   "id": "4faa67b6",
   "metadata": {},
   "outputs": [],
   "source": [
    "for i  dict(enumerate(sieve(19))):\n",
    "    "
   ]
  },
  {
   "cell_type": "code",
   "execution_count": 26,
   "id": "ea34d02d",
   "metadata": {},
   "outputs": [],
   "source": [
    "def pick_prime(primes):\n",
    "    \"\"\"returns a suitable prime to use as modulus\"\"\"\n",
    "    for prime in primes:\n",
    "        if prime >= min_size:\n",
    "            return prime\n",
    "    return primes[-1]  # fallback"
   ]
  },
  {
   "cell_type": "code",
   "execution_count": 33,
   "id": "bda69615",
   "metadata": {},
   "outputs": [],
   "source": [
    "def hash(string, modulus):\n",
    "    \"\"\"implements polynomial rolling of string keys\"\"\"\n",
    "    hash_value = 0\n",
    "    count = 0\n",
    "    for char in string:\n",
    "        hash_value += ord(char)**count\n",
    "        count+=1\n",
    "    return hash_value % modulus"
   ]
  },
  {
   "cell_type": "code",
   "execution_count": 34,
   "id": "f7ef228a",
   "metadata": {},
   "outputs": [
    {
     "name": "stdout",
     "output_type": "stream",
     "text": [
      "Hash of alpha is 606\n",
      "Hash of beta is 18\n",
      "Hash of gamma is 607\n",
      "Hash of delta is 62\n",
      "Hash of epsilon is 189\n"
     ]
    }
   ],
   "source": [
    "if __name__ == \"__main__\":\n",
    "    # generate primes list to use as modulus\n",
    "    primes = sieve(1000)   # <-- problem: returns boolean flags, not actual primes\n",
    "    modulus = pick_prime(primes, 1000)\n",
    "\n",
    "    test_array = [\"alpha\", \"beta\", \"gamma\", \"delta\", \"epsilon\"]\n",
    "\n",
    "    for string in test_array:\n",
    "        hash_value = hash(string, modulus)\n",
    "        print(f\"Hash of {string} is {hash_value}\")"
   ]
  },
  {
   "cell_type": "code",
   "execution_count": null,
   "id": "18ae7236",
   "metadata": {},
   "outputs": [],
   "source": []
  },
  {
   "cell_type": "code",
   "execution_count": 29,
   "id": "6bf49069",
   "metadata": {},
   "outputs": [
    {
     "data": {
      "text/plain": [
       "11328"
      ]
     },
     "execution_count": 29,
     "metadata": {},
     "output_type": "execute_result"
    }
   ],
   "source": [
    "354 << 5"
   ]
  },
  {
   "cell_type": "code",
   "execution_count": 30,
   "id": "0f565ae3",
   "metadata": {},
   "outputs": [
    {
     "data": {
      "text/plain": [
       "32"
      ]
     },
     "execution_count": 30,
     "metadata": {},
     "output_type": "execute_result"
    }
   ],
   "source": [
    "8<<2"
   ]
  },
  {
   "cell_type": "code",
   "execution_count": 31,
   "id": "f4b353e4",
   "metadata": {},
   "outputs": [
    {
     "data": {
      "text/plain": [
       "256"
      ]
     },
     "execution_count": 31,
     "metadata": {},
     "output_type": "execute_result"
    }
   ],
   "source": [
    "64<<2"
   ]
  },
  {
   "cell_type": "code",
   "execution_count": 32,
   "id": "df8c5254",
   "metadata": {},
   "outputs": [
    {
     "data": {
      "text/plain": [
       "97"
      ]
     },
     "execution_count": 32,
     "metadata": {},
     "output_type": "execute_result"
    }
   ],
   "source": [
    "ord(\"a\")"
   ]
  },
  {
   "cell_type": "code",
   "execution_count": null,
   "id": "17ab3848",
   "metadata": {},
   "outputs": [],
   "source": []
  }
 ],
 "metadata": {
  "kernelspec": {
   "display_name": "Python 3 (ipykernel)",
   "language": "python",
   "name": "python3"
  },
  "language_info": {
   "codemirror_mode": {
    "name": "ipython",
    "version": 3
   },
   "file_extension": ".py",
   "mimetype": "text/x-python",
   "name": "python",
   "nbconvert_exporter": "python",
   "pygments_lexer": "ipython3",
   "version": "3.9.13"
  },
  "toc": {
   "base_numbering": 1,
   "nav_menu": {},
   "number_sections": true,
   "sideBar": true,
   "skip_h1_title": false,
   "title_cell": "Table of Contents",
   "title_sidebar": "Contents",
   "toc_cell": false,
   "toc_position": {},
   "toc_section_display": true,
   "toc_window_display": false
  }
 },
 "nbformat": 4,
 "nbformat_minor": 5
}
