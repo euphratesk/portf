{
 "cells": [
  {
   "cell_type": "markdown",
   "id": "6608d87a-1718-4198-aa94-5018bed4a106",
   "metadata": {
    "id": "6608d87a-1718-4198-aa94-5018bed4a106"
   },
   "source": [
    "# Raisin Class Prediction"
   ]
  },
  {
   "cell_type": "markdown",
   "id": "392a02f0-fdda-44ae-a0fc-97f3b03924a9",
   "metadata": {
    "id": "392a02f0-fdda-44ae-a0fc-97f3b03924a9"
   },
   "source": [
    "Data Set Information:\n",
    "\n",
    "Images of Kecimen and Besni raisin varieties grown in Turkey were obtained with CVS. A total of 900 raisin grains were used, including 450 pieces from both varieties. These images were subjected to various stages of pre-processing and 7 morphological features were extracted. These features have been classified using three different artificial intelligence techniques.\n",
    "\n",
    "\n",
    "Attribute Information:\n",
    "\n",
    "1. Area: Gives the number of pixels within the boundaries of the raisin.\n",
    "2. Perimeter: It measures the environment by calculating the distance between the boundaries of the raisin and the pixels around it.\n",
    "3. MajorAxisLength: Gives the length of the main axis, which is the longest line that can be drawn on the raisin.\n",
    "4. MinorAxisLength: Gives the length of the small axis, which is the shortest line that can be drawn on the raisin.\n",
    "5. Eccentricity: It gives a measure of the eccentricity of the ellipse, which has the same moments as raisins.\n",
    "6. ConvexArea: Gives the number of pixels of the smallest convex shell of the region formed by the raisin.\n",
    "7. Extent: Gives the ratio of the region formed by the raisin to the total pixels in the bounding box.\n",
    "8. Class: Kecimen and Besni raisin."
   ]
  },
  {
   "cell_type": "markdown",
   "id": "9f64a47c-5aa7-4653-98ea-6c645df4572b",
   "metadata": {
    "id": "9f64a47c-5aa7-4653-98ea-6c645df4572b"
   },
   "source": [
    "# Import libraries"
   ]
  },
  {
   "cell_type": "code",
   "execution_count": 109,
   "id": "8ecb3841",
   "metadata": {},
   "outputs": [],
   "source": [
    "import numpy as np\n",
    "import pandas as pd\n",
    "import matplotlib.pyplot as plt\n",
    "import seaborn as sns\n",
    "plt.rcParams[\"figure.figsize\"] = (10,6)\n",
    "import warnings\n",
    "warnings.filterwarnings(\"ignore\")\n",
    "warnings.warn(\"this will not show\")"
   ]
  },
  {
   "cell_type": "markdown",
   "id": "a589228f-f7be-4c79-94fd-e45cb2c473f4",
   "metadata": {
    "id": "a589228f-f7be-4c79-94fd-e45cb2c473f4",
    "tags": []
   },
   "source": [
    "## Exploratory Data Analysis and Visualization"
   ]
  },
  {
   "cell_type": "code",
   "execution_count": 110,
   "id": "a408cba6",
   "metadata": {},
   "outputs": [
    {
     "data": {
      "text/html": [
       "<div>\n",
       "<style scoped>\n",
       "    .dataframe tbody tr th:only-of-type {\n",
       "        vertical-align: middle;\n",
       "    }\n",
       "\n",
       "    .dataframe tbody tr th {\n",
       "        vertical-align: top;\n",
       "    }\n",
       "\n",
       "    .dataframe thead th {\n",
       "        text-align: right;\n",
       "    }\n",
       "</style>\n",
       "<table border=\"1\" class=\"dataframe\">\n",
       "  <thead>\n",
       "    <tr style=\"text-align: right;\">\n",
       "      <th></th>\n",
       "      <th>Area</th>\n",
       "      <th>MajorAxisLength</th>\n",
       "      <th>MinorAxisLength</th>\n",
       "      <th>Eccentricity</th>\n",
       "      <th>ConvexArea</th>\n",
       "      <th>Extent</th>\n",
       "      <th>Perimeter</th>\n",
       "      <th>Class</th>\n",
       "    </tr>\n",
       "  </thead>\n",
       "  <tbody>\n",
       "    <tr>\n",
       "      <th>0</th>\n",
       "      <td>87524</td>\n",
       "      <td>442.246011</td>\n",
       "      <td>253.291155</td>\n",
       "      <td>0.819738</td>\n",
       "      <td>90546</td>\n",
       "      <td>0.758651</td>\n",
       "      <td>1184.040</td>\n",
       "      <td>Kecimen</td>\n",
       "    </tr>\n",
       "    <tr>\n",
       "      <th>1</th>\n",
       "      <td>75166</td>\n",
       "      <td>406.690687</td>\n",
       "      <td>243.032436</td>\n",
       "      <td>0.801805</td>\n",
       "      <td>78789</td>\n",
       "      <td>0.684130</td>\n",
       "      <td>1121.786</td>\n",
       "      <td>Kecimen</td>\n",
       "    </tr>\n",
       "    <tr>\n",
       "      <th>2</th>\n",
       "      <td>90856</td>\n",
       "      <td>442.267048</td>\n",
       "      <td>266.328318</td>\n",
       "      <td>0.798354</td>\n",
       "      <td>93717</td>\n",
       "      <td>0.637613</td>\n",
       "      <td>1208.575</td>\n",
       "      <td>Kecimen</td>\n",
       "    </tr>\n",
       "    <tr>\n",
       "      <th>3</th>\n",
       "      <td>45928</td>\n",
       "      <td>286.540559</td>\n",
       "      <td>208.760042</td>\n",
       "      <td>0.684989</td>\n",
       "      <td>47336</td>\n",
       "      <td>0.699599</td>\n",
       "      <td>844.162</td>\n",
       "      <td>Kecimen</td>\n",
       "    </tr>\n",
       "    <tr>\n",
       "      <th>4</th>\n",
       "      <td>79408</td>\n",
       "      <td>352.190770</td>\n",
       "      <td>290.827533</td>\n",
       "      <td>0.564011</td>\n",
       "      <td>81463</td>\n",
       "      <td>0.792772</td>\n",
       "      <td>1073.251</td>\n",
       "      <td>Kecimen</td>\n",
       "    </tr>\n",
       "  </tbody>\n",
       "</table>\n",
       "</div>"
      ],
      "text/plain": [
       "    Area  MajorAxisLength  MinorAxisLength  Eccentricity  ConvexArea  \\\n",
       "0  87524       442.246011       253.291155      0.819738       90546   \n",
       "1  75166       406.690687       243.032436      0.801805       78789   \n",
       "2  90856       442.267048       266.328318      0.798354       93717   \n",
       "3  45928       286.540559       208.760042      0.684989       47336   \n",
       "4  79408       352.190770       290.827533      0.564011       81463   \n",
       "\n",
       "     Extent  Perimeter    Class  \n",
       "0  0.758651   1184.040  Kecimen  \n",
       "1  0.684130   1121.786  Kecimen  \n",
       "2  0.637613   1208.575  Kecimen  \n",
       "3  0.699599    844.162  Kecimen  \n",
       "4  0.792772   1073.251  Kecimen  "
      ]
     },
     "execution_count": 110,
     "metadata": {},
     "output_type": "execute_result"
    }
   ],
   "source": [
    "df = pd.read_excel('Raisin_Dataset.xlsx')\n",
    "df1=df.copy()\n",
    "df.head()"
   ]
  },
  {
   "cell_type": "markdown",
   "id": "ab14529b-fa6d-4594-9740-4423f7e8e5d2",
   "metadata": {
    "id": "ab14529b-fa6d-4594-9740-4423f7e8e5d2"
   },
   "source": [
    "## Train | Test Split and Scaling"
   ]
  },
  {
   "cell_type": "code",
   "execution_count": 111,
   "id": "1bca812a",
   "metadata": {},
   "outputs": [],
   "source": [
    "from sklearn.preprocessing import LabelEncoder, PolynomialFeatures\n",
    "le = LabelEncoder()\n",
    "df.Class = le.fit_transform(df.Class)"
   ]
  },
  {
   "cell_type": "code",
   "execution_count": 112,
   "id": "12d11989",
   "metadata": {},
   "outputs": [],
   "source": [
    "X = df.iloc[:,:-1]\n",
    "y = df.iloc[:,-1]"
   ]
  },
  {
   "cell_type": "code",
   "execution_count": 113,
   "id": "66ca3392",
   "metadata": {},
   "outputs": [],
   "source": [
    "pol_feature = PolynomialFeatures(degree=10)\n",
    "X = pol_feature.fit_transform(X)"
   ]
  },
  {
   "cell_type": "code",
   "execution_count": 114,
   "id": "9fc1346b",
   "metadata": {},
   "outputs": [],
   "source": [
    "X = pd.DataFrame(X)"
   ]
  },
  {
   "cell_type": "code",
   "execution_count": 115,
   "id": "f1d2d9d9",
   "metadata": {},
   "outputs": [
    {
     "name": "stdout",
     "output_type": "stream",
     "text": [
      "     0        1           2           3         4         5         6      \\\n",
      "0      1.0  87524.0  442.246011  253.291155  0.819738   90546.0  0.758651   \n",
      "1      1.0  75166.0  406.690687  243.032436  0.801805   78789.0  0.684130   \n",
      "2      1.0  90856.0  442.267048  266.328318  0.798354   93717.0  0.637613   \n",
      "3      1.0  45928.0  286.540559  208.760042  0.684989   47336.0  0.699599   \n",
      "4      1.0  79408.0  352.190770  290.827533  0.564011   81463.0  0.792772   \n",
      "..     ...      ...         ...         ...       ...       ...       ...   \n",
      "895    1.0  83248.0  430.077308  247.838695  0.817263   85839.0  0.668793   \n",
      "896    1.0  87350.0  440.735698  259.293149  0.808629   90899.0  0.636476   \n",
      "897    1.0  99657.0  431.706981  298.837323  0.721684  106264.0  0.741099   \n",
      "898    1.0  93523.0  476.344094  254.176054  0.845739   97653.0  0.658798   \n",
      "899    1.0  85609.0  512.081774  215.271976  0.907345   89197.0  0.632020   \n",
      "\n",
      "        7             8             9      ...       19438          19439  \\\n",
      "0    1184.040  7.660451e+09  3.870714e+07  ...   98.569492  153839.229963   \n",
      "1    1121.786  5.649928e+09  3.056931e+07  ...   36.826062   60384.702279   \n",
      "2    1208.575  8.254813e+09  4.018261e+07  ...   21.051688   39902.811195   \n",
      "3     844.162  2.109381e+09  1.316023e+07  ...   33.889922   40892.809483   \n",
      "4    1073.251  6.305630e+09  2.796676e+07  ...  132.750346  179716.810388   \n",
      "..        ...           ...           ...  ...         ...            ...   \n",
      "895  1129.072  6.930230e+09  3.580308e+07  ...   30.223635   51024.253792   \n",
      "896  1214.252  7.630022e+09  3.849826e+07  ...   20.813668   39707.747766   \n",
      "897  1292.828  9.931518e+09  4.302262e+07  ...   87.181484  152085.938456   \n",
      "898  1258.548  8.746552e+09  4.454913e+07  ...   29.419937   56202.945706   \n",
      "899  1272.862  7.328901e+09  4.383881e+07  ...   20.481346   41248.580878   \n",
      "\n",
      "            19440         19441         19442         19443         19444  \\\n",
      "0    2.400997e+08  3.747281e+11  5.848451e+14  9.127785e+17  1.424590e+21   \n",
      "1    9.901445e+07  1.623567e+11  2.662207e+14  4.365294e+17  7.157893e+20   \n",
      "2    7.563452e+07  1.433629e+11  2.717398e+14  5.150742e+17  9.763069e+20   \n",
      "3    4.934275e+07  5.953875e+10  7.184162e+13  8.668670e+16  1.045993e+20   \n",
      "4    2.432998e+08  3.293781e+11  4.459106e+14  6.036718e+17  8.172481e+20   \n",
      "..            ...           ...           ...           ...           ...   \n",
      "895  8.614035e+07  1.454242e+11  2.455085e+14  4.144733e+17  6.997235e+20   \n",
      "896  7.575336e+07  1.445202e+11  2.757117e+14  5.259952e+17  1.003479e+21   \n",
      "897  2.653102e+08  4.628270e+11  8.073902e+14  1.408472e+18  2.457045e+21   \n",
      "898  1.073684e+08  2.051133e+11  3.918421e+14  7.485632e+17  1.430032e+21   \n",
      "899  8.307293e+07  1.673054e+11  3.369462e+14  6.785957e+17  1.366664e+21   \n",
      "\n",
      "            19445         19446         19447  \n",
      "0    2.223385e+24  3.470077e+27  5.415814e+30  \n",
      "1    1.173699e+24  1.924547e+27  3.155732e+30  \n",
      "2    1.850559e+24  3.507676e+27  6.648690e+30  \n",
      "3    1.262133e+23  1.522936e+26  1.837630e+29  \n",
      "4    1.106387e+24  1.497821e+27  2.027744e+30  \n",
      "..            ...           ...           ...  \n",
      "895  1.181290e+24  1.994281e+27  3.366793e+30  \n",
      "896  1.914410e+24  3.652260e+27  6.967681e+30  \n",
      "897  4.286254e+24  7.477264e+27  1.304390e+31  \n",
      "898  2.731890e+24  5.218918e+27  9.970062e+30  \n",
      "899  2.752404e+24  5.543227e+27  1.116383e+31  \n",
      "\n",
      "[900 rows x 19448 columns]\n"
     ]
    }
   ],
   "source": [
    "print(X)"
   ]
  },
  {
   "cell_type": "code",
   "execution_count": 116,
   "id": "dd3e1f42",
   "metadata": {},
   "outputs": [
    {
     "name": "stdout",
     "output_type": "stream",
     "text": [
      "0      1\n",
      "1      1\n",
      "2      1\n",
      "3      1\n",
      "4      1\n",
      "      ..\n",
      "895    0\n",
      "896    0\n",
      "897    0\n",
      "898    0\n",
      "899    0\n",
      "Name: Class, Length: 900, dtype: int32\n"
     ]
    }
   ],
   "source": [
    "print(y)"
   ]
  },
  {
   "cell_type": "code",
   "execution_count": 117,
   "id": "cd3070c8",
   "metadata": {},
   "outputs": [],
   "source": [
    "from sklearn.model_selection import train_test_split\n",
    "X_train, X_test, y_train, y_test = train_test_split(X, y, test_size=0.2, random_state=0)\n"
   ]
  },
  {
   "cell_type": "markdown",
   "id": "4e3dcb9c",
   "metadata": {
    "id": "4e3dcb9c"
   },
   "source": [
    "# Logistic Regression"
   ]
  },
  {
   "cell_type": "code",
   "execution_count": 118,
   "id": "2ea4a85d",
   "metadata": {},
   "outputs": [],
   "source": [
    "from sklearn.preprocessing import StandardScaler\n",
    "scaler = StandardScaler()"
   ]
  },
  {
   "cell_type": "code",
   "execution_count": 119,
   "id": "d57b8506",
   "metadata": {},
   "outputs": [],
   "source": [
    "X_train_scaled = scaler.fit_transform(X_train)\n",
    "X_test_scaled = scaler.transform(X_test)"
   ]
  },
  {
   "cell_type": "code",
   "execution_count": 120,
   "id": "31124f68",
   "metadata": {},
   "outputs": [],
   "source": [
    "from sklearn.linear_model import LogisticRegression\n",
    "classifier = LogisticRegression()"
   ]
  },
  {
   "cell_type": "code",
   "execution_count": 121,
   "id": "8db49c6f",
   "metadata": {},
   "outputs": [
    {
     "data": {
      "text/plain": [
       "LogisticRegression()"
      ]
     },
     "execution_count": 121,
     "metadata": {},
     "output_type": "execute_result"
    }
   ],
   "source": [
    "classifier.fit(X_train_scaled,y_train)"
   ]
  },
  {
   "cell_type": "code",
   "execution_count": 122,
   "id": "9605d504",
   "metadata": {},
   "outputs": [],
   "source": [
    "y_pred = classifier.predict(X_test_scaled)"
   ]
  },
  {
   "cell_type": "code",
   "execution_count": 123,
   "id": "2016a7d2",
   "metadata": {},
   "outputs": [],
   "source": [
    "y_pred_proba = classifier.predict_proba(X_test_scaled)"
   ]
  },
  {
   "cell_type": "code",
   "execution_count": 124,
   "id": "92be0510",
   "metadata": {},
   "outputs": [
    {
     "data": {
      "text/html": [
       "<div>\n",
       "<style scoped>\n",
       "    .dataframe tbody tr th:only-of-type {\n",
       "        vertical-align: middle;\n",
       "    }\n",
       "\n",
       "    .dataframe tbody tr th {\n",
       "        vertical-align: top;\n",
       "    }\n",
       "\n",
       "    .dataframe thead th {\n",
       "        text-align: right;\n",
       "    }\n",
       "</style>\n",
       "<table border=\"1\" class=\"dataframe\">\n",
       "  <thead>\n",
       "    <tr style=\"text-align: right;\">\n",
       "      <th></th>\n",
       "      <th>0</th>\n",
       "      <th>1</th>\n",
       "      <th>2</th>\n",
       "      <th>3</th>\n",
       "      <th>4</th>\n",
       "      <th>5</th>\n",
       "      <th>6</th>\n",
       "      <th>7</th>\n",
       "      <th>8</th>\n",
       "      <th>9</th>\n",
       "      <th>...</th>\n",
       "      <th>19441</th>\n",
       "      <th>19442</th>\n",
       "      <th>19443</th>\n",
       "      <th>19444</th>\n",
       "      <th>19445</th>\n",
       "      <th>19446</th>\n",
       "      <th>19447</th>\n",
       "      <th>Class</th>\n",
       "      <th>pred</th>\n",
       "      <th>pred_proba</th>\n",
       "    </tr>\n",
       "  </thead>\n",
       "  <tbody>\n",
       "    <tr>\n",
       "      <th>492</th>\n",
       "      <td>1.0</td>\n",
       "      <td>100443.0</td>\n",
       "      <td>457.569872</td>\n",
       "      <td>283.611280</td>\n",
       "      <td>0.784743</td>\n",
       "      <td>104186.0</td>\n",
       "      <td>0.673789</td>\n",
       "      <td>1269.066</td>\n",
       "      <td>1.008880e+10</td>\n",
       "      <td>4.595969e+07</td>\n",
       "      <td>...</td>\n",
       "      <td>2.427048e+11</td>\n",
       "      <td>4.571293e+14</td>\n",
       "      <td>8.609930e+17</td>\n",
       "      <td>1.621662e+21</td>\n",
       "      <td>3.054365e+24</td>\n",
       "      <td>5.752829e+27</td>\n",
       "      <td>1.083533e+31</td>\n",
       "      <td>0</td>\n",
       "      <td>0</td>\n",
       "      <td>0.142639</td>\n",
       "    </tr>\n",
       "    <tr>\n",
       "      <th>141</th>\n",
       "      <td>1.0</td>\n",
       "      <td>53698.0</td>\n",
       "      <td>348.223231</td>\n",
       "      <td>197.752897</td>\n",
       "      <td>0.823104</td>\n",
       "      <td>56089.0</td>\n",
       "      <td>0.731341</td>\n",
       "      <td>938.705</td>\n",
       "      <td>2.883475e+09</td>\n",
       "      <td>1.869889e+07</td>\n",
       "      <td>...</td>\n",
       "      <td>1.188056e+11</td>\n",
       "      <td>1.524916e+14</td>\n",
       "      <td>1.957290e+17</td>\n",
       "      <td>2.512257e+20</td>\n",
       "      <td>3.224580e+23</td>\n",
       "      <td>4.138874e+26</td>\n",
       "      <td>5.312407e+29</td>\n",
       "      <td>1</td>\n",
       "      <td>1</td>\n",
       "      <td>0.869117</td>\n",
       "    </tr>\n",
       "    <tr>\n",
       "      <th>409</th>\n",
       "      <td>1.0</td>\n",
       "      <td>104921.0</td>\n",
       "      <td>452.863013</td>\n",
       "      <td>297.024187</td>\n",
       "      <td>0.754864</td>\n",
       "      <td>108211.0</td>\n",
       "      <td>0.726298</td>\n",
       "      <td>1254.861</td>\n",
       "      <td>1.100842e+10</td>\n",
       "      <td>4.751484e+07</td>\n",
       "      <td>...</td>\n",
       "      <td>3.639748e+11</td>\n",
       "      <td>6.288574e+14</td>\n",
       "      <td>1.086508e+18</td>\n",
       "      <td>1.877214e+21</td>\n",
       "      <td>3.243356e+24</td>\n",
       "      <td>5.603707e+27</td>\n",
       "      <td>9.681803e+30</td>\n",
       "      <td>1</td>\n",
       "      <td>0</td>\n",
       "      <td>0.194653</td>\n",
       "    </tr>\n",
       "    <tr>\n",
       "      <th>31</th>\n",
       "      <td>1.0</td>\n",
       "      <td>41809.0</td>\n",
       "      <td>307.532739</td>\n",
       "      <td>175.085568</td>\n",
       "      <td>0.822114</td>\n",
       "      <td>43838.0</td>\n",
       "      <td>0.697444</td>\n",
       "      <td>828.697</td>\n",
       "      <td>1.747992e+09</td>\n",
       "      <td>1.285764e+07</td>\n",
       "      <td>...</td>\n",
       "      <td>5.428008e+10</td>\n",
       "      <td>6.449510e+13</td>\n",
       "      <td>7.663248e+16</td>\n",
       "      <td>9.105401e+19</td>\n",
       "      <td>1.081895e+23</td>\n",
       "      <td>1.285498e+26</td>\n",
       "      <td>1.527417e+29</td>\n",
       "      <td>1</td>\n",
       "      <td>1</td>\n",
       "      <td>0.919819</td>\n",
       "    </tr>\n",
       "    <tr>\n",
       "      <th>570</th>\n",
       "      <td>1.0</td>\n",
       "      <td>101223.0</td>\n",
       "      <td>496.533461</td>\n",
       "      <td>276.866203</td>\n",
       "      <td>0.830111</td>\n",
       "      <td>109593.0</td>\n",
       "      <td>0.713612</td>\n",
       "      <td>1345.426</td>\n",
       "      <td>1.024610e+10</td>\n",
       "      <td>5.026061e+07</td>\n",
       "      <td>...</td>\n",
       "      <td>4.327249e+11</td>\n",
       "      <td>8.158487e+14</td>\n",
       "      <td>1.538181e+18</td>\n",
       "      <td>2.900047e+21</td>\n",
       "      <td>5.467676e+24</td>\n",
       "      <td>1.030862e+28</td>\n",
       "      <td>1.943561e+31</td>\n",
       "      <td>0</td>\n",
       "      <td>0</td>\n",
       "      <td>0.009254</td>\n",
       "    </tr>\n",
       "    <tr>\n",
       "      <th>593</th>\n",
       "      <td>1.0</td>\n",
       "      <td>124166.0</td>\n",
       "      <td>525.945357</td>\n",
       "      <td>304.156469</td>\n",
       "      <td>0.815821</td>\n",
       "      <td>126960.0</td>\n",
       "      <td>0.728999</td>\n",
       "      <td>1388.684</td>\n",
       "      <td>1.541720e+10</td>\n",
       "      <td>6.530453e+07</td>\n",
       "      <td>...</td>\n",
       "      <td>5.581807e+11</td>\n",
       "      <td>1.063289e+15</td>\n",
       "      <td>2.025480e+18</td>\n",
       "      <td>3.858376e+21</td>\n",
       "      <td>7.349895e+24</td>\n",
       "      <td>1.400096e+28</td>\n",
       "      <td>2.667069e+31</td>\n",
       "      <td>0</td>\n",
       "      <td>0</td>\n",
       "      <td>0.013012</td>\n",
       "    </tr>\n",
       "    <tr>\n",
       "      <th>873</th>\n",
       "      <td>1.0</td>\n",
       "      <td>97494.0</td>\n",
       "      <td>451.782766</td>\n",
       "      <td>278.280008</td>\n",
       "      <td>0.787778</td>\n",
       "      <td>101878.0</td>\n",
       "      <td>0.689696</td>\n",
       "      <td>1254.755</td>\n",
       "      <td>9.505080e+09</td>\n",
       "      <td>4.404611e+07</td>\n",
       "      <td>...</td>\n",
       "      <td>2.667969e+11</td>\n",
       "      <td>4.853803e+14</td>\n",
       "      <td>8.830465e+17</td>\n",
       "      <td>1.606516e+21</td>\n",
       "      <td>2.922715e+24</td>\n",
       "      <td>5.317260e+27</td>\n",
       "      <td>9.673627e+30</td>\n",
       "      <td>0</td>\n",
       "      <td>0</td>\n",
       "      <td>0.154504</td>\n",
       "    </tr>\n",
       "    <tr>\n",
       "      <th>399</th>\n",
       "      <td>1.0</td>\n",
       "      <td>67852.0</td>\n",
       "      <td>353.124253</td>\n",
       "      <td>247.335231</td>\n",
       "      <td>0.713731</td>\n",
       "      <td>69587.0</td>\n",
       "      <td>0.729513</td>\n",
       "      <td>983.385</td>\n",
       "      <td>4.603894e+09</td>\n",
       "      <td>2.396019e+07</td>\n",
       "      <td>...</td>\n",
       "      <td>1.409589e+11</td>\n",
       "      <td>1.900128e+14</td>\n",
       "      <td>2.561377e+17</td>\n",
       "      <td>3.452742e+20</td>\n",
       "      <td>4.654303e+23</td>\n",
       "      <td>6.274010e+26</td>\n",
       "      <td>8.457379e+29</td>\n",
       "      <td>1</td>\n",
       "      <td>1</td>\n",
       "      <td>0.963695</td>\n",
       "    </tr>\n",
       "    <tr>\n",
       "      <th>406</th>\n",
       "      <td>1.0</td>\n",
       "      <td>66063.0</td>\n",
       "      <td>354.097525</td>\n",
       "      <td>238.510253</td>\n",
       "      <td>0.739121</td>\n",
       "      <td>67503.0</td>\n",
       "      <td>0.762676</td>\n",
       "      <td>971.938</td>\n",
       "      <td>4.364320e+09</td>\n",
       "      <td>2.339274e+07</td>\n",
       "      <td>...</td>\n",
       "      <td>1.756285e+11</td>\n",
       "      <td>2.238172e+14</td>\n",
       "      <td>2.852278e+17</td>\n",
       "      <td>3.634882e+20</td>\n",
       "      <td>4.632215e+23</td>\n",
       "      <td>5.903196e+26</td>\n",
       "      <td>7.522906e+29</td>\n",
       "      <td>1</td>\n",
       "      <td>1</td>\n",
       "      <td>0.973415</td>\n",
       "    </tr>\n",
       "    <tr>\n",
       "      <th>272</th>\n",
       "      <td>1.0</td>\n",
       "      <td>90178.0</td>\n",
       "      <td>466.249387</td>\n",
       "      <td>250.104302</td>\n",
       "      <td>0.843953</td>\n",
       "      <td>92321.0</td>\n",
       "      <td>0.752003</td>\n",
       "      <td>1180.478</td>\n",
       "      <td>8.132072e+09</td>\n",
       "      <td>4.204544e+07</td>\n",
       "      <td>...</td>\n",
       "      <td>3.511969e+11</td>\n",
       "      <td>5.513009e+14</td>\n",
       "      <td>8.654197e+17</td>\n",
       "      <td>1.358516e+21</td>\n",
       "      <td>2.132568e+24</td>\n",
       "      <td>3.347657e+27</td>\n",
       "      <td>5.255076e+30</td>\n",
       "      <td>1</td>\n",
       "      <td>0</td>\n",
       "      <td>0.385627</td>\n",
       "    </tr>\n",
       "  </tbody>\n",
       "</table>\n",
       "<p>10 rows × 19451 columns</p>\n",
       "</div>"
      ],
      "text/plain": [
       "       0         1           2           3         4         5         6  \\\n",
       "492  1.0  100443.0  457.569872  283.611280  0.784743  104186.0  0.673789   \n",
       "141  1.0   53698.0  348.223231  197.752897  0.823104   56089.0  0.731341   \n",
       "409  1.0  104921.0  452.863013  297.024187  0.754864  108211.0  0.726298   \n",
       "31   1.0   41809.0  307.532739  175.085568  0.822114   43838.0  0.697444   \n",
       "570  1.0  101223.0  496.533461  276.866203  0.830111  109593.0  0.713612   \n",
       "593  1.0  124166.0  525.945357  304.156469  0.815821  126960.0  0.728999   \n",
       "873  1.0   97494.0  451.782766  278.280008  0.787778  101878.0  0.689696   \n",
       "399  1.0   67852.0  353.124253  247.335231  0.713731   69587.0  0.729513   \n",
       "406  1.0   66063.0  354.097525  238.510253  0.739121   67503.0  0.762676   \n",
       "272  1.0   90178.0  466.249387  250.104302  0.843953   92321.0  0.752003   \n",
       "\n",
       "            7             8             9  ...         19441         19442  \\\n",
       "492  1269.066  1.008880e+10  4.595969e+07  ...  2.427048e+11  4.571293e+14   \n",
       "141   938.705  2.883475e+09  1.869889e+07  ...  1.188056e+11  1.524916e+14   \n",
       "409  1254.861  1.100842e+10  4.751484e+07  ...  3.639748e+11  6.288574e+14   \n",
       "31    828.697  1.747992e+09  1.285764e+07  ...  5.428008e+10  6.449510e+13   \n",
       "570  1345.426  1.024610e+10  5.026061e+07  ...  4.327249e+11  8.158487e+14   \n",
       "593  1388.684  1.541720e+10  6.530453e+07  ...  5.581807e+11  1.063289e+15   \n",
       "873  1254.755  9.505080e+09  4.404611e+07  ...  2.667969e+11  4.853803e+14   \n",
       "399   983.385  4.603894e+09  2.396019e+07  ...  1.409589e+11  1.900128e+14   \n",
       "406   971.938  4.364320e+09  2.339274e+07  ...  1.756285e+11  2.238172e+14   \n",
       "272  1180.478  8.132072e+09  4.204544e+07  ...  3.511969e+11  5.513009e+14   \n",
       "\n",
       "            19443         19444         19445         19446         19447  \\\n",
       "492  8.609930e+17  1.621662e+21  3.054365e+24  5.752829e+27  1.083533e+31   \n",
       "141  1.957290e+17  2.512257e+20  3.224580e+23  4.138874e+26  5.312407e+29   \n",
       "409  1.086508e+18  1.877214e+21  3.243356e+24  5.603707e+27  9.681803e+30   \n",
       "31   7.663248e+16  9.105401e+19  1.081895e+23  1.285498e+26  1.527417e+29   \n",
       "570  1.538181e+18  2.900047e+21  5.467676e+24  1.030862e+28  1.943561e+31   \n",
       "593  2.025480e+18  3.858376e+21  7.349895e+24  1.400096e+28  2.667069e+31   \n",
       "873  8.830465e+17  1.606516e+21  2.922715e+24  5.317260e+27  9.673627e+30   \n",
       "399  2.561377e+17  3.452742e+20  4.654303e+23  6.274010e+26  8.457379e+29   \n",
       "406  2.852278e+17  3.634882e+20  4.632215e+23  5.903196e+26  7.522906e+29   \n",
       "272  8.654197e+17  1.358516e+21  2.132568e+24  3.347657e+27  5.255076e+30   \n",
       "\n",
       "     Class  pred  pred_proba  \n",
       "492      0     0    0.142639  \n",
       "141      1     1    0.869117  \n",
       "409      1     0    0.194653  \n",
       "31       1     1    0.919819  \n",
       "570      0     0    0.009254  \n",
       "593      0     0    0.013012  \n",
       "873      0     0    0.154504  \n",
       "399      1     1    0.963695  \n",
       "406      1     1    0.973415  \n",
       "272      1     0    0.385627  \n",
       "\n",
       "[10 rows x 19451 columns]"
      ]
     },
     "execution_count": 124,
     "metadata": {},
     "output_type": "execute_result"
    }
   ],
   "source": [
    "test_data = pd.concat([X_test, y_test], axis=1)\n",
    "test_data[\"pred\"] = y_pred\n",
    "test_data[\"pred_proba\"] = y_pred_proba[:,1]#1 olma olasılığı\n",
    "test_data.head(10)"
   ]
  },
  {
   "cell_type": "markdown",
   "id": "61461cd3",
   "metadata": {
    "id": "61461cd3"
   },
   "source": [
    "## Model Performance"
   ]
  },
  {
   "cell_type": "code",
   "execution_count": 125,
   "id": "45e1cfed",
   "metadata": {},
   "outputs": [],
   "source": [
    "from sklearn.metrics import confusion_matrix, classification_report"
   ]
  },
  {
   "cell_type": "code",
   "execution_count": 126,
   "id": "5a430dab",
   "metadata": {},
   "outputs": [],
   "source": [
    "def eval_metric(model, X_train, y_train, X_test, y_test):\n",
    "    y_train_pred = model.predict(X_train)\n",
    "    y_pred = model.predict(X_test)\n",
    "    \n",
    "    print(\"Test_Set\")\n",
    "    print(confusion_matrix(y_test, y_pred))\n",
    "    print(classification_report(y_test, y_pred))\n",
    "    print()\n",
    "    print(\"Train_Set\")\n",
    "    print(confusion_matrix(y_train, y_train_pred))\n",
    "    print(classification_report(y_train, y_train_pred))"
   ]
  },
  {
   "cell_type": "code",
   "execution_count": 127,
   "id": "71810aac",
   "metadata": {},
   "outputs": [
    {
     "name": "stdout",
     "output_type": "stream",
     "text": [
      "Test_Set\n",
      "[[86 11]\n",
      " [ 6 77]]\n",
      "              precision    recall  f1-score   support\n",
      "\n",
      "           0       0.93      0.89      0.91        97\n",
      "           1       0.88      0.93      0.90        83\n",
      "\n",
      "    accuracy                           0.91       180\n",
      "   macro avg       0.90      0.91      0.91       180\n",
      "weighted avg       0.91      0.91      0.91       180\n",
      "\n",
      "\n",
      "Train_Set\n",
      "[[296  57]\n",
      " [ 36 331]]\n",
      "              precision    recall  f1-score   support\n",
      "\n",
      "           0       0.89      0.84      0.86       353\n",
      "           1       0.85      0.90      0.88       367\n",
      "\n",
      "    accuracy                           0.87       720\n",
      "   macro avg       0.87      0.87      0.87       720\n",
      "weighted avg       0.87      0.87      0.87       720\n",
      "\n"
     ]
    }
   ],
   "source": [
    "eval_metric(classifier, X_train_scaled, y_train, X_test_scaled, y_test)"
   ]
  },
  {
   "cell_type": "markdown",
   "id": "e101279a",
   "metadata": {
    "id": "e101279a"
   },
   "source": [
    "### Cross Validate"
   ]
  },
  {
   "cell_type": "code",
   "execution_count": 128,
   "id": "a5aa0daa",
   "metadata": {},
   "outputs": [],
   "source": [
    "from sklearn.model_selection import cross_validate"
   ]
  },
  {
   "cell_type": "code",
   "execution_count": 129,
   "id": "f8515a6c",
   "metadata": {},
   "outputs": [
    {
     "data": {
      "text/html": [
       "<div>\n",
       "<style scoped>\n",
       "    .dataframe tbody tr th:only-of-type {\n",
       "        vertical-align: middle;\n",
       "    }\n",
       "\n",
       "    .dataframe tbody tr th {\n",
       "        vertical-align: top;\n",
       "    }\n",
       "\n",
       "    .dataframe thead th {\n",
       "        text-align: right;\n",
       "    }\n",
       "</style>\n",
       "<table border=\"1\" class=\"dataframe\">\n",
       "  <thead>\n",
       "    <tr style=\"text-align: right;\">\n",
       "      <th></th>\n",
       "      <th>fit_time</th>\n",
       "      <th>score_time</th>\n",
       "      <th>test_precision</th>\n",
       "      <th>test_recall</th>\n",
       "      <th>test_f1</th>\n",
       "      <th>test_accuracy</th>\n",
       "    </tr>\n",
       "  </thead>\n",
       "  <tbody>\n",
       "    <tr>\n",
       "      <th>1</th>\n",
       "      <td>3.327950</td>\n",
       "      <td>0.019985</td>\n",
       "      <td>0.702128</td>\n",
       "      <td>0.891892</td>\n",
       "      <td>0.785714</td>\n",
       "      <td>0.750000</td>\n",
       "    </tr>\n",
       "    <tr>\n",
       "      <th>2</th>\n",
       "      <td>3.109088</td>\n",
       "      <td>0.012991</td>\n",
       "      <td>0.783784</td>\n",
       "      <td>0.783784</td>\n",
       "      <td>0.783784</td>\n",
       "      <td>0.777778</td>\n",
       "    </tr>\n",
       "    <tr>\n",
       "      <th>3</th>\n",
       "      <td>6.157512</td>\n",
       "      <td>0.011992</td>\n",
       "      <td>0.902439</td>\n",
       "      <td>1.000000</td>\n",
       "      <td>0.948718</td>\n",
       "      <td>0.944444</td>\n",
       "    </tr>\n",
       "    <tr>\n",
       "      <th>4</th>\n",
       "      <td>3.762591</td>\n",
       "      <td>0.013991</td>\n",
       "      <td>0.767442</td>\n",
       "      <td>0.891892</td>\n",
       "      <td>0.825000</td>\n",
       "      <td>0.805556</td>\n",
       "    </tr>\n",
       "    <tr>\n",
       "      <th>5</th>\n",
       "      <td>3.000653</td>\n",
       "      <td>0.058963</td>\n",
       "      <td>0.857143</td>\n",
       "      <td>0.972973</td>\n",
       "      <td>0.911392</td>\n",
       "      <td>0.902778</td>\n",
       "    </tr>\n",
       "    <tr>\n",
       "      <th>6</th>\n",
       "      <td>4.813678</td>\n",
       "      <td>0.012990</td>\n",
       "      <td>0.921053</td>\n",
       "      <td>0.945946</td>\n",
       "      <td>0.933333</td>\n",
       "      <td>0.930556</td>\n",
       "    </tr>\n",
       "    <tr>\n",
       "      <th>7</th>\n",
       "      <td>7.068923</td>\n",
       "      <td>0.086947</td>\n",
       "      <td>0.900000</td>\n",
       "      <td>0.729730</td>\n",
       "      <td>0.805970</td>\n",
       "      <td>0.819444</td>\n",
       "    </tr>\n",
       "    <tr>\n",
       "      <th>8</th>\n",
       "      <td>5.471519</td>\n",
       "      <td>0.013987</td>\n",
       "      <td>0.846154</td>\n",
       "      <td>0.916667</td>\n",
       "      <td>0.880000</td>\n",
       "      <td>0.875000</td>\n",
       "    </tr>\n",
       "    <tr>\n",
       "      <th>9</th>\n",
       "      <td>4.317730</td>\n",
       "      <td>0.015990</td>\n",
       "      <td>0.767442</td>\n",
       "      <td>0.916667</td>\n",
       "      <td>0.835443</td>\n",
       "      <td>0.819444</td>\n",
       "    </tr>\n",
       "    <tr>\n",
       "      <th>10</th>\n",
       "      <td>5.263757</td>\n",
       "      <td>0.018989</td>\n",
       "      <td>0.945946</td>\n",
       "      <td>0.972222</td>\n",
       "      <td>0.958904</td>\n",
       "      <td>0.958333</td>\n",
       "    </tr>\n",
       "  </tbody>\n",
       "</table>\n",
       "</div>"
      ],
      "text/plain": [
       "    fit_time  score_time  test_precision  test_recall   test_f1  test_accuracy\n",
       "1   3.327950    0.019985        0.702128     0.891892  0.785714       0.750000\n",
       "2   3.109088    0.012991        0.783784     0.783784  0.783784       0.777778\n",
       "3   6.157512    0.011992        0.902439     1.000000  0.948718       0.944444\n",
       "4   3.762591    0.013991        0.767442     0.891892  0.825000       0.805556\n",
       "5   3.000653    0.058963        0.857143     0.972973  0.911392       0.902778\n",
       "6   4.813678    0.012990        0.921053     0.945946  0.933333       0.930556\n",
       "7   7.068923    0.086947        0.900000     0.729730  0.805970       0.819444\n",
       "8   5.471519    0.013987        0.846154     0.916667  0.880000       0.875000\n",
       "9   4.317730    0.015990        0.767442     0.916667  0.835443       0.819444\n",
       "10  5.263757    0.018989        0.945946     0.972222  0.958904       0.958333"
      ]
     },
     "execution_count": 129,
     "metadata": {},
     "output_type": "execute_result"
    }
   ],
   "source": [
    "model = LogisticRegression()\n",
    "\n",
    "scores = cross_validate(model, X_train_scaled, y_train, scoring = ['precision','recall','f1','accuracy'], cv = 10)\n",
    "df_scores = pd.DataFrame(scores, index = range(1, 11))\n",
    "df_scores"
   ]
  },
  {
   "cell_type": "code",
   "execution_count": 130,
   "id": "0ad3075c",
   "metadata": {},
   "outputs": [
    {
     "data": {
      "text/plain": [
       "test_precision    0.839353\n",
       "test_recall       0.902177\n",
       "test_f1           0.866826\n",
       "test_accuracy     0.858333\n",
       "dtype: float64"
      ]
     },
     "execution_count": 130,
     "metadata": {},
     "output_type": "execute_result"
    }
   ],
   "source": [
    "df_scores.mean()[2:]"
   ]
  },
  {
   "cell_type": "markdown",
   "id": "fd39b4ec",
   "metadata": {
    "id": "fd39b4ec"
   },
   "source": [
    "### GridSearchCV"
   ]
  },
  {
   "cell_type": "code",
   "execution_count": 131,
   "id": "f1cbcd97",
   "metadata": {},
   "outputs": [],
   "source": [
    "from sklearn.linear_model import LogisticRegression\n",
    "grid_model = LogisticRegression(C = 0.1, class_weight = None, penalty = 'l2', solver = 'liblinear')"
   ]
  },
  {
   "cell_type": "code",
   "execution_count": 132,
   "id": "d12f7c11",
   "metadata": {},
   "outputs": [
    {
     "data": {
      "text/plain": [
       "LogisticRegression(C=0.1, solver='liblinear')"
      ]
     },
     "execution_count": 132,
     "metadata": {},
     "output_type": "execute_result"
    }
   ],
   "source": [
    "grid_model.fit(X_train_scaled,y_train)"
   ]
  },
  {
   "cell_type": "code",
   "execution_count": 133,
   "id": "9b578927",
   "metadata": {},
   "outputs": [
    {
     "name": "stdout",
     "output_type": "stream",
     "text": [
      "Test_Set\n",
      "[[87 10]\n",
      " [ 5 78]]\n",
      "              precision    recall  f1-score   support\n",
      "\n",
      "           0       0.95      0.90      0.92        97\n",
      "           1       0.89      0.94      0.91        83\n",
      "\n",
      "    accuracy                           0.92       180\n",
      "   macro avg       0.92      0.92      0.92       180\n",
      "weighted avg       0.92      0.92      0.92       180\n",
      "\n",
      "\n",
      "Train_Set\n",
      "[[292  61]\n",
      " [ 37 330]]\n",
      "              precision    recall  f1-score   support\n",
      "\n",
      "           0       0.89      0.83      0.86       353\n",
      "           1       0.84      0.90      0.87       367\n",
      "\n",
      "    accuracy                           0.86       720\n",
      "   macro avg       0.87      0.86      0.86       720\n",
      "weighted avg       0.87      0.86      0.86       720\n",
      "\n"
     ]
    }
   ],
   "source": [
    "eval_metric(grid_model, X_train_scaled, y_train, X_test_scaled, y_test)"
   ]
  },
  {
   "cell_type": "code",
   "execution_count": null,
   "id": "8974f522",
   "metadata": {},
   "outputs": [],
   "source": []
  },
  {
   "cell_type": "markdown",
   "id": "9dc6e45b",
   "metadata": {
    "id": "9dc6e45b"
   },
   "source": [
    "## ROC (Receiver Operating Curve) and AUC (Area Under Curve)"
   ]
  },
  {
   "cell_type": "code",
   "execution_count": 134,
   "id": "41c4a402",
   "metadata": {},
   "outputs": [],
   "source": [
    "from sklearn.metrics import plot_roc_curve, plot_precision_recall_curve, roc_auc_score, auc, roc_curve, average_precision_score, precision_recall_curve"
   ]
  },
  {
   "cell_type": "code",
   "execution_count": 135,
   "id": "da2fbacb",
   "metadata": {},
   "outputs": [
    {
     "data": {
      "image/png": "[encoded data removed]",
      "text/plain": [
       "<Figure size 1000x600 with 1 Axes>"
      ]
     },
     "metadata": {},
     "output_type": "display_data"
    }
   ],
   "source": [
    "plot_roc_curve(grid_model, X_test_scaled, y_test);\n",
    "plt.show()"
   ]
  },
  {
   "cell_type": "code",
   "execution_count": 136,
   "id": "251a9714",
   "metadata": {},
   "outputs": [
    {
     "name": "stdout",
     "output_type": "stream",
     "text": [
      "Test_Set\n",
      "[[87 10]\n",
      " [ 5 78]]\n",
      "              precision    recall  f1-score   support\n",
      "\n",
      "           0       0.95      0.90      0.92        97\n",
      "           1       0.89      0.94      0.91        83\n",
      "\n",
      "    accuracy                           0.92       180\n",
      "   macro avg       0.92      0.92      0.92       180\n",
      "weighted avg       0.92      0.92      0.92       180\n",
      "\n",
      "\n",
      "Train_Set\n",
      "[[292  61]\n",
      " [ 37 330]]\n",
      "              precision    recall  f1-score   support\n",
      "\n",
      "           0       0.89      0.83      0.86       353\n",
      "           1       0.84      0.90      0.87       367\n",
      "\n",
      "    accuracy                           0.86       720\n",
      "   macro avg       0.87      0.86      0.86       720\n",
      "weighted avg       0.87      0.86      0.86       720\n",
      "\n"
     ]
    }
   ],
   "source": [
    "eval_metric(grid_model, X_train_scaled, y_train, X_test_scaled, y_test)"
   ]
  },
  {
   "cell_type": "code",
   "execution_count": 137,
   "id": "6ea4b6d6",
   "metadata": {},
   "outputs": [
    {
     "data": {
      "image/png": "[encoded data removed]",
      "text/plain": [
       "<Figure size 1000x600 with 1 Axes>"
      ]
     },
     "metadata": {},
     "output_type": "display_data"
    }
   ],
   "source": [
    "plot_precision_recall_curve(grid_model, X_test_scaled, y_test);\n",
    "plt.show()"
   ]
  },
  {
   "cell_type": "markdown",
   "id": "7b9726e7",
   "metadata": {},
   "source": [
    "## Finding Best Model "
   ]
  },
  {
   "cell_type": "code",
   "execution_count": 138,
   "id": "646d9328",
   "metadata": {},
   "outputs": [],
   "source": [
    "scaler = StandardScaler().fit(X)"
   ]
  },
  {
   "cell_type": "code",
   "execution_count": 139,
   "id": "0050fb6e",
   "metadata": {},
   "outputs": [],
   "source": [
    "import pickle\n",
    "pickle.dump(scaler, open(\"scaler_diabates\", 'wb'))"
   ]
  },
  {
   "cell_type": "code",
   "execution_count": 140,
   "id": "61de4cbf",
   "metadata": {},
   "outputs": [],
   "source": [
    "X_scaled = scaler.transform(X)"
   ]
  },
  {
   "cell_type": "code",
   "execution_count": 141,
   "id": "1f76d78c",
   "metadata": {},
   "outputs": [],
   "source": [
    "final_model = LogisticRegression(C=0.1, class_weight = None, penalty='l1', solver='liblinear').fit(X_scaled, y)"
   ]
  },
  {
   "cell_type": "code",
   "execution_count": 142,
   "id": "fc0a7b3b",
   "metadata": {},
   "outputs": [],
   "source": [
    "pickle.dump(final_model, open(\"final_model_diabates\", 'wb'))"
   ]
  },
  {
   "cell_type": "code",
   "execution_count": 143,
   "id": "95d9b88a",
   "metadata": {},
   "outputs": [
    {
     "data": {
      "text/html": [
       "<div>\n",
       "<style scoped>\n",
       "    .dataframe tbody tr th:only-of-type {\n",
       "        vertical-align: middle;\n",
       "    }\n",
       "\n",
       "    .dataframe tbody tr th {\n",
       "        vertical-align: top;\n",
       "    }\n",
       "\n",
       "    .dataframe thead th {\n",
       "        text-align: right;\n",
       "    }\n",
       "</style>\n",
       "<table border=\"1\" class=\"dataframe\">\n",
       "  <thead>\n",
       "    <tr style=\"text-align: right;\">\n",
       "      <th></th>\n",
       "      <th>count</th>\n",
       "      <th>mean</th>\n",
       "      <th>std</th>\n",
       "      <th>min</th>\n",
       "      <th>25%</th>\n",
       "      <th>50%</th>\n",
       "      <th>75%</th>\n",
       "      <th>max</th>\n",
       "    </tr>\n",
       "  </thead>\n",
       "  <tbody>\n",
       "    <tr>\n",
       "      <th>0</th>\n",
       "      <td>900.0</td>\n",
       "      <td>1.000000e+00</td>\n",
       "      <td>0.000000e+00</td>\n",
       "      <td>1.000000e+00</td>\n",
       "      <td>1.000000e+00</td>\n",
       "      <td>1.000000e+00</td>\n",
       "      <td>1.000000e+00</td>\n",
       "      <td>1.000000e+00</td>\n",
       "    </tr>\n",
       "    <tr>\n",
       "      <th>1</th>\n",
       "      <td>900.0</td>\n",
       "      <td>8.780413e+04</td>\n",
       "      <td>3.900211e+04</td>\n",
       "      <td>2.538700e+04</td>\n",
       "      <td>5.934800e+04</td>\n",
       "      <td>7.890200e+04</td>\n",
       "      <td>1.050282e+05</td>\n",
       "      <td>2.350470e+05</td>\n",
       "    </tr>\n",
       "    <tr>\n",
       "      <th>2</th>\n",
       "      <td>900.0</td>\n",
       "      <td>4.309300e+02</td>\n",
       "      <td>1.160351e+02</td>\n",
       "      <td>2.256295e+02</td>\n",
       "      <td>3.454429e+02</td>\n",
       "      <td>4.078040e+02</td>\n",
       "      <td>4.941870e+02</td>\n",
       "      <td>9.972919e+02</td>\n",
       "    </tr>\n",
       "    <tr>\n",
       "      <th>3</th>\n",
       "      <td>900.0</td>\n",
       "      <td>2.544881e+02</td>\n",
       "      <td>4.998890e+01</td>\n",
       "      <td>1.437109e+02</td>\n",
       "      <td>2.191111e+02</td>\n",
       "      <td>2.478484e+02</td>\n",
       "      <td>2.798886e+02</td>\n",
       "      <td>4.922753e+02</td>\n",
       "    </tr>\n",
       "    <tr>\n",
       "      <th>4</th>\n",
       "      <td>900.0</td>\n",
       "      <td>7.815422e-01</td>\n",
       "      <td>9.031841e-02</td>\n",
       "      <td>3.487296e-01</td>\n",
       "      <td>7.417663e-01</td>\n",
       "      <td>7.988460e-01</td>\n",
       "      <td>8.425710e-01</td>\n",
       "      <td>9.621244e-01</td>\n",
       "    </tr>\n",
       "    <tr>\n",
       "      <th>...</th>\n",
       "      <td>...</td>\n",
       "      <td>...</td>\n",
       "      <td>...</td>\n",
       "      <td>...</td>\n",
       "      <td>...</td>\n",
       "      <td>...</td>\n",
       "      <td>...</td>\n",
       "      <td>...</td>\n",
       "    </tr>\n",
       "    <tr>\n",
       "      <th>19443</th>\n",
       "      <td>900.0</td>\n",
       "      <td>1.276635e+18</td>\n",
       "      <td>2.291003e+18</td>\n",
       "      <td>1.190538e+16</td>\n",
       "      <td>1.903495e+17</td>\n",
       "      <td>4.515242e+17</td>\n",
       "      <td>1.159188e+18</td>\n",
       "      <td>2.554176e+19</td>\n",
       "    </tr>\n",
       "    <tr>\n",
       "      <th>19444</th>\n",
       "      <td>900.0</td>\n",
       "      <td>2.866261e+21</td>\n",
       "      <td>7.025541e+21</td>\n",
       "      <td>1.086835e+19</td>\n",
       "      <td>2.711575e+20</td>\n",
       "      <td>7.393049e+20</td>\n",
       "      <td>2.236134e+21</td>\n",
       "      <td>1.358137e+23</td>\n",
       "    </tr>\n",
       "    <tr>\n",
       "      <th>19445</th>\n",
       "      <td>900.0</td>\n",
       "      <td>7.135309e+24</td>\n",
       "      <td>2.879018e+25</td>\n",
       "      <td>9.921662e+21</td>\n",
       "      <td>3.680901e+23</td>\n",
       "      <td>1.186950e+24</td>\n",
       "      <td>4.150704e+24</td>\n",
       "      <td>7.221649e+26</td>\n",
       "    </tr>\n",
       "    <tr>\n",
       "      <th>19446</th>\n",
       "      <td>900.0</td>\n",
       "      <td>2.060806e+28</td>\n",
       "      <td>1.416800e+29</td>\n",
       "      <td>9.057431e+24</td>\n",
       "      <td>4.986534e+26</td>\n",
       "      <td>1.907190e+27</td>\n",
       "      <td>7.789865e+27</td>\n",
       "      <td>3.839981e+30</td>\n",
       "    </tr>\n",
       "    <tr>\n",
       "      <th>19447</th>\n",
       "      <td>900.0</td>\n",
       "      <td>7.142174e+31</td>\n",
       "      <td>7.404873e+32</td>\n",
       "      <td>8.268479e+27</td>\n",
       "      <td>7.105875e+29</td>\n",
       "      <td>3.092288e+30</td>\n",
       "      <td>1.470241e+31</td>\n",
       "      <td>2.041841e+34</td>\n",
       "    </tr>\n",
       "  </tbody>\n",
       "</table>\n",
       "<p>19448 rows × 8 columns</p>\n",
       "</div>"
      ],
      "text/plain": [
       "       count          mean           std           min           25%  \\\n",
       "0      900.0  1.000000e+00  0.000000e+00  1.000000e+00  1.000000e+00   \n",
       "1      900.0  8.780413e+04  3.900211e+04  2.538700e+04  5.934800e+04   \n",
       "2      900.0  4.309300e+02  1.160351e+02  2.256295e+02  3.454429e+02   \n",
       "3      900.0  2.544881e+02  4.998890e+01  1.437109e+02  2.191111e+02   \n",
       "4      900.0  7.815422e-01  9.031841e-02  3.487296e-01  7.417663e-01   \n",
       "...      ...           ...           ...           ...           ...   \n",
       "19443  900.0  1.276635e+18  2.291003e+18  1.190538e+16  1.903495e+17   \n",
       "19444  900.0  2.866261e+21  7.025541e+21  1.086835e+19  2.711575e+20   \n",
       "19445  900.0  7.135309e+24  2.879018e+25  9.921662e+21  3.680901e+23   \n",
       "19446  900.0  2.060806e+28  1.416800e+29  9.057431e+24  4.986534e+26   \n",
       "19447  900.0  7.142174e+31  7.404873e+32  8.268479e+27  7.105875e+29   \n",
       "\n",
       "                50%           75%           max  \n",
       "0      1.000000e+00  1.000000e+00  1.000000e+00  \n",
       "1      7.890200e+04  1.050282e+05  2.350470e+05  \n",
       "2      4.078040e+02  4.941870e+02  9.972919e+02  \n",
       "3      2.478484e+02  2.798886e+02  4.922753e+02  \n",
       "4      7.988460e-01  8.425710e-01  9.621244e-01  \n",
       "...             ...           ...           ...  \n",
       "19443  4.515242e+17  1.159188e+18  2.554176e+19  \n",
       "19444  7.393049e+20  2.236134e+21  1.358137e+23  \n",
       "19445  1.186950e+24  4.150704e+24  7.221649e+26  \n",
       "19446  1.907190e+27  7.789865e+27  3.839981e+30  \n",
       "19447  3.092288e+30  1.470241e+31  2.041841e+34  \n",
       "\n",
       "[19448 rows x 8 columns]"
      ]
     },
     "execution_count": 143,
     "metadata": {},
     "output_type": "execute_result"
    }
   ],
   "source": [
    "X.describe().T"
   ]
  },
  {
   "cell_type": "code",
   "execution_count": 144,
   "id": "cffd69aa",
   "metadata": {},
   "outputs": [
    {
     "name": "stdout",
     "output_type": "stream",
     "text": [
      "Test_Set\n",
      "[[86 11]\n",
      " [ 9 74]]\n",
      "              precision    recall  f1-score   support\n",
      "\n",
      "           0       0.91      0.89      0.90        97\n",
      "           1       0.87      0.89      0.88        83\n",
      "\n",
      "    accuracy                           0.89       180\n",
      "   macro avg       0.89      0.89      0.89       180\n",
      "weighted avg       0.89      0.89      0.89       180\n",
      "\n",
      "\n",
      "Train_Set\n",
      "[[296  57]\n",
      " [ 44 323]]\n",
      "              precision    recall  f1-score   support\n",
      "\n",
      "           0       0.87      0.84      0.85       353\n",
      "           1       0.85      0.88      0.86       367\n",
      "\n",
      "    accuracy                           0.86       720\n",
      "   macro avg       0.86      0.86      0.86       720\n",
      "weighted avg       0.86      0.86      0.86       720\n",
      "\n"
     ]
    }
   ],
   "source": [
    "eval_metric(final_model, X_train_scaled, y_train, X_test_scaled, y_test)"
   ]
  },
  {
   "cell_type": "markdown",
   "id": "8373bd76",
   "metadata": {
    "id": "8373bd76"
   },
   "source": [
    "# Conclusion "
   ]
  },
  {
   "cell_type": "markdown",
   "id": "e82abdb7",
   "metadata": {
    "id": "aae17dd9"
   },
   "source": [
    "I run here polynomial feature for and inoavtive perspective it enhance the test set result but nothing change in training set"
   ]
  }
 ],
 "metadata": {
  "colab": {
   "collapsed_sections": [],
   "name": "Case Study_2_solution-.ipynb",
   "provenance": []
  },
  "hide_input": false,
  "interpreter": {
   "hash": "b91502e98c93ec413571a3c4a71c4e7e2f090119475bdef759aa0802c5125d05"
  },
  "kernelspec": {
   "display_name": "Python 3 (ipykernel)",
   "language": "python",
   "name": "python3"
  },
  "language_info": {
   "codemirror_mode": {
    "name": "ipython",
    "version": 3
   },
   "file_extension": ".py",
   "mimetype": "text/x-python",
   "name": "python",
   "nbconvert_exporter": "python",
   "pygments_lexer": "ipython3",
   "version": "3.9.13"
  },
  "toc": {
   "base_numbering": 1,
   "nav_menu": {},
   "number_sections": true,
   "sideBar": true,
   "skip_h1_title": false,
   "title_cell": "Table of Contents",
   "title_sidebar": "Contents",
   "toc_cell": false,
   "toc_position": {
    "height": "calc(100% - 180px)",
    "left": "10px",
    "top": "150px",
    "width": "165px"
   },
   "toc_section_display": true,
   "toc_window_display": true
  },
  "varInspector": {
   "cols": {
    "lenName": 16,
    "lenType": 16,
    "lenVar": 40
   },
   "kernels_config": {
    "python": {
     "delete_cmd_postfix": "",
     "delete_cmd_prefix": "del ",
     "library": "var_list.py",
     "varRefreshCmd": "print(var_dic_list())"
    },
    "r": {
     "delete_cmd_postfix": ") ",
     "delete_cmd_prefix": "rm(",
     "library": "var_list.r",
     "varRefreshCmd": "cat(var_dic_list()) "
    }
   },
   "types_to_exclude": [
    "module",
    "function",
    "builtin_function_or_method",
    "instance",
    "_Feature"
   ],
   "window_display": false
  }
 },
 "nbformat": 4,
 "nbformat_minor": 5
}
