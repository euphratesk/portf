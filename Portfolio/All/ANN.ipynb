{
 "cells": [
  {
   "cell_type": "markdown",
   "metadata": {
    "colab_type": "text",
    "id": "lP6JLo1tGNBg"
   },
   "source": [
    "# Artificial Neural Network"
   ]
  },
  {
   "cell_type": "markdown",
   "metadata": {
    "colab_type": "text",
    "id": "gWZyYmS_UE_L"
   },
   "source": [
    "### Importing the libraries"
   ]
  },
  {
   "cell_type": "code",
   "execution_count": 1,
   "metadata": {
    "colab": {},
    "colab_type": "code",
    "id": "MxkJoQBkUIHC"
   },
   "outputs": [],
   "source": [
    "import numpy as np\n",
    "import pandas as pd\n",
    "import tensorflow as tf"
   ]
  },
  {
   "cell_type": "code",
   "execution_count": 2,
   "metadata": {
    "colab": {
     "base_uri": "https://localhost:8080/",
     "height": 34
    },
    "colab_type": "code",
    "executionInfo": {
     "elapsed": 2400,
     "status": "ok",
     "timestamp": 1590257449959,
     "user": {
      "displayName": "Hadelin de Ponteves",
      "photoUrl": "https://lh3.googleusercontent.com/a-/AOh14GhEuXdT7eQweUmRPW8_laJuPggSK6hfvpl5a6WBaA=s64",
      "userId": "15047218817161520419"
     },
     "user_tz": -240
    },
    "id": "ZaTwK7ojXr2F",
    "outputId": "0b27a96d-d11a-43e8-ab4b-87c1f01896fe"
   },
   "outputs": [
    {
     "data": {
      "text/plain": [
       "'2.11.0'"
      ]
     },
     "execution_count": 2,
     "metadata": {},
     "output_type": "execute_result"
    }
   ],
   "source": [
    "tf.__version__"
   ]
  },
  {
   "cell_type": "markdown",
   "metadata": {
    "colab_type": "text",
    "id": "1E0Q3aoKUCRX"
   },
   "source": [
    "## Part 1 - Data Preprocessing"
   ]
  },
  {
   "cell_type": "markdown",
   "metadata": {
    "colab_type": "text",
    "id": "cKWAkFVGUU0Z"
   },
   "source": [
    "### Importing the dataset"
   ]
  },
  {
   "cell_type": "code",
   "execution_count": 3,
   "metadata": {
    "colab": {},
    "colab_type": "code",
    "id": "MXUkhkMfU4wq"
   },
   "outputs": [],
   "source": [
    "df_train=pd.read_csv('train.csv')\n",
    "df_test=pd.read_csv('test.csv')"
   ]
  },
  {
   "cell_type": "code",
   "execution_count": 6,
   "metadata": {},
   "outputs": [],
   "source": [
    "df_Xtrain= df_train.loc[:,df_train.columns.difference(['Machine failure','Product ID','id'])]"
   ]
  },
  {
   "cell_type": "code",
   "execution_count": 7,
   "metadata": {},
   "outputs": [
    {
     "data": {
      "text/html": [
       "<div>\n",
       "<style scoped>\n",
       "    .dataframe tbody tr th:only-of-type {\n",
       "        vertical-align: middle;\n",
       "    }\n",
       "\n",
       "    .dataframe tbody tr th {\n",
       "        vertical-align: top;\n",
       "    }\n",
       "\n",
       "    .dataframe thead th {\n",
       "        text-align: right;\n",
       "    }\n",
       "</style>\n",
       "<table border=\"1\" class=\"dataframe\">\n",
       "  <thead>\n",
       "    <tr style=\"text-align: right;\">\n",
       "      <th></th>\n",
       "      <th>Air temperature [K]</th>\n",
       "      <th>HDF</th>\n",
       "      <th>OSF</th>\n",
       "      <th>PWF</th>\n",
       "      <th>Process temperature [K]</th>\n",
       "      <th>RNF</th>\n",
       "      <th>Rotational speed [rpm]</th>\n",
       "      <th>TWF</th>\n",
       "      <th>Tool wear [min]</th>\n",
       "      <th>Torque [Nm]</th>\n",
       "      <th>Type</th>\n",
       "    </tr>\n",
       "  </thead>\n",
       "  <tbody>\n",
       "    <tr>\n",
       "      <th>0</th>\n",
       "      <td>300.6</td>\n",
       "      <td>0</td>\n",
       "      <td>0</td>\n",
       "      <td>0</td>\n",
       "      <td>309.6</td>\n",
       "      <td>0</td>\n",
       "      <td>1596</td>\n",
       "      <td>0</td>\n",
       "      <td>140</td>\n",
       "      <td>36.1</td>\n",
       "      <td>L</td>\n",
       "    </tr>\n",
       "    <tr>\n",
       "      <th>1</th>\n",
       "      <td>302.6</td>\n",
       "      <td>0</td>\n",
       "      <td>0</td>\n",
       "      <td>0</td>\n",
       "      <td>312.1</td>\n",
       "      <td>0</td>\n",
       "      <td>1759</td>\n",
       "      <td>0</td>\n",
       "      <td>200</td>\n",
       "      <td>29.1</td>\n",
       "      <td>M</td>\n",
       "    </tr>\n",
       "    <tr>\n",
       "      <th>2</th>\n",
       "      <td>299.3</td>\n",
       "      <td>0</td>\n",
       "      <td>0</td>\n",
       "      <td>0</td>\n",
       "      <td>308.5</td>\n",
       "      <td>0</td>\n",
       "      <td>1805</td>\n",
       "      <td>0</td>\n",
       "      <td>25</td>\n",
       "      <td>26.5</td>\n",
       "      <td>L</td>\n",
       "    </tr>\n",
       "    <tr>\n",
       "      <th>3</th>\n",
       "      <td>301.0</td>\n",
       "      <td>0</td>\n",
       "      <td>0</td>\n",
       "      <td>0</td>\n",
       "      <td>310.9</td>\n",
       "      <td>0</td>\n",
       "      <td>1524</td>\n",
       "      <td>0</td>\n",
       "      <td>197</td>\n",
       "      <td>44.3</td>\n",
       "      <td>L</td>\n",
       "    </tr>\n",
       "    <tr>\n",
       "      <th>4</th>\n",
       "      <td>298.0</td>\n",
       "      <td>0</td>\n",
       "      <td>0</td>\n",
       "      <td>0</td>\n",
       "      <td>309.0</td>\n",
       "      <td>0</td>\n",
       "      <td>1641</td>\n",
       "      <td>0</td>\n",
       "      <td>34</td>\n",
       "      <td>35.4</td>\n",
       "      <td>M</td>\n",
       "    </tr>\n",
       "  </tbody>\n",
       "</table>\n",
       "</div>"
      ],
      "text/plain": [
       "   Air temperature [K]  HDF  OSF  PWF  Process temperature [K]  RNF  \\\n",
       "0                300.6    0    0    0                    309.6    0   \n",
       "1                302.6    0    0    0                    312.1    0   \n",
       "2                299.3    0    0    0                    308.5    0   \n",
       "3                301.0    0    0    0                    310.9    0   \n",
       "4                298.0    0    0    0                    309.0    0   \n",
       "\n",
       "   Rotational speed [rpm]  TWF  Tool wear [min]  Torque [Nm] Type  \n",
       "0                    1596    0              140         36.1    L  \n",
       "1                    1759    0              200         29.1    M  \n",
       "2                    1805    0               25         26.5    L  \n",
       "3                    1524    0              197         44.3    L  \n",
       "4                    1641    0               34         35.4    M  "
      ]
     },
     "execution_count": 7,
     "metadata": {},
     "output_type": "execute_result"
    }
   ],
   "source": [
    "df_Xtrain.head()"
   ]
  },
  {
   "cell_type": "code",
   "execution_count": 8,
   "metadata": {},
   "outputs": [],
   "source": [
    "df_ytrain= df_train.loc[:,df_train.columns=='Machine failure']"
   ]
  },
  {
   "cell_type": "code",
   "execution_count": 9,
   "metadata": {},
   "outputs": [
    {
     "data": {
      "text/html": [
       "<div>\n",
       "<style scoped>\n",
       "    .dataframe tbody tr th:only-of-type {\n",
       "        vertical-align: middle;\n",
       "    }\n",
       "\n",
       "    .dataframe tbody tr th {\n",
       "        vertical-align: top;\n",
       "    }\n",
       "\n",
       "    .dataframe thead th {\n",
       "        text-align: right;\n",
       "    }\n",
       "</style>\n",
       "<table border=\"1\" class=\"dataframe\">\n",
       "  <thead>\n",
       "    <tr style=\"text-align: right;\">\n",
       "      <th></th>\n",
       "      <th>Machine failure</th>\n",
       "    </tr>\n",
       "  </thead>\n",
       "  <tbody>\n",
       "    <tr>\n",
       "      <th>0</th>\n",
       "      <td>0</td>\n",
       "    </tr>\n",
       "    <tr>\n",
       "      <th>1</th>\n",
       "      <td>0</td>\n",
       "    </tr>\n",
       "    <tr>\n",
       "      <th>2</th>\n",
       "      <td>0</td>\n",
       "    </tr>\n",
       "    <tr>\n",
       "      <th>3</th>\n",
       "      <td>0</td>\n",
       "    </tr>\n",
       "    <tr>\n",
       "      <th>4</th>\n",
       "      <td>0</td>\n",
       "    </tr>\n",
       "  </tbody>\n",
       "</table>\n",
       "</div>"
      ],
      "text/plain": [
       "   Machine failure\n",
       "0                0\n",
       "1                0\n",
       "2                0\n",
       "3                0\n",
       "4                0"
      ]
     },
     "execution_count": 9,
     "metadata": {},
     "output_type": "execute_result"
    }
   ],
   "source": [
    "df_ytrain.head()"
   ]
  },
  {
   "cell_type": "markdown",
   "metadata": {
    "colab_type": "text",
    "id": "N6bQ0UgSU-NJ"
   },
   "source": [
    "### Encoding categorical data"
   ]
  },
  {
   "cell_type": "markdown",
   "metadata": {
    "colab_type": "text",
    "id": "le5MJreAbW52"
   },
   "source": [
    "Label Encoding the \"Gender\" column"
   ]
  },
  {
   "cell_type": "code",
   "execution_count": 0,
   "metadata": {
    "colab": {},
    "colab_type": "code",
    "id": "AMXC8-KMVirw"
   },
   "outputs": [],
   "source": [
    "from sklearn.compose import ColumnTransformer\n",
    "from sklearn.preprocessing import OneHotEncoder\n",
    "ct = ColumnTransformer(transformers=[('encoder', OneHotEncoder(), [-1])], remainder='passthrough')\n",
    "df_Xtrain = np.array(ct.fit_transform(df_Xtrain))"
   ]
  },
  {
   "cell_type": "code",
   "execution_count": null,
   "metadata": {},
   "outputs": [],
   "source": [
    "df_Xtrain[0]"
   ]
  },
  {
   "cell_type": "markdown",
   "metadata": {
    "colab_type": "text",
    "id": "vHol938cW8zd"
   },
   "source": [
    "### Splitting the dataset into the Training set and Test set"
   ]
  },
  {
   "cell_type": "code",
   "execution_count": 12,
   "metadata": {
    "colab": {},
    "colab_type": "code",
    "id": "Z-TDt0Y_XEfc"
   },
   "outputs": [],
   "source": [
    "from sklearn.model_selection import train_test_split\n",
    "X_train, X_test, y_train, y_test = train_test_split(df_Xtrain, df_ytrain, test_size = 0.2, random_state = 42)"
   ]
  },
  {
   "cell_type": "markdown",
   "metadata": {
    "colab_type": "text",
    "id": "RE_FcHyfV3TQ"
   },
   "source": [
    "### Feature Scaling"
   ]
  },
  {
   "cell_type": "code",
   "execution_count": 0,
   "metadata": {
    "colab": {},
    "colab_type": "code",
    "id": "ViCrE00rV8Sk"
   },
   "outputs": [],
   "source": [
    "from sklearn.preprocessing import StandardScaler\n",
    "sc = StandardScaler()\n",
    "X_train = sc.fit_transform(X_train)\n",
    "X_test = sc.transform(X_test)"
   ]
  },
  {
   "cell_type": "markdown",
   "metadata": {
    "colab_type": "text",
    "id": "-zfEzkRVXIwF"
   },
   "source": [
    "## Part 2 - Building the ANN"
   ]
  },
  {
   "cell_type": "markdown",
   "metadata": {
    "colab_type": "text",
    "id": "KvdeScabXtlB"
   },
   "source": [
    "### Initializing the ANN"
   ]
  },
  {
   "cell_type": "code",
   "execution_count": 13,
   "metadata": {
    "colab": {},
    "colab_type": "code",
    "id": "3dtrScHxXQox"
   },
   "outputs": [],
   "source": [
    "ann = tf.keras.models.Sequential()"
   ]
  },
  {
   "cell_type": "markdown",
   "metadata": {
    "colab_type": "text",
    "id": "rP6urV6SX7kS"
   },
   "source": [
    "### Adding the input layer and the first hidden layer"
   ]
  },
  {
   "cell_type": "code",
   "execution_count": 14,
   "metadata": {
    "colab": {},
    "colab_type": "code",
    "id": "bppGycBXYCQr"
   },
   "outputs": [],
   "source": [
    "ann.add(tf.keras.layers.Dense(units=6, activation='relu'))"
   ]
  },
  {
   "cell_type": "markdown",
   "metadata": {
    "colab_type": "text",
    "id": "BELWAc_8YJze"
   },
   "source": [
    "### Adding the second hidden layer"
   ]
  },
  {
   "cell_type": "code",
   "execution_count": 15,
   "metadata": {
    "colab": {},
    "colab_type": "code",
    "id": "JneR0u0sYRTd"
   },
   "outputs": [],
   "source": [
    "ann.add(tf.keras.layers.Dense(units=6, activation='relu'))"
   ]
  },
  {
   "cell_type": "markdown",
   "metadata": {
    "colab_type": "text",
    "id": "OyNEe6RXYcU4"
   },
   "source": [
    "### Adding the output layer"
   ]
  },
  {
   "cell_type": "code",
   "execution_count": 16,
   "metadata": {
    "colab": {},
    "colab_type": "code",
    "id": "Cn3x41RBYfvY"
   },
   "outputs": [],
   "source": [
    "ann.add(tf.keras.layers.Dense(units=1, activation='sigmoid'))"
   ]
  },
  {
   "cell_type": "markdown",
   "metadata": {
    "colab_type": "text",
    "id": "JT4u2S1_Y4WG"
   },
   "source": [
    "## Part 3 - Training the ANN"
   ]
  },
  {
   "cell_type": "markdown",
   "metadata": {
    "colab_type": "text",
    "id": "8GWlJChhY_ZI"
   },
   "source": [
    "### Compiling the ANN"
   ]
  },
  {
   "cell_type": "code",
   "execution_count": 17,
   "metadata": {
    "colab": {},
    "colab_type": "code",
    "id": "fG3RrwDXZEaS"
   },
   "outputs": [],
   "source": [
    "ann.compile(optimizer = 'adam', loss = 'binary_crossentropy', metrics = ['accuracy'])"
   ]
  },
  {
   "cell_type": "markdown",
   "metadata": {
    "colab_type": "text",
    "id": "0QR_G5u7ZLSM"
   },
   "source": [
    "### Training the ANN on the Training set"
   ]
  },
  {
   "cell_type": "code",
   "execution_count": 18,
   "metadata": {
    "colab": {
     "base_uri": "https://localhost:8080/",
     "height": 1000
    },
    "colab_type": "code",
    "executionInfo": {
     "elapsed": 33685,
     "status": "ok",
     "timestamp": 1590257481284,
     "user": {
      "displayName": "Hadelin de Ponteves",
      "photoUrl": "https://lh3.googleusercontent.com/a-/AOh14GhEuXdT7eQweUmRPW8_laJuPggSK6hfvpl5a6WBaA=s64",
      "userId": "15047218817161520419"
     },
     "user_tz": -240
    },
    "id": "nHZ-LKv_ZRb3",
    "outputId": "718cc4b0-b5aa-40f0-9b20-d3d31730a531"
   },
   "outputs": [
    {
     "name": "stdout",
     "output_type": "stream",
     "text": [
      "Epoch 1/100\n",
      "3411/3411 [==============================] - 12s 3ms/step - loss: 9.6057 - accuracy: 0.9388\n",
      "Epoch 2/100\n",
      "3411/3411 [==============================] - 9s 3ms/step - loss: 0.0897 - accuracy: 0.9840\n",
      "Epoch 3/100\n",
      "3411/3411 [==============================] - 8s 2ms/step - loss: 0.0836 - accuracy: 0.9843\n",
      "Epoch 4/100\n",
      "3411/3411 [==============================] - 10s 3ms/step - loss: 0.0748 - accuracy: 0.9843\n",
      "Epoch 5/100\n",
      "3411/3411 [==============================] - 12s 4ms/step - loss: 0.0615 - accuracy: 0.9851\n",
      "Epoch 6/100\n",
      "3411/3411 [==============================] - 9s 3ms/step - loss: 0.0564 - accuracy: 0.9862\n",
      "Epoch 7/100\n",
      "3411/3411 [==============================] - 8s 2ms/step - loss: 0.0513 - accuracy: 0.9873\n",
      "Epoch 8/100\n",
      "3411/3411 [==============================] - 8s 2ms/step - loss: 0.0437 - accuracy: 0.9894\n",
      "Epoch 9/100\n",
      "3411/3411 [==============================] - 8s 2ms/step - loss: 0.0363 - accuracy: 0.9921\n",
      "Epoch 10/100\n",
      "3411/3411 [==============================] - 8s 2ms/step - loss: 0.0332 - accuracy: 0.9936\n",
      "Epoch 11/100\n",
      "3411/3411 [==============================] - 12s 4ms/step - loss: 0.0296 - accuracy: 0.9947\n",
      "Epoch 12/100\n",
      "3411/3411 [==============================] - 9s 3ms/step - loss: 0.0304 - accuracy: 0.9947\n",
      "Epoch 13/100\n",
      "3411/3411 [==============================] - 9s 3ms/step - loss: 0.0295 - accuracy: 0.9952\n",
      "Epoch 14/100\n",
      "3411/3411 [==============================] - 9s 3ms/step - loss: 0.0289 - accuracy: 0.9949\n",
      "Epoch 15/100\n",
      "3411/3411 [==============================] - 9s 3ms/step - loss: 0.0285 - accuracy: 0.9953\n",
      "Epoch 16/100\n",
      "3411/3411 [==============================] - 9s 3ms/step - loss: 0.0274 - accuracy: 0.9953\n",
      "Epoch 17/100\n",
      "3411/3411 [==============================] - 9s 3ms/step - loss: 0.0270 - accuracy: 0.9953\n",
      "Epoch 18/100\n",
      "3411/3411 [==============================] - 10s 3ms/step - loss: 0.0254 - accuracy: 0.9957\n",
      "Epoch 19/100\n",
      "3411/3411 [==============================] - 9s 3ms/step - loss: 0.0254 - accuracy: 0.9956\n",
      "Epoch 20/100\n",
      "3411/3411 [==============================] - 10s 3ms/step - loss: 0.0259 - accuracy: 0.9955\n",
      "Epoch 21/100\n",
      "3411/3411 [==============================] - 10s 3ms/step - loss: 0.0264 - accuracy: 0.9955\n",
      "Epoch 22/100\n",
      "3411/3411 [==============================] - 9s 3ms/step - loss: 0.0271 - accuracy: 0.9952\n",
      "Epoch 23/100\n",
      "3411/3411 [==============================] - 9s 3ms/step - loss: 0.0264 - accuracy: 0.9953\n",
      "Epoch 24/100\n",
      "3411/3411 [==============================] - 11s 3ms/step - loss: 0.0340 - accuracy: 0.9931\n",
      "Epoch 25/100\n",
      "3411/3411 [==============================] - 11s 3ms/step - loss: 0.0260 - accuracy: 0.9955\n",
      "Epoch 26/100\n",
      "3411/3411 [==============================] - 12s 3ms/step - loss: 0.0262 - accuracy: 0.9956\n",
      "Epoch 27/100\n",
      "3411/3411 [==============================] - 10s 3ms/step - loss: 0.0261 - accuracy: 0.9954\n",
      "Epoch 28/100\n",
      "3411/3411 [==============================] - 9s 3ms/step - loss: 0.0250 - accuracy: 0.9958\n",
      "Epoch 29/100\n",
      "3411/3411 [==============================] - 13s 4ms/step - loss: 0.0254 - accuracy: 0.9957\n",
      "Epoch 30/100\n",
      "3411/3411 [==============================] - 11s 3ms/step - loss: 0.0256 - accuracy: 0.9956\n",
      "Epoch 31/100\n",
      "3411/3411 [==============================] - 12s 4ms/step - loss: 0.0265 - accuracy: 0.9953\n",
      "Epoch 32/100\n",
      "3411/3411 [==============================] - 11s 3ms/step - loss: 0.0250 - accuracy: 0.9957\n",
      "Epoch 33/100\n",
      "3411/3411 [==============================] - 10s 3ms/step - loss: 0.0245 - accuracy: 0.9958\n",
      "Epoch 34/100\n",
      "3411/3411 [==============================] - 10s 3ms/step - loss: 0.0247 - accuracy: 0.9958\n",
      "Epoch 35/100\n",
      "3411/3411 [==============================] - 13s 4ms/step - loss: 0.0265 - accuracy: 0.9952\n",
      "Epoch 36/100\n",
      "3411/3411 [==============================] - 12s 4ms/step - loss: 0.0249 - accuracy: 0.9956\n",
      "Epoch 37/100\n",
      "3411/3411 [==============================] - 13s 4ms/step - loss: 0.0248 - accuracy: 0.9957\n",
      "Epoch 38/100\n",
      "3411/3411 [==============================] - 16s 5ms/step - loss: 0.0251 - accuracy: 0.9957\n",
      "Epoch 39/100\n",
      "3411/3411 [==============================] - 13s 4ms/step - loss: 0.0245 - accuracy: 0.9958\n",
      "Epoch 40/100\n",
      "3411/3411 [==============================] - 10s 3ms/step - loss: 0.0242 - accuracy: 0.9958\n",
      "Epoch 41/100\n",
      "3411/3411 [==============================] - 9s 3ms/step - loss: 0.0255 - accuracy: 0.9954\n",
      "Epoch 42/100\n",
      "3411/3411 [==============================] - 9s 3ms/step - loss: 0.0242 - accuracy: 0.9960\n",
      "Epoch 43/100\n",
      "3411/3411 [==============================] - 10s 3ms/step - loss: 0.0289 - accuracy: 0.9939\n",
      "Epoch 44/100\n",
      "3411/3411 [==============================] - 10s 3ms/step - loss: 0.0239 - accuracy: 0.9960\n",
      "Epoch 45/100\n",
      "3411/3411 [==============================] - 9s 3ms/step - loss: 0.0276 - accuracy: 0.9942\n",
      "Epoch 46/100\n",
      "3411/3411 [==============================] - 9s 3ms/step - loss: 0.0247 - accuracy: 0.9959\n",
      "Epoch 47/100\n",
      "3411/3411 [==============================] - 9s 3ms/step - loss: 0.0249 - accuracy: 0.9957\n",
      "Epoch 48/100\n",
      "3411/3411 [==============================] - 8s 2ms/step - loss: 0.0248 - accuracy: 0.9956\n",
      "Epoch 49/100\n",
      "3411/3411 [==============================] - 9s 3ms/step - loss: 0.0238 - accuracy: 0.9960\n",
      "Epoch 50/100\n",
      "3411/3411 [==============================] - 10s 3ms/step - loss: 0.0289 - accuracy: 0.9927\n",
      "Epoch 51/100\n",
      "3411/3411 [==============================] - 12s 3ms/step - loss: 0.0247 - accuracy: 0.9959\n",
      "Epoch 52/100\n",
      "3411/3411 [==============================] - 12s 4ms/step - loss: 0.0264 - accuracy: 0.9947\n",
      "Epoch 53/100\n",
      "3411/3411 [==============================] - 9s 3ms/step - loss: 0.0245 - accuracy: 0.9954\n",
      "Epoch 54/100\n",
      "3411/3411 [==============================] - 10s 3ms/step - loss: 0.0236 - accuracy: 0.9960\n",
      "Epoch 55/100\n",
      "3411/3411 [==============================] - 9s 3ms/step - loss: 0.0240 - accuracy: 0.9960\n",
      "Epoch 56/100\n",
      "3411/3411 [==============================] - 8s 2ms/step - loss: 0.0240 - accuracy: 0.9960\n",
      "Epoch 57/100\n",
      "3411/3411 [==============================] - 8s 2ms/step - loss: 0.0241 - accuracy: 0.9960\n",
      "Epoch 58/100\n",
      "3411/3411 [==============================] - 11s 3ms/step - loss: 0.0237 - accuracy: 0.9960\n",
      "Epoch 59/100\n",
      "3411/3411 [==============================] - 8s 2ms/step - loss: 0.0237 - accuracy: 0.9960\n",
      "Epoch 60/100\n",
      "3411/3411 [==============================] - 9s 3ms/step - loss: 0.0236 - accuracy: 0.9960\n",
      "Epoch 61/100\n",
      "3411/3411 [==============================] - 9s 3ms/step - loss: 0.0238 - accuracy: 0.9960\n",
      "Epoch 62/100\n",
      "3411/3411 [==============================] - 8s 2ms/step - loss: 0.0239 - accuracy: 0.9959\n",
      "Epoch 63/100\n",
      "3411/3411 [==============================] - 8s 2ms/step - loss: 0.0237 - accuracy: 0.9961\n",
      "Epoch 64/100\n",
      "3411/3411 [==============================] - 13s 4ms/step - loss: 0.0292 - accuracy: 0.9925\n",
      "Epoch 65/100\n",
      "3411/3411 [==============================] - 11s 3ms/step - loss: 0.0262 - accuracy: 0.9944\n",
      "Epoch 66/100\n",
      "3411/3411 [==============================] - 8s 2ms/step - loss: 0.0237 - accuracy: 0.9961\n",
      "Epoch 67/100\n",
      "3411/3411 [==============================] - 8s 2ms/step - loss: 0.0238 - accuracy: 0.9961\n",
      "Epoch 68/100\n",
      "3411/3411 [==============================] - 11s 3ms/step - loss: 0.0238 - accuracy: 0.9960\n",
      "Epoch 69/100\n",
      "3411/3411 [==============================] - 13s 4ms/step - loss: 0.0236 - accuracy: 0.9961\n",
      "Epoch 70/100\n",
      "3411/3411 [==============================] - 15s 4ms/step - loss: 0.0237 - accuracy: 0.9960\n",
      "Epoch 71/100\n",
      "3411/3411 [==============================] - 18s 5ms/step - loss: 0.0235 - accuracy: 0.9961\n",
      "Epoch 72/100\n",
      "3411/3411 [==============================] - 15s 4ms/step - loss: 0.0235 - accuracy: 0.9960\n",
      "Epoch 73/100\n",
      "3411/3411 [==============================] - 13s 4ms/step - loss: 0.0240 - accuracy: 0.9959\n",
      "Epoch 74/100\n",
      "3411/3411 [==============================] - 14s 4ms/step - loss: 0.0235 - accuracy: 0.9960\n",
      "Epoch 75/100\n",
      "3411/3411 [==============================] - 13s 4ms/step - loss: 0.0235 - accuracy: 0.9960\n",
      "Epoch 76/100\n",
      "3411/3411 [==============================] - 14s 4ms/step - loss: 0.0236 - accuracy: 0.9961\n",
      "Epoch 77/100\n",
      "3411/3411 [==============================] - 14s 4ms/step - loss: 0.0234 - accuracy: 0.9961\n",
      "Epoch 78/100\n",
      "3411/3411 [==============================] - 17s 5ms/step - loss: 0.0236 - accuracy: 0.9961\n",
      "Epoch 79/100\n",
      "3411/3411 [==============================] - 14s 4ms/step - loss: 0.0236 - accuracy: 0.9961\n",
      "Epoch 80/100\n",
      "3411/3411 [==============================] - 11s 3ms/step - loss: 0.0234 - accuracy: 0.9961\n",
      "Epoch 81/100\n",
      "3411/3411 [==============================] - 13s 4ms/step - loss: 0.0259 - accuracy: 0.9949\n",
      "Epoch 82/100\n",
      "3411/3411 [==============================] - 10s 3ms/step - loss: 0.0239 - accuracy: 0.9960\n",
      "Epoch 83/100\n",
      "3411/3411 [==============================] - 11s 3ms/step - loss: 0.0235 - accuracy: 0.9961\n",
      "Epoch 84/100\n",
      "3411/3411 [==============================] - 10s 3ms/step - loss: 0.0237 - accuracy: 0.9961\n",
      "Epoch 85/100\n",
      "3411/3411 [==============================] - 10s 3ms/step - loss: 0.0233 - accuracy: 0.9961\n",
      "Epoch 86/100\n",
      "3411/3411 [==============================] - 9s 3ms/step - loss: 0.0238 - accuracy: 0.9960\n",
      "Epoch 87/100\n",
      "3411/3411 [==============================] - 13s 4ms/step - loss: 0.0234 - accuracy: 0.9961\n",
      "Epoch 88/100\n",
      "3411/3411 [==============================] - 11s 3ms/step - loss: 0.0236 - accuracy: 0.9960\n",
      "Epoch 89/100\n",
      "3411/3411 [==============================] - 9s 3ms/step - loss: 0.0258 - accuracy: 0.9948\n",
      "Epoch 90/100\n",
      "3411/3411 [==============================] - 9s 3ms/step - loss: 0.0235 - accuracy: 0.9962\n",
      "Epoch 91/100\n",
      "3411/3411 [==============================] - 9s 3ms/step - loss: 0.0234 - accuracy: 0.9961\n",
      "Epoch 92/100\n",
      "3411/3411 [==============================] - 9s 3ms/step - loss: 0.0233 - accuracy: 0.9961\n",
      "Epoch 93/100\n",
      "3411/3411 [==============================] - 8s 2ms/step - loss: 0.0234 - accuracy: 0.9961\n",
      "Epoch 94/100\n",
      "3411/3411 [==============================] - 9s 3ms/step - loss: 0.0232 - accuracy: 0.9961\n",
      "Epoch 95/100\n",
      "3411/3411 [==============================] - 9s 3ms/step - loss: 0.0235 - accuracy: 0.9961\n",
      "Epoch 96/100\n",
      "3411/3411 [==============================] - 11s 3ms/step - loss: 0.0234 - accuracy: 0.9961\n",
      "Epoch 97/100\n",
      "3411/3411 [==============================] - 11s 3ms/step - loss: 0.0234 - accuracy: 0.9961\n",
      "Epoch 98/100\n",
      "3411/3411 [==============================] - 9s 3ms/step - loss: 0.0234 - accuracy: 0.9961\n",
      "Epoch 99/100\n",
      "3411/3411 [==============================] - 9s 3ms/step - loss: 0.0244 - accuracy: 0.9958\n",
      "Epoch 100/100\n",
      "3411/3411 [==============================] - 9s 3ms/step - loss: 0.0237 - accuracy: 0.9960\n"
     ]
    },
    {
     "data": {
      "text/plain": [
       "<keras.callbacks.History at 0x1adf31dd4f0>"
      ]
     },
     "execution_count": 18,
     "metadata": {},
     "output_type": "execute_result"
    }
   ],
   "source": [
    "ann.fit(X_train, y_train, batch_size = 32, epochs = 100)\n",
    "\n",
    "\n",
    "#Building part was our forst half of to creating ANN now the second part is to train our ANN we are goona do this in two steps\n",
    "#!st is to compile ANN with an optimizer loss function and a metric, wich will be ofcorse the accuracy \n",
    "#because we re doung some classifiaction\n",
    "#Then the 2n step ll be of course to train ANN on the training set over a certain number of epocs\n",
    "#we use use here keras again inteadrated with tf now because w dont add any thing in our ANN , we compile it so we use .compile\n",
    "#ann.compile(-->.3 parametere) 1- optimizer to choose an optimizer 2= loss to chose a loss function 3 is metric's' parameter\n",
    "#with 's' because there are several metrics but we chosse only one\n",
    "#Well, in the intuition lectures, Kirel mentioned that the best one are the optimizers that can perform\n",
    "#stochastic gradient descent."
   ]
  },
  {
   "cell_type": "markdown",
   "metadata": {
    "colab_type": "text",
    "id": "tJj5k2MxZga3"
   },
   "source": [
    "## Part 4 - Making the predictions and evaluating the model"
   ]
  },
  {
   "cell_type": "markdown",
   "metadata": {
    "colab_type": "text",
    "id": "84QFoqGYeXHL"
   },
   "source": [
    "### Predicting the result of a single observation"
   ]
  },
  {
   "cell_type": "markdown",
   "metadata": {
    "colab_type": "text",
    "id": "CGRo3eacgDdC"
   },
   "source": [
    "**Homework**\n",
    "\n",
    "Use our ANN model to predict if the customer with the following informations will leave the bank: \n",
    "\n",
    "Geography: France\n",
    "\n",
    "Credit Score: 600\n",
    "\n",
    "Gender: Male\n",
    "\n",
    "Age: 40 years old\n",
    "\n",
    "Tenure: 3 years\n",
    "\n",
    "Balance: \\$ 60000\n",
    "\n",
    "Number of Products: 2\n",
    "\n",
    "Does this customer have a credit card? Yes\n",
    "\n",
    "Is this customer an Active Member: Yes\n",
    "\n",
    "Estimated Salary: \\$ 50000\n",
    "\n",
    "So, should we say goodbye to that customer?"
   ]
  },
  {
   "cell_type": "markdown",
   "metadata": {
    "colab_type": "text",
    "id": "ZhU1LTgPg-kH"
   },
   "source": [
    "**Solution**"
   ]
  },
  {
   "cell_type": "code",
   "execution_count": 18,
   "metadata": {
    "colab": {
     "base_uri": "https://localhost:8080/",
     "height": 34
    },
    "colab_type": "code",
    "executionInfo": {
     "elapsed": 33990,
     "status": "ok",
     "timestamp": 1590257481594,
     "user": {
      "displayName": "Hadelin de Ponteves",
      "photoUrl": "https://lh3.googleusercontent.com/a-/AOh14GhEuXdT7eQweUmRPW8_laJuPggSK6hfvpl5a6WBaA=s64",
      "userId": "15047218817161520419"
     },
     "user_tz": -240
    },
    "id": "2d8IoCCkeWGL",
    "outputId": "957f3970-e197-4c3b-a150-7f69dc567f5d"
   },
   "outputs": [
    {
     "name": "stdout",
     "output_type": "stream",
     "text": [
      "[[False]]\n"
     ]
    }
   ],
   "source": [
    "print(ann.predict(sc.transform([[1, 0, 0, 600, 1, 40, 3, 60000, 2, 1, 1, 50000]])) > 0.5)"
   ]
  },
  {
   "cell_type": "markdown",
   "metadata": {
    "colab_type": "text",
    "id": "wGjx94g2n7OV"
   },
   "source": [
    "Therefore, our ANN model predicts that this customer stays in the bank!\n",
    "\n",
    "**Important note 1:** Notice that the values of the features were all input in a double pair of square brackets. That's because the \"predict\" method always expects a 2D array as the format of its inputs. And putting our values into a double pair of square brackets makes the input exactly a 2D array.\n",
    "\n",
    "**Important note 2:** Notice also that the \"France\" country was not input as a string in the last column but as \"1, 0, 0\" in the first three columns. That's because of course the predict method expects the one-hot-encoded values of the state, and as we see in the first row of the matrix of features X, \"France\" was encoded as \"1, 0, 0\". And be careful to include these values in the first three columns, because the dummy variables are always created in the first columns."
   ]
  },
  {
   "cell_type": "markdown",
   "metadata": {
    "colab_type": "text",
    "id": "u7yx47jPZt11"
   },
   "source": [
    "### Predicting the Test set results"
   ]
  },
  {
   "cell_type": "code",
   "execution_count": 21,
   "metadata": {
    "colab": {
     "base_uri": "https://localhost:8080/",
     "height": 137
    },
    "colab_type": "code",
    "executionInfo": {
     "elapsed": 33987,
     "status": "ok",
     "timestamp": 1590257481595,
     "user": {
      "displayName": "Hadelin de Ponteves",
      "photoUrl": "https://lh3.googleusercontent.com/a-/AOh14GhEuXdT7eQweUmRPW8_laJuPggSK6hfvpl5a6WBaA=s64",
      "userId": "15047218817161520419"
     },
     "user_tz": -240
    },
    "id": "nIyEeQdRZwgs",
    "outputId": "82330ba8-9bdc-4fd1-d3cf-b6d78ee7c2a3"
   },
   "outputs": [
    {
     "name": "stdout",
     "output_type": "stream",
     "text": [
      "853/853 [==============================] - 1s 2ms/step\n",
      "[[1 1]\n",
      " [0 0]\n",
      " [0 0]\n",
      " ...\n",
      " [0 0]\n",
      " [0 0]\n",
      " [0 0]]\n"
     ]
    }
   ],
   "source": [
    "y_pred = ann.predict(X_test)\n",
    "y_pred = (y_pred > 0.5)\n",
    "print(np.concatenate((np.array(y_pred).reshape(len(y_pred),1), np.array(y_test).reshape(len(y_test),1)),1))"
   ]
  },
  {
   "cell_type": "code",
   "execution_count": 25,
   "metadata": {},
   "outputs": [
    {
     "name": "stdout",
     "output_type": "stream",
     "text": [
      "853/853 [==============================] - 3s 3ms/step\n",
      "[[0 1]\n",
      " [0 0]\n",
      " [0 0]\n",
      " ...\n",
      " [0 0]\n",
      " [0 0]\n",
      " [0 0]]\n"
     ]
    }
   ],
   "source": [
    "y_pred = ann.predict(X_test)\n",
    "y_pred = (y_pred > 0.8)\n",
    "print(np.concatenate((np.array(y_pred).reshape(len(y_pred),1), np.array(y_test).reshape(len(y_test),1)),1))"
   ]
  },
  {
   "cell_type": "code",
   "execution_count": 26,
   "metadata": {},
   "outputs": [
    {
     "name": "stdout",
     "output_type": "stream",
     "text": [
      "[[26847     1]\n",
      " [  209   229]]\n"
     ]
    },
    {
     "data": {
      "text/plain": [
       "0.9923037455105183"
      ]
     },
     "execution_count": 26,
     "metadata": {},
     "output_type": "execute_result"
    }
   ],
   "source": [
    "from sklearn.metrics import confusion_matrix, accuracy_score\n",
    "cm = confusion_matrix(y_test, y_pred)\n",
    "print(cm)\n",
    "accuracy_score(y_test, y_pred)"
   ]
  },
  {
   "cell_type": "markdown",
   "metadata": {
    "colab_type": "text",
    "id": "o0oyfLWoaEGw"
   },
   "source": [
    "### Making the Confusion Matrix"
   ]
  },
  {
   "cell_type": "code",
   "execution_count": null,
   "metadata": {},
   "outputs": [],
   "source": []
  },
  {
   "cell_type": "code",
   "execution_count": 22,
   "metadata": {
    "colab": {
     "base_uri": "https://localhost:8080/",
     "height": 68
    },
    "colab_type": "code",
    "executionInfo": {
     "elapsed": 33981,
     "status": "ok",
     "timestamp": 1590257481595,
     "user": {
      "displayName": "Hadelin de Ponteves",
      "photoUrl": "https://lh3.googleusercontent.com/a-/AOh14GhEuXdT7eQweUmRPW8_laJuPggSK6hfvpl5a6WBaA=s64",
      "userId": "15047218817161520419"
     },
     "user_tz": -240
    },
    "id": "ci6K_r6LaF6P",
    "outputId": "4d854e9e-22d5-432f-f6e5-a102fe3ae0bd"
   },
   "outputs": [
    {
     "name": "stdout",
     "output_type": "stream",
     "text": [
      "[[26847     1]\n",
      " [  138   300]]\n"
     ]
    },
    {
     "data": {
      "text/plain": [
       "0.9949058125045811"
      ]
     },
     "execution_count": 22,
     "metadata": {},
     "output_type": "execute_result"
    }
   ],
   "source": [
    "from sklearn.metrics import confusion_matrix, accuracy_score\n",
    "cm = confusion_matrix(y_test, y_pred)\n",
    "print(cm)\n",
    "accuracy_score(y_test, y_pred)"
   ]
  },
  {
   "cell_type": "code",
   "execution_count": null,
   "metadata": {},
   "outputs": [],
   "source": []
  }
 ],
 "metadata": {
  "colab": {
   "authorship_tag": "ABX9TyMeRFWFoGrdaL5S3dx5MWmb",
   "collapsed_sections": [],
   "name": "artificial_neural_network.ipynb",
   "provenance": [],
   "toc_visible": true
  },
  "kernelspec": {
   "display_name": "Python 3 (ipykernel)",
   "language": "python",
   "name": "python3"
  },
  "language_info": {
   "codemirror_mode": {
    "name": "ipython",
    "version": 3
   },
   "file_extension": ".py",
   "mimetype": "text/x-python",
   "name": "python",
   "nbconvert_exporter": "python",
   "pygments_lexer": "ipython3",
   "version": "3.9.13"
  },
  "toc": {
   "base_numbering": 1,
   "nav_menu": {},
   "number_sections": true,
   "sideBar": true,
   "skip_h1_title": false,
   "title_cell": "Table of Contents",
   "title_sidebar": "Contents",
   "toc_cell": false,
   "toc_position": {},
   "toc_section_display": true,
   "toc_window_display": false
  }
 },
 "nbformat": 4,
 "nbformat_minor": 1
}
