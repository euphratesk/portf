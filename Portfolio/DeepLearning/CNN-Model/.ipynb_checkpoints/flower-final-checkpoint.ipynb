{
 "cells": [
  {
   "cell_type": "code",
   "execution_count": 1,
   "metadata": {
    "_cell_guid": "b1076dfc-b9ad-4769-8c92-a6c4dae69d19",
    "_uuid": "8f2839f25d086af736a60e9eeb907d3b93b6e0e5",
    "execution": {
     "iopub.execute_input": "2023-09-24T14:40:52.996295Z",
     "iopub.status.busy": "2023-09-24T14:40:52.995552Z",
     "iopub.status.idle": "2023-09-24T14:40:53.047732Z",
     "shell.execute_reply": "2023-09-24T14:40:53.046491Z",
     "shell.execute_reply.started": "2023-09-24T14:40:52.996238Z"
    }
   },
   "outputs": [],
   "source": [
    "# This Python 3 environment comes with many helpful analytics libraries installed\n",
    "# It is defined by the kaggle/python Docker image: https://github.com/kaggle/docker-python\n",
    "# For example, here's several helpful packages to load\n",
    "\n",
    "import numpy as np # linear algebra\n",
    "import pandas as pd # data processing, CSV file I/O (e.g. pd.read_csv)\n",
    "\n",
    "# Input data files are available in the read-only \"../input/\" directory\n",
    "# For example, running this (by clicking run or pressing Shift+Enter) will list all files under the input directory\n",
    "\n"
   ]
  },
  {
   "cell_type": "code",
   "execution_count": 2,
   "metadata": {
    "execution": {
     "iopub.execute_input": "2023-09-24T14:41:59.155061Z",
     "iopub.status.busy": "2023-09-24T14:41:59.154241Z",
     "iopub.status.idle": "2023-09-24T14:42:06.105351Z",
     "shell.execute_reply": "2023-09-24T14:42:06.104360Z",
     "shell.execute_reply.started": "2023-09-24T14:41:59.155023Z"
    }
   },
   "outputs": [
    {
     "name": "stdout",
     "output_type": "stream",
     "text": [
      "Dataset split completed.\n"
     ]
    }
   ],
   "source": [
    "import os\n",
    "import shutil\n",
    "import random\n",
    "\n",
    "# Set the source directory containing your dataset\n",
    "source_directory = '/kaggle/input/flowers-dataset/train'\n",
    "\n",
    "# Set the destination directories for train and validation data (writable directory)\n",
    "train_directory = '/kaggle/working/train_split'\n",
    "validation_directory = '/kaggle/working/validation_split'\n",
    "\n",
    "# Define the split ratio (0.9 for training, 0.1 for validation)\n",
    "split_ratio = 0.9\n",
    "\n",
    "# List all subdirectories (classes) in the source directory\n",
    "classes = os.listdir(source_directory)\n",
    "\n",
    "for class_name in classes:\n",
    "    class_directory = os.path.join(source_directory, class_name)\n",
    "    images = os.listdir(class_directory)\n",
    "    \n",
    "    # Shuffle the list of images within each class\n",
    "    random.shuffle(images)\n",
    "\n",
    "    # Calculate the number of images for training and validation\n",
    "    num_images = len(images)\n",
    "    num_train_images = int(num_images * split_ratio)\n",
    "    num_validation_images = num_images - num_train_images\n",
    "\n",
    "    # Create subdirectories for the class in train and validation directories\n",
    "    train_class_directory = os.path.join(train_directory, class_name)\n",
    "    validation_class_directory = os.path.join(validation_directory, class_name)\n",
    "    os.makedirs(train_class_directory, exist_ok=True)\n",
    "    os.makedirs(validation_class_directory, exist_ok=True)\n",
    "\n",
    "    # Copy images to train and validation directories for each class\n",
    "    for i, image in enumerate(images):\n",
    "        src_path = os.path.join(class_directory, image)\n",
    "        if i < num_train_images:\n",
    "            dst_path = os.path.join(train_class_directory, image)\n",
    "        else:\n",
    "            dst_path = os.path.join(validation_class_directory, image)\n",
    "        shutil.copy(src_path, dst_path)\n",
    "\n",
    "print(\"Dataset split completed.\")"
   ]
  },
  {
   "cell_type": "code",
   "execution_count": null,
   "metadata": {
    "execution": {
     "iopub.execute_input": "2023-09-14T03:50:54.119604Z",
     "iopub.status.busy": "2023-09-14T03:50:54.119273Z",
     "iopub.status.idle": "2023-09-14T03:51:02.911646Z",
     "shell.execute_reply": "2023-09-14T03:51:02.910494Z",
     "shell.execute_reply.started": "2023-09-14T03:50:54.119575Z"
    }
   },
   "outputs": [],
   "source": [
    "import tensorflow as tf\n",
    "import keras\n",
    "from keras.optimizers import Adam\n",
    "from  keras.preprocessing.image import ImageDataGenerator"
   ]
  },
  {
   "cell_type": "code",
   "execution_count": null,
   "metadata": {
    "execution": {
     "iopub.execute_input": "2023-09-14T03:51:02.914562Z",
     "iopub.status.busy": "2023-09-14T03:51:02.914016Z",
     "iopub.status.idle": "2023-09-14T03:51:02.920381Z",
     "shell.execute_reply": "2023-09-14T03:51:02.919497Z",
     "shell.execute_reply.started": "2023-09-14T03:51:02.914532Z"
    }
   },
   "outputs": [],
   "source": [
    "data_gen_args = dict(\n",
    "                     rotation_range=45,\n",
    "                     width_shift_range=0.2,\n",
    "                     height_shift_range=0.3,\n",
    "                     zoom_range=0.2,\n",
    "                     shear_range = 0.2,\n",
    "                     horizontal_flip = True,\n",
    "    \n",
    "                    rescale = 1./255\n",
    "                    )"
   ]
  },
  {
   "cell_type": "code",
   "execution_count": null,
   "metadata": {
    "execution": {
     "iopub.execute_input": "2023-09-14T03:51:02.921811Z",
     "iopub.status.busy": "2023-09-14T03:51:02.921520Z",
     "iopub.status.idle": "2023-09-14T03:51:02.939296Z",
     "shell.execute_reply": "2023-09-14T03:51:02.938334Z",
     "shell.execute_reply.started": "2023-09-14T03:51:02.921785Z"
    }
   },
   "outputs": [],
   "source": [
    "train_gen = ImageDataGenerator(**data_gen_args)"
   ]
  },
  {
   "cell_type": "code",
   "execution_count": null,
   "metadata": {
    "execution": {
     "iopub.execute_input": "2023-09-14T03:51:02.940772Z",
     "iopub.status.busy": "2023-09-14T03:51:02.940487Z",
     "iopub.status.idle": "2023-09-14T03:51:03.081578Z",
     "shell.execute_reply": "2023-09-14T03:51:03.080294Z",
     "shell.execute_reply.started": "2023-09-14T03:51:02.940748Z"
    }
   },
   "outputs": [],
   "source": [
    "train_gen = train_gen.flow_from_directory('/kaggle/working/train_split',\n",
    "                              batch_size=32,\n",
    "                              target_size=(64,64),\n",
    "                              class_mode='categorical')"
   ]
  },
  {
   "cell_type": "code",
   "execution_count": null,
   "metadata": {
    "execution": {
     "iopub.execute_input": "2023-09-14T03:51:03.083445Z",
     "iopub.status.busy": "2023-09-14T03:51:03.082965Z",
     "iopub.status.idle": "2023-09-14T03:51:03.088252Z",
     "shell.execute_reply": "2023-09-14T03:51:03.087245Z",
     "shell.execute_reply.started": "2023-09-14T03:51:03.083392Z"
    }
   },
   "outputs": [],
   "source": [
    "test_gen = ImageDataGenerator(rescale=1/255)"
   ]
  },
  {
   "cell_type": "code",
   "execution_count": null,
   "metadata": {
    "execution": {
     "iopub.execute_input": "2023-09-14T03:51:03.089830Z",
     "iopub.status.busy": "2023-09-14T03:51:03.089517Z",
     "iopub.status.idle": "2023-09-14T03:51:03.145419Z",
     "shell.execute_reply": "2023-09-14T03:51:03.144434Z",
     "shell.execute_reply.started": "2023-09-14T03:51:03.089803Z"
    }
   },
   "outputs": [],
   "source": [
    "validation_gen = test_gen.flow_from_directory('/kaggle/working/validation_split',\n",
    "                                       batch_size=32,\n",
    "                                       target_size=(64,64),\n",
    "                                       class_mode='categorical')"
   ]
  },
  {
   "cell_type": "code",
   "execution_count": null,
   "metadata": {
    "execution": {
     "iopub.execute_input": "2023-09-14T03:51:03.147157Z",
     "iopub.status.busy": "2023-09-14T03:51:03.146732Z",
     "iopub.status.idle": "2023-09-14T03:51:06.624199Z",
     "shell.execute_reply": "2023-09-14T03:51:06.622823Z",
     "shell.execute_reply.started": "2023-09-14T03:51:03.147127Z"
    }
   },
   "outputs": [],
   "source": [
    "cnn = tf.keras.models.Sequential()"
   ]
  },
  {
   "cell_type": "code",
   "execution_count": null,
   "metadata": {
    "execution": {
     "iopub.execute_input": "2023-09-14T03:51:06.628637Z",
     "iopub.status.busy": "2023-09-14T03:51:06.628207Z",
     "iopub.status.idle": "2023-09-14T03:51:06.667559Z",
     "shell.execute_reply": "2023-09-14T03:51:06.666464Z",
     "shell.execute_reply.started": "2023-09-14T03:51:06.628604Z"
    }
   },
   "outputs": [],
   "source": [
    "cnn.add(tf.keras.layers.Conv2D(filters=32, kernel_size=3, activation='relu', input_shape=[64, 64, 3]))"
   ]
  },
  {
   "cell_type": "code",
   "execution_count": null,
   "metadata": {
    "execution": {
     "iopub.execute_input": "2023-09-14T03:51:06.669066Z",
     "iopub.status.busy": "2023-09-14T03:51:06.668781Z",
     "iopub.status.idle": "2023-09-14T03:51:06.678493Z",
     "shell.execute_reply": "2023-09-14T03:51:06.677444Z",
     "shell.execute_reply.started": "2023-09-14T03:51:06.669040Z"
    }
   },
   "outputs": [],
   "source": [
    "cnn.add(tf.keras.layers.MaxPool2D(pool_size=2, strides=2))"
   ]
  },
  {
   "cell_type": "code",
   "execution_count": null,
   "metadata": {
    "execution": {
     "iopub.execute_input": "2023-09-14T03:51:06.679983Z",
     "iopub.status.busy": "2023-09-14T03:51:06.679672Z",
     "iopub.status.idle": "2023-09-14T03:51:06.708983Z",
     "shell.execute_reply": "2023-09-14T03:51:06.707884Z",
     "shell.execute_reply.started": "2023-09-14T03:51:06.679956Z"
    }
   },
   "outputs": [],
   "source": [
    "cnn.add(tf.keras.layers.Conv2D(filters=32, kernel_size=3, activation='relu'))\n",
    "cnn.add(tf.keras.layers.MaxPool2D(pool_size=2, strides=2))"
   ]
  },
  {
   "cell_type": "code",
   "execution_count": null,
   "metadata": {
    "execution": {
     "iopub.execute_input": "2023-09-14T03:51:06.710610Z",
     "iopub.status.busy": "2023-09-14T03:51:06.710282Z",
     "iopub.status.idle": "2023-09-14T03:51:06.721785Z",
     "shell.execute_reply": "2023-09-14T03:51:06.720630Z",
     "shell.execute_reply.started": "2023-09-14T03:51:06.710582Z"
    }
   },
   "outputs": [],
   "source": [
    "cnn.add(tf.keras.layers.Flatten())"
   ]
  },
  {
   "cell_type": "code",
   "execution_count": null,
   "metadata": {
    "execution": {
     "iopub.execute_input": "2023-09-14T03:51:06.723525Z",
     "iopub.status.busy": "2023-09-14T03:51:06.723161Z",
     "iopub.status.idle": "2023-09-14T03:51:06.752560Z",
     "shell.execute_reply": "2023-09-14T03:51:06.751376Z",
     "shell.execute_reply.started": "2023-09-14T03:51:06.723495Z"
    }
   },
   "outputs": [],
   "source": [
    "cnn.add(tf.keras.layers.Dense(units=256, activation='relu'))"
   ]
  },
  {
   "cell_type": "code",
   "execution_count": null,
   "metadata": {
    "execution": {
     "iopub.execute_input": "2023-09-14T03:51:06.754295Z",
     "iopub.status.busy": "2023-09-14T03:51:06.753919Z",
     "iopub.status.idle": "2023-09-14T03:51:06.775200Z",
     "shell.execute_reply": "2023-09-14T03:51:06.774188Z",
     "shell.execute_reply.started": "2023-09-14T03:51:06.754250Z"
    }
   },
   "outputs": [],
   "source": [
    "cnn.add(tf.keras.layers.Dense(units=128, activation='relu'))"
   ]
  },
  {
   "cell_type": "code",
   "execution_count": null,
   "metadata": {
    "execution": {
     "iopub.execute_input": "2023-09-14T03:51:06.776755Z",
     "iopub.status.busy": "2023-09-14T03:51:06.776422Z",
     "iopub.status.idle": "2023-09-14T03:51:06.795921Z",
     "shell.execute_reply": "2023-09-14T03:51:06.794860Z",
     "shell.execute_reply.started": "2023-09-14T03:51:06.776727Z"
    }
   },
   "outputs": [],
   "source": [
    "cnn.add(tf.keras.layers.Dense(units=5, activation='softmax'))"
   ]
  },
  {
   "cell_type": "code",
   "execution_count": null,
   "metadata": {
    "execution": {
     "iopub.execute_input": "2023-09-14T03:51:06.797495Z",
     "iopub.status.busy": "2023-09-14T03:51:06.797166Z",
     "iopub.status.idle": "2023-09-14T03:51:06.807526Z",
     "shell.execute_reply": "2023-09-14T03:51:06.806577Z",
     "shell.execute_reply.started": "2023-09-14T03:51:06.797467Z"
    }
   },
   "outputs": [],
   "source": [
    "opt = Adam(lr = 0.0007)"
   ]
  },
  {
   "cell_type": "code",
   "execution_count": null,
   "metadata": {
    "execution": {
     "iopub.execute_input": "2023-09-14T03:51:06.809274Z",
     "iopub.status.busy": "2023-09-14T03:51:06.808934Z",
     "iopub.status.idle": "2023-09-14T03:51:06.834344Z",
     "shell.execute_reply": "2023-09-14T03:51:06.833389Z",
     "shell.execute_reply.started": "2023-09-14T03:51:06.809232Z"
    }
   },
   "outputs": [],
   "source": [
    "cnn.compile(optimizer = opt, loss = 'categorical_crossentropy', metrics = ['accuracy'])"
   ]
  },
  {
   "cell_type": "code",
   "execution_count": null,
   "metadata": {
    "execution": {
     "iopub.execute_input": "2023-09-14T03:51:06.835794Z",
     "iopub.status.busy": "2023-09-14T03:51:06.835479Z",
     "iopub.status.idle": "2023-09-14T04:08:29.589053Z",
     "shell.execute_reply": "2023-09-14T04:08:29.587781Z",
     "shell.execute_reply.started": "2023-09-14T03:51:06.835767Z"
    }
   },
   "outputs": [],
   "source": [
    "cnn.fit(x = train_gen, validation_data = validation_gen, epochs = 100)"
   ]
  },
  {
   "cell_type": "code",
   "execution_count": null,
   "metadata": {
    "execution": {
     "iopub.execute_input": "2023-09-14T04:08:29.591171Z",
     "iopub.status.busy": "2023-09-14T04:08:29.590743Z",
     "iopub.status.idle": "2023-09-14T04:08:29.617765Z",
     "shell.execute_reply": "2023-09-14T04:08:29.616714Z",
     "shell.execute_reply.started": "2023-09-14T04:08:29.591132Z"
    }
   },
   "outputs": [],
   "source": [
    "cnn.summary()"
   ]
  },
  {
   "cell_type": "code",
   "execution_count": null,
   "metadata": {
    "execution": {
     "iopub.execute_input": "2023-09-14T04:08:29.619539Z",
     "iopub.status.busy": "2023-09-14T04:08:29.619149Z",
     "iopub.status.idle": "2023-09-14T04:08:29.626293Z",
     "shell.execute_reply": "2023-09-14T04:08:29.625216Z",
     "shell.execute_reply.started": "2023-09-14T04:08:29.619505Z"
    }
   },
   "outputs": [],
   "source": [
    "train_gen.class_indices"
   ]
  },
  {
   "cell_type": "code",
   "execution_count": null,
   "metadata": {
    "execution": {
     "iopub.execute_input": "2023-09-14T04:11:23.705162Z",
     "iopub.status.busy": "2023-09-14T04:11:23.704708Z",
     "iopub.status.idle": "2023-09-14T04:11:23.755584Z",
     "shell.execute_reply": "2023-09-14T04:11:23.754432Z",
     "shell.execute_reply.started": "2023-09-14T04:11:23.705124Z"
    }
   },
   "outputs": [],
   "source": [
    "#cnn.save(filepath = r'C:\\Users\\Admin\\OneDrive\\Masaüstü\\TECHPRO\\DL\\Kaggle\\Project_Flower\\Flower_2nd_Ikinci.h5',save_format='h5')\n",
    "#bu calismadi locale degil filepath ismiyle olarak burauya kaydetti"
   ]
  },
  {
   "cell_type": "code",
   "execution_count": null,
   "metadata": {
    "execution": {
     "iopub.execute_input": "2023-09-14T04:23:30.489079Z",
     "iopub.status.busy": "2023-09-14T04:23:30.488025Z",
     "iopub.status.idle": "2023-09-14T04:23:30.614769Z",
     "shell.execute_reply": "2023-09-14T04:23:30.613197Z",
     "shell.execute_reply.started": "2023-09-14T04:23:30.489034Z"
    }
   },
   "outputs": [],
   "source": [
    "from tensorflow.keras.preprocessing import image\n",
    "image_shape = (64,64,3)\n",
    "para_cell = r'C:\\Users\\manai\\Downloads\\archive\\single.jpeg'\n",
    "my_image = image.load_img(para_cell,target_size=image_shape)\n",
    "my_image = image.img_to_array(my_image)\n",
    "my_image = np.expand_dims(my_image, axis=0)\n",
    "result = cnn_flower.predict(my_image)\n",
    "\n",
    "train_image_gen.class_indices\n",
    "\n",
    "if result[0][0] == 1:\n",
    "    prediction = 'daisy'\n",
    "if result[0][1] == 1:\n",
    "    prediction = 'dandelion'\n",
    "if result[0][2] == 1:\n",
    "    prediction = 'rose'\n",
    "if result[0][3] == 1:\n",
    "    prediction = 'sunflower'\n",
    "if result[0][4] == 1:\n",
    "    prediction = 'tulip'\n",
    "print(prediction)"
   ]
  },
  {
   "cell_type": "code",
   "execution_count": null,
   "metadata": {},
   "outputs": [],
   "source": []
  },
  {
   "cell_type": "code",
   "execution_count": null,
   "metadata": {},
   "outputs": [],
   "source": []
  },
  {
   "cell_type": "code",
   "execution_count": null,
   "metadata": {},
   "outputs": [],
   "source": []
  }
 ],
 "metadata": {
  "kaggle": {
   "accelerator": "nvidiaTeslaT4",
   "dataSources": [
    {
     "datasetId": 1170109,
     "sourceId": 1960165,
     "sourceType": "datasetVersion"
    }
   ],
   "dockerImageVersionId": 30529,
   "isGpuEnabled": true,
   "isInternetEnabled": true,
   "language": "python",
   "sourceType": "notebook"
  },
  "kernelspec": {
   "display_name": "Python 3 (ipykernel)",
   "language": "python",
   "name": "python3"
  },
  "language_info": {
   "codemirror_mode": {
    "name": "ipython",
    "version": 3
   },
   "file_extension": ".py",
   "mimetype": "text/x-python",
   "name": "python",
   "nbconvert_exporter": "python",
   "pygments_lexer": "ipython3",
   "version": "3.11.5"
  }
 },
 "nbformat": 4,
 "nbformat_minor": 4
}
